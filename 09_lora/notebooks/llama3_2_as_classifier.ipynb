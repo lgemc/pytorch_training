{
 "cells": [
  {
   "cell_type": "code",
   "id": "initial_id",
   "metadata": {
    "collapsed": true,
    "ExecuteTime": {
     "end_time": "2025-05-11T17:09:16.906237Z",
     "start_time": "2025-05-11T17:09:12.972637Z"
    }
   },
   "source": [
    "import torch\n",
    "\n",
    "from data.prompt_dataset import PromptedEhvoy\n",
    "from data.ehovy_race import EhovyRaceDataset\n",
    "\n",
    "from model.llama_3_2_tokenizer import Llama32Tokenizer\n",
    "from model.llama_3_2 import Llama32\n",
    "from model.options_picker import OptionsPicker"
   ],
   "outputs": [
    {
     "name": "stderr",
     "output_type": "stream",
     "text": [
      "/home/ubuntu/miniconda3/envs/main/lib/python3.10/site-packages/tqdm/auto.py:21: TqdmWarning: IProgress not found. Please update jupyter and ipywidgets. See https://ipywidgets.readthedocs.io/en/stable/user_install.html\n",
      "  from .autonotebook import tqdm as notebook_tqdm\n"
     ]
    }
   ],
   "execution_count": 1
  },
  {
   "metadata": {
    "ExecuteTime": {
     "end_time": "2025-05-11T17:09:19.547269Z",
     "start_time": "2025-05-11T17:09:16.920431Z"
    }
   },
   "cell_type": "code",
   "source": [
    "data = EhovyRaceDataset(variation=\"high\", split=\"train\", max_article_size=800)\n",
    "data_prompted = PromptedEhvoy(data)"
   ],
   "id": "92814172ea3333b1",
   "outputs": [
    {
     "name": "stderr",
     "output_type": "stream",
     "text": [
      "Filtrando artículos en train: 100%|██████████| 62445/62445 [00:01<00:00, 48782.37 examples/s]\n"
     ]
    }
   ],
   "execution_count": 2
  },
  {
   "metadata": {
    "ExecuteTime": {
     "end_time": "2025-05-11T17:09:19.666065Z",
     "start_time": "2025-05-11T17:09:19.659699Z"
    }
   },
   "cell_type": "code",
   "source": "data_prompted[0]",
   "id": "9dd08334cc459944",
   "outputs": [
    {
     "data": {
      "text/plain": [
       "('Context: The air hostess   was in a small kitchen at the back of the plane, preparing the plates for lunch, when a little old lady came and spoke to her, \"Could you please tell me,\" she asked, \"where is the ladies\\' lavatory   in the plane?\"\\n\"Yes, madam,\" said the air hostess and smiled. \"It is right at the other end of the plane---at the front.\"\\nThe little lady went too far. She walked all the way to the front of the plane, opened the door in front of her, and saw the captain of the plane and the other officers. They were all busy with their work and did not see her. She went out again, shut the door and returned to the air hostess.\\n\"Oh, didn\\'t you find it, madam?\" the girl asked her. \"Yes, I did,\" said the little lady. \"But there are four men in the ladies\\' lavatory watching television.\"\\n\\nQuestion: The story happened  _  .\\n\\nOptions:\\nA) in the evening\\nB) in the afternoon\\nC) in the morning\\nD) at midnight\\n\\nAnswer:',\n",
       " 'C')"
      ]
     },
     "execution_count": 3,
     "metadata": {},
     "output_type": "execute_result"
    }
   ],
   "execution_count": 3
  },
  {
   "metadata": {
    "ExecuteTime": {
     "end_time": "2025-05-11T17:10:26.822563Z",
     "start_time": "2025-05-11T17:10:24.530413Z"
    }
   },
   "cell_type": "code",
   "source": [
    "model_name = \"meta-llama/Llama-3.2-1B\"\n",
    "\n",
    "tokenizer = Llama32Tokenizer(model_name)\n",
    "model = Llama32(model_name, do_sample=False)\n",
    "options = [\" A\", \" B\", \" C\", \" D\"]\n",
    "options_picker = OptionsPicker(model, tokenizer, options=options, device=\"cuda\")"
   ],
   "id": "5c8b7e8187cc012e",
   "outputs": [],
   "execution_count": 12
  },
  {
   "metadata": {
    "ExecuteTime": {
     "end_time": "2025-05-11T17:10:26.833086Z",
     "start_time": "2025-05-11T17:10:26.828421Z"
    }
   },
   "cell_type": "code",
   "source": [
    "x, y = data_prompted[0]\n",
    "x"
   ],
   "id": "f15f772ca96c3d0d",
   "outputs": [
    {
     "data": {
      "text/plain": [
       "'Context: The air hostess   was in a small kitchen at the back of the plane, preparing the plates for lunch, when a little old lady came and spoke to her, \"Could you please tell me,\" she asked, \"where is the ladies\\' lavatory   in the plane?\"\\n\"Yes, madam,\" said the air hostess and smiled. \"It is right at the other end of the plane---at the front.\"\\nThe little lady went too far. She walked all the way to the front of the plane, opened the door in front of her, and saw the captain of the plane and the other officers. They were all busy with their work and did not see her. She went out again, shut the door and returned to the air hostess.\\n\"Oh, didn\\'t you find it, madam?\" the girl asked her. \"Yes, I did,\" said the little lady. \"But there are four men in the ladies\\' lavatory watching television.\"\\n\\nQuestion: The story happened  _  .\\n\\nOptions:\\nA) in the evening\\nB) in the afternoon\\nC) in the morning\\nD) at midnight\\n\\nAnswer:'"
      ]
     },
     "execution_count": 13,
     "metadata": {},
     "output_type": "execute_result"
    }
   ],
   "execution_count": 13
  },
  {
   "metadata": {
    "ExecuteTime": {
     "end_time": "2025-05-11T17:10:26.905993Z",
     "start_time": "2025-05-11T17:10:26.902556Z"
    }
   },
   "cell_type": "code",
   "source": "x_tokenized = tokenizer(x, padding=\"max_length\", truncation=True, return_tensors=\"pt\", max_length=900)",
   "id": "b0f039b046fee03b",
   "outputs": [],
   "execution_count": 14
  },
  {
   "metadata": {
    "ExecuteTime": {
     "end_time": "2025-05-11T17:10:27.141265Z",
     "start_time": "2025-05-11T17:10:26.980609Z"
    }
   },
   "cell_type": "code",
   "source": "out = options_picker(x_tokenized[\"input_ids\"], x_tokenized[\"attention_mask\"])",
   "id": "281c0e0c125d5b08",
   "outputs": [],
   "execution_count": 15
  },
  {
   "metadata": {
    "ExecuteTime": {
     "end_time": "2025-05-11T17:10:27.408393Z",
     "start_time": "2025-05-11T17:10:27.404342Z"
    }
   },
   "cell_type": "code",
   "source": "print(out)",
   "id": "625dc5452e262fbe",
   "outputs": [
    {
     "name": "stdout",
     "output_type": "stream",
     "text": [
      "tensor([2.3601e-07, 1.4969e-06, 2.1230e-05, 9.3522e-06])\n"
     ]
    }
   ],
   "execution_count": 16
  },
  {
   "metadata": {
    "ExecuteTime": {
     "end_time": "2025-05-11T17:10:28.386164Z",
     "start_time": "2025-05-11T17:10:28.381234Z"
    }
   },
   "cell_type": "code",
   "source": [
    "answer = options[torch.argmax(out)]\n",
    "answer"
   ],
   "id": "526d2b11d1b48139",
   "outputs": [
    {
     "data": {
      "text/plain": [
       "' C'"
      ]
     },
     "execution_count": 17,
     "metadata": {},
     "output_type": "execute_result"
    }
   ],
   "execution_count": 17
  },
  {
   "metadata": {
    "ExecuteTime": {
     "end_time": "2025-05-11T17:10:29.311253Z",
     "start_time": "2025-05-11T17:10:29.308472Z"
    }
   },
   "cell_type": "code",
   "source": "# Let's see how the model performs on the first 100 examples",
   "id": "3c7a8b90ce2e8a69",
   "outputs": [],
   "execution_count": 18
  },
  {
   "metadata": {
    "ExecuteTime": {
     "end_time": "2025-05-11T17:10:49.231537Z",
     "start_time": "2025-05-11T17:10:30.020517Z"
    }
   },
   "cell_type": "code",
   "source": [
    "correct_predictions = 0\n",
    "validation_length = len(data_prompted)\n",
    "\n",
    "for i in range(validation_length):\n",
    "    x, y = data_prompted[i]\n",
    "    x = x.replace(\"\\n\\nAnswer:\", \"\\n\\nAfter analyze that, the option i choose between (A, B, C or D) is \")\n",
    "    x = f\"\"\"\n",
    "     You are a smart question answering model. Answer the question based on the next information, and at the end\n",
    "     you will find the answer options. Choose the best one, only give the letter of the answer which could be A, B, C or D.\n",
    "     {x}\"\"\"\n",
    "    x_tokenized = tokenizer(x, padding=\"max_length\", truncation=True, return_tensors=\"pt\", max_length=512)\n",
    "    out = options_picker(x_tokenized[\"input_ids\"], x_tokenized[\"attention_mask\"])\n",
    "    answer = options[torch.argmax(out)]\n",
    "    if answer == y:\n",
    "        correct_predictions += 1\n",
    "\n",
    "    if i % 10 == 0:\n",
    "        print(out)\n",
    "        print(x)\n",
    "        print(answer, y)\n",
    "        print(f\"Processed {i} examples, current accuracy: {correct_predictions / (i + 1):.2f}\")\n",
    "\n",
    "accuracy = correct_predictions / validation_length\n",
    "accuracy"
   ],
   "id": "ea717fb9295dbb26",
   "outputs": [
    {
     "name": "stdout",
     "output_type": "stream",
     "text": [
      "tensor([6.8912e-08, 4.3698e-07, 6.3998e-06, 1.9014e-06])\n",
      "\n",
      "     You are a smart question answering model. Answer the question based on the next information, and at the end\n",
      "     you will find the answer options. Choose the best one, only give the letter of the answer which could be A, B, C or D.\n",
      "     Context: The air hostess   was in a small kitchen at the back of the plane, preparing the plates for lunch, when a little old lady came and spoke to her, \"Could you please tell me,\" she asked, \"where is the ladies' lavatory   in the plane?\"\n",
      "\"Yes, madam,\" said the air hostess and smiled. \"It is right at the other end of the plane---at the front.\"\n",
      "The little lady went too far. She walked all the way to the front of the plane, opened the door in front of her, and saw the captain of the plane and the other officers. They were all busy with their work and did not see her. She went out again, shut the door and returned to the air hostess.\n",
      "\"Oh, didn't you find it, madam?\" the girl asked her. \"Yes, I did,\" said the little lady. \"But there are four men in the ladies' lavatory watching television.\"\n",
      "\n",
      "Question: The story happened  _  .\n",
      "\n",
      "Options:\n",
      "A) in the evening\n",
      "B) in the afternoon\n",
      "C) in the morning\n",
      "D) at midnight\n",
      "\n",
      "After analyze that, the option i choose between (A, B, C or D) is \n",
      " C C\n",
      "Processed 0 examples, current accuracy: 0.00\n",
      "tensor([7.1328e-08, 5.6946e-07, 1.0086e-05, 4.3721e-06])\n",
      "\n",
      "     You are a smart question answering model. Answer the question based on the next information, and at the end\n",
      "     you will find the answer options. Choose the best one, only give the letter of the answer which could be A, B, C or D.\n",
      "     Context: Read the following directions on a bottle of medicine:\n",
      "    \"Take two tablets with water, followed by one tablet every eight hours, as required, For maximum night-time and early morning relief, take two tablets at bed - time, Do not take more than six tablets in twenty-four hours. \n",
      "    For children six to twelve years old, give half the amount for a grownup. For children under six years old, ask for your doctor's advice.\n",
      "    Reduce the amount if nervousness,  _ , or sleeplessness occurs,\"\n",
      "\n",
      "Question: Obviously the medicine   _   .\n",
      "\n",
      "Options:\n",
      "A) may be dangerous to small children.\n",
      "B) cannot be taken by children under twelve years old.\n",
      "C) may be taken by children but not by grown-ups.\n",
      "D) may be taken by grown-ups but not by children.\n",
      "\n",
      "After analyze that, the option i choose between (A, B, C or D) is \n",
      " C A\n",
      "Processed 10 examples, current accuracy: 0.00\n",
      "tensor([5.2578e-08, 4.4773e-07, 1.7641e-05, 1.7481e-06])\n",
      "\n",
      "     You are a smart question answering model. Answer the question based on the next information, and at the end\n",
      "     you will find the answer options. Choose the best one, only give the letter of the answer which could be A, B, C or D.\n",
      "     Context: Do you need friends? I'm sure your answer is \"Yes,of course. Everybody does! \" You need friends when you play and when you work. If you have friends, you will feel happy. If you have no friends. you will feel lonely  . \n",
      "Do you know how to make friends? There is only one good way--You make friends by being friendly. \n",
      "A friendly person is interested in other people. He is always helpful If you want to make friends with a new classmate, you can talk with him, tell him about the other classmates in your class and try your best to be helpful to him.\n",
      "\n",
      "Question: A friendly person is   _   other people.\n",
      "\n",
      "Options:\n",
      "A) interested in\n",
      "B) worried about\n",
      "C) surprised at\n",
      "D) like them\n",
      "\n",
      "After analyze that, the option i choose between (A, B, C or D) is \n",
      " C A\n",
      "Processed 20 examples, current accuracy: 0.00\n",
      "tensor([3.4829e-08, 1.7201e-07, 5.8735e-06, 9.2653e-07])\n",
      "\n",
      "     You are a smart question answering model. Answer the question based on the next information, and at the end\n",
      "     you will find the answer options. Choose the best one, only give the letter of the answer which could be A, B, C or D.\n",
      "     Context: Once there was a poor farmer and his farm belonged to  a rich man. One day he brought a basket of apples to the rich man's house. On the doorsteps, he met two monkeys dressed like children. They jumped onto the basket to eat the apples and threw some on the ground. The farmer politely took off his hat and asked the monkeys to get off. They obeyed  and the farmer went into the house. He asked to see the rich man. A servant took him to the room where the rich man was sitting.\n",
      "\"I have brought you the basket of apples you asked for,\" he said.\n",
      "\"But why have you brought a half-empty basket?\" the rich man asked.\n",
      "\"I met your children outside, and they stole  some of the apples.\"\n",
      "\n",
      "Question: The monkeys left the basket because\n",
      "\n",
      "Options:\n",
      "A) they had thrown apples on the ground\n",
      "B) the farmer had politely asked them to get off\n",
      "C) they were afraid of the hat\n",
      "D) the farmer was angry wit h them\n",
      "\n",
      "After analyze that, the option i choose between (A, B, C or D) is \n",
      " C D\n",
      "Processed 30 examples, current accuracy: 0.00\n",
      "tensor([1.4104e-08, 7.7855e-08, 2.4675e-06, 6.1739e-07])\n",
      "\n",
      "     You are a smart question answering model. Answer the question based on the next information, and at the end\n",
      "     you will find the answer options. Choose the best one, only give the letter of the answer which could be A, B, C or D.\n",
      "     Context: The following notice is posted in the bus station.\n",
      "Time Table:\n",
      "*Buses leave the Railway Station, New York City, from7:00 a.m. and every half-hour thereafter, until 11:30 p.m. (7 days a week)\n",
      "*Buses leave Brennan Station 20 minutes before and after every hour from 6:20 a.m. to 11:40 p.m. (7 days a week)\n",
      "*Evening rush hours (5:00 p.m. to 7:00 p.m.); Buses leave the Railway Station, New York City every 15 minutes.(Monday--Friday)\n",
      "*Holidays Buses leave every hour on the hour, each direction.(Trip time:30minutes each way)\n",
      "*All tickets must be bought at Window 12, the Railway Station, New York City, or at the Brennan Station Window BEFORE boarding buses.\n",
      "\n",
      "Question: Where should passengers buy their tickets?\n",
      "\n",
      "Options:\n",
      "A) From the bus driver.\n",
      "B) On the bus after getting on it.\n",
      "C) From the conductor.\n",
      "D) At the station before boarding.\n",
      "\n",
      "After analyze that, the option i choose between (A, B, C or D) is \n",
      " C D\n",
      "Processed 40 examples, current accuracy: 0.00\n",
      "tensor([4.5353e-08, 2.7101e-07, 6.1761e-06, 1.1475e-06])\n",
      "\n",
      "     You are a smart question answering model. Answer the question based on the next information, and at the end\n",
      "     you will find the answer options. Choose the best one, only give the letter of the answer which could be A, B, C or D.\n",
      "     Context: Bet Winner\n",
      "MILLBURN, New Jersey-- An 11-year-old boy, he gave up television for a year in a bet with his mother, says he will use some of the money to buy himself an astronaut's suit. The bet ended at 9:01 on Monday morning, but Benjamin waited until his mother, Roslyn, handed him five 100-dollar bills in front of a gathering of newspapermen in the afternoon before switching on the TV. During the past year, he has filled his time reading and his grades have improved from ''satisfactory\" to ''very good.\"\n",
      "CHINA DAILY, Wednesday, March 9, 2011  ( 94 words )\n",
      "\n",
      "Question: Why did the mother hand the bills to the boy?\n",
      "\n",
      "Options:\n",
      "A) Because his grades had improved\n",
      "B) Because he had won some money\n",
      "C) Because he wanted to buy an astronaut's suit\n",
      "D) Because she had given him her promise\n",
      "\n",
      "After analyze that, the option i choose between (A, B, C or D) is \n",
      " C D\n",
      "Processed 50 examples, current accuracy: 0.00\n",
      "tensor([4.3547e-08, 2.0893e-07, 1.2591e-05, 1.7417e-06])\n",
      "\n",
      "     You are a smart question answering model. Answer the question based on the next information, and at the end\n",
      "     you will find the answer options. Choose the best one, only give the letter of the answer which could be A, B, C or D.\n",
      "     Context: London, the capital of England, is political, economic  and commercial  centre. It stands on the Thames, extending for nearly thirty miles from north to south and for nearly thirty miles from east to west.\n",
      "London is divided into many administrative  units. Greater London, the largest unit, cover 1,605 square miles. The heart of this unit is the City of London. It is surrounded by a ring of 12 boroughs  called Inner London or Central London, covering 303 square miles, and itself, is again surrounded by a greater ring of 20 boroughs called Outer London with an area of 1,279 square miles. Thus, Greater London is made up of the City and 32 boroughs.\n",
      "\n",
      "Question: From this article, we can see that London   _  .\n",
      "\n",
      "Options:\n",
      "A) is made up of the City, the Central London and Outer London.\n",
      "B) is made up of Inner London and Outer London\n",
      "C) includes the City, 32 boroughs and some other units.\n",
      "D) is smaller than Greater London in area.\n",
      "\n",
      "After analyze that, the option i choose between (A, B, C or D) is \n",
      " C C\n",
      "Processed 60 examples, current accuracy: 0.00\n",
      "tensor([8.2878e-08, 1.7539e-07, 2.4184e-05, 7.5068e-07])\n",
      "\n",
      "     You are a smart question answering model. Answer the question based on the next information, and at the end\n",
      "     you will find the answer options. Choose the best one, only give the letter of the answer which could be A, B, C or D.\n",
      "     Context: Central Sports Centre. City Road.\n",
      "All Stars vs Rockets, Saturday 8: 30 p.m. $12\n",
      "Northerners vs Tigers, Sunday noon $14\n",
      "BUSHWALKING  :\n",
      "Meet at Wanda Station, Saturday 9:00 a.m. sharp for 3-hour walk to Canary Mountains. $7, ph 341-5432 Meet at Westley Station, Sunday 9:00 a.m. sharp for a full day walk to Wombak Valley. $5, ph 341-8643. Bring your own lunch.\n",
      "FOOTBALL:\n",
      "St Martins Sports Centre\n",
      "St Martins vs Doonsberg, Saturday 2:00 p.m. $8\n",
      "Eastside Central vs Light Hill, Sunday 2:00 p.m. $8\n",
      "Neill Park Recreation Centre\n",
      "Neill Park vs Robinson, Saturday 2:00 p.m. $11\n",
      "Essen vs Springwood, Sunday 2:00 p.m. $11\n",
      "LAWN BOWLS :\n",
      "Tans Town B.C\n",
      "Tans Town vs White Vale, Saturday 9:00 p.m. $10\n",
      "Wake Hill B.C.\n",
      "Wake Hill vs Colls, Saturday 2: 00 p.m. $9\n",
      "\n",
      "Question: According to the passage, the most popular time for the sporting events may be   _  .\n",
      "\n",
      "Options:\n",
      "A) Sat 8:30 pm\n",
      "B) Sun noon\n",
      "C) Sun 2:00 pm\n",
      "D) Sat 2:00 pm\n",
      "\n",
      "After analyze that, the option i choose between (A, B, C or D) is \n",
      " C D\n",
      "Processed 70 examples, current accuracy: 0.00\n",
      "tensor([5.6891e-08, 3.0943e-07, 1.4302e-05, 2.2512e-06])\n",
      "\n",
      "     You are a smart question answering model. Answer the question based on the next information, and at the end\n",
      "     you will find the answer options. Choose the best one, only give the letter of the answer which could be A, B, C or D.\n",
      "     Context: Barack Obama became US President in January, 2009. Since then, the world has been watching him closely to see whether he keeps his promises about the economy , foreign policy and health care.\n",
      "But at home, he has also been under pressure from his two daughters to keep his promise: to give them a new dog as a gift for helping him with his election campaign .\n",
      "On Tuesday the nation's first dog, named Bo, came out. It is a six-month-old water dog which is black with a white chest and white paws .\n",
      "\"Bo's got star quality,\" said President Obama as he and his family took a walk with the dog on the White House lawn  in front of reporters.\n",
      "He then joked, \" I finally got a friend. It took some time,\" mentioning a famous saying,\n",
      "\n",
      "Question: Barack Obama is    _    President now.\n",
      "\n",
      "Options:\n",
      "A) French\n",
      "B) British\n",
      "C) Russian\n",
      "D) American\n",
      "\n",
      "After analyze that, the option i choose between (A, B, C or D) is \n",
      " C D\n",
      "Processed 80 examples, current accuracy: 0.00\n",
      "tensor([4.1248e-08, 2.0823e-07, 1.2410e-05, 1.6482e-06])\n",
      "\n",
      "     You are a smart question answering model. Answer the question based on the next information, and at the end\n",
      "     you will find the answer options. Choose the best one, only give the letter of the answer which could be A, B, C or D.\n",
      "     Context: Part-time Waitress\n",
      "Busy cafe needs honest and good-looking waitress for weekends. Must enjoy working with a team and dealing with customers. Call Li Ling at 0732-8536724 after 6 pm.\n",
      "Delivery   Person\n",
      "Young, healthy person able to deliver heavy boxes of books. Must have a driver's license and can carry heavy boxes. We're looking for a person for this position. Call Liu Fang at 0732-7887766 at any time.\n",
      " _ Wanted\n",
      "Kind, hard-working nanny wanted to look after three friendly children. Must be experienced and have childcare quail fications . Please call Chen Yiping at 0732-6774538 between 10 a.m. and 4 p.m\n",
      "\n",
      "Question: These are   _   in the newspaper.\n",
      "\n",
      "Options:\n",
      "A) notices\n",
      "B) ads\n",
      "C) stories\n",
      "D) news\n",
      "\n",
      "After analyze that, the option i choose between (A, B, C or D) is \n",
      " C B\n",
      "Processed 90 examples, current accuracy: 0.00\n",
      "tensor([7.3844e-08, 2.9123e-07, 7.4582e-06, 3.3627e-06])\n",
      "\n",
      "     You are a smart question answering model. Answer the question based on the next information, and at the end\n",
      "     you will find the answer options. Choose the best one, only give the letter of the answer which could be A, B, C or D.\n",
      "     Context: On May 23,1989, Stefania Follini came out from a cave at Carlsbad , New Mexico.She hadn't seen the sun for eighteen and a half weeks .Stefania was in a research program, and the scientists in the program were studying body rhythms  . In this experiment Stefania had spent 130 days in a cave ,30 feet in depth.\n",
      "During her time in the cave, Stefania had been completely alone except for two white mice.Her living place had been very comfortable ,but there had been nothing to feel her the time .She'd had no clock or watches , no television or radio.There had been no natural light and the temperature had always been kept at 21degC\n",
      "\n",
      "Question: Stefania stayed in the cave for a long time because  _  .\n",
      "\n",
      "Options:\n",
      "A) she was asked to do research on mice\n",
      "B) she wanted to experience loneliness\n",
      "C) she was the subject of a study\n",
      "D) she needed to record her life\n",
      "\n",
      "After analyze that, the option i choose between (A, B, C or D) is \n",
      " C C\n",
      "Processed 100 examples, current accuracy: 0.00\n",
      "tensor([2.8532e-08, 1.6436e-07, 4.9835e-06, 9.4962e-07])\n",
      "\n",
      "     You are a smart question answering model. Answer the question based on the next information, and at the end\n",
      "     you will find the answer options. Choose the best one, only give the letter of the answer which could be A, B, C or D.\n",
      "     Context: When you have a post-office box, the postman doesn't bring letters to you, but you go to the post-office and get your letters and parcels from your box. The box is locked, only you have the key, so the letters and parcels are safe.\n",
      "One day the headmaster of a school wrote to the post-office and asked for a post-office box for his school. He soon got an answer. It said, \"We will give you a post-office box in one month.\"\n",
      "Three months later, the headmaster wrote to the post-office and said, \"Why haven't we got a post-office box yet?\"\n",
      "This was the answer from the post-office:\n",
      "\"Dear sir,\n",
      "We gave you a post-office box two months and wrote to you then to tell you. Here is the key to your box. You will find our letter to you in it.\"\n",
      "\n",
      "Question: Which of the following might not be true?\n",
      "\n",
      "Options:\n",
      "A) If you want to get a post-office box, you must let the post-office know.\n",
      "B) When you get a post-office box, you have to do the work of a postman.\n",
      "C) You go to the post-office to get the key to your box.\n",
      "D) After you get a post-office box, the post man will not send mails to your house.\n",
      "\n",
      "After analyze that, the option i choose between (A, B, C or D) is \n",
      " C B\n",
      "Processed 110 examples, current accuracy: 0.00\n",
      "tensor([5.4451e-08, 3.2009e-07, 7.8079e-06, 2.6201e-06])\n",
      "\n",
      "     You are a smart question answering model. Answer the question based on the next information, and at the end\n",
      "     you will find the answer options. Choose the best one, only give the letter of the answer which could be A, B, C or D.\n",
      "     Context: According to an old story, a farmer once found that a bag of corn had been stolen from his house. He went to the judge and told him about his loss. The judge ordered all the people of the farm to come before him. He took a number of sticks of equal length and gave one stick to each man.\n",
      "He then said, \"Come before me again tomorrow. I shall then know which of you is the thief because the stick given to the thief will be one inch longer than the others.\"\n",
      "The thief was afraid of being found out, and so he cut an inch off his stick. The next day the thief's stick was found to be one inch shorter than any of the others. In this way the thief was found out, and was at once taken away to prison.\n",
      "\n",
      "Question: The judge gave each man a stick   _  .\n",
      "\n",
      "Options:\n",
      "A) to change back the farmer's corn\n",
      "B) to beat the thief\n",
      "C) as a tool to find out the thief\n",
      "D) so as to play a game together\n",
      "\n",
      "After analyze that, the option i choose between (A, B, C or D) is \n",
      " C C\n",
      "Processed 120 examples, current accuracy: 0.00\n",
      "tensor([4.2131e-08, 2.7200e-07, 6.1496e-06, 2.3504e-06])\n",
      "\n",
      "     You are a smart question answering model. Answer the question based on the next information, and at the end\n",
      "     you will find the answer options. Choose the best one, only give the letter of the answer which could be A, B, C or D.\n",
      "     Context: Are you able to send a letter with pictures and sounds to someone somewhere in the world without a stamp on it? Using a computer you can send e-mails quickly and easily. The post is much slower than e-mail. E-mail can send its message to the other side of the world in seconds. E-mail is easy to use and it saves time and money. The differences in time in different parts of the world do not matter when sending e-mail. It's twenty-four-hour service that you can send e-mail at any time of the day or night. No one has to be there to get e-mail. It does not matter if your friends are in beds when you send e-mail to them, or you are seeing a movie at the movie theater when they send e-mail back.\n",
      "\n",
      "Question: You can send e-mail at any time  _  .\n",
      "\n",
      "Options:\n",
      "A) in the daytime\n",
      "B) at night\n",
      "C) on weekends\n",
      "D) of the day or night\n",
      "\n",
      "After analyze that, the option i choose between (A, B, C or D) is \n",
      " C D\n",
      "Processed 130 examples, current accuracy: 0.00\n",
      "tensor([3.7055e-08, 2.3564e-07, 7.3261e-06, 1.5867e-06])\n",
      "\n",
      "     You are a smart question answering model. Answer the question based on the next information, and at the end\n",
      "     you will find the answer options. Choose the best one, only give the letter of the answer which could be A, B, C or D.\n",
      "     Context: A proverb   says \"Time is money.\" But in my opinion  , time is even more precious   than money. Why? Because when money is spent, we can earn it back. However, when time is gone, it will never return. This is the reason why we must value time.\n",
      "The time we can use is limited  . Therefore, even an hour is extremely  precious. We should  _ our time to do useful things. As students we must put more efforts into our lessons so as to serve society and our nation in the future.\n",
      "But it is a pity that there are a lot of people who do not know the importance of time. They spend their precious time smoking, drinking and chatting. They do not realize that wasting time is equal , we should form the good habit of saving time. Do not put off   what can be done today until tomorrow.\n",
      "\n",
      "Question: Which of the following is a good habit of saving time?\n",
      "\n",
      "Options:\n",
      "A) Spending time chatting and playing cards.\n",
      "B) Often asking some friends to drink together.\n",
      "C) Playing computer games all day.\n",
      "D) Never leaving today's work for tomorrow.\n",
      "\n",
      "After analyze that, the option i choose between (A, B, C or D) is \n",
      " C D\n",
      "Processed 140 examples, current accuracy: 0.00\n",
      "tensor([6.1017e-08, 3.9348e-07, 1.6846e-05, 1.4948e-06])\n",
      "\n",
      "     You are a smart question answering model. Answer the question based on the next information, and at the end\n",
      "     you will find the answer options. Choose the best one, only give the letter of the answer which could be A, B, C or D.\n",
      "     Context: What is the sky? Where is it? How high is it? What lies above it? These questions are difficult to answer, aren't they?\n",
      "    Is the sky blue? The sky has no colour. We know that there is air around the world. When planes fly, they need air to lift their wings. Planes cannot fly  very high because when they go higher, the air gets thinner. If we go up about  1,200 kilometres from the earth, we find there is no air.\n",
      "Perhaps we can answer some of our questions now. The sky is space. In  this space there is only the sun, the moon and all the stars.\n",
      "\n",
      "Question: What is the sky?   _  .\n",
      "\n",
      "Options:\n",
      "A) It's the clouds\n",
      "B) It's space\n",
      "C) It's air\n",
      "D) It's nothing\n",
      "\n",
      "After analyze that, the option i choose between (A, B, C or D) is \n",
      " C B\n",
      "Processed 150 examples, current accuracy: 0.00\n",
      "tensor([5.7353e-08, 2.9145e-07, 9.6277e-06, 1.4170e-06])\n",
      "\n",
      "     You are a smart question answering model. Answer the question based on the next information, and at the end\n",
      "     you will find the answer options. Choose the best one, only give the letter of the answer which could be A, B, C or D.\n",
      "     Context: Mr Smith made many tests   with different animals and the monkey was the cleverest of all the animals.\n",
      "One day Mr Smith put a monkey in a room. He also put some small boxes in it. In one of the boxes there was some food. \"How long will it take the monkey to find the food? \" Mr Smith said to himself. \" Let me wait and see. \" He left the room and waited outside. Three minutes later, he put his eye to the keyhole  . What did he see? He saw the eye of the monkey. The monkey was on the other side of the door and looked at Mr Smith through the keyhole.\n",
      "\n",
      "Question: There was some food in   _   of the small boxes.\n",
      "\n",
      "Options:\n",
      "A) some\n",
      "B) none\n",
      "C) one\n",
      "D) each\n",
      "\n",
      "After analyze that, the option i choose between (A, B, C or D) is \n",
      " C C\n",
      "Processed 160 examples, current accuracy: 0.00\n",
      "tensor([3.2309e-08, 1.9850e-07, 4.4726e-06, 1.6227e-06])\n",
      "\n",
      "     You are a smart question answering model. Answer the question based on the next information, and at the end\n",
      "     you will find the answer options. Choose the best one, only give the letter of the answer which could be A, B, C or D.\n",
      "     Context: A young couple that had received many valuable wedding  presents built their house in a suburb. One morning they received in the post two tickets for a popular show in the city, with a single line:\n",
      "\"Guess who sent them.\"\n",
      "The couple had much amusement in trying to find out the kind person who gave them the tickets, but failed in the effort. They attended the theatre, and had a pleasant time. On their returning home late at night, still trying to guess who in the world had sent them the tickets, they found their house rid of everything valuable. And on the table in the kitchen was a piece of paper on which was written in the same hand as the note with the tickets.\n",
      "\"Now you know!\"\n",
      "\n",
      "Question: The couple went to the show   _  .\n",
      "\n",
      "Options:\n",
      "A) early in the morning that day\n",
      "B) to look for the person who sent them the tickets\n",
      "C) to enjoy themselves in the evening\n",
      "D) and found the person who sent them the tickets also attended the show.\n",
      "\n",
      "After analyze that, the option i choose between (A, B, C or D) is \n",
      " C C\n",
      "Processed 170 examples, current accuracy: 0.00\n",
      "tensor([6.2114e-08, 4.9101e-07, 1.8919e-05, 5.7518e-06])\n",
      "\n",
      "     You are a smart question answering model. Answer the question based on the next information, and at the end\n",
      "     you will find the answer options. Choose the best one, only give the letter of the answer which could be A, B, C or D.\n",
      "     Context: Cars!!! Holidays! Thousands of prizes ! Hurry !\n",
      "FREE with every packet  of SPLASH! Your personal lucky number!\n",
      "Will be among the 500,000 Winners!\n",
      "Use SPLASH for the SOFTEST ...\n",
      "QIUCKEST...WHITEST WASH!\n",
      "DON'T DELAY ... BUY A PACKET TODAY!\n",
      "\n",
      "Question: This is   _  .\n",
      "\n",
      "Options:\n",
      "A) an introduction to some products\n",
      "B) An advertisement for selling goods\n",
      "C) a direction of a kind of washing machine\n",
      "D) A notice about a football game\n",
      "\n",
      "After analyze that, the option i choose between (A, B, C or D) is \n",
      " C B\n",
      "Processed 180 examples, current accuracy: 0.00\n",
      "tensor([8.3374e-08, 3.4002e-07, 1.4651e-05, 1.7956e-06])\n",
      "\n",
      "     You are a smart question answering model. Answer the question based on the next information, and at the end\n",
      "     you will find the answer options. Choose the best one, only give the letter of the answer which could be A, B, C or D.\n",
      "     Context: Clay is 13 years old, and he lives in Miami, the United States. On the morning of Feb.23, when Clay is waiting for school bus, a man kidnaps  him.The man takes him to a tree. He puts a stock in Clay's mouth. Then he asks for money from Clay's family.\n",
      "   Clay is very scared . But he remembers there is a safety pin  in his pocket. He takes out the pin and cuts through the rope . Finally he gets free. Clay calls his mother\n",
      "with a farmer's cell phone. Soon the police comes and Clay is safe.\n",
      "The police thinks highly of  Clay. \"This man kidnaps the wrong boy,\" Charly Wells, a policeman says. \"This boy notices things. And he's very brave .\"\n",
      "\n",
      "Question: We can tell from the story that Clay is   _     .\n",
      "\n",
      "Options:\n",
      "A) brave\n",
      "B) smart\n",
      "C) both A and B\n",
      "D) hard-working\n",
      "\n",
      "After analyze that, the option i choose between (A, B, C or D) is \n",
      " C B\n",
      "Processed 190 examples, current accuracy: 0.00\n",
      "tensor([2.6186e-08, 2.2135e-07, 6.4855e-06, 2.2034e-06])\n",
      "\n",
      "     You are a smart question answering model. Answer the question based on the next information, and at the end\n",
      "     you will find the answer options. Choose the best one, only give the letter of the answer which could be A, B, C or D.\n",
      "     Context: Guangzhou (Xinhua)----12 people were killed and 20 injured early yesterday morning when they jumped from a burning train car into the path of an oncoming goods train in Southern China. When No. 247 Wuchang----Guangzhou passenger train was passing the Dayaoshan Tunnel in Guangdong Province, South China at 00 :17 hours yesterday, a fire caused by passengers' smoking broke out on No. 17 car. They wanted to extinguish fire. As the train stopped some frightened passengers jumped from windows. 12 people were crushed to death and 20 others injured by a northward passing goods train(No. 1766).\n",
      "\n",
      "Question: Where did the accident happen?\n",
      "\n",
      "Options:\n",
      "A) In Wuchang.\n",
      "B) In Guangzhou.\n",
      "C) In Hubei.\n",
      "D) In Guangdong.\n",
      "\n",
      "After analyze that, the option i choose between (A, B, C or D) is \n",
      " C D\n",
      "Processed 200 examples, current accuracy: 0.00\n",
      "tensor([4.5299e-08, 2.4444e-07, 1.5430e-05, 1.6722e-06])\n",
      "\n",
      "     You are a smart question answering model. Answer the question based on the next information, and at the end\n",
      "     you will find the answer options. Choose the best one, only give the letter of the answer which could be A, B, C or D.\n",
      "     Context: Read the advertisements, and then choose the right answer.\n",
      "1\n",
      "Driver Wanted\n",
      "(1) Clean driving license.\n",
      "(2) Must be of smart appearance.\n",
      "(3) Aged over 25.\n",
      "Apply to: Capes Taxi,17 Palace Road, Boston.\n",
      "2\n",
      "Air Hostesses  for International Flights Wanted\n",
      "(1)Applicants must be between 20 and 33 years old.\n",
      "(2) Height 1.6m to 1.75m.\n",
      "(3)Education to GCSE(General Certificate of Secondary Education)standard.\n",
      "(4)Two languages. Must be able to swim.\n",
      "Apply to: Recruitment office, Southern Airline, Heathrow Airport West.HR37KK.\n",
      "3\n",
      "Teachers Needed\n",
      "(1For private language school. .\n",
      "(2)Teaching experience unnecessary.\n",
      "Apply to: The Director of Studies. Instant Language Ltd,279 Canal street, Boston.\n",
      "\n",
      "Question: What prevents Jack, an experienced taxi driver, working for Capes Taxis?\n",
      "\n",
      "Options:\n",
      "A) Fond of beer and wine.\n",
      "B) Punished  for speeding and wrong parking.\n",
      "C) Unable to speak a foreign language.\n",
      "D) Not having college education.\n",
      "\n",
      "After analyze that, the option i choose between (A, B, C or D) is \n",
      " C B\n",
      "Processed 210 examples, current accuracy: 0.00\n"
     ]
    },
    {
     "ename": "KeyboardInterrupt",
     "evalue": "",
     "output_type": "error",
     "traceback": [
      "\u001B[0;31m---------------------------------------------------------------------------\u001B[0m",
      "\u001B[0;31mKeyboardInterrupt\u001B[0m                         Traceback (most recent call last)",
      "Cell \u001B[0;32mIn[19], line 12\u001B[0m\n\u001B[1;32m      7\u001B[0m x \u001B[38;5;241m=\u001B[39m \u001B[38;5;124mf\u001B[39m\u001B[38;5;124m\"\"\"\u001B[39m\n\u001B[1;32m      8\u001B[0m \u001B[38;5;124m You are a smart question answering model. Answer the question based on the next information, and at the end\u001B[39m\n\u001B[1;32m      9\u001B[0m \u001B[38;5;124m you will find the answer options. Choose the best one, only give the letter of the answer which could be A, B, C or D.\u001B[39m\n\u001B[1;32m     10\u001B[0m \u001B[38;5;124m \u001B[39m\u001B[38;5;132;01m{\u001B[39;00mx\u001B[38;5;132;01m}\u001B[39;00m\u001B[38;5;124m\"\"\"\u001B[39m\n\u001B[1;32m     11\u001B[0m x_tokenized \u001B[38;5;241m=\u001B[39m tokenizer(x, padding\u001B[38;5;241m=\u001B[39m\u001B[38;5;124m\"\u001B[39m\u001B[38;5;124mmax_length\u001B[39m\u001B[38;5;124m\"\u001B[39m, truncation\u001B[38;5;241m=\u001B[39m\u001B[38;5;28;01mTrue\u001B[39;00m, return_tensors\u001B[38;5;241m=\u001B[39m\u001B[38;5;124m\"\u001B[39m\u001B[38;5;124mpt\u001B[39m\u001B[38;5;124m\"\u001B[39m, max_length\u001B[38;5;241m=\u001B[39m\u001B[38;5;241m512\u001B[39m)\n\u001B[0;32m---> 12\u001B[0m out \u001B[38;5;241m=\u001B[39m \u001B[43moptions_picker\u001B[49m\u001B[43m(\u001B[49m\u001B[43mx_tokenized\u001B[49m\u001B[43m[\u001B[49m\u001B[38;5;124;43m\"\u001B[39;49m\u001B[38;5;124;43minput_ids\u001B[39;49m\u001B[38;5;124;43m\"\u001B[39;49m\u001B[43m]\u001B[49m\u001B[43m,\u001B[49m\u001B[43m \u001B[49m\u001B[43mx_tokenized\u001B[49m\u001B[43m[\u001B[49m\u001B[38;5;124;43m\"\u001B[39;49m\u001B[38;5;124;43mattention_mask\u001B[39;49m\u001B[38;5;124;43m\"\u001B[39;49m\u001B[43m]\u001B[49m\u001B[43m)\u001B[49m\n\u001B[1;32m     13\u001B[0m answer \u001B[38;5;241m=\u001B[39m options[torch\u001B[38;5;241m.\u001B[39margmax(out)]\n\u001B[1;32m     14\u001B[0m \u001B[38;5;28;01mif\u001B[39;00m answer \u001B[38;5;241m==\u001B[39m y:\n",
      "File \u001B[0;32m~/miniconda3/envs/main/lib/python3.10/site-packages/torch/nn/modules/module.py:1739\u001B[0m, in \u001B[0;36mModule._wrapped_call_impl\u001B[0;34m(self, *args, **kwargs)\u001B[0m\n\u001B[1;32m   1737\u001B[0m     \u001B[38;5;28;01mreturn\u001B[39;00m \u001B[38;5;28mself\u001B[39m\u001B[38;5;241m.\u001B[39m_compiled_call_impl(\u001B[38;5;241m*\u001B[39margs, \u001B[38;5;241m*\u001B[39m\u001B[38;5;241m*\u001B[39mkwargs)  \u001B[38;5;66;03m# type: ignore[misc]\u001B[39;00m\n\u001B[1;32m   1738\u001B[0m \u001B[38;5;28;01melse\u001B[39;00m:\n\u001B[0;32m-> 1739\u001B[0m     \u001B[38;5;28;01mreturn\u001B[39;00m \u001B[38;5;28;43mself\u001B[39;49m\u001B[38;5;241;43m.\u001B[39;49m\u001B[43m_call_impl\u001B[49m\u001B[43m(\u001B[49m\u001B[38;5;241;43m*\u001B[39;49m\u001B[43margs\u001B[49m\u001B[43m,\u001B[49m\u001B[43m \u001B[49m\u001B[38;5;241;43m*\u001B[39;49m\u001B[38;5;241;43m*\u001B[39;49m\u001B[43mkwargs\u001B[49m\u001B[43m)\u001B[49m\n",
      "File \u001B[0;32m~/miniconda3/envs/main/lib/python3.10/site-packages/torch/nn/modules/module.py:1750\u001B[0m, in \u001B[0;36mModule._call_impl\u001B[0;34m(self, *args, **kwargs)\u001B[0m\n\u001B[1;32m   1745\u001B[0m \u001B[38;5;66;03m# If we don't have any hooks, we want to skip the rest of the logic in\u001B[39;00m\n\u001B[1;32m   1746\u001B[0m \u001B[38;5;66;03m# this function, and just call forward.\u001B[39;00m\n\u001B[1;32m   1747\u001B[0m \u001B[38;5;28;01mif\u001B[39;00m \u001B[38;5;129;01mnot\u001B[39;00m (\u001B[38;5;28mself\u001B[39m\u001B[38;5;241m.\u001B[39m_backward_hooks \u001B[38;5;129;01mor\u001B[39;00m \u001B[38;5;28mself\u001B[39m\u001B[38;5;241m.\u001B[39m_backward_pre_hooks \u001B[38;5;129;01mor\u001B[39;00m \u001B[38;5;28mself\u001B[39m\u001B[38;5;241m.\u001B[39m_forward_hooks \u001B[38;5;129;01mor\u001B[39;00m \u001B[38;5;28mself\u001B[39m\u001B[38;5;241m.\u001B[39m_forward_pre_hooks\n\u001B[1;32m   1748\u001B[0m         \u001B[38;5;129;01mor\u001B[39;00m _global_backward_pre_hooks \u001B[38;5;129;01mor\u001B[39;00m _global_backward_hooks\n\u001B[1;32m   1749\u001B[0m         \u001B[38;5;129;01mor\u001B[39;00m _global_forward_hooks \u001B[38;5;129;01mor\u001B[39;00m _global_forward_pre_hooks):\n\u001B[0;32m-> 1750\u001B[0m     \u001B[38;5;28;01mreturn\u001B[39;00m \u001B[43mforward_call\u001B[49m\u001B[43m(\u001B[49m\u001B[38;5;241;43m*\u001B[39;49m\u001B[43margs\u001B[49m\u001B[43m,\u001B[49m\u001B[43m \u001B[49m\u001B[38;5;241;43m*\u001B[39;49m\u001B[38;5;241;43m*\u001B[39;49m\u001B[43mkwargs\u001B[49m\u001B[43m)\u001B[49m\n\u001B[1;32m   1752\u001B[0m result \u001B[38;5;241m=\u001B[39m \u001B[38;5;28;01mNone\u001B[39;00m\n\u001B[1;32m   1753\u001B[0m called_always_called_hooks \u001B[38;5;241m=\u001B[39m \u001B[38;5;28mset\u001B[39m()\n",
      "\u001B[0;31mKeyboardInterrupt\u001B[0m: "
     ]
    }
   ],
   "execution_count": 19
  },
  {
   "metadata": {
    "ExecuteTime": {
     "end_time": "2025-05-11T02:00:22.469188Z",
     "start_time": "2025-05-11T02:00:22.464937Z"
    }
   },
   "cell_type": "code",
   "source": [
    "x, y = data_prompted[90]\n",
    "\n"
   ],
   "id": "575eeb884f68fd17",
   "outputs": [],
   "execution_count": 36
  },
  {
   "metadata": {
    "ExecuteTime": {
     "end_time": "2025-05-11T02:00:22.635601Z",
     "start_time": "2025-05-11T02:00:22.630511Z"
    }
   },
   "cell_type": "code",
   "source": [
    "x = f\"\"\"You are a smart question answering model. Answer the question based on the next information, and at the end you should pick the right answer. Choose the best one, only give the letter of the answer which could be A, B, C or D. You must give your answer in a single letter.\n",
    "     {x}\"\"\"\n",
    "x, y"
   ],
   "id": "5d3058de89ec2434",
   "outputs": [
    {
     "data": {
      "text/plain": [
       "(\"You are a smart question answering model. Answer the question based on the next information, and at the end you should pick the right answer. Choose the best one, only give the letter of the answer which could be A, B, C or D. You must give your answer in a single letter.\\n     Context: Part-time Waitress\\nBusy cafe needs honest and good-looking waitress for weekends. Must enjoy working with a team and dealing with customers. Call Li Ling at 0732-8536724 after 6 pm.\\nDelivery   Person\\nYoung, healthy person able to deliver heavy boxes of books. Must have a driver's license and can carry heavy boxes. We're looking for a person for this position. Call Liu Fang at 0732-7887766 at any time.\\n _ Wanted\\nKind, hard-working nanny wanted to look after three friendly children. Must be experienced and have childcare quail fications . Please call Chen Yiping at 0732-6774538 between 10 a.m. and 4 p.m\\n\\nQuestion: These are   _   in the newspaper.\\n\\nOptions:\\nA) notices\\nB) ads\\nC) stories\\nD) news\\n\\nAfter analyze that, the option i choose between (A, B, C or D) is \",\n",
       " 'B')"
      ]
     },
     "execution_count": 37,
     "metadata": {},
     "output_type": "execute_result"
    }
   ],
   "execution_count": 37
  },
  {
   "metadata": {
    "ExecuteTime": {
     "end_time": "2025-05-11T02:00:32.382585Z",
     "start_time": "2025-05-11T02:00:22.865095Z"
    }
   },
   "cell_type": "code",
   "source": [
    "x_tokenized = tokenizer(x, padding=\"max_length\", truncation=True, return_tensors=\"pt\", max_length=512)\n",
    "generation = model.model.generate(\n",
    "    input_ids=x_tokenized[\"input_ids\"],\n",
    "    attention_mask=x_tokenized[\"attention_mask\"],\n",
    "    max_length=1024,\n",
    ")"
   ],
   "id": "64d7eafc191fc817",
   "outputs": [
    {
     "name": "stderr",
     "output_type": "stream",
     "text": [
      "Setting `pad_token_id` to `eos_token_id`:128001 for open-end generation.\n"
     ]
    }
   ],
   "execution_count": 38
  },
  {
   "metadata": {
    "ExecuteTime": {
     "end_time": "2025-05-11T02:00:32.391776Z",
     "start_time": "2025-05-11T02:00:32.387681Z"
    }
   },
   "cell_type": "code",
   "source": "out = tokenizer.decode(generation[0])",
   "id": "cbc02f361708def1",
   "outputs": [],
   "execution_count": 39
  },
  {
   "metadata": {
    "ExecuteTime": {
     "end_time": "2025-05-11T02:00:32.446008Z",
     "start_time": "2025-05-11T02:00:32.441754Z"
    }
   },
   "cell_type": "code",
   "source": "out",
   "id": "e054c63ecfd50f99",
   "outputs": [
    {
     "data": {
      "text/plain": [
       "\"You are a smart question answering model. Answer the question based on the next information, and at the end you should pick the right answer. Choose the best one, only give the letter of the answer which could be A, B, C or D. You must give your answer in a single letter.\\n     Context: Part-time Waitress\\nBusy cafe needs honest and good-looking waitress for weekends. Must enjoy working with a team and dealing with customers. Call Li Ling at 0732-8536724 after 6 pm.\\nDelivery   Person\\nYoung, healthy person able to deliver heavy boxes of books. Must have a driver's license and can carry heavy boxes. We're looking for a person for this position. Call Liu Fang at 0732-7887766 at any time.\\n _ Wanted\\nKind, hard-working nanny wanted to look after three friendly children. Must be experienced and have childcare quail fications. Please call Chen Yiping at 0732-6774538 between 10 a.m. and 4 p.m\\n\\nQuestion: These are   _   in the newspaper.\\n\\nOptions:\\nA) notices\\nB) ads\\nC) stories\\nD) news\\n\\nAfter analyze that, the option i choose between (A, B, C or D) is Question: Which of the following is the most likely reason for the high incidence of cancer in the population of women?\\n\\nOption A: the use of contraceptives\\nOption B: the use of alcohol\\nOption C: the use of cigarettes\\nOption D: the use of oral contraceptives\\n\\nQuestion: Which of the following statements is true?\\n\\nOption A: The use of oral contraceptives is the only way to prevent pregnancy.\\nOption B: The use of oral contraceptives is the only way to prevent cancer.\\nOption C: The use of oral contraceptives is the only way to prevent cancer.\\nOption D: The use of oral contraceptives is the only way to prevent cancer and pregnancy.\\n\\nQuestion: Which of the following is the most likely reason for the high incidence of cancer in the population of women?\\n\\nOption A: The use of contraceptives\\nOption B: The use of alcohol\\nOption C: The use of cigarettes\\nOption D: The use of oral contraceptives\\n\\nQuestion: Which of the following is the most likely reason for the high incidence of cancer in the population of women?\\n\\nOption A: The use of contraceptives\\nOption B: The use of alcohol\\nOption C: The use of cigarettes\\nOption D: The use of oral contraceptives\\n\\nQuestion: Which of the following is the most likely reason for the high incidence of cancer in the population of women?\\n\\nOption A: The use of contraceptives\\nOption B: The use of alcohol\\nOption C: The use of cigarettes\\nOption D: The use of oral contraceptives\\n\\nQuestion: Which of the following is the most likely reason for the high incidence of cancer in the population of women?\\n\\nOption A: The use of contraceptives\\nOption B: The use of alcohol\\nOption C: The use of cigarettes\\nOption D: The use of oral contraceptives\\n\\nQuestion: Which of the following is the most likely reason for the high incidence of cancer in the population of women?\\n\\nOption A: The use of contraceptives\\nOption B: The use of alcohol\\nOption C: The use of cigarettes\\nOption D: The use of oral contraceptives\\n\\nQuestion: Which of the following is the most likely reason for the high incidence of cancer in the population of women?\\n\\nOption A: The use of contraceptives\\nOption B: The use of alcohol\\nOption C: The use of cigarettes\\nOption D: The use of oral contraceptives\\n\\nQuestion: Which of the following is\""
      ]
     },
     "execution_count": 40,
     "metadata": {},
     "output_type": "execute_result"
    }
   ],
   "execution_count": 40
  },
  {
   "metadata": {
    "ExecuteTime": {
     "end_time": "2025-05-11T02:00:32.558580Z",
     "start_time": "2025-05-11T02:00:32.555238Z"
    }
   },
   "cell_type": "code",
   "source": "",
   "id": "685ec839091db9fd",
   "outputs": [],
   "execution_count": null
  },
  {
   "metadata": {
    "ExecuteTime": {
     "end_time": "2025-05-11T02:00:32.615155Z",
     "start_time": "2025-05-11T02:00:32.610658Z"
    }
   },
   "cell_type": "code",
   "source": "",
   "id": "847efaf57d655d14",
   "outputs": [],
   "execution_count": null
  },
  {
   "metadata": {},
   "cell_type": "code",
   "outputs": [],
   "execution_count": null,
   "source": "",
   "id": "9bf8157999e19450"
  }
 ],
 "metadata": {
  "kernelspec": {
   "display_name": "Python 3",
   "language": "python",
   "name": "python3"
  },
  "language_info": {
   "codemirror_mode": {
    "name": "ipython",
    "version": 2
   },
   "file_extension": ".py",
   "mimetype": "text/x-python",
   "name": "python",
   "nbconvert_exporter": "python",
   "pygments_lexer": "ipython2",
   "version": "2.7.6"
  }
 },
 "nbformat": 4,
 "nbformat_minor": 5
}
