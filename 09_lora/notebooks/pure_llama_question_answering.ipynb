{
 "cells": [
  {
   "cell_type": "code",
   "id": "initial_id",
   "metadata": {
    "collapsed": true,
    "ExecuteTime": {
     "end_time": "2025-05-11T00:41:57.468717Z",
     "start_time": "2025-05-11T00:41:54.895806Z"
    }
   },
   "source": [
    "import torch\n",
    "from attr.validators import max_len\n",
    "\n",
    "from model.llama_3_2 import Llama32\n",
    "from model.llama_3_2_tokenizer import Llama32Tokenizer\n",
    "\n",
    "from data.prompt_dataset import PromptedEhvoy\n",
    "from data.ehovy_race import EhovyRaceDataset\n",
    "from data.tokenized import TokenizedDataset"
   ],
   "outputs": [
    {
     "name": "stderr",
     "output_type": "stream",
     "text": [
      "/home/lmanrique/miniconda3/envs/pytorch/lib/python3.12/site-packages/tqdm/auto.py:21: TqdmWarning: IProgress not found. Please update jupyter and ipywidgets. See https://ipywidgets.readthedocs.io/en/stable/user_install.html\n",
      "  from .autonotebook import tqdm as notebook_tqdm\n"
     ]
    }
   ],
   "execution_count": 1
  },
  {
   "metadata": {
    "ExecuteTime": {
     "end_time": "2025-05-11T00:41:57.476290Z",
     "start_time": "2025-05-11T00:41:57.472999Z"
    }
   },
   "cell_type": "code",
   "source": "model_name = \"meta-llama/Llama-3.2-1B\"",
   "id": "b798c157ccf3bd2",
   "outputs": [],
   "execution_count": 2
  },
  {
   "metadata": {
    "ExecuteTime": {
     "end_time": "2025-05-11T00:41:59.778594Z",
     "start_time": "2025-05-11T00:41:57.590432Z"
    }
   },
   "cell_type": "code",
   "source": [
    "data = EhovyRaceDataset(variation=\"high\", split=\"train\", max_article_size=800)\n",
    "data_prompted = PromptedEhvoy(data)"
   ],
   "id": "60ea8abd8f8269de",
   "outputs": [],
   "execution_count": 3
  },
  {
   "metadata": {
    "ExecuteTime": {
     "end_time": "2025-05-11T00:42:05.754497Z",
     "start_time": "2025-05-11T00:41:59.787835Z"
    }
   },
   "cell_type": "code",
   "source": [
    "tokenizer = Llama32Tokenizer(model_name)\n",
    "model = Llama32(model_name, do_sample=False)"
   ],
   "id": "759a931b510af405",
   "outputs": [
    {
     "name": "stderr",
     "output_type": "stream",
     "text": [
      "2025-05-10 19:42:02.560343: I tensorflow/core/util/port.cc:153] oneDNN custom operations are on. You may see slightly different numerical results due to floating-point round-off errors from different computation orders. To turn them off, set the environment variable `TF_ENABLE_ONEDNN_OPTS=0`.\n",
      "2025-05-10 19:42:02.579951: E external/local_xla/xla/stream_executor/cuda/cuda_fft.cc:467] Unable to register cuFFT factory: Attempting to register factory for plugin cuFFT when one has already been registered\n",
      "WARNING: All log messages before absl::InitializeLog() is called are written to STDERR\n",
      "E0000 00:00:1746924122.601458   25396 cuda_dnn.cc:8579] Unable to register cuDNN factory: Attempting to register factory for plugin cuDNN when one has already been registered\n",
      "E0000 00:00:1746924122.608022   25396 cuda_blas.cc:1407] Unable to register cuBLAS factory: Attempting to register factory for plugin cuBLAS when one has already been registered\n",
      "W0000 00:00:1746924122.625448   25396 computation_placer.cc:177] computation placer already registered. Please check linkage and avoid linking the same target more than once.\n",
      "W0000 00:00:1746924122.625467   25396 computation_placer.cc:177] computation placer already registered. Please check linkage and avoid linking the same target more than once.\n",
      "W0000 00:00:1746924122.625469   25396 computation_placer.cc:177] computation placer already registered. Please check linkage and avoid linking the same target more than once.\n",
      "W0000 00:00:1746924122.625471   25396 computation_placer.cc:177] computation placer already registered. Please check linkage and avoid linking the same target more than once.\n",
      "2025-05-10 19:42:02.631262: I tensorflow/core/platform/cpu_feature_guard.cc:210] This TensorFlow binary is optimized to use available CPU instructions in performance-critical operations.\n",
      "To enable the following instructions: AVX2 AVX_VNNI FMA, in other operations, rebuild TensorFlow with the appropriate compiler flags.\n"
     ]
    }
   ],
   "execution_count": 4
  },
  {
   "metadata": {
    "ExecuteTime": {
     "end_time": "2025-05-11T00:42:05.769979Z",
     "start_time": "2025-05-11T00:42:05.766013Z"
    }
   },
   "cell_type": "code",
   "source": "x, y = data_prompted[100]",
   "id": "471635d632206da4",
   "outputs": [],
   "execution_count": 5
  },
  {
   "metadata": {
    "ExecuteTime": {
     "end_time": "2025-05-11T00:42:05.822503Z",
     "start_time": "2025-05-11T00:42:05.813385Z"
    }
   },
   "cell_type": "code",
   "source": "x, y",
   "id": "5129d987f80c2350",
   "outputs": [
    {
     "data": {
      "text/plain": [
       "(\"On May 23,1989, Stefania Follini came out from a cave at Carlsbad , New Mexico.She hadn't seen the sun for eighteen and a half weeks .Stefania was in a research program, and the scientists in the program were studying body rhythms  . In this experiment Stefania had spent 130 days in a cave ,30 feet in depth.\\nDuring her time in the cave, Stefania had been completely alone except for two white mice.Her living place had been very comfortable ,but there had been nothing to feel her the time .She'd had no clock or watches , no television or radio.There had been no natural light and the temperature had always been kept at 21degC\\n\\nStefania stayed in the cave for a long time because  _  .\\n\\nA) she was asked to do research on mice\\nB) she wanted to experience loneliness\\nC) she was the subject of a study\\nD) she needed to record her life\\n\\nAnswer:\",\n",
       " 'C')"
      ]
     },
     "execution_count": 6,
     "metadata": {},
     "output_type": "execute_result"
    }
   ],
   "execution_count": 6
  },
  {
   "metadata": {
    "ExecuteTime": {
     "end_time": "2025-05-11T00:42:05.874785Z",
     "start_time": "2025-05-11T00:42:05.869073Z"
    }
   },
   "cell_type": "code",
   "source": "x_tokenized = tokenizer(x, padding=\"max_length\", truncation=True, return_tensors=\"pt\", max_length=512)",
   "id": "6cab33ce3aee3938",
   "outputs": [],
   "execution_count": 7
  },
  {
   "metadata": {
    "ExecuteTime": {
     "end_time": "2025-05-11T00:42:05.925602Z",
     "start_time": "2025-05-11T00:42:05.919339Z"
    }
   },
   "cell_type": "code",
   "source": "len(x_tokenized[\"input_ids\"][0])",
   "id": "180a0df466241472",
   "outputs": [
    {
     "data": {
      "text/plain": [
       "512"
      ]
     },
     "execution_count": 8,
     "metadata": {},
     "output_type": "execute_result"
    }
   ],
   "execution_count": 8
  },
  {
   "metadata": {
    "ExecuteTime": {
     "end_time": "2025-05-11T00:42:05.974933Z",
     "start_time": "2025-05-11T00:42:05.971236Z"
    }
   },
   "cell_type": "code",
   "source": "import torch",
   "id": "b489dff9f57b81e6",
   "outputs": [],
   "execution_count": 9
  },
  {
   "metadata": {
    "ExecuteTime": {
     "end_time": "2025-05-11T00:42:06.448532Z",
     "start_time": "2025-05-11T00:42:06.023330Z"
    }
   },
   "cell_type": "code",
   "source": [
    "prediction_logits = model(\n",
    "    input_ids=x_tokenized[\"input_ids\"],\n",
    "    attention_mask=x_tokenized[\"attention_mask\"],\n",
    ")"
   ],
   "id": "4c935d091e28ade3",
   "outputs": [],
   "execution_count": 10
  },
  {
   "metadata": {
    "ExecuteTime": {
     "end_time": "2025-05-11T00:42:06.546933Z",
     "start_time": "2025-05-11T00:42:06.541575Z"
    }
   },
   "cell_type": "code",
   "source": [
    "tokens = [\"A\", \"B\", \"C\", \"D\"]\n",
    "token_ids = []\n",
    "for token in tokens:\n",
    "    token_id = tokenizer.tokenizer.convert_tokens_to_ids(token)\n",
    "    token_ids.append(token_id)\n",
    "\n",
    "token_ids\n",
    "# Note: Add space before letter to match normal word tokenization behavior"
   ],
   "id": "daa4946d1c426a33",
   "outputs": [
    {
     "data": {
      "text/plain": [
       "[32, 33, 34, 35]"
      ]
     },
     "execution_count": 11,
     "metadata": {},
     "output_type": "execute_result"
    }
   ],
   "execution_count": 11
  },
  {
   "metadata": {
    "ExecuteTime": {
     "end_time": "2025-05-11T00:42:06.601069Z",
     "start_time": "2025-05-11T00:42:06.574651Z"
    }
   },
   "cell_type": "code",
   "source": "probs = torch.nn.functional.softmax(prediction_logits[0, -1, token_ids], dim=-1)",
   "id": "467e8f343d72bcd5",
   "outputs": [],
   "execution_count": 12
  },
  {
   "metadata": {
    "ExecuteTime": {
     "end_time": "2025-05-11T00:42:06.637603Z",
     "start_time": "2025-05-11T00:42:06.629148Z"
    }
   },
   "cell_type": "code",
   "source": "probs",
   "id": "59fcdaff7cf1793a",
   "outputs": [
    {
     "data": {
      "text/plain": [
       "tensor([0.0081, 0.0121, 0.5054, 0.4746], device='cuda:0', dtype=torch.float16,\n",
       "       grad_fn=<SoftmaxBackward0>)"
      ]
     },
     "execution_count": 13,
     "metadata": {},
     "output_type": "execute_result"
    }
   ],
   "execution_count": 13
  },
  {
   "metadata": {
    "ExecuteTime": {
     "end_time": "2025-05-11T00:42:06.753610Z",
     "start_time": "2025-05-11T00:42:06.739821Z"
    }
   },
   "cell_type": "code",
   "source": [
    "predicted_token_id = torch.argmax(prediction_logits[0, -1, token_ids])\n",
    "tokens[predicted_token_id]"
   ],
   "id": "24d6b0bf21f564b3",
   "outputs": [
    {
     "data": {
      "text/plain": [
       "'C'"
      ]
     },
     "execution_count": 14,
     "metadata": {},
     "output_type": "execute_result"
    }
   ],
   "execution_count": 14
  },
  {
   "metadata": {
    "ExecuteTime": {
     "end_time": "2025-05-11T00:42:06.877398Z",
     "start_time": "2025-05-11T00:42:06.873824Z"
    }
   },
   "cell_type": "code",
   "source": "",
   "id": "e2810e55afb2d498",
   "outputs": [],
   "execution_count": null
  }
 ],
 "metadata": {
  "kernelspec": {
   "display_name": "Python 3",
   "language": "python",
   "name": "python3"
  },
  "language_info": {
   "codemirror_mode": {
    "name": "ipython",
    "version": 2
   },
   "file_extension": ".py",
   "mimetype": "text/x-python",
   "name": "python",
   "nbconvert_exporter": "python",
   "pygments_lexer": "ipython2",
   "version": "2.7.6"
  }
 },
 "nbformat": 4,
 "nbformat_minor": 5
}
