{
 "cells": [
  {
   "cell_type": "code",
   "id": "c9a8ccbb-214c-42b9-bf49-4cbad4b9b700",
   "metadata": {
    "ExecuteTime": {
     "end_time": "2025-05-12T00:27:00.033564Z",
     "start_time": "2025-05-12T00:26:56.122349Z"
    }
   },
   "source": [
    "import torch\n",
    "from transformers import (\n",
    "    AutoTokenizer,\n",
    "    AutoModelForCausalLM,\n",
    "    get_scheduler,\n",
    "    DataCollatorForLanguageModeling,\n",
    "    DataCollatorWithPadding\n",
    ")\n",
    "from torch.utils.data import DataLoader\n",
    "from torch.optim import AdamW\n",
    "from tqdm import tqdm\n",
    "import random\n",
    "import numpy as np\n",
    "from huggingface_hub import login\n",
    "from datasets import load_dataset, DatasetDict\n",
    "import os\n",
    "\n",
    "login(token=\"<<token here>>\")"
   ],
   "outputs": [
    {
     "name": "stderr",
     "output_type": "stream",
     "text": [
      "/home/ubuntu/miniconda3/envs/main/lib/python3.10/site-packages/tqdm/auto.py:21: TqdmWarning: IProgress not found. Please update jupyter and ipywidgets. See https://ipywidgets.readthedocs.io/en/stable/user_install.html\n",
      "  from .autonotebook import tqdm as notebook_tqdm\n"
     ]
    }
   ],
   "execution_count": 1
  },
  {
   "cell_type": "code",
   "id": "094a90c9-0468-4b45-b60f-215656688e2f",
   "metadata": {
    "ExecuteTime": {
     "end_time": "2025-05-12T00:27:00.053905Z",
     "start_time": "2025-05-12T00:27:00.049547Z"
    }
   },
   "source": [
    "MAX_ARTICLE_CHAR_LENGTH = 800\n",
    "MAX_TOKEN_LENGTH = 512\n",
    "BATCH_SIZE = 1\n",
    "LEARNING_RATE = 2e-5\n",
    "NUM_EPOCHS = 2\n",
    "OUTPUT_DIR = \"./llama_race_finetuned_streamlined\"\n",
    "\n",
    "MODEL_NAME = \"meta-llama/Llama-3.2-1B\""
   ],
   "outputs": [],
   "execution_count": 2
  },
  {
   "cell_type": "code",
   "id": "244a2e9e-c188-4f0f-ac94-39696e374c9b",
   "metadata": {
    "ExecuteTime": {
     "end_time": "2025-05-12T00:27:00.431026Z",
     "start_time": "2025-05-12T00:27:00.168973Z"
    }
   },
   "source": [
    "device = torch.device(\"cuda\" if torch.cuda.is_available() else \"cpu\")\n",
    "#os.makedirs(OUTPUT_DIR, exist_ok=True)"
   ],
   "outputs": [],
   "execution_count": 3
  },
  {
   "cell_type": "code",
   "id": "f337ba36-848a-4bcb-bbd5-d82e2018ec36",
   "metadata": {
    "ExecuteTime": {
     "end_time": "2025-05-12T00:27:01.058505Z",
     "start_time": "2025-05-12T00:27:00.446666Z"
    }
   },
   "source": [
    "tokenizer = AutoTokenizer.from_pretrained(MODEL_NAME, trust_remote_code=True)\n",
    "if tokenizer.pad_token is None:\n",
    "    tokenizer.pad_token = tokenizer.eos_token "
   ],
   "outputs": [],
   "execution_count": 4
  },
  {
   "cell_type": "code",
   "id": "06dd8d68-caa5-4fe4-bfd3-4e201a5fa1d3",
   "metadata": {
    "ExecuteTime": {
     "end_time": "2025-05-12T00:27:04.422717Z",
     "start_time": "2025-05-12T00:27:01.090127Z"
    }
   },
   "source": [
    "# --- 4. Cargar y Preparar Datos ---\n",
    "ds_full = load_dataset(\"ehovy/race\", \"high\", trust_remote_code=True)\n",
    "\n",
    "def transform_and_tokenize_example(example):\n",
    "    options_str = \"\\n\".join([f\"{chr(65+i)}) {opt}\" for i, opt in enumerate(example['options'])])\n",
    "    prompt_text = (\n",
    "        f\"Context: {example['article']}\\n\\n\"\n",
    "        f\"Question: {example['question']}\\n\\n\"\n",
    "        f\"Options:\\n{options_str}\\n\\n\"\n",
    "        f\"Answer: {example['answer']}\"\n",
    "    )\n",
    "    tokenized = tokenizer(\n",
    "        prompt_text,\n",
    "        truncation=True,\n",
    "        max_length=MAX_TOKEN_LENGTH, \n",
    "        padding=\"max_length\"\n",
    "    )\n",
    "    tokenized[\"labels\"] = tokenized[\"input_ids\"].copy()\n",
    "    return tokenized\n",
    "\n",
    "processed_ds = DatasetDict()\n",
    "for split, data in ds_full.items():\n",
    "    filtered_data = data.filter(\n",
    "        lambda example: len(example['article']) < MAX_ARTICLE_CHAR_LENGTH,\n",
    "        desc=f\"Filtrando artículos en {split}\"\n",
    "    )\n",
    "\n",
    "    mapped_data = filtered_data.map(\n",
    "        transform_and_tokenize_example,\n",
    "        batched=False,\n",
    "        remove_columns=filtered_data.column_names,\n",
    "        desc=f\"Tokenizando {split}\"\n",
    "    )\n",
    "    processed_ds[split] = mapped_data\n",
    "    processed_ds[split].set_format(type='torch', columns=['input_ids', 'attention_mask', 'labels'])"
   ],
   "outputs": [
    {
     "name": "stderr",
     "output_type": "stream",
     "text": [
      "Filtrando artículos en test: 100%|██████████| 3498/3498 [00:00<00:00, 48424.57 examples/s]\n",
      "Tokenizando test: 100%|██████████| 56/56 [00:00<00:00, 1004.06 examples/s]\n",
      "Filtrando artículos en train: 100%|██████████| 62445/62445 [00:01<00:00, 53880.26 examples/s]\n",
      "Tokenizando train: 100%|██████████| 803/803 [00:00<00:00, 1175.04 examples/s]\n",
      "Filtrando artículos en validation: 100%|██████████| 3451/3451 [00:00<00:00, 50454.34 examples/s]\n",
      "Tokenizando validation: 100%|██████████| 34/34 [00:00<00:00, 1017.43 examples/s]\n"
     ]
    }
   ],
   "execution_count": 5
  },
  {
   "metadata": {
    "ExecuteTime": {
     "end_time": "2025-05-12T00:36:26.469225Z",
     "start_time": "2025-05-12T00:36:26.459442Z"
    }
   },
   "cell_type": "code",
   "source": "print(processed_ds[\"train\"][0])",
   "id": "7abbd4ba30bab962",
   "outputs": [
    {
     "name": "stdout",
     "output_type": "stream",
     "text": [
      "{'input_ids': tensor([128000,   2014,     25,    578,   3805,   3552,    434,    256,    574,\n",
      "           304,    264,   2678,   9979,    520,    279,   1203,    315,    279,\n",
      "         11277,     11,  20646,    279,  25485,    369,  16163,     11,    994,\n",
      "           264,   2697,   2362,  17240,   3782,    323,  12570,    311,   1077,\n",
      "            11,    330,  13191,    499,   4587,   3371,    757,   1359,   1364,\n",
      "          4691,     11,    330,   2940,    374,    279,  23628,      6,  30583,\n",
      "          5382,    256,    304,    279,  11277,  48469,  58841,     11,  13088,\n",
      "           309,   1359,   1071,    279,   3805,   3552,    434,    323,  31645,\n",
      "            13,    330,   2181,    374,   1314,    520,    279,   1023,    842,\n",
      "           315,    279,  11277,   4521,    266,    279,   4156,  10246,    791,\n",
      "          2697,  17240,   4024,   2288,   3117,     13,   3005,  15203,    682,\n",
      "           279,   1648,    311,    279,   4156,    315,    279,  11277,     11,\n",
      "          9107,    279,   6134,    304,   4156,    315,   1077,     11,    323,\n",
      "          5602,    279,  24862,    315,    279,  11277,    323,    279,   1023,\n",
      "          9808,     13,   2435,   1051,    682,  13326,    449,    872,    990,\n",
      "           323,   1550,    539,   1518,   1077,     13,   3005,   4024,    704,\n",
      "          1578,     11,   9495,    279,   6134,    323,   6052,    311,    279,\n",
      "          3805,   3552,    434,    627,  55005,     11,   3287,    956,    499,\n",
      "          1505,    433,     11,  13088,    309,   7673,    279,   3828,   4691,\n",
      "          1077,     13,    330,   9642,     11,    358,   1550,   1359,   1071,\n",
      "           279,   2697,  17240,     13,    330,   4071,   1070,    527,   3116,\n",
      "          3026,    304,    279,  23628,      6,  30583,   5382,  10307,  12707,\n",
      "          2266,  14924,     25,    578,   3446,   7077,    220,    721,    220,\n",
      "          6905,   3883,    512,     32,      8,    304,    279,  11714,    198,\n",
      "            33,      8,    304,    279,  13658,    198,     34,      8,    304,\n",
      "           279,   6693,    198,     35,      8,    520,  33433,    271,  16533,\n",
      "            25,    356, 128001, 128001, 128001, 128001, 128001, 128001, 128001,\n",
      "        128001, 128001, 128001, 128001, 128001, 128001, 128001, 128001, 128001,\n",
      "        128001, 128001, 128001, 128001, 128001, 128001, 128001, 128001, 128001,\n",
      "        128001, 128001, 128001, 128001, 128001, 128001, 128001, 128001, 128001,\n",
      "        128001, 128001, 128001, 128001, 128001, 128001, 128001, 128001, 128001,\n",
      "        128001, 128001, 128001, 128001, 128001, 128001, 128001, 128001, 128001,\n",
      "        128001, 128001, 128001, 128001, 128001, 128001, 128001, 128001, 128001,\n",
      "        128001, 128001, 128001, 128001, 128001, 128001, 128001, 128001, 128001,\n",
      "        128001, 128001, 128001, 128001, 128001, 128001, 128001, 128001, 128001,\n",
      "        128001, 128001, 128001, 128001, 128001, 128001, 128001, 128001, 128001,\n",
      "        128001, 128001, 128001, 128001, 128001, 128001, 128001, 128001, 128001,\n",
      "        128001, 128001, 128001, 128001, 128001, 128001, 128001, 128001, 128001,\n",
      "        128001, 128001, 128001, 128001, 128001, 128001, 128001, 128001, 128001,\n",
      "        128001, 128001, 128001, 128001, 128001, 128001, 128001, 128001, 128001,\n",
      "        128001, 128001, 128001, 128001, 128001, 128001, 128001, 128001, 128001,\n",
      "        128001, 128001, 128001, 128001, 128001, 128001, 128001, 128001, 128001,\n",
      "        128001, 128001, 128001, 128001, 128001, 128001, 128001, 128001, 128001,\n",
      "        128001, 128001, 128001, 128001, 128001, 128001, 128001, 128001, 128001,\n",
      "        128001, 128001, 128001, 128001, 128001, 128001, 128001, 128001, 128001,\n",
      "        128001, 128001, 128001, 128001, 128001, 128001, 128001, 128001, 128001,\n",
      "        128001, 128001, 128001, 128001, 128001, 128001, 128001, 128001, 128001,\n",
      "        128001, 128001, 128001, 128001, 128001, 128001, 128001, 128001, 128001,\n",
      "        128001, 128001, 128001, 128001, 128001, 128001, 128001, 128001, 128001,\n",
      "        128001, 128001, 128001, 128001, 128001, 128001, 128001, 128001, 128001,\n",
      "        128001, 128001, 128001, 128001, 128001, 128001, 128001, 128001, 128001,\n",
      "        128001, 128001, 128001, 128001, 128001, 128001, 128001, 128001, 128001,\n",
      "        128001, 128001, 128001, 128001, 128001, 128001, 128001, 128001, 128001,\n",
      "        128001, 128001, 128001, 128001, 128001, 128001, 128001, 128001, 128001,\n",
      "        128001, 128001, 128001, 128001, 128001, 128001, 128001, 128001, 128001,\n",
      "        128001, 128001, 128001, 128001, 128001, 128001, 128001, 128001, 128001,\n",
      "        128001, 128001, 128001, 128001, 128001, 128001, 128001, 128001]), 'attention_mask': tensor([1, 1, 1, 1, 1, 1, 1, 1, 1, 1, 1, 1, 1, 1, 1, 1, 1, 1, 1, 1, 1, 1, 1, 1,\n",
      "        1, 1, 1, 1, 1, 1, 1, 1, 1, 1, 1, 1, 1, 1, 1, 1, 1, 1, 1, 1, 1, 1, 1, 1,\n",
      "        1, 1, 1, 1, 1, 1, 1, 1, 1, 1, 1, 1, 1, 1, 1, 1, 1, 1, 1, 1, 1, 1, 1, 1,\n",
      "        1, 1, 1, 1, 1, 1, 1, 1, 1, 1, 1, 1, 1, 1, 1, 1, 1, 1, 1, 1, 1, 1, 1, 1,\n",
      "        1, 1, 1, 1, 1, 1, 1, 1, 1, 1, 1, 1, 1, 1, 1, 1, 1, 1, 1, 1, 1, 1, 1, 1,\n",
      "        1, 1, 1, 1, 1, 1, 1, 1, 1, 1, 1, 1, 1, 1, 1, 1, 1, 1, 1, 1, 1, 1, 1, 1,\n",
      "        1, 1, 1, 1, 1, 1, 1, 1, 1, 1, 1, 1, 1, 1, 1, 1, 1, 1, 1, 1, 1, 1, 1, 1,\n",
      "        1, 1, 1, 1, 1, 1, 1, 1, 1, 1, 1, 1, 1, 1, 1, 1, 1, 1, 1, 1, 1, 1, 1, 1,\n",
      "        1, 1, 1, 1, 1, 1, 1, 1, 1, 1, 1, 1, 1, 1, 1, 1, 1, 1, 1, 1, 1, 1, 1, 1,\n",
      "        1, 1, 1, 1, 1, 1, 1, 1, 1, 1, 1, 1, 1, 1, 1, 1, 1, 1, 1, 1, 0, 0, 0, 0,\n",
      "        0, 0, 0, 0, 0, 0, 0, 0, 0, 0, 0, 0, 0, 0, 0, 0, 0, 0, 0, 0, 0, 0, 0, 0,\n",
      "        0, 0, 0, 0, 0, 0, 0, 0, 0, 0, 0, 0, 0, 0, 0, 0, 0, 0, 0, 0, 0, 0, 0, 0,\n",
      "        0, 0, 0, 0, 0, 0, 0, 0, 0, 0, 0, 0, 0, 0, 0, 0, 0, 0, 0, 0, 0, 0, 0, 0,\n",
      "        0, 0, 0, 0, 0, 0, 0, 0, 0, 0, 0, 0, 0, 0, 0, 0, 0, 0, 0, 0, 0, 0, 0, 0,\n",
      "        0, 0, 0, 0, 0, 0, 0, 0, 0, 0, 0, 0, 0, 0, 0, 0, 0, 0, 0, 0, 0, 0, 0, 0,\n",
      "        0, 0, 0, 0, 0, 0, 0, 0, 0, 0, 0, 0, 0, 0, 0, 0, 0, 0, 0, 0, 0, 0, 0, 0,\n",
      "        0, 0, 0, 0, 0, 0, 0, 0, 0, 0, 0, 0, 0, 0, 0, 0, 0, 0, 0, 0, 0, 0, 0, 0,\n",
      "        0, 0, 0, 0, 0, 0, 0, 0, 0, 0, 0, 0, 0, 0, 0, 0, 0, 0, 0, 0, 0, 0, 0, 0,\n",
      "        0, 0, 0, 0, 0, 0, 0, 0, 0, 0, 0, 0, 0, 0, 0, 0, 0, 0, 0, 0, 0, 0, 0, 0,\n",
      "        0, 0, 0, 0, 0, 0, 0, 0, 0, 0, 0, 0, 0, 0, 0, 0, 0, 0, 0, 0, 0, 0, 0, 0,\n",
      "        0, 0, 0, 0, 0, 0, 0, 0, 0, 0, 0, 0, 0, 0, 0, 0, 0, 0, 0, 0, 0, 0, 0, 0,\n",
      "        0, 0, 0, 0, 0, 0, 0, 0]), 'labels': tensor([128000,   2014,     25,    578,   3805,   3552,    434,    256,    574,\n",
      "           304,    264,   2678,   9979,    520,    279,   1203,    315,    279,\n",
      "         11277,     11,  20646,    279,  25485,    369,  16163,     11,    994,\n",
      "           264,   2697,   2362,  17240,   3782,    323,  12570,    311,   1077,\n",
      "            11,    330,  13191,    499,   4587,   3371,    757,   1359,   1364,\n",
      "          4691,     11,    330,   2940,    374,    279,  23628,      6,  30583,\n",
      "          5382,    256,    304,    279,  11277,  48469,  58841,     11,  13088,\n",
      "           309,   1359,   1071,    279,   3805,   3552,    434,    323,  31645,\n",
      "            13,    330,   2181,    374,   1314,    520,    279,   1023,    842,\n",
      "           315,    279,  11277,   4521,    266,    279,   4156,  10246,    791,\n",
      "          2697,  17240,   4024,   2288,   3117,     13,   3005,  15203,    682,\n",
      "           279,   1648,    311,    279,   4156,    315,    279,  11277,     11,\n",
      "          9107,    279,   6134,    304,   4156,    315,   1077,     11,    323,\n",
      "          5602,    279,  24862,    315,    279,  11277,    323,    279,   1023,\n",
      "          9808,     13,   2435,   1051,    682,  13326,    449,    872,    990,\n",
      "           323,   1550,    539,   1518,   1077,     13,   3005,   4024,    704,\n",
      "          1578,     11,   9495,    279,   6134,    323,   6052,    311,    279,\n",
      "          3805,   3552,    434,    627,  55005,     11,   3287,    956,    499,\n",
      "          1505,    433,     11,  13088,    309,   7673,    279,   3828,   4691,\n",
      "          1077,     13,    330,   9642,     11,    358,   1550,   1359,   1071,\n",
      "           279,   2697,  17240,     13,    330,   4071,   1070,    527,   3116,\n",
      "          3026,    304,    279,  23628,      6,  30583,   5382,  10307,  12707,\n",
      "          2266,  14924,     25,    578,   3446,   7077,    220,    721,    220,\n",
      "          6905,   3883,    512,     32,      8,    304,    279,  11714,    198,\n",
      "            33,      8,    304,    279,  13658,    198,     34,      8,    304,\n",
      "           279,   6693,    198,     35,      8,    520,  33433,    271,  16533,\n",
      "            25,    356, 128001, 128001, 128001, 128001, 128001, 128001, 128001,\n",
      "        128001, 128001, 128001, 128001, 128001, 128001, 128001, 128001, 128001,\n",
      "        128001, 128001, 128001, 128001, 128001, 128001, 128001, 128001, 128001,\n",
      "        128001, 128001, 128001, 128001, 128001, 128001, 128001, 128001, 128001,\n",
      "        128001, 128001, 128001, 128001, 128001, 128001, 128001, 128001, 128001,\n",
      "        128001, 128001, 128001, 128001, 128001, 128001, 128001, 128001, 128001,\n",
      "        128001, 128001, 128001, 128001, 128001, 128001, 128001, 128001, 128001,\n",
      "        128001, 128001, 128001, 128001, 128001, 128001, 128001, 128001, 128001,\n",
      "        128001, 128001, 128001, 128001, 128001, 128001, 128001, 128001, 128001,\n",
      "        128001, 128001, 128001, 128001, 128001, 128001, 128001, 128001, 128001,\n",
      "        128001, 128001, 128001, 128001, 128001, 128001, 128001, 128001, 128001,\n",
      "        128001, 128001, 128001, 128001, 128001, 128001, 128001, 128001, 128001,\n",
      "        128001, 128001, 128001, 128001, 128001, 128001, 128001, 128001, 128001,\n",
      "        128001, 128001, 128001, 128001, 128001, 128001, 128001, 128001, 128001,\n",
      "        128001, 128001, 128001, 128001, 128001, 128001, 128001, 128001, 128001,\n",
      "        128001, 128001, 128001, 128001, 128001, 128001, 128001, 128001, 128001,\n",
      "        128001, 128001, 128001, 128001, 128001, 128001, 128001, 128001, 128001,\n",
      "        128001, 128001, 128001, 128001, 128001, 128001, 128001, 128001, 128001,\n",
      "        128001, 128001, 128001, 128001, 128001, 128001, 128001, 128001, 128001,\n",
      "        128001, 128001, 128001, 128001, 128001, 128001, 128001, 128001, 128001,\n",
      "        128001, 128001, 128001, 128001, 128001, 128001, 128001, 128001, 128001,\n",
      "        128001, 128001, 128001, 128001, 128001, 128001, 128001, 128001, 128001,\n",
      "        128001, 128001, 128001, 128001, 128001, 128001, 128001, 128001, 128001,\n",
      "        128001, 128001, 128001, 128001, 128001, 128001, 128001, 128001, 128001,\n",
      "        128001, 128001, 128001, 128001, 128001, 128001, 128001, 128001, 128001,\n",
      "        128001, 128001, 128001, 128001, 128001, 128001, 128001, 128001, 128001,\n",
      "        128001, 128001, 128001, 128001, 128001, 128001, 128001, 128001, 128001,\n",
      "        128001, 128001, 128001, 128001, 128001, 128001, 128001, 128001, 128001,\n",
      "        128001, 128001, 128001, 128001, 128001, 128001, 128001, 128001, 128001,\n",
      "        128001, 128001, 128001, 128001, 128001, 128001, 128001, 128001, 128001,\n",
      "        128001, 128001, 128001, 128001, 128001, 128001, 128001, 128001])}\n"
     ]
    }
   ],
   "execution_count": 14
  },
  {
   "metadata": {},
   "cell_type": "code",
   "outputs": [],
   "execution_count": null,
   "source": [
    "\n",
    "data_collator = DataCollatorForLanguageModeling(tokenizer=tokenizer, mlm=False)\n",
    "\n",
    "train_dataloader = DataLoader(\n",
    "    processed_ds.get(\"train\"),\n",
    "    shuffle=True,\n",
    "    batch_size=BATCH_SIZE,\n",
    "    collate_fn=data_collator\n",
    ")\n",
    "\n",
    "eval_dataloader = DataLoader(\n",
    "    processed_ds.get(\"validation\"),\n",
    "    batch_size=BATCH_SIZE,\n",
    "    collate_fn=data_collator\n",
    ")"
   ],
   "id": "313c95d4370be43d"
  },
  {
   "cell_type": "code",
   "id": "84ca6e26-bc14-4d9a-889f-2c35ed6bc1be",
   "metadata": {
    "ExecuteTime": {
     "end_time": "2025-05-12T00:27:04.458875Z",
     "start_time": "2025-05-12T00:27:04.453292Z"
    }
   },
   "source": [
    "import math\n",
    "\n",
    "class LoraLinear(torch.nn.Module):\n",
    "    def __init__(self, linear_layer, alpha = 1, r = 1):\n",
    "        super().__init__()\n",
    "        self.linear_layer = linear_layer.to(torch.float32) # Se cambia el tipo de la capa a float32 para evitar errores durante el entrenamiento\n",
    "        self.r = r\n",
    "        fan_in = self.linear_layer.in_features\n",
    "        fan_out = self.linear_layer.out_features\n",
    "        self.lora_A = torch.nn.Parameter(torch.zeros((fan_in, r), device=model.device))\n",
    "        self.lora_B = torch.nn.Parameter(torch.zeros((r, fan_out), device=model.device))\n",
    "        torch.nn.init.kaiming_uniform_(self.lora_A, a=math.sqrt(5))\n",
    "        self.linear_layer.weight.requires_grad = False\n",
    "\n",
    "    def train(self, mode=True):\n",
    "        self.training = mode\n",
    "        if not mode:\n",
    "            self.merged_weight = (self.linear_layer.weight.transpose(0,1) + self.lora_A @ self.lora_B).to(torch.float16) # Se cambia el tipo de la matriz a float16\n",
    "\n",
    "    def forward(self, x):\n",
    "        if self.training:\n",
    "            x = x.to(torch.float32)\n",
    "            output = self.linear_layer(x)\n",
    "            output += x @ self.lora_A @ self.lora_B\n",
    "            output = output.to(torch.float16)\n",
    "        else:\n",
    "            output = x @ self.merged_weight\n",
    "        return output"
   ],
   "outputs": [],
   "execution_count": 6
  },
  {
   "cell_type": "code",
   "id": "6455fccf-56dc-4ded-8de7-9da99f413e3f",
   "metadata": {
    "ExecuteTime": {
     "end_time": "2025-05-12T00:27:05.640406Z",
     "start_time": "2025-05-12T00:27:04.523077Z"
    }
   },
   "source": [
    "model = AutoModelForCausalLM.from_pretrained(\n",
    "    MODEL_NAME,\n",
    "    torch_dtype=torch.float16,\n",
    "    trust_remote_code=True\n",
    ")"
   ],
   "outputs": [],
   "execution_count": 7
  },
  {
   "cell_type": "code",
   "id": "0a2912ce-0685-40ef-b1ae-52d1daa6fb59",
   "metadata": {
    "ExecuteTime": {
     "end_time": "2025-05-12T00:27:05.678457Z",
     "start_time": "2025-05-12T00:27:05.675512Z"
    }
   },
   "source": [
    "for param in model.parameters():\n",
    "    param.requires_grad = False"
   ],
   "outputs": [],
   "execution_count": 8
  },
  {
   "cell_type": "code",
   "id": "2949314f-6114-45e6-8afe-c1b04549c513",
   "metadata": {
    "ExecuteTime": {
     "end_time": "2025-05-12T00:27:05.864849Z",
     "start_time": "2025-05-12T00:27:05.746985Z"
    }
   },
   "source": [
    "# Reemplazamos las capas lineales del mecanismo de atención por capas LoRA\n",
    "for layer in model.model.layers:\n",
    "    if hasattr(layer, 'self_attn'):\n",
    "        layer.self_attn.q_proj = LoraLinear(layer.self_attn.q_proj, r=16)\n",
    "        layer.self_attn.k_proj = LoraLinear(layer.self_attn.k_proj, r=16)\n",
    "        layer.self_attn.v_proj = LoraLinear(layer.self_attn.v_proj, r=16)\n",
    "        layer.self_attn.o_proj = LoraLinear(layer.self_attn.o_proj, r=16)"
   ],
   "outputs": [],
   "execution_count": 9
  },
  {
   "cell_type": "code",
   "id": "83e797c5-58f3-455a-b6d1-ae0e9e59b75c",
   "metadata": {
    "ExecuteTime": {
     "end_time": "2025-05-12T00:27:05.901902Z",
     "start_time": "2025-05-12T00:27:05.897488Z"
    }
   },
   "source": [
    "params_without_lora = 0\n",
    "params_with_lora = 0\n",
    "for name, param in model.named_parameters():\n",
    "    if 'self_attn' in name and 'linear_layer' in name:\n",
    "        params_without_lora += param.numel()\n",
    "    if param.requires_grad:\n",
    "        params_with_lora += param.numel()\n",
    "    \n",
    "print(f'Parámetros sin LoRA: {params_without_lora:,} || Parámetros con LoRA: {params_with_lora:,} || Porcentaje de parámetros con LoRA: {100 * params_with_lora / (params_without_lora + params_with_lora):.2f}%')"
   ],
   "outputs": [
    {
     "name": "stdout",
     "output_type": "stream",
     "text": [
      "Parámetros sin LoRA: 167,772,160 || Parámetros con LoRA: 3,407,872 || Porcentaje de parámetros con LoRA: 1.99%\n"
     ]
    }
   ],
   "execution_count": 10
  },
  {
   "cell_type": "code",
   "id": "c7b7dfd1-3639-4311-bd39-d9979ee50b3f",
   "metadata": {
    "ExecuteTime": {
     "end_time": "2025-05-12T00:27:06.612361Z",
     "start_time": "2025-05-12T00:27:05.969058Z"
    }
   },
   "source": [
    "model.config.pad_token_id = tokenizer.pad_token_id\n",
    "model.to(device)\n",
    "\n",
    "optimizer = AdamW(model.parameters(), lr=LEARNING_RATE)"
   ],
   "outputs": [],
   "execution_count": 11
  },
  {
   "cell_type": "code",
   "id": "31c6e642-bcf9-41b5-99f5-205a2b9d0781",
   "metadata": {
    "scrolled": true,
    "ExecuteTime": {
     "end_time": "2025-05-12T00:27:28.198204Z",
     "start_time": "2025-05-12T00:27:06.690436Z"
    }
   },
   "source": [
    "print(\"Iniciando entrenamiento...\")\n",
    "num_training_steps = NUM_EPOCHS * len(train_dataloader)\n",
    "progress_bar = tqdm(range(num_training_steps))\n",
    "\n",
    "for epoch in range(NUM_EPOCHS):\n",
    "    model.train()\n",
    "    total_train_loss = 0\n",
    "    print(f\"\\n--- Época {epoch + 1}/{NUM_EPOCHS} ---\")\n",
    "\n",
    "    for batch_idx, batch in enumerate(train_dataloader):\n",
    "        batch = {k: v.to(device) for k, v in batch.items()}\n",
    "        outputs = model(**batch)\n",
    "        loss = outputs.loss\n",
    "        loss.backward()\n",
    "        optimizer.step()\n",
    "        optimizer.zero_grad()\n",
    "        total_train_loss += loss.item()\n",
    "        progress_bar.update(1)\n",
    "        progress_bar.set_description(f\"Época {epoch+1}, Batch {batch_idx+1}, Loss: {loss.item():.4f}\")\n",
    "\n",
    "    avg_train_loss = total_train_loss / len(train_dataloader)\n",
    "    print(f\"Fin de Época {epoch + 1}: Pérdida de Entrenamiento Promedio = {avg_train_loss:.4f}\")\n",
    "\n",
    "    model.eval()\n",
    "    total_eval_loss = 0\n",
    "    print(f\"\\nEvaluando al final de la época {epoch + 1}...\")\n",
    "    with torch.no_grad():\n",
    "        for eval_batch in tqdm(eval_dataloader, desc=\"Evaluación\"):\n",
    "            eval_batch = {k: v.to(device) for k, v in eval_batch.items()}\n",
    "            outputs = model(**eval_batch)\n",
    "            total_eval_loss += outputs.loss.item()\n",
    "    avg_eval_loss = total_eval_loss / len(eval_dataloader)\n",
    "    print(f\"Fin de Época {epoch + 1}: Pérdida de Validación Promedio = {avg_eval_loss:.4f}\")\n",
    "    \n",
    "progress_bar.close()\n",
    "print(\"Entrenamiento completado.\")"
   ],
   "outputs": [
    {
     "name": "stdout",
     "output_type": "stream",
     "text": [
      "Iniciando entrenamiento...\n"
     ]
    },
    {
     "name": "stderr",
     "output_type": "stream",
     "text": [
      "  0%|          | 0/1606 [00:00<?, ?it/s]"
     ]
    },
    {
     "name": "stdout",
     "output_type": "stream",
     "text": [
      "\n",
      "--- Época 1/2 ---\n"
     ]
    },
    {
     "name": "stderr",
     "output_type": "stream",
     "text": [
      "Época 1, Batch 199, Loss: 2.0674:  12%|█▏        | 199/1606 [00:20<02:24,  9.71it/s]"
     ]
    },
    {
     "ename": "KeyboardInterrupt",
     "evalue": "",
     "output_type": "error",
     "traceback": [
      "\u001B[0;31m---------------------------------------------------------------------------\u001B[0m",
      "\u001B[0;31mKeyboardInterrupt\u001B[0m                         Traceback (most recent call last)",
      "Cell \u001B[0;32mIn[12], line 12\u001B[0m\n\u001B[1;32m     10\u001B[0m \u001B[38;5;28;01mfor\u001B[39;00m batch_idx, batch \u001B[38;5;129;01min\u001B[39;00m \u001B[38;5;28menumerate\u001B[39m(train_dataloader):\n\u001B[1;32m     11\u001B[0m     batch \u001B[38;5;241m=\u001B[39m {k: v\u001B[38;5;241m.\u001B[39mto(device) \u001B[38;5;28;01mfor\u001B[39;00m k, v \u001B[38;5;129;01min\u001B[39;00m batch\u001B[38;5;241m.\u001B[39mitems()}\n\u001B[0;32m---> 12\u001B[0m     outputs \u001B[38;5;241m=\u001B[39m \u001B[43mmodel\u001B[49m\u001B[43m(\u001B[49m\u001B[38;5;241;43m*\u001B[39;49m\u001B[38;5;241;43m*\u001B[39;49m\u001B[43mbatch\u001B[49m\u001B[43m)\u001B[49m\n\u001B[1;32m     13\u001B[0m     loss \u001B[38;5;241m=\u001B[39m outputs\u001B[38;5;241m.\u001B[39mloss\n\u001B[1;32m     14\u001B[0m     loss\u001B[38;5;241m.\u001B[39mbackward()\n",
      "File \u001B[0;32m~/miniconda3/envs/main/lib/python3.10/site-packages/torch/nn/modules/module.py:1739\u001B[0m, in \u001B[0;36mModule._wrapped_call_impl\u001B[0;34m(self, *args, **kwargs)\u001B[0m\n\u001B[1;32m   1737\u001B[0m     \u001B[38;5;28;01mreturn\u001B[39;00m \u001B[38;5;28mself\u001B[39m\u001B[38;5;241m.\u001B[39m_compiled_call_impl(\u001B[38;5;241m*\u001B[39margs, \u001B[38;5;241m*\u001B[39m\u001B[38;5;241m*\u001B[39mkwargs)  \u001B[38;5;66;03m# type: ignore[misc]\u001B[39;00m\n\u001B[1;32m   1738\u001B[0m \u001B[38;5;28;01melse\u001B[39;00m:\n\u001B[0;32m-> 1739\u001B[0m     \u001B[38;5;28;01mreturn\u001B[39;00m \u001B[38;5;28;43mself\u001B[39;49m\u001B[38;5;241;43m.\u001B[39;49m\u001B[43m_call_impl\u001B[49m\u001B[43m(\u001B[49m\u001B[38;5;241;43m*\u001B[39;49m\u001B[43margs\u001B[49m\u001B[43m,\u001B[49m\u001B[43m \u001B[49m\u001B[38;5;241;43m*\u001B[39;49m\u001B[38;5;241;43m*\u001B[39;49m\u001B[43mkwargs\u001B[49m\u001B[43m)\u001B[49m\n",
      "File \u001B[0;32m~/miniconda3/envs/main/lib/python3.10/site-packages/torch/nn/modules/module.py:1750\u001B[0m, in \u001B[0;36mModule._call_impl\u001B[0;34m(self, *args, **kwargs)\u001B[0m\n\u001B[1;32m   1745\u001B[0m \u001B[38;5;66;03m# If we don't have any hooks, we want to skip the rest of the logic in\u001B[39;00m\n\u001B[1;32m   1746\u001B[0m \u001B[38;5;66;03m# this function, and just call forward.\u001B[39;00m\n\u001B[1;32m   1747\u001B[0m \u001B[38;5;28;01mif\u001B[39;00m \u001B[38;5;129;01mnot\u001B[39;00m (\u001B[38;5;28mself\u001B[39m\u001B[38;5;241m.\u001B[39m_backward_hooks \u001B[38;5;129;01mor\u001B[39;00m \u001B[38;5;28mself\u001B[39m\u001B[38;5;241m.\u001B[39m_backward_pre_hooks \u001B[38;5;129;01mor\u001B[39;00m \u001B[38;5;28mself\u001B[39m\u001B[38;5;241m.\u001B[39m_forward_hooks \u001B[38;5;129;01mor\u001B[39;00m \u001B[38;5;28mself\u001B[39m\u001B[38;5;241m.\u001B[39m_forward_pre_hooks\n\u001B[1;32m   1748\u001B[0m         \u001B[38;5;129;01mor\u001B[39;00m _global_backward_pre_hooks \u001B[38;5;129;01mor\u001B[39;00m _global_backward_hooks\n\u001B[1;32m   1749\u001B[0m         \u001B[38;5;129;01mor\u001B[39;00m _global_forward_hooks \u001B[38;5;129;01mor\u001B[39;00m _global_forward_pre_hooks):\n\u001B[0;32m-> 1750\u001B[0m     \u001B[38;5;28;01mreturn\u001B[39;00m \u001B[43mforward_call\u001B[49m\u001B[43m(\u001B[49m\u001B[38;5;241;43m*\u001B[39;49m\u001B[43margs\u001B[49m\u001B[43m,\u001B[49m\u001B[43m \u001B[49m\u001B[38;5;241;43m*\u001B[39;49m\u001B[38;5;241;43m*\u001B[39;49m\u001B[43mkwargs\u001B[49m\u001B[43m)\u001B[49m\n\u001B[1;32m   1752\u001B[0m result \u001B[38;5;241m=\u001B[39m \u001B[38;5;28;01mNone\u001B[39;00m\n\u001B[1;32m   1753\u001B[0m called_always_called_hooks \u001B[38;5;241m=\u001B[39m \u001B[38;5;28mset\u001B[39m()\n",
      "File \u001B[0;32m~/miniconda3/envs/main/lib/python3.10/site-packages/transformers/utils/deprecation.py:172\u001B[0m, in \u001B[0;36mdeprecate_kwarg.<locals>.wrapper.<locals>.wrapped_func\u001B[0;34m(*args, **kwargs)\u001B[0m\n\u001B[1;32m    168\u001B[0m \u001B[38;5;28;01melif\u001B[39;00m minimum_action \u001B[38;5;129;01min\u001B[39;00m (Action\u001B[38;5;241m.\u001B[39mNOTIFY, Action\u001B[38;5;241m.\u001B[39mNOTIFY_ALWAYS) \u001B[38;5;129;01mand\u001B[39;00m \u001B[38;5;129;01mnot\u001B[39;00m is_torchdynamo_compiling():\n\u001B[1;32m    169\u001B[0m     \u001B[38;5;66;03m# DeprecationWarning is ignored by default, so we use FutureWarning instead\u001B[39;00m\n\u001B[1;32m    170\u001B[0m     warnings\u001B[38;5;241m.\u001B[39mwarn(message, \u001B[38;5;167;01mFutureWarning\u001B[39;00m, stacklevel\u001B[38;5;241m=\u001B[39m\u001B[38;5;241m2\u001B[39m)\n\u001B[0;32m--> 172\u001B[0m \u001B[38;5;28;01mreturn\u001B[39;00m \u001B[43mfunc\u001B[49m\u001B[43m(\u001B[49m\u001B[38;5;241;43m*\u001B[39;49m\u001B[43margs\u001B[49m\u001B[43m,\u001B[49m\u001B[43m \u001B[49m\u001B[38;5;241;43m*\u001B[39;49m\u001B[38;5;241;43m*\u001B[39;49m\u001B[43mkwargs\u001B[49m\u001B[43m)\u001B[49m\n",
      "File \u001B[0;32m~/miniconda3/envs/main/lib/python3.10/site-packages/transformers/models/llama/modeling_llama.py:842\u001B[0m, in \u001B[0;36mLlamaForCausalLM.forward\u001B[0;34m(self, input_ids, attention_mask, position_ids, past_key_values, inputs_embeds, labels, use_cache, output_attentions, output_hidden_states, return_dict, cache_position, logits_to_keep, **kwargs)\u001B[0m\n\u001B[1;32m    839\u001B[0m return_dict \u001B[38;5;241m=\u001B[39m return_dict \u001B[38;5;28;01mif\u001B[39;00m return_dict \u001B[38;5;129;01mis\u001B[39;00m \u001B[38;5;129;01mnot\u001B[39;00m \u001B[38;5;28;01mNone\u001B[39;00m \u001B[38;5;28;01melse\u001B[39;00m \u001B[38;5;28mself\u001B[39m\u001B[38;5;241m.\u001B[39mconfig\u001B[38;5;241m.\u001B[39muse_return_dict\n\u001B[1;32m    841\u001B[0m \u001B[38;5;66;03m# decoder outputs consists of (dec_features, layer_state, dec_hidden, dec_attn)\u001B[39;00m\n\u001B[0;32m--> 842\u001B[0m outputs \u001B[38;5;241m=\u001B[39m \u001B[38;5;28;43mself\u001B[39;49m\u001B[38;5;241;43m.\u001B[39;49m\u001B[43mmodel\u001B[49m\u001B[43m(\u001B[49m\n\u001B[1;32m    843\u001B[0m \u001B[43m    \u001B[49m\u001B[43minput_ids\u001B[49m\u001B[38;5;241;43m=\u001B[39;49m\u001B[43minput_ids\u001B[49m\u001B[43m,\u001B[49m\n\u001B[1;32m    844\u001B[0m \u001B[43m    \u001B[49m\u001B[43mattention_mask\u001B[49m\u001B[38;5;241;43m=\u001B[39;49m\u001B[43mattention_mask\u001B[49m\u001B[43m,\u001B[49m\n\u001B[1;32m    845\u001B[0m \u001B[43m    \u001B[49m\u001B[43mposition_ids\u001B[49m\u001B[38;5;241;43m=\u001B[39;49m\u001B[43mposition_ids\u001B[49m\u001B[43m,\u001B[49m\n\u001B[1;32m    846\u001B[0m \u001B[43m    \u001B[49m\u001B[43mpast_key_values\u001B[49m\u001B[38;5;241;43m=\u001B[39;49m\u001B[43mpast_key_values\u001B[49m\u001B[43m,\u001B[49m\n\u001B[1;32m    847\u001B[0m \u001B[43m    \u001B[49m\u001B[43minputs_embeds\u001B[49m\u001B[38;5;241;43m=\u001B[39;49m\u001B[43minputs_embeds\u001B[49m\u001B[43m,\u001B[49m\n\u001B[1;32m    848\u001B[0m \u001B[43m    \u001B[49m\u001B[43muse_cache\u001B[49m\u001B[38;5;241;43m=\u001B[39;49m\u001B[43muse_cache\u001B[49m\u001B[43m,\u001B[49m\n\u001B[1;32m    849\u001B[0m \u001B[43m    \u001B[49m\u001B[43moutput_attentions\u001B[49m\u001B[38;5;241;43m=\u001B[39;49m\u001B[43moutput_attentions\u001B[49m\u001B[43m,\u001B[49m\n\u001B[1;32m    850\u001B[0m \u001B[43m    \u001B[49m\u001B[43moutput_hidden_states\u001B[49m\u001B[38;5;241;43m=\u001B[39;49m\u001B[43moutput_hidden_states\u001B[49m\u001B[43m,\u001B[49m\n\u001B[1;32m    851\u001B[0m \u001B[43m    \u001B[49m\u001B[43mreturn_dict\u001B[49m\u001B[38;5;241;43m=\u001B[39;49m\u001B[43mreturn_dict\u001B[49m\u001B[43m,\u001B[49m\n\u001B[1;32m    852\u001B[0m \u001B[43m    \u001B[49m\u001B[43mcache_position\u001B[49m\u001B[38;5;241;43m=\u001B[39;49m\u001B[43mcache_position\u001B[49m\u001B[43m,\u001B[49m\n\u001B[1;32m    853\u001B[0m \u001B[43m    \u001B[49m\u001B[38;5;241;43m*\u001B[39;49m\u001B[38;5;241;43m*\u001B[39;49m\u001B[43mkwargs\u001B[49m\u001B[43m,\u001B[49m\n\u001B[1;32m    854\u001B[0m \u001B[43m\u001B[49m\u001B[43m)\u001B[49m\n\u001B[1;32m    856\u001B[0m hidden_states \u001B[38;5;241m=\u001B[39m outputs[\u001B[38;5;241m0\u001B[39m]\n\u001B[1;32m    857\u001B[0m \u001B[38;5;66;03m# Only compute necessary logits, and do not upcast them to float if we are not computing the loss\u001B[39;00m\n",
      "File \u001B[0;32m~/miniconda3/envs/main/lib/python3.10/site-packages/torch/nn/modules/module.py:1739\u001B[0m, in \u001B[0;36mModule._wrapped_call_impl\u001B[0;34m(self, *args, **kwargs)\u001B[0m\n\u001B[1;32m   1737\u001B[0m     \u001B[38;5;28;01mreturn\u001B[39;00m \u001B[38;5;28mself\u001B[39m\u001B[38;5;241m.\u001B[39m_compiled_call_impl(\u001B[38;5;241m*\u001B[39margs, \u001B[38;5;241m*\u001B[39m\u001B[38;5;241m*\u001B[39mkwargs)  \u001B[38;5;66;03m# type: ignore[misc]\u001B[39;00m\n\u001B[1;32m   1738\u001B[0m \u001B[38;5;28;01melse\u001B[39;00m:\n\u001B[0;32m-> 1739\u001B[0m     \u001B[38;5;28;01mreturn\u001B[39;00m \u001B[38;5;28;43mself\u001B[39;49m\u001B[38;5;241;43m.\u001B[39;49m\u001B[43m_call_impl\u001B[49m\u001B[43m(\u001B[49m\u001B[38;5;241;43m*\u001B[39;49m\u001B[43margs\u001B[49m\u001B[43m,\u001B[49m\u001B[43m \u001B[49m\u001B[38;5;241;43m*\u001B[39;49m\u001B[38;5;241;43m*\u001B[39;49m\u001B[43mkwargs\u001B[49m\u001B[43m)\u001B[49m\n",
      "File \u001B[0;32m~/miniconda3/envs/main/lib/python3.10/site-packages/torch/nn/modules/module.py:1750\u001B[0m, in \u001B[0;36mModule._call_impl\u001B[0;34m(self, *args, **kwargs)\u001B[0m\n\u001B[1;32m   1745\u001B[0m \u001B[38;5;66;03m# If we don't have any hooks, we want to skip the rest of the logic in\u001B[39;00m\n\u001B[1;32m   1746\u001B[0m \u001B[38;5;66;03m# this function, and just call forward.\u001B[39;00m\n\u001B[1;32m   1747\u001B[0m \u001B[38;5;28;01mif\u001B[39;00m \u001B[38;5;129;01mnot\u001B[39;00m (\u001B[38;5;28mself\u001B[39m\u001B[38;5;241m.\u001B[39m_backward_hooks \u001B[38;5;129;01mor\u001B[39;00m \u001B[38;5;28mself\u001B[39m\u001B[38;5;241m.\u001B[39m_backward_pre_hooks \u001B[38;5;129;01mor\u001B[39;00m \u001B[38;5;28mself\u001B[39m\u001B[38;5;241m.\u001B[39m_forward_hooks \u001B[38;5;129;01mor\u001B[39;00m \u001B[38;5;28mself\u001B[39m\u001B[38;5;241m.\u001B[39m_forward_pre_hooks\n\u001B[1;32m   1748\u001B[0m         \u001B[38;5;129;01mor\u001B[39;00m _global_backward_pre_hooks \u001B[38;5;129;01mor\u001B[39;00m _global_backward_hooks\n\u001B[1;32m   1749\u001B[0m         \u001B[38;5;129;01mor\u001B[39;00m _global_forward_hooks \u001B[38;5;129;01mor\u001B[39;00m _global_forward_pre_hooks):\n\u001B[0;32m-> 1750\u001B[0m     \u001B[38;5;28;01mreturn\u001B[39;00m \u001B[43mforward_call\u001B[49m\u001B[43m(\u001B[49m\u001B[38;5;241;43m*\u001B[39;49m\u001B[43margs\u001B[49m\u001B[43m,\u001B[49m\u001B[43m \u001B[49m\u001B[38;5;241;43m*\u001B[39;49m\u001B[38;5;241;43m*\u001B[39;49m\u001B[43mkwargs\u001B[49m\u001B[43m)\u001B[49m\n\u001B[1;32m   1752\u001B[0m result \u001B[38;5;241m=\u001B[39m \u001B[38;5;28;01mNone\u001B[39;00m\n\u001B[1;32m   1753\u001B[0m called_always_called_hooks \u001B[38;5;241m=\u001B[39m \u001B[38;5;28mset\u001B[39m()\n",
      "File \u001B[0;32m~/miniconda3/envs/main/lib/python3.10/site-packages/transformers/models/llama/modeling_llama.py:594\u001B[0m, in \u001B[0;36mLlamaModel.forward\u001B[0;34m(self, input_ids, attention_mask, position_ids, past_key_values, inputs_embeds, use_cache, output_attentions, output_hidden_states, return_dict, cache_position, **flash_attn_kwargs)\u001B[0m\n\u001B[1;32m    582\u001B[0m     layer_outputs \u001B[38;5;241m=\u001B[39m \u001B[38;5;28mself\u001B[39m\u001B[38;5;241m.\u001B[39m_gradient_checkpointing_func(\n\u001B[1;32m    583\u001B[0m         decoder_layer\u001B[38;5;241m.\u001B[39m\u001B[38;5;21m__call__\u001B[39m,\n\u001B[1;32m    584\u001B[0m         hidden_states,\n\u001B[0;32m   (...)\u001B[0m\n\u001B[1;32m    591\u001B[0m         position_embeddings,\n\u001B[1;32m    592\u001B[0m     )\n\u001B[1;32m    593\u001B[0m \u001B[38;5;28;01melse\u001B[39;00m:\n\u001B[0;32m--> 594\u001B[0m     layer_outputs \u001B[38;5;241m=\u001B[39m \u001B[43mdecoder_layer\u001B[49m\u001B[43m(\u001B[49m\n\u001B[1;32m    595\u001B[0m \u001B[43m        \u001B[49m\u001B[43mhidden_states\u001B[49m\u001B[43m,\u001B[49m\n\u001B[1;32m    596\u001B[0m \u001B[43m        \u001B[49m\u001B[43mattention_mask\u001B[49m\u001B[38;5;241;43m=\u001B[39;49m\u001B[43mcausal_mask\u001B[49m\u001B[43m,\u001B[49m\n\u001B[1;32m    597\u001B[0m \u001B[43m        \u001B[49m\u001B[43mposition_ids\u001B[49m\u001B[38;5;241;43m=\u001B[39;49m\u001B[43mposition_ids\u001B[49m\u001B[43m,\u001B[49m\n\u001B[1;32m    598\u001B[0m \u001B[43m        \u001B[49m\u001B[43mpast_key_value\u001B[49m\u001B[38;5;241;43m=\u001B[39;49m\u001B[43mpast_key_values\u001B[49m\u001B[43m,\u001B[49m\n\u001B[1;32m    599\u001B[0m \u001B[43m        \u001B[49m\u001B[43moutput_attentions\u001B[49m\u001B[38;5;241;43m=\u001B[39;49m\u001B[43moutput_attentions\u001B[49m\u001B[43m,\u001B[49m\n\u001B[1;32m    600\u001B[0m \u001B[43m        \u001B[49m\u001B[43muse_cache\u001B[49m\u001B[38;5;241;43m=\u001B[39;49m\u001B[43muse_cache\u001B[49m\u001B[43m,\u001B[49m\n\u001B[1;32m    601\u001B[0m \u001B[43m        \u001B[49m\u001B[43mcache_position\u001B[49m\u001B[38;5;241;43m=\u001B[39;49m\u001B[43mcache_position\u001B[49m\u001B[43m,\u001B[49m\n\u001B[1;32m    602\u001B[0m \u001B[43m        \u001B[49m\u001B[43mposition_embeddings\u001B[49m\u001B[38;5;241;43m=\u001B[39;49m\u001B[43mposition_embeddings\u001B[49m\u001B[43m,\u001B[49m\n\u001B[1;32m    603\u001B[0m \u001B[43m        \u001B[49m\u001B[38;5;241;43m*\u001B[39;49m\u001B[38;5;241;43m*\u001B[39;49m\u001B[43mflash_attn_kwargs\u001B[49m\u001B[43m,\u001B[49m\n\u001B[1;32m    604\u001B[0m \u001B[43m    \u001B[49m\u001B[43m)\u001B[49m\n\u001B[1;32m    606\u001B[0m hidden_states \u001B[38;5;241m=\u001B[39m layer_outputs[\u001B[38;5;241m0\u001B[39m]\n\u001B[1;32m    608\u001B[0m \u001B[38;5;28;01mif\u001B[39;00m output_attentions:\n",
      "File \u001B[0;32m~/miniconda3/envs/main/lib/python3.10/site-packages/torch/nn/modules/module.py:1739\u001B[0m, in \u001B[0;36mModule._wrapped_call_impl\u001B[0;34m(self, *args, **kwargs)\u001B[0m\n\u001B[1;32m   1737\u001B[0m     \u001B[38;5;28;01mreturn\u001B[39;00m \u001B[38;5;28mself\u001B[39m\u001B[38;5;241m.\u001B[39m_compiled_call_impl(\u001B[38;5;241m*\u001B[39margs, \u001B[38;5;241m*\u001B[39m\u001B[38;5;241m*\u001B[39mkwargs)  \u001B[38;5;66;03m# type: ignore[misc]\u001B[39;00m\n\u001B[1;32m   1738\u001B[0m \u001B[38;5;28;01melse\u001B[39;00m:\n\u001B[0;32m-> 1739\u001B[0m     \u001B[38;5;28;01mreturn\u001B[39;00m \u001B[38;5;28;43mself\u001B[39;49m\u001B[38;5;241;43m.\u001B[39;49m\u001B[43m_call_impl\u001B[49m\u001B[43m(\u001B[49m\u001B[38;5;241;43m*\u001B[39;49m\u001B[43margs\u001B[49m\u001B[43m,\u001B[49m\u001B[43m \u001B[49m\u001B[38;5;241;43m*\u001B[39;49m\u001B[38;5;241;43m*\u001B[39;49m\u001B[43mkwargs\u001B[49m\u001B[43m)\u001B[49m\n",
      "File \u001B[0;32m~/miniconda3/envs/main/lib/python3.10/site-packages/torch/nn/modules/module.py:1750\u001B[0m, in \u001B[0;36mModule._call_impl\u001B[0;34m(self, *args, **kwargs)\u001B[0m\n\u001B[1;32m   1745\u001B[0m \u001B[38;5;66;03m# If we don't have any hooks, we want to skip the rest of the logic in\u001B[39;00m\n\u001B[1;32m   1746\u001B[0m \u001B[38;5;66;03m# this function, and just call forward.\u001B[39;00m\n\u001B[1;32m   1747\u001B[0m \u001B[38;5;28;01mif\u001B[39;00m \u001B[38;5;129;01mnot\u001B[39;00m (\u001B[38;5;28mself\u001B[39m\u001B[38;5;241m.\u001B[39m_backward_hooks \u001B[38;5;129;01mor\u001B[39;00m \u001B[38;5;28mself\u001B[39m\u001B[38;5;241m.\u001B[39m_backward_pre_hooks \u001B[38;5;129;01mor\u001B[39;00m \u001B[38;5;28mself\u001B[39m\u001B[38;5;241m.\u001B[39m_forward_hooks \u001B[38;5;129;01mor\u001B[39;00m \u001B[38;5;28mself\u001B[39m\u001B[38;5;241m.\u001B[39m_forward_pre_hooks\n\u001B[1;32m   1748\u001B[0m         \u001B[38;5;129;01mor\u001B[39;00m _global_backward_pre_hooks \u001B[38;5;129;01mor\u001B[39;00m _global_backward_hooks\n\u001B[1;32m   1749\u001B[0m         \u001B[38;5;129;01mor\u001B[39;00m _global_forward_hooks \u001B[38;5;129;01mor\u001B[39;00m _global_forward_pre_hooks):\n\u001B[0;32m-> 1750\u001B[0m     \u001B[38;5;28;01mreturn\u001B[39;00m \u001B[43mforward_call\u001B[49m\u001B[43m(\u001B[49m\u001B[38;5;241;43m*\u001B[39;49m\u001B[43margs\u001B[49m\u001B[43m,\u001B[49m\u001B[43m \u001B[49m\u001B[38;5;241;43m*\u001B[39;49m\u001B[38;5;241;43m*\u001B[39;49m\u001B[43mkwargs\u001B[49m\u001B[43m)\u001B[49m\n\u001B[1;32m   1752\u001B[0m result \u001B[38;5;241m=\u001B[39m \u001B[38;5;28;01mNone\u001B[39;00m\n\u001B[1;32m   1753\u001B[0m called_always_called_hooks \u001B[38;5;241m=\u001B[39m \u001B[38;5;28mset\u001B[39m()\n",
      "File \u001B[0;32m~/miniconda3/envs/main/lib/python3.10/site-packages/transformers/models/llama/modeling_llama.py:352\u001B[0m, in \u001B[0;36mLlamaDecoderLayer.forward\u001B[0;34m(self, hidden_states, attention_mask, position_ids, past_key_value, output_attentions, use_cache, cache_position, position_embeddings, **kwargs)\u001B[0m\n\u001B[1;32m    350\u001B[0m residual \u001B[38;5;241m=\u001B[39m hidden_states\n\u001B[1;32m    351\u001B[0m hidden_states \u001B[38;5;241m=\u001B[39m \u001B[38;5;28mself\u001B[39m\u001B[38;5;241m.\u001B[39mpost_attention_layernorm(hidden_states)\n\u001B[0;32m--> 352\u001B[0m hidden_states \u001B[38;5;241m=\u001B[39m \u001B[38;5;28;43mself\u001B[39;49m\u001B[38;5;241;43m.\u001B[39;49m\u001B[43mmlp\u001B[49m\u001B[43m(\u001B[49m\u001B[43mhidden_states\u001B[49m\u001B[43m)\u001B[49m\n\u001B[1;32m    353\u001B[0m hidden_states \u001B[38;5;241m=\u001B[39m residual \u001B[38;5;241m+\u001B[39m hidden_states\n\u001B[1;32m    355\u001B[0m outputs \u001B[38;5;241m=\u001B[39m (hidden_states,)\n",
      "File \u001B[0;32m~/miniconda3/envs/main/lib/python3.10/site-packages/torch/nn/modules/module.py:1739\u001B[0m, in \u001B[0;36mModule._wrapped_call_impl\u001B[0;34m(self, *args, **kwargs)\u001B[0m\n\u001B[1;32m   1737\u001B[0m     \u001B[38;5;28;01mreturn\u001B[39;00m \u001B[38;5;28mself\u001B[39m\u001B[38;5;241m.\u001B[39m_compiled_call_impl(\u001B[38;5;241m*\u001B[39margs, \u001B[38;5;241m*\u001B[39m\u001B[38;5;241m*\u001B[39mkwargs)  \u001B[38;5;66;03m# type: ignore[misc]\u001B[39;00m\n\u001B[1;32m   1738\u001B[0m \u001B[38;5;28;01melse\u001B[39;00m:\n\u001B[0;32m-> 1739\u001B[0m     \u001B[38;5;28;01mreturn\u001B[39;00m \u001B[38;5;28;43mself\u001B[39;49m\u001B[38;5;241;43m.\u001B[39;49m\u001B[43m_call_impl\u001B[49m\u001B[43m(\u001B[49m\u001B[38;5;241;43m*\u001B[39;49m\u001B[43margs\u001B[49m\u001B[43m,\u001B[49m\u001B[43m \u001B[49m\u001B[38;5;241;43m*\u001B[39;49m\u001B[38;5;241;43m*\u001B[39;49m\u001B[43mkwargs\u001B[49m\u001B[43m)\u001B[49m\n",
      "File \u001B[0;32m~/miniconda3/envs/main/lib/python3.10/site-packages/torch/nn/modules/module.py:1750\u001B[0m, in \u001B[0;36mModule._call_impl\u001B[0;34m(self, *args, **kwargs)\u001B[0m\n\u001B[1;32m   1745\u001B[0m \u001B[38;5;66;03m# If we don't have any hooks, we want to skip the rest of the logic in\u001B[39;00m\n\u001B[1;32m   1746\u001B[0m \u001B[38;5;66;03m# this function, and just call forward.\u001B[39;00m\n\u001B[1;32m   1747\u001B[0m \u001B[38;5;28;01mif\u001B[39;00m \u001B[38;5;129;01mnot\u001B[39;00m (\u001B[38;5;28mself\u001B[39m\u001B[38;5;241m.\u001B[39m_backward_hooks \u001B[38;5;129;01mor\u001B[39;00m \u001B[38;5;28mself\u001B[39m\u001B[38;5;241m.\u001B[39m_backward_pre_hooks \u001B[38;5;129;01mor\u001B[39;00m \u001B[38;5;28mself\u001B[39m\u001B[38;5;241m.\u001B[39m_forward_hooks \u001B[38;5;129;01mor\u001B[39;00m \u001B[38;5;28mself\u001B[39m\u001B[38;5;241m.\u001B[39m_forward_pre_hooks\n\u001B[1;32m   1748\u001B[0m         \u001B[38;5;129;01mor\u001B[39;00m _global_backward_pre_hooks \u001B[38;5;129;01mor\u001B[39;00m _global_backward_hooks\n\u001B[1;32m   1749\u001B[0m         \u001B[38;5;129;01mor\u001B[39;00m _global_forward_hooks \u001B[38;5;129;01mor\u001B[39;00m _global_forward_pre_hooks):\n\u001B[0;32m-> 1750\u001B[0m     \u001B[38;5;28;01mreturn\u001B[39;00m \u001B[43mforward_call\u001B[49m\u001B[43m(\u001B[49m\u001B[38;5;241;43m*\u001B[39;49m\u001B[43margs\u001B[49m\u001B[43m,\u001B[49m\u001B[43m \u001B[49m\u001B[38;5;241;43m*\u001B[39;49m\u001B[38;5;241;43m*\u001B[39;49m\u001B[43mkwargs\u001B[49m\u001B[43m)\u001B[49m\n\u001B[1;32m   1752\u001B[0m result \u001B[38;5;241m=\u001B[39m \u001B[38;5;28;01mNone\u001B[39;00m\n\u001B[1;32m   1753\u001B[0m called_always_called_hooks \u001B[38;5;241m=\u001B[39m \u001B[38;5;28mset\u001B[39m()\n",
      "File \u001B[0;32m~/miniconda3/envs/main/lib/python3.10/site-packages/transformers/models/llama/modeling_llama.py:190\u001B[0m, in \u001B[0;36mLlamaMLP.forward\u001B[0;34m(self, x)\u001B[0m\n\u001B[1;32m    189\u001B[0m \u001B[38;5;28;01mdef\u001B[39;00m\u001B[38;5;250m \u001B[39m\u001B[38;5;21mforward\u001B[39m(\u001B[38;5;28mself\u001B[39m, x):\n\u001B[0;32m--> 190\u001B[0m     down_proj \u001B[38;5;241m=\u001B[39m \u001B[38;5;28;43mself\u001B[39;49m\u001B[38;5;241;43m.\u001B[39;49m\u001B[43mdown_proj\u001B[49m\u001B[43m(\u001B[49m\u001B[38;5;28;43mself\u001B[39;49m\u001B[38;5;241;43m.\u001B[39;49m\u001B[43mact_fn\u001B[49m\u001B[43m(\u001B[49m\u001B[38;5;28;43mself\u001B[39;49m\u001B[38;5;241;43m.\u001B[39;49m\u001B[43mgate_proj\u001B[49m\u001B[43m(\u001B[49m\u001B[43mx\u001B[49m\u001B[43m)\u001B[49m\u001B[43m)\u001B[49m\u001B[43m \u001B[49m\u001B[38;5;241;43m*\u001B[39;49m\u001B[43m \u001B[49m\u001B[38;5;28;43mself\u001B[39;49m\u001B[38;5;241;43m.\u001B[39;49m\u001B[43mup_proj\u001B[49m\u001B[43m(\u001B[49m\u001B[43mx\u001B[49m\u001B[43m)\u001B[49m\u001B[43m)\u001B[49m\n\u001B[1;32m    191\u001B[0m     \u001B[38;5;28;01mreturn\u001B[39;00m down_proj\n",
      "File \u001B[0;32m~/miniconda3/envs/main/lib/python3.10/site-packages/torch/nn/modules/module.py:1739\u001B[0m, in \u001B[0;36mModule._wrapped_call_impl\u001B[0;34m(self, *args, **kwargs)\u001B[0m\n\u001B[1;32m   1737\u001B[0m     \u001B[38;5;28;01mreturn\u001B[39;00m \u001B[38;5;28mself\u001B[39m\u001B[38;5;241m.\u001B[39m_compiled_call_impl(\u001B[38;5;241m*\u001B[39margs, \u001B[38;5;241m*\u001B[39m\u001B[38;5;241m*\u001B[39mkwargs)  \u001B[38;5;66;03m# type: ignore[misc]\u001B[39;00m\n\u001B[1;32m   1738\u001B[0m \u001B[38;5;28;01melse\u001B[39;00m:\n\u001B[0;32m-> 1739\u001B[0m     \u001B[38;5;28;01mreturn\u001B[39;00m \u001B[38;5;28;43mself\u001B[39;49m\u001B[38;5;241;43m.\u001B[39;49m\u001B[43m_call_impl\u001B[49m\u001B[43m(\u001B[49m\u001B[38;5;241;43m*\u001B[39;49m\u001B[43margs\u001B[49m\u001B[43m,\u001B[49m\u001B[43m \u001B[49m\u001B[38;5;241;43m*\u001B[39;49m\u001B[38;5;241;43m*\u001B[39;49m\u001B[43mkwargs\u001B[49m\u001B[43m)\u001B[49m\n",
      "File \u001B[0;32m~/miniconda3/envs/main/lib/python3.10/site-packages/torch/nn/modules/module.py:1750\u001B[0m, in \u001B[0;36mModule._call_impl\u001B[0;34m(self, *args, **kwargs)\u001B[0m\n\u001B[1;32m   1745\u001B[0m \u001B[38;5;66;03m# If we don't have any hooks, we want to skip the rest of the logic in\u001B[39;00m\n\u001B[1;32m   1746\u001B[0m \u001B[38;5;66;03m# this function, and just call forward.\u001B[39;00m\n\u001B[1;32m   1747\u001B[0m \u001B[38;5;28;01mif\u001B[39;00m \u001B[38;5;129;01mnot\u001B[39;00m (\u001B[38;5;28mself\u001B[39m\u001B[38;5;241m.\u001B[39m_backward_hooks \u001B[38;5;129;01mor\u001B[39;00m \u001B[38;5;28mself\u001B[39m\u001B[38;5;241m.\u001B[39m_backward_pre_hooks \u001B[38;5;129;01mor\u001B[39;00m \u001B[38;5;28mself\u001B[39m\u001B[38;5;241m.\u001B[39m_forward_hooks \u001B[38;5;129;01mor\u001B[39;00m \u001B[38;5;28mself\u001B[39m\u001B[38;5;241m.\u001B[39m_forward_pre_hooks\n\u001B[1;32m   1748\u001B[0m         \u001B[38;5;129;01mor\u001B[39;00m _global_backward_pre_hooks \u001B[38;5;129;01mor\u001B[39;00m _global_backward_hooks\n\u001B[1;32m   1749\u001B[0m         \u001B[38;5;129;01mor\u001B[39;00m _global_forward_hooks \u001B[38;5;129;01mor\u001B[39;00m _global_forward_pre_hooks):\n\u001B[0;32m-> 1750\u001B[0m     \u001B[38;5;28;01mreturn\u001B[39;00m \u001B[43mforward_call\u001B[49m\u001B[43m(\u001B[49m\u001B[38;5;241;43m*\u001B[39;49m\u001B[43margs\u001B[49m\u001B[43m,\u001B[49m\u001B[43m \u001B[49m\u001B[38;5;241;43m*\u001B[39;49m\u001B[38;5;241;43m*\u001B[39;49m\u001B[43mkwargs\u001B[49m\u001B[43m)\u001B[49m\n\u001B[1;32m   1752\u001B[0m result \u001B[38;5;241m=\u001B[39m \u001B[38;5;28;01mNone\u001B[39;00m\n\u001B[1;32m   1753\u001B[0m called_always_called_hooks \u001B[38;5;241m=\u001B[39m \u001B[38;5;28mset\u001B[39m()\n",
      "File \u001B[0;32m~/miniconda3/envs/main/lib/python3.10/site-packages/torch/nn/modules/linear.py:125\u001B[0m, in \u001B[0;36mLinear.forward\u001B[0;34m(self, input)\u001B[0m\n\u001B[1;32m    124\u001B[0m \u001B[38;5;28;01mdef\u001B[39;00m\u001B[38;5;250m \u001B[39m\u001B[38;5;21mforward\u001B[39m(\u001B[38;5;28mself\u001B[39m, \u001B[38;5;28minput\u001B[39m: Tensor) \u001B[38;5;241m-\u001B[39m\u001B[38;5;241m>\u001B[39m Tensor:\n\u001B[0;32m--> 125\u001B[0m     \u001B[38;5;28;01mreturn\u001B[39;00m \u001B[43mF\u001B[49m\u001B[38;5;241;43m.\u001B[39;49m\u001B[43mlinear\u001B[49m\u001B[43m(\u001B[49m\u001B[38;5;28;43minput\u001B[39;49m\u001B[43m,\u001B[49m\u001B[43m \u001B[49m\u001B[38;5;28;43mself\u001B[39;49m\u001B[38;5;241;43m.\u001B[39;49m\u001B[43mweight\u001B[49m\u001B[43m,\u001B[49m\u001B[43m \u001B[49m\u001B[38;5;28;43mself\u001B[39;49m\u001B[38;5;241;43m.\u001B[39;49m\u001B[43mbias\u001B[49m\u001B[43m)\u001B[49m\n",
      "\u001B[0;31mKeyboardInterrupt\u001B[0m: "
     ]
    }
   ],
   "execution_count": 12
  },
  {
   "cell_type": "code",
   "execution_count": 14,
   "id": "62707dce-c360-4895-8a5a-a1df71282cf9",
   "metadata": {},
   "outputs": [],
   "source": [
    "all_predictions = []\n",
    "all_true_answers = []\n",
    "total_correct = 0\n",
    "total_examples = 0\n",
    "\n",
    "ds_test = ds_full.get('test')\n",
    "filtered_data = ds_test.filter(\n",
    "    lambda example: len(example['article']) < MAX_ARTICLE_CHAR_LENGTH,\n",
    "    desc=f\"Filtrando artículos en {split}\"\n",
    ")\n",
    "with torch.no_grad(): \n",
    "    for example in filtered_data:\n",
    "        options_str = \"\\n\".join([f\"{chr(65+i)}) {opt}\" for i, opt in enumerate(example['options'])])\n",
    "        prompt = (\n",
    "                f\"Context: {example['article']}\\n\\n\"\n",
    "                f\"Questions: {example['question']}\\n\\n\"\n",
    "                f\"Options:\\n{options_str}\\n\\n\"\n",
    "                f\"Answer:\"\n",
    "            )\n",
    "        current_true_answer = example['answer']\n",
    "        inputs = tokenizer(prompt, return_tensors=\"pt\", truncation=True, max_length=512).to(device)\n",
    "\n",
    "        outputs = model.generate(\n",
    "                inputs.input_ids,\n",
    "                attention_mask=inputs.attention_mask,\n",
    "                max_new_tokens=2, # Suficiente para generar la letra de la opción\n",
    "                pad_token_id=tokenizer.pad_token_id\n",
    "            )\n",
    "        generated_ids = outputs[0][inputs.input_ids.shape[-1]:]\n",
    "        predicted_text = tokenizer.decode(generated_ids, skip_special_tokens=True).strip()\n",
    "\n",
    "        all_predictions.append(predicted_text)\n",
    "        all_true_answers.append(current_true_answer)\n",
    "        \n",
    "        if predicted_text == current_true_answer:\n",
    "            total_correct += 1\n",
    "        total_examples += 1"
   ]
  },
  {
   "cell_type": "code",
   "execution_count": 11,
   "id": "19f78d8f-e39f-463f-9e6c-cdc1114ce8d8",
   "metadata": {},
   "outputs": [
    {
     "name": "stdout",
     "output_type": "stream",
     "text": [
      "\n",
      "--- Resultados de la Evaluación en Test ---\n",
      "Ejemplos Totales: 56\n",
      "Predicciones Correctas: 19\n",
      "Exactitud (Accuracy): 33.93%\n"
     ]
    }
   ],
   "source": [
    "accuracy = total_correct / total_examples\n",
    "print(f\"\\n--- Resultados de la Evaluación en Test ---\")\n",
    "print(f\"Ejemplos Totales: {total_examples}\")\n",
    "print(f\"Predicciones Correctas: {total_correct}\")\n",
    "print(f\"Exactitud (Accuracy): {accuracy * 100:.2f}%\")"
   ]
  },
  {
   "cell_type": "code",
   "execution_count": null,
   "id": "d2dbdfb0-b9c5-4008-a6d4-337b056bbc07",
   "metadata": {},
   "outputs": [],
   "source": []
  }
 ],
 "metadata": {
  "kernelspec": {
   "display_name": "Python3.9",
   "language": "python",
   "name": "python3.9"
  },
  "language_info": {
   "codemirror_mode": {
    "name": "ipython",
    "version": 3
   },
   "file_extension": ".py",
   "mimetype": "text/x-python",
   "name": "python",
   "nbconvert_exporter": "python",
   "pygments_lexer": "ipython3",
   "version": "3.9.0"
  }
 },
 "nbformat": 4,
 "nbformat_minor": 5
}
