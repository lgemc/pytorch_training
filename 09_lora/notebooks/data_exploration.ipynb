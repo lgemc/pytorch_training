{
 "cells": [
  {
   "cell_type": "code",
   "id": "initial_id",
   "metadata": {
    "collapsed": true,
    "ExecuteTime": {
     "end_time": "2025-05-10T15:48:29.556676Z",
     "start_time": "2025-05-10T15:48:29.550501Z"
    }
   },
   "source": [
    "import pandas as pd\n",
    "\n",
    "from data.ehovy_race import EhovyRaceDataset\n",
    "from data.prompt_dataset import PromptedEhvoy, prompt_with_question, extract_answer"
   ],
   "outputs": [],
   "execution_count": 7
  },
  {
   "metadata": {
    "ExecuteTime": {
     "end_time": "2025-05-10T15:46:23.849728Z",
     "start_time": "2025-05-10T15:46:22.452894Z"
    }
   },
   "cell_type": "code",
   "source": [
    "MAX_ARTICLE_CHAR_LENGTH = 800\n",
    "data = EhovyRaceDataset(variation=\"high\", split=\"train\", max_article_size=MAX_ARTICLE_CHAR_LENGTH)\n",
    "len(data)"
   ],
   "id": "ad8c59dfbc1d6bb9",
   "outputs": [
    {
     "data": {
      "text/plain": [
       "803"
      ]
     },
     "execution_count": 4,
     "metadata": {},
     "output_type": "execute_result"
    }
   ],
   "execution_count": 4
  },
  {
   "metadata": {
    "ExecuteTime": {
     "end_time": "2025-05-10T15:46:29.564278Z",
     "start_time": "2025-05-10T15:46:29.557686Z"
    }
   },
   "cell_type": "code",
   "source": "data[0]",
   "id": "e721e8e5e6f741e2",
   "outputs": [
    {
     "data": {
      "text/plain": [
       "{'example_id': 'high2778.txt',\n",
       " 'article': 'The air hostess   was in a small kitchen at the back of the plane, preparing the plates for lunch, when a little old lady came and spoke to her, \"Could you please tell me,\" she asked, \"where is the ladies\\' lavatory   in the plane?\"\\n\"Yes, madam,\" said the air hostess and smiled. \"It is right at the other end of the plane---at the front.\"\\nThe little lady went too far. She walked all the way to the front of the plane, opened the door in front of her, and saw the captain of the plane and the other officers. They were all busy with their work and did not see her. She went out again, shut the door and returned to the air hostess.\\n\"Oh, didn\\'t you find it, madam?\" the girl asked her. \"Yes, I did,\" said the little lady. \"But there are four men in the ladies\\' lavatory watching television.\"',\n",
       " 'answer': 'C',\n",
       " 'question': 'The story happened  _  .',\n",
       " 'options': ['in the evening',\n",
       "  'in the afternoon',\n",
       "  'in the morning',\n",
       "  'at midnight']}"
      ]
     },
     "execution_count": 5,
     "metadata": {},
     "output_type": "execute_result"
    }
   ],
   "execution_count": 5
  },
  {
   "metadata": {
    "ExecuteTime": {
     "end_time": "2025-05-10T15:48:31.374544Z",
     "start_time": "2025-05-10T15:48:31.368226Z"
    }
   },
   "cell_type": "code",
   "source": [
    "prompted_dataset = PromptedEhvoy(data)\n",
    "prompted_dataset[0]"
   ],
   "id": "f4dc60e69af6eb07",
   "outputs": [
    {
     "data": {
      "text/plain": [
       "('Context: The air hostess   was in a small kitchen at the back of the plane, preparing the plates for lunch, when a little old lady came and spoke to her, \"Could you please tell me,\" she asked, \"where is the ladies\\' lavatory   in the plane?\"\\n\"Yes, madam,\" said the air hostess and smiled. \"It is right at the other end of the plane---at the front.\"\\nThe little lady went too far. She walked all the way to the front of the plane, opened the door in front of her, and saw the captain of the plane and the other officers. They were all busy with their work and did not see her. She went out again, shut the door and returned to the air hostess.\\n\"Oh, didn\\'t you find it, madam?\" the girl asked her. \"Yes, I did,\" said the little lady. \"But there are four men in the ladies\\' lavatory watching television.\"\\n\\nQuestions: The story happened  _  .\\n\\nOptions:\\nA) in the evening\\nB) in the afternoon\\nC) in the morning\\nD) at midnight\\n\\nAnswer:',\n",
       " 'C')"
      ]
     },
     "execution_count": 8,
     "metadata": {},
     "output_type": "execute_result"
    }
   ],
   "execution_count": 8
  },
  {
   "metadata": {
    "ExecuteTime": {
     "end_time": "2025-05-10T15:50:09.753178Z",
     "start_time": "2025-05-10T15:50:08.441873Z"
    }
   },
   "cell_type": "code",
   "source": [
    "data_frame = pd.DataFrame(columns=[\"x\", \"y\"])\n",
    "for i in range(len(prompted_dataset)):\n",
    "    x, y = prompted_dataset[i]\n",
    "    data_frame.loc[i] = [x, y]"
   ],
   "id": "1b0694b3c3ae056a",
   "outputs": [],
   "execution_count": 9
  },
  {
   "metadata": {
    "ExecuteTime": {
     "end_time": "2025-05-10T15:50:38.608819Z",
     "start_time": "2025-05-10T15:50:38.601292Z"
    }
   },
   "cell_type": "code",
   "source": "data_frame[\"y\"].value_counts()",
   "id": "697b638029e0cb3",
   "outputs": [
    {
     "data": {
      "text/plain": [
       "y\n",
       "D    228\n",
       "C    213\n",
       "B    208\n",
       "A    154\n",
       "Name: count, dtype: int64"
      ]
     },
     "execution_count": 11,
     "metadata": {},
     "output_type": "execute_result"
    }
   ],
   "execution_count": 11
  },
  {
   "metadata": {
    "ExecuteTime": {
     "end_time": "2025-05-10T15:51:56.835096Z",
     "start_time": "2025-05-10T15:51:56.829055Z"
    }
   },
   "cell_type": "code",
   "source": [
    "# add length of x as a column\n",
    "data_frame[\"x_length\"] = data_frame[\"x\"].apply(lambda x: len(x))"
   ],
   "id": "6c3cd86a8b837e06",
   "outputs": [],
   "execution_count": 12
  },
  {
   "metadata": {
    "ExecuteTime": {
     "end_time": "2025-05-10T15:52:14.074670Z",
     "start_time": "2025-05-10T15:52:14.069489Z"
    }
   },
   "cell_type": "code",
   "source": [
    "# show max and min length of x\n",
    "data_frame[\"x_length\"].max(), data_frame[\"x_length\"].min()"
   ],
   "id": "adef2239892e2fd3",
   "outputs": [
    {
     "data": {
      "text/plain": [
       "(np.int64(1919), np.int64(185))"
      ]
     },
     "execution_count": 13,
     "metadata": {},
     "output_type": "execute_result"
    }
   ],
   "execution_count": 13
  },
  {
   "metadata": {
    "ExecuteTime": {
     "end_time": "2025-05-10T15:52:25.721892Z",
     "start_time": "2025-05-10T15:52:25.715885Z"
    }
   },
   "cell_type": "code",
   "source": [
    "# show the text with max length\n",
    "data_frame.loc[data_frame[\"x_length\"].idxmax()][\"x\"]"
   ],
   "id": "2049e08b6b926685",
   "outputs": [
    {
     "data": {
      "text/plain": [
       "\"Context: The people below are needed to take part in a sport. After the description of these people, there is information about four sports(A-D). Decide which sport would be most suitable for the person mentioned in questions 58-61 and then mark the correct letter(A-D) on your answer sheet.\\n\\nQuestions: Jack is brave and risky and a good swimmer. He enjoys water game. He looks for excitement with his friend when they are on holiday.\\n\\nOptions:\\nA) Hiking is a great way to travel. You will get close to nature and take exercise at the same time. Hiking is easy to do and doesn't have to be very expensive. You can hike close to home or travel to other places. The basic equipment you need for hiking is simple: good shoes, clothes and a backpack. You can hike in the mountains, in a forest or along a river. You can also go for a hike in the city. Hiking is fun and exciting, but you shouldn't forget safety.\\nB) Rafting is a good way to experience nature. If you want a normal rafting trip, choose a quiet stream or river that is wide and has few fallen trees or rocks. If you are looking for more excitement you may want to try whitewater rafting. You should always think about your safety and wear good clothes. You also need to learn the basic skills of rafting, such as how to handle the raft, how to paddle and how to get in and out of the raft. You should not go rafting unless you know how to swim, and you should always wear a life jacket.\\nC) Swimming is a good way for swim lovers. You can reduce your weight and become slim by swimming. You can train your willpower and increase your energy of your lung. You can swim in the swimming pool, in the lake, in the river or even in the sea.\\nD) Long running is a good sport, for example, Marathom is very popular with young people especially people with strong body and will. If you have hypertension or heart disease, perhaps, it is not suitable for you.\\n\\nAnswer:\""
      ]
     },
     "execution_count": 14,
     "metadata": {},
     "output_type": "execute_result"
    }
   ],
   "execution_count": 14
  },
  {
   "metadata": {
    "ExecuteTime": {
     "end_time": "2025-05-10T15:54:41.503850Z",
     "start_time": "2025-05-10T15:54:39.150386Z"
    }
   },
   "cell_type": "code",
   "source": [
    "# grap x length distribution\n",
    "import matplotlib.pyplot as plt\n",
    "import seaborn as sns\n",
    "import numpy as np\n",
    "from scipy import stats\n",
    "import matplotlib.ticker as ticker\n",
    "\n",
    "plt.figure(figsize=(12, 6))\n",
    "sns.histplot(data_frame[\"x_length\"], bins=100, kde=True)\n",
    "plt.title(\"Distribution of Prompt Length\")\n",
    "plt.xlabel(\"Prompt Length\")\n",
    "plt.ylabel(\"Frequency\")\n",
    "plt.xlim(0, 2000)\n",
    "plt.xticks(np.arange(0, 2001, 100))\n",
    "plt.gca().xaxis.set_major_formatter(ticker.StrMethodFormatter('{x:,.0f}'))\n",
    "plt.gca().xaxis.set_major_locator(ticker.MultipleLocator(100))\n",
    "plt.grid(axis='y')\n",
    "plt.show()"
   ],
   "id": "89f6ed64b483fdf2",
   "outputs": [
    {
     "data": {
      "text/plain": [
       "<Figure size 1200x600 with 1 Axes>"
      ],
      "image/png": "[encoded data removed]"
     },
     "metadata": {},
     "output_type": "display_data"
    }
   ],
   "execution_count": 15
  },
  {
   "metadata": {
    "ExecuteTime": {
     "end_time": "2025-05-10T15:55:45.334504Z",
     "start_time": "2025-05-10T15:55:42.915704Z"
    }
   },
   "cell_type": "code",
   "source": [
    "# lets see what happens if i tokenize the longest prompt\n",
    "from model.llama_3_2_tokenizer import Llama32Tokenizer\n",
    "\n",
    "model_1B = \"meta-llama/Llama-3.2-1B\"\n",
    "tokenizer = Llama32Tokenizer(model_1B)\n",
    "\n",
    "longest_prompt = data_frame.loc[data_frame[\"x_length\"].idxmax()][\"x\"]"
   ],
   "id": "4420af986d7a4e22",
   "outputs": [],
   "execution_count": 16
  },
  {
   "metadata": {
    "ExecuteTime": {
     "end_time": "2025-05-10T15:55:55.925585Z",
     "start_time": "2025-05-10T15:55:55.690111Z"
    }
   },
   "cell_type": "code",
   "source": "tokenized_prompt = tokenizer(longest_prompt)",
   "id": "f91dab26e681e763",
   "outputs": [],
   "execution_count": 17
  },
  {
   "metadata": {
    "ExecuteTime": {
     "end_time": "2025-05-10T15:56:00.952819Z",
     "start_time": "2025-05-10T15:56:00.946846Z"
    }
   },
   "cell_type": "code",
   "source": "len(tokenized_prompt[\"input_ids\"][0]), len(tokenized_prompt[\"attention_mask\"][0])",
   "id": "d8309a6c67412415",
   "outputs": [
    {
     "data": {
      "text/plain": [
       "(433, 433)"
      ]
     },
     "execution_count": 18,
     "metadata": {},
     "output_type": "execute_result"
    }
   ],
   "execution_count": 18
  }
 ],
 "metadata": {
  "kernelspec": {
   "display_name": "Python 3",
   "language": "python",
   "name": "python3"
  },
  "language_info": {
   "codemirror_mode": {
    "name": "ipython",
    "version": 2
   },
   "file_extension": ".py",
   "mimetype": "text/x-python",
   "name": "python",
   "nbconvert_exporter": "python",
   "pygments_lexer": "ipython2",
   "version": "2.7.6"
  }
 },
 "nbformat": 4,
 "nbformat_minor": 5
}
