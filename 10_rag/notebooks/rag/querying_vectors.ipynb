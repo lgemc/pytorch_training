{
 "cells": [
  {
   "cell_type": "code",
   "id": "initial_id",
   "metadata": {
    "collapsed": true,
    "ExecuteTime": {
     "end_time": "2025-05-17T19:15:23.873235Z",
     "start_time": "2025-05-17T19:15:23.866275Z"
    }
   },
   "source": [
    "from models_.building.pubmed_tokenizer import  load_query_tokenizer as load_tokenizer\n",
    "\n",
    "from data.pubmed.from_json import FromJsonDataset\n",
    "from data.pubmed.contents import ContentsDataset\n",
    "\n",
    "from storage.faiss_ import FaissStorage\n",
    "\n",
    "from rag.tokenization.llama import build_tokenizer_function\n",
    "from rag.quering import build_querier"
   ],
   "outputs": [],
   "execution_count": 34
  },
  {
   "metadata": {
    "ExecuteTime": {
     "end_time": "2025-05-17T19:15:25.692375Z",
     "start_time": "2025-05-17T19:15:23.921707Z"
    }
   },
   "cell_type": "code",
   "source": [
    "storage = FaissStorage(\n",
    "    dimension=800,\n",
    ")\n",
    "\n",
    "storage.load(\"../outputs/store/pubmed_500K.index\")"
   ],
   "id": "b75ad4906067f625",
   "outputs": [],
   "execution_count": 35
  },
  {
   "metadata": {
    "ExecuteTime": {
     "end_time": "2025-05-17T19:15:25.917428Z",
     "start_time": "2025-05-17T19:15:25.720271Z"
    }
   },
   "cell_type": "code",
   "source": [
    "tokenizer = load_tokenizer()\n",
    "tokenizer_fn = build_tokenizer_function(tokenizer)"
   ],
   "id": "c9244927e81a3c31",
   "outputs": [],
   "execution_count": 36
  },
  {
   "metadata": {
    "ExecuteTime": {
     "end_time": "2025-05-17T19:15:28.983631Z",
     "start_time": "2025-05-17T19:15:25.935997Z"
    }
   },
   "cell_type": "code",
   "source": [
    "data = FromJsonDataset(json_file=\"../data/pubmed_500K.json\")\n",
    "data = ContentsDataset(data)"
   ],
   "id": "f433bc0d77c4bf0b",
   "outputs": [],
   "execution_count": 37
  },
  {
   "metadata": {
    "ExecuteTime": {
     "end_time": "2025-05-17T19:15:29.010481Z",
     "start_time": "2025-05-17T19:15:29.006425Z"
    }
   },
   "cell_type": "code",
   "source": "query = \"Decrease of iconic memory after alcohol.\"",
   "id": "8b7f11f071853901",
   "outputs": [],
   "execution_count": 38
  },
  {
   "metadata": {
    "ExecuteTime": {
     "end_time": "2025-05-17T19:15:29.388961Z",
     "start_time": "2025-05-17T19:15:29.052518Z"
    }
   },
   "cell_type": "code",
   "source": [
    "# search the index\n",
    "k = 5\n",
    "querier = build_querier(storage, data, tokenizer_fn)\n",
    "D, I = querier(query, k)"
   ],
   "id": "2b848d2257aa1507",
   "outputs": [],
   "execution_count": 39
  },
  {
   "metadata": {
    "ExecuteTime": {
     "end_time": "2025-05-17T19:15:29.424743Z",
     "start_time": "2025-05-17T19:15:29.415856Z"
    }
   },
   "cell_type": "code",
   "source": "I",
   "id": "214bb52dc007f51e",
   "outputs": [
    {
     "data": {
      "text/plain": [
       "[\"3,3'-Diiodothyronine production, a major pathway of peripheral iodothyronine metabolism in man. 3,3'-Diiodothyronine (3,3'-T(2)) has been detected in human serum and in thyroglobulin. However, no quantitative assessment of its clearance rate (CR), production rate (PR), or of the importance of extrathyroidal sources of 3,3'-T(2) relative to direct thyroidal secretion is yet available. This study examines these parameters in seven euthyroid subjects, and in eight athyreotic subjects (H) eumetabolic due to thyroxine therapy (HT(4)) (n = 5) or triiodothyronine replacement (HT(3)) (n = 3). A highly specific radioimmunoassay for the measurement of 3,3'-T(2) in whole serum was developed. Serum 3,3'-T(2) concentrations were (mean +/- SD) 6.0+/-1.0 ng/100 ml in 13 normal subjects, 9.0+/-4.6 ng/100 ml in 25 hyperthyroid patients, and 2.7+/-1.1 ng/100 ml in 17 hypothyroid patients. The values in each of the latter two groups were significantly different from normal. 3,3'-T(2) was detected regularly in normal concentrations in 11 hypothyroid patients eumetabolic by treatment with synthetic T(4), in 10 eumetabolic patients suffering from nonthyroidal systemic illness, and in 2 subjects with elevated serum T(4)-binding globulin. The 3,3'-T(2) CR was assessed from data acquired from the (125)I-3,3'-T(2) constant infusion technique. The 3,3'-T(2) PR was calculated from CR and serum concentration of 3,3'-T(2) determined by radio-immunoassay. In the HT(4) subjects the 3,3'-T(2) CR averaged 840+/-377 liters/day and 3,3'-T(2) PR 33.9+/-12.5 mug/day. These results were not significantly different from those in the control group: 3,3'-T(2) CR 628+/-218 liters/day and 3,3'-T(2) PR 39.8+/-19.8 mug/day (all corrected to 70 kg body wt). In addition to 3,3'-T(2) PR, T(3), and reverse triiodothyronine (rT(3)) PR were determined in three of the HT(4) subjects. In each case studied, the 3,3'-T(2) PR was close to the combined triiodothyronine (T(3) + rT(3)) PR. The mean molar ratio of T(2) PR/(T(3) + rT(3)) PR was 1.08+/-0.10. The results obtained in the HT(4) subjects indicate that the production of 3,3'-T(2) is a major route of T(4) metabolism. The combined studies of 3,3'-T(2), T(3) and rT(3) PR in the HT(4) subjects indicate that both T(3) and rT(3) are major precursors of 3,3'-T(2). In the HT(3) subjects, the conversion of T(3) to 3,3'-T(2), determined as the molar ratio of 3,3'-T(2) PR to T(3) PR, ranged from 0.36 to 0.92, providing further evidence that T(3) is a precursor of 3,3'-T(2). From the close agreement between the mean values for 3,3'-T(2) PR in the euthyroid and HT(4) group it is concluded that most, if not all of the 3,3'-T(2) produced in normal humans is derived by extrathyroidal conversion from T(3) and rT(3).\",\n",
       " \"Physiological and pharmacological influences on thyroxine to 3,5,3'-triiodothyronine conversion and nuclear 3,5,3'-triiodothyronine binding in rat anterior pituitary. Our recent in vivo studies have suggested that intrapituitary l-thyroxine (T(4)) to 3,5,3'-triiodo-l-thyronine (T(3)) conversion with subsequent nuclear binding of T(3) is an important pathway by which circulating T(4) can inhibit thyrotropin release. The present studies were performed to evaluate various physiological and pharmacological influences on these two processes in rat anterior pituitary tissue. Intact pituitary fragments were incubated in buffer-1% bovine serum albumin containing 0.14 ng/ml [(131)I]T(3) and 3.8 ng/ml [(125)I]T(4). Nuclei were isolated after 3 h of incubation and the bound iodothyronines identified by paper chromatography. There was 0.3-1% [(125)I]T(3) contaminating the medium [(125)I]T(4), and this did not change during incubation. Nuclear [(125)I]T(4) was not decreased by 650-fold excesses of medium T(3) or T(4), suggesting that it was nonspecifically bound. The ratio of nuclear to medium [(131)I]- and [(125)I]T(3) were expressed as nuclear counts per minute per milligram wet weight of tissue:counts per minute per microliter medium. Intrapituitary T(4) to T(3) conversion was evidenced by the fact that the nuclear:medium (N:M) ratio for [(131)I]T(3) was 0.45+/-0.21, whereas that for [(125)I]T(3) was 2.23+/-1.28 (mean+/-SD, n = 51). A ratio (R), the N:M [(125)I]T(3) divided by the N:M [(131)I]T(3), was used as an index of intrapituitary T(4) to T(3) conversion. Increasing medium T(3) concentrations up to 50 ng/ml caused a progressive decrease in the N:M ratio for both T(3) isotopes, but no change in the value for R, indicating that both competed for the same limited-capacity nuclear receptors. Increasing concentrations of medium T(4) caused no change in the N:M [(131)I]T(3) but did cause a significant decrease in R in three of four experiments. These results suggest saturation of T(4)-5'-monodeiodination occurred at lower T(4) concentrations than saturation of nuclear T(3) binding sites. In hypothyroid rats, the N:M ratios for both [(131)I]T(3) and [(125)I]T(3) were increased (P &lt; 0.005), but R was three-fold higher than in controls (P &lt; 0.005). Animals given 10 mug T(4)/100 g body wt per d for 5 d had significantly decreased N:M ratios for both [(131)I]T(3) and [(125)I]T(3), as well as a decreased value for R. In fasted rats, neither N:M ratio was depressed, although hepatic T(4) to T(3) conversion in the same animals was 50% of control (P &lt; 0.005). Iopanoic acid (13 muM), but not 6-n-propylthiouracil (29 muM), decreased the N:M [(125)I]T(3) with a significant decrease in the value for R (P &lt; 0.025 or less). Neither sodium iodide (6 muM) nor thyrotropin-releasing hormone (7-700 nM) affected the T(3) N:M ratios. These results indicate that intrapituitary T(4) to T(3) conversion is stimulated in hypothyroidism and depressed in T(4)-treated animals, whereas opposite changes occur in hepatic T(4)-5'-monodeiodination. Unlike liver, anterior pituitary T(4)-5'-monodeiodination is not affected by fasting or incubation with 6-n-propyl-2-thiouracil, but T(4) to T(3) conversion is inhibited in both by iopanoic acid. These results indicate that there are important differences between anterior pituitary and other tissues in the regulation of T(4)-5'-monodeiodination.\",\n",
       " 'Metabolism of resorcinylic compounds by bacteria. Purification and properties of orcinol hydroxylase from Pseudomonas putida 01. Orcinol hydroxylase (EC 1.14.13.6), which catalyzes the first reaction of orcinol catabolism in Pseudomonas putida 01, has been purified to homogeneity, and crystallized. Orcinol hydroxylase catalyzes the hydroxylation of orcinol with equimolar consumption of O2 and NADH (or NADPH) to 2, 3, 5-trihydroxytoluene, which is nonenzymically oxidized to a quinone. The visible absorption spectrum of the enzyme shows maxima at 373 and 454 nm and a shoulder at 480 nm. FAD can be dissociated from the protein. Reconstitution of enzymic activity was achieved with FAD, and to a limited extent by FMN. The enzyme has a molecular weight of 63,000 to 68,000 and contains 1 mol of FAD per mol of protein. K-m values for the three substrates orcinol, NADH, and O2 are 0.03, 0.13, and 0.07mM, RESPECTIVELY. The molecular activity of the crystalline enzyme is 1560 min minus 1. In the absence of orcinol, NADH is only slowly oxidized with formation of H2O2. Several analogs of orcinol also serve as substrates for hydroxylation, namely resorcinol, 4-methylresorcinol, and 4-bromoresorcinol. Other analogs, m-cresol, m-ethylphenol, 4-ethylresorcinol, and phloroglucinol, mimic orcinol as effectors, in that they (a) accelerate electron flow from NADH to the flavin and (b) decrease the apparent K-m for NADH but not to the same extent as the substrates that are hydroxylated. The latter compounds are not hydroxylated. Instead H2O2 accumulates as the only product of O2 reduction. The enzyme therefore behaves either as a hydroxylase or an oxidase. The ratio of hydroxylase to oxidase activities of the enzyme is decreased by an increase in the temperature of incubation; at 60 degrees the reaction with orcinol is almost 50% uncoupled from hydroxylation. The apparent K-m values for the effectors are in good agreement with the D-D values obtained for orcinol, resorcinol, and m-cresol. K-D values were obtained by measurement of the effector-induced perturbations of the visible absorption spectrum of the flavoprotein by difference absorption spectroscopy. The circular dichroism spectrum of orcinol hydroxylase is also altered in the presence of orcinol. The participation of the flavin in the over-all reaction is demonstrated by its rapid reduction under anaerobic conditions by NADH in the presence or orcinol, resorcinol, or m-cresol. Subsequent introduction of oxygen restores the oxidized form and yields H2O2 when m-cresol is the effector, but not when orcinol is the effector. Transfer of reducing equivalents from the reduced flavoprotein to free FAD may also occur. Reduction of orcinol hydroxylase by NADH in the absence of an effector is 10-4-fold slower than in the presence of an effector. The minimal structural requirements for effectors appear to be a 1,3-dihydroxy or 1-alkyl-3-hydorxybenzene, but only the former are substrates for hydroxylation.',\n",
       " \"[Production and absorption rate of cerebrospinal fluid in the spinal subarachnoid space of the dog (author's transl)]. Adult mongrel dogs, weighing 10-17 kg. were anesthetized with Nembutal and cervical and lumbosacral laminectomy was performed. The spinal subarachnoid space was blocked by extradural ligation at the level of the C4 to interrupt CSF communication between the cranial and spinal space. Polyethylene catheters were placed in the cervical and lumbosacral subarachnoid space, and artificial Mock CSF buffer, pH 7.35-7.40, containing inulin of 25 mg/dl or 14C-inulin of 1.5-2 muCi/dl as a tracer was perfused in the sacro-cervical direction through the catheter. After a steady state of perfusion was acommplished, the CSF was collected from the outlet catheter. Production and absorption rate of the CSF were calculated after Pappenheimer and Heisey's equation. 1) Effects of CSF pressure on the rate of production (Vf) and absorption (Va) of CSF and on the difference between outflow fluid rate (Vo) and inflow fluid rate (Vi) were studied within the pressure range of -100 to +600 mmH2O. Then, regression lines were calculated by means of the least square method. See Article. Vf was little affected by changes in CSF pressure, while Va increased linearly as CSF pressure elevated. This suggests that the spinal subarachnoid space plays an important role as a site of CSF absorption when the intracranial pressure increases. Vo-Vi, that is difference between absorption and production rate, decreased linearly as the CSF pressure increased. 2) Under a constant CSF pressure of +200 mmH2O, the effects of glucocorticoids (dexamethasone, 0.25 mg/kg and hydrocortisone, 4.15 mg/kg) and a carbonic anhydrase inhibitor (acetazolamide, 10 mg/kg) upon the production and absorption rate of CSF were determined 1/2, 1, 2 and 3 hours after intravenous administration. a) Effect of dexamethasone: The rate of CSF production was reduced to 60.5 +/- 2.4% (p less than 0.001) of the control level. The absorption rate of CSF also decreased to 59.2 +/- 6.09% (p less than 0.001) of the control. b) Effect of hydrocortisone: The production rate of CSF decreased to 67.4 +/- 6.61% (p less than 0.001), and the absorption rate to 76.5 +/- 3.94% (p less than 0.001) of the control level. c) Effect of acetazolamide: The production and absorption rate also decreased to 57.2 +/- 5.61% (p less than 0.001) and to 56.9 +/- 7.02% (p less than 0.001), respectively. 3) Pentration of tritiated dexamethasone and tritiated hydrocortisone from plasma to CSF. The penetration of tritiated dexamethasone and tritiated hydrocortisone from plasma to CSF in the spinal and cranial subarachnoid space was observed after the intravenous administration. The CSF/Plasma ratio of dexamethasone was 30.9% at 15 minutes and gradually increased to 91.5% and 93.5%, respectively, in the cranial and spinal CSF at 3 hours after the injection.\",\n",
       " \"The role of sulfhydryl groups on the impaired hepatic 3',3,5-triiodothyronine generation from thyroxine in the hypothyroid, starved, fetal, and neonatal rodent. The role of nonprotein sulfhydryl groups (NPSH) in the decreased in vitro hepatic 3',3,5-triiodothyronine (T(3)) generation from thyroxine (T(4)) in the starved, hypothyroid, fetal and 1- to 4-d-old neonatal rat and dwarf mouse was assessed. NPSH were measured in fresh 25% liver homogenates prepared in 0.1 M PO(4)/10 mM EDTA buffer. As compared with values in adult male rats, NPSH concentration was decreased in the 2-d-starved (1.1+/-0.04 (mean+/-SE) vs. 2.2+/-0.15 mmol/250 g wet liver weight, P &lt; 0.001), fetal (1.0+/-0.04 vs. 3.2+/-0.08, P &lt; 0.001), 1-d-old neonatal (1.1+/-0.03 vs. 2.1+/-0.04, P &lt; 0.001), and hypothyroid (thyroidectomized 60 d) (1.4+/-0.06 vs. 2.2+/-0.15 P &lt; 0.001) rat. NPSH were also decreased in the hypothyroid, hypopituitary dwarf mouse as compared with values in their normal litter mates (1.3+/-0.03 vs. 2.0+/-0.2, P &lt; 0.01). Chronic administration of T(3) (0.5 mug/100 g body wt per d) markedly increased hepatic T(3) generation from T(4) in the thyroidectomized rat and in the dwarf mouse to values similar to those observed in the normal rodent without affecting NPSH concentration. In contrast, T(3) administration to the starved rat did not alter either hepatic T(3) generation from T(4) or NPSH. Reduced glutathione concentration was also markedly decreased in the starved rat (fed; 1.05+/-0.075 mmol/250 g wet tissue vs. starved 0.38+/-0.02, P &lt; 0.001). Dithiothreitol (DTT), a thiol reducing agent, increased hepatic T(3) generation from T(4) in the normal adult male rat by 45+/-5% in six experiments. When compared to DTT-stimulated control homogenates, the addition of DTT completely restored hepatic T(3) generation in starved rats, partially restored T(3) generation in 1- and 4-d-old neonates, but had little or no effect in the fetal and hypothyroid rat and dwarf mouse. Liver homogenates stored for 6 mo at -20 degrees C lost their capacity to generate T(3) from T(4). NPSH concentrations in the frozen homogenates decreased progressively with increasing storage and were absent by 6 mo. 5'-Deiodinase activity correlated with NPSH concentration in the stored homogenates (r = 0.95, P &lt; 0.005). Addition of DTT partially restored hepatic T(3) generation in the frozen homogenate. It is concluded that NPSH are important for the action of the liver 5'-deiodinase. The decreased hepatic T(3) generation in the starved rat is associated with decreased NPSH but not with a decrease in the absolute quantity of 5'-deiodinase because provision of sulfhydryl groups restored hepatic T(3) generation to normal. In contrast, the decreased hepatic T(3) generation in the adult hypothyroid rodent and in the fetal rat is probably due to a decrease in the enzyme concentration per se. In the 1- and 4-d neonatal rat, the decrease in hepatic T(3) generation is secondary to a decrease in NPSH and the deiodinating enzyme.\"]"
      ]
     },
     "execution_count": 40,
     "metadata": {},
     "output_type": "execute_result"
    }
   ],
   "execution_count": 40
  },
  {
   "metadata": {
    "ExecuteTime": {
     "end_time": "2025-05-17T19:15:29.474208Z",
     "start_time": "2025-05-17T19:15:29.468621Z"
    }
   },
   "cell_type": "code",
   "source": "D",
   "id": "111cacfb08c42e59",
   "outputs": [
    {
     "data": {
      "text/plain": [
       "[171539365888.0,\n",
       " 224323829760.0,\n",
       " 226616164352.0,\n",
       " 232985919488.0,\n",
       " 234069327872.0]"
      ]
     },
     "execution_count": 41,
     "metadata": {},
     "output_type": "execute_result"
    }
   ],
   "execution_count": 41
  },
  {
   "metadata": {
    "ExecuteTime": {
     "end_time": "2025-05-17T19:15:29.538161Z",
     "start_time": "2025-05-17T19:15:29.529207Z"
    }
   },
   "cell_type": "code",
   "source": [
    "# get the data from the index\n",
    "for i in range(0, len(I)):\n",
    "    print(I[i])"
   ],
   "id": "b473262db4ccd81",
   "outputs": [
    {
     "name": "stdout",
     "output_type": "stream",
     "text": [
      "3,3'-Diiodothyronine production, a major pathway of peripheral iodothyronine metabolism in man. 3,3'-Diiodothyronine (3,3'-T(2)) has been detected in human serum and in thyroglobulin. However, no quantitative assessment of its clearance rate (CR), production rate (PR), or of the importance of extrathyroidal sources of 3,3'-T(2) relative to direct thyroidal secretion is yet available. This study examines these parameters in seven euthyroid subjects, and in eight athyreotic subjects (H) eumetabolic due to thyroxine therapy (HT(4)) (n = 5) or triiodothyronine replacement (HT(3)) (n = 3). A highly specific radioimmunoassay for the measurement of 3,3'-T(2) in whole serum was developed. Serum 3,3'-T(2) concentrations were (mean +/- SD) 6.0+/-1.0 ng/100 ml in 13 normal subjects, 9.0+/-4.6 ng/100 ml in 25 hyperthyroid patients, and 2.7+/-1.1 ng/100 ml in 17 hypothyroid patients. The values in each of the latter two groups were significantly different from normal. 3,3'-T(2) was detected regularly in normal concentrations in 11 hypothyroid patients eumetabolic by treatment with synthetic T(4), in 10 eumetabolic patients suffering from nonthyroidal systemic illness, and in 2 subjects with elevated serum T(4)-binding globulin. The 3,3'-T(2) CR was assessed from data acquired from the (125)I-3,3'-T(2) constant infusion technique. The 3,3'-T(2) PR was calculated from CR and serum concentration of 3,3'-T(2) determined by radio-immunoassay. In the HT(4) subjects the 3,3'-T(2) CR averaged 840+/-377 liters/day and 3,3'-T(2) PR 33.9+/-12.5 mug/day. These results were not significantly different from those in the control group: 3,3'-T(2) CR 628+/-218 liters/day and 3,3'-T(2) PR 39.8+/-19.8 mug/day (all corrected to 70 kg body wt). In addition to 3,3'-T(2) PR, T(3), and reverse triiodothyronine (rT(3)) PR were determined in three of the HT(4) subjects. In each case studied, the 3,3'-T(2) PR was close to the combined triiodothyronine (T(3) + rT(3)) PR. The mean molar ratio of T(2) PR/(T(3) + rT(3)) PR was 1.08+/-0.10. The results obtained in the HT(4) subjects indicate that the production of 3,3'-T(2) is a major route of T(4) metabolism. The combined studies of 3,3'-T(2), T(3) and rT(3) PR in the HT(4) subjects indicate that both T(3) and rT(3) are major precursors of 3,3'-T(2). In the HT(3) subjects, the conversion of T(3) to 3,3'-T(2), determined as the molar ratio of 3,3'-T(2) PR to T(3) PR, ranged from 0.36 to 0.92, providing further evidence that T(3) is a precursor of 3,3'-T(2). From the close agreement between the mean values for 3,3'-T(2) PR in the euthyroid and HT(4) group it is concluded that most, if not all of the 3,3'-T(2) produced in normal humans is derived by extrathyroidal conversion from T(3) and rT(3).\n",
      "Physiological and pharmacological influences on thyroxine to 3,5,3'-triiodothyronine conversion and nuclear 3,5,3'-triiodothyronine binding in rat anterior pituitary. Our recent in vivo studies have suggested that intrapituitary l-thyroxine (T(4)) to 3,5,3'-triiodo-l-thyronine (T(3)) conversion with subsequent nuclear binding of T(3) is an important pathway by which circulating T(4) can inhibit thyrotropin release. The present studies were performed to evaluate various physiological and pharmacological influences on these two processes in rat anterior pituitary tissue. Intact pituitary fragments were incubated in buffer-1% bovine serum albumin containing 0.14 ng/ml [(131)I]T(3) and 3.8 ng/ml [(125)I]T(4). Nuclei were isolated after 3 h of incubation and the bound iodothyronines identified by paper chromatography. There was 0.3-1% [(125)I]T(3) contaminating the medium [(125)I]T(4), and this did not change during incubation. Nuclear [(125)I]T(4) was not decreased by 650-fold excesses of medium T(3) or T(4), suggesting that it was nonspecifically bound. The ratio of nuclear to medium [(131)I]- and [(125)I]T(3) were expressed as nuclear counts per minute per milligram wet weight of tissue:counts per minute per microliter medium. Intrapituitary T(4) to T(3) conversion was evidenced by the fact that the nuclear:medium (N:M) ratio for [(131)I]T(3) was 0.45+/-0.21, whereas that for [(125)I]T(3) was 2.23+/-1.28 (mean+/-SD, n = 51). A ratio (R), the N:M [(125)I]T(3) divided by the N:M [(131)I]T(3), was used as an index of intrapituitary T(4) to T(3) conversion. Increasing medium T(3) concentrations up to 50 ng/ml caused a progressive decrease in the N:M ratio for both T(3) isotopes, but no change in the value for R, indicating that both competed for the same limited-capacity nuclear receptors. Increasing concentrations of medium T(4) caused no change in the N:M [(131)I]T(3) but did cause a significant decrease in R in three of four experiments. These results suggest saturation of T(4)-5'-monodeiodination occurred at lower T(4) concentrations than saturation of nuclear T(3) binding sites. In hypothyroid rats, the N:M ratios for both [(131)I]T(3) and [(125)I]T(3) were increased (P &lt; 0.005), but R was three-fold higher than in controls (P &lt; 0.005). Animals given 10 mug T(4)/100 g body wt per d for 5 d had significantly decreased N:M ratios for both [(131)I]T(3) and [(125)I]T(3), as well as a decreased value for R. In fasted rats, neither N:M ratio was depressed, although hepatic T(4) to T(3) conversion in the same animals was 50% of control (P &lt; 0.005). Iopanoic acid (13 muM), but not 6-n-propylthiouracil (29 muM), decreased the N:M [(125)I]T(3) with a significant decrease in the value for R (P &lt; 0.025 or less). Neither sodium iodide (6 muM) nor thyrotropin-releasing hormone (7-700 nM) affected the T(3) N:M ratios. These results indicate that intrapituitary T(4) to T(3) conversion is stimulated in hypothyroidism and depressed in T(4)-treated animals, whereas opposite changes occur in hepatic T(4)-5'-monodeiodination. Unlike liver, anterior pituitary T(4)-5'-monodeiodination is not affected by fasting or incubation with 6-n-propyl-2-thiouracil, but T(4) to T(3) conversion is inhibited in both by iopanoic acid. These results indicate that there are important differences between anterior pituitary and other tissues in the regulation of T(4)-5'-monodeiodination.\n",
      "Metabolism of resorcinylic compounds by bacteria. Purification and properties of orcinol hydroxylase from Pseudomonas putida 01. Orcinol hydroxylase (EC 1.14.13.6), which catalyzes the first reaction of orcinol catabolism in Pseudomonas putida 01, has been purified to homogeneity, and crystallized. Orcinol hydroxylase catalyzes the hydroxylation of orcinol with equimolar consumption of O2 and NADH (or NADPH) to 2, 3, 5-trihydroxytoluene, which is nonenzymically oxidized to a quinone. The visible absorption spectrum of the enzyme shows maxima at 373 and 454 nm and a shoulder at 480 nm. FAD can be dissociated from the protein. Reconstitution of enzymic activity was achieved with FAD, and to a limited extent by FMN. The enzyme has a molecular weight of 63,000 to 68,000 and contains 1 mol of FAD per mol of protein. K-m values for the three substrates orcinol, NADH, and O2 are 0.03, 0.13, and 0.07mM, RESPECTIVELY. The molecular activity of the crystalline enzyme is 1560 min minus 1. In the absence of orcinol, NADH is only slowly oxidized with formation of H2O2. Several analogs of orcinol also serve as substrates for hydroxylation, namely resorcinol, 4-methylresorcinol, and 4-bromoresorcinol. Other analogs, m-cresol, m-ethylphenol, 4-ethylresorcinol, and phloroglucinol, mimic orcinol as effectors, in that they (a) accelerate electron flow from NADH to the flavin and (b) decrease the apparent K-m for NADH but not to the same extent as the substrates that are hydroxylated. The latter compounds are not hydroxylated. Instead H2O2 accumulates as the only product of O2 reduction. The enzyme therefore behaves either as a hydroxylase or an oxidase. The ratio of hydroxylase to oxidase activities of the enzyme is decreased by an increase in the temperature of incubation; at 60 degrees the reaction with orcinol is almost 50% uncoupled from hydroxylation. The apparent K-m values for the effectors are in good agreement with the D-D values obtained for orcinol, resorcinol, and m-cresol. K-D values were obtained by measurement of the effector-induced perturbations of the visible absorption spectrum of the flavoprotein by difference absorption spectroscopy. The circular dichroism spectrum of orcinol hydroxylase is also altered in the presence of orcinol. The participation of the flavin in the over-all reaction is demonstrated by its rapid reduction under anaerobic conditions by NADH in the presence or orcinol, resorcinol, or m-cresol. Subsequent introduction of oxygen restores the oxidized form and yields H2O2 when m-cresol is the effector, but not when orcinol is the effector. Transfer of reducing equivalents from the reduced flavoprotein to free FAD may also occur. Reduction of orcinol hydroxylase by NADH in the absence of an effector is 10-4-fold slower than in the presence of an effector. The minimal structural requirements for effectors appear to be a 1,3-dihydroxy or 1-alkyl-3-hydorxybenzene, but only the former are substrates for hydroxylation.\n",
      "[Production and absorption rate of cerebrospinal fluid in the spinal subarachnoid space of the dog (author's transl)]. Adult mongrel dogs, weighing 10-17 kg. were anesthetized with Nembutal and cervical and lumbosacral laminectomy was performed. The spinal subarachnoid space was blocked by extradural ligation at the level of the C4 to interrupt CSF communication between the cranial and spinal space. Polyethylene catheters were placed in the cervical and lumbosacral subarachnoid space, and artificial Mock CSF buffer, pH 7.35-7.40, containing inulin of 25 mg/dl or 14C-inulin of 1.5-2 muCi/dl as a tracer was perfused in the sacro-cervical direction through the catheter. After a steady state of perfusion was acommplished, the CSF was collected from the outlet catheter. Production and absorption rate of the CSF were calculated after Pappenheimer and Heisey's equation. 1) Effects of CSF pressure on the rate of production (Vf) and absorption (Va) of CSF and on the difference between outflow fluid rate (Vo) and inflow fluid rate (Vi) were studied within the pressure range of -100 to +600 mmH2O. Then, regression lines were calculated by means of the least square method. See Article. Vf was little affected by changes in CSF pressure, while Va increased linearly as CSF pressure elevated. This suggests that the spinal subarachnoid space plays an important role as a site of CSF absorption when the intracranial pressure increases. Vo-Vi, that is difference between absorption and production rate, decreased linearly as the CSF pressure increased. 2) Under a constant CSF pressure of +200 mmH2O, the effects of glucocorticoids (dexamethasone, 0.25 mg/kg and hydrocortisone, 4.15 mg/kg) and a carbonic anhydrase inhibitor (acetazolamide, 10 mg/kg) upon the production and absorption rate of CSF were determined 1/2, 1, 2 and 3 hours after intravenous administration. a) Effect of dexamethasone: The rate of CSF production was reduced to 60.5 +/- 2.4% (p less than 0.001) of the control level. The absorption rate of CSF also decreased to 59.2 +/- 6.09% (p less than 0.001) of the control. b) Effect of hydrocortisone: The production rate of CSF decreased to 67.4 +/- 6.61% (p less than 0.001), and the absorption rate to 76.5 +/- 3.94% (p less than 0.001) of the control level. c) Effect of acetazolamide: The production and absorption rate also decreased to 57.2 +/- 5.61% (p less than 0.001) and to 56.9 +/- 7.02% (p less than 0.001), respectively. 3) Pentration of tritiated dexamethasone and tritiated hydrocortisone from plasma to CSF. The penetration of tritiated dexamethasone and tritiated hydrocortisone from plasma to CSF in the spinal and cranial subarachnoid space was observed after the intravenous administration. The CSF/Plasma ratio of dexamethasone was 30.9% at 15 minutes and gradually increased to 91.5% and 93.5%, respectively, in the cranial and spinal CSF at 3 hours after the injection.\n",
      "The role of sulfhydryl groups on the impaired hepatic 3',3,5-triiodothyronine generation from thyroxine in the hypothyroid, starved, fetal, and neonatal rodent. The role of nonprotein sulfhydryl groups (NPSH) in the decreased in vitro hepatic 3',3,5-triiodothyronine (T(3)) generation from thyroxine (T(4)) in the starved, hypothyroid, fetal and 1- to 4-d-old neonatal rat and dwarf mouse was assessed. NPSH were measured in fresh 25% liver homogenates prepared in 0.1 M PO(4)/10 mM EDTA buffer. As compared with values in adult male rats, NPSH concentration was decreased in the 2-d-starved (1.1+/-0.04 (mean+/-SE) vs. 2.2+/-0.15 mmol/250 g wet liver weight, P &lt; 0.001), fetal (1.0+/-0.04 vs. 3.2+/-0.08, P &lt; 0.001), 1-d-old neonatal (1.1+/-0.03 vs. 2.1+/-0.04, P &lt; 0.001), and hypothyroid (thyroidectomized 60 d) (1.4+/-0.06 vs. 2.2+/-0.15 P &lt; 0.001) rat. NPSH were also decreased in the hypothyroid, hypopituitary dwarf mouse as compared with values in their normal litter mates (1.3+/-0.03 vs. 2.0+/-0.2, P &lt; 0.01). Chronic administration of T(3) (0.5 mug/100 g body wt per d) markedly increased hepatic T(3) generation from T(4) in the thyroidectomized rat and in the dwarf mouse to values similar to those observed in the normal rodent without affecting NPSH concentration. In contrast, T(3) administration to the starved rat did not alter either hepatic T(3) generation from T(4) or NPSH. Reduced glutathione concentration was also markedly decreased in the starved rat (fed; 1.05+/-0.075 mmol/250 g wet tissue vs. starved 0.38+/-0.02, P &lt; 0.001). Dithiothreitol (DTT), a thiol reducing agent, increased hepatic T(3) generation from T(4) in the normal adult male rat by 45+/-5% in six experiments. When compared to DTT-stimulated control homogenates, the addition of DTT completely restored hepatic T(3) generation in starved rats, partially restored T(3) generation in 1- and 4-d-old neonates, but had little or no effect in the fetal and hypothyroid rat and dwarf mouse. Liver homogenates stored for 6 mo at -20 degrees C lost their capacity to generate T(3) from T(4). NPSH concentrations in the frozen homogenates decreased progressively with increasing storage and were absent by 6 mo. 5'-Deiodinase activity correlated with NPSH concentration in the stored homogenates (r = 0.95, P &lt; 0.005). Addition of DTT partially restored hepatic T(3) generation in the frozen homogenate. It is concluded that NPSH are important for the action of the liver 5'-deiodinase. The decreased hepatic T(3) generation in the starved rat is associated with decreased NPSH but not with a decrease in the absolute quantity of 5'-deiodinase because provision of sulfhydryl groups restored hepatic T(3) generation to normal. In contrast, the decreased hepatic T(3) generation in the adult hypothyroid rodent and in the fetal rat is probably due to a decrease in the enzyme concentration per se. In the 1- and 4-d neonatal rat, the decrease in hepatic T(3) generation is secondary to a decrease in NPSH and the deiodinating enzyme.\n"
     ]
    }
   ],
   "execution_count": 42
  },
  {
   "metadata": {
    "ExecuteTime": {
     "end_time": "2025-05-17T19:15:29.617561Z",
     "start_time": "2025-05-17T19:15:29.612188Z"
    }
   },
   "cell_type": "code",
   "source": "",
   "id": "7adab46ba99d7a6b",
   "outputs": [],
   "execution_count": null
  },
  {
   "metadata": {
    "ExecuteTime": {
     "end_time": "2025-05-17T19:15:29.667543Z",
     "start_time": "2025-05-17T19:15:29.664270Z"
    }
   },
   "cell_type": "code",
   "source": "",
   "id": "87702e6718373fb2",
   "outputs": [],
   "execution_count": null
  },
  {
   "metadata": {
    "ExecuteTime": {
     "end_time": "2025-05-17T19:15:29.721046Z",
     "start_time": "2025-05-17T19:15:29.716051Z"
    }
   },
   "cell_type": "code",
   "source": "",
   "id": "b8d86d311e1df429",
   "outputs": [],
   "execution_count": null
  }
 ],
 "metadata": {
  "kernelspec": {
   "display_name": "Python 3",
   "language": "python",
   "name": "python3"
  },
  "language_info": {
   "codemirror_mode": {
    "name": "ipython",
    "version": 2
   },
   "file_extension": ".py",
   "mimetype": "text/x-python",
   "name": "python",
   "nbconvert_exporter": "python",
   "pygments_lexer": "ipython2",
   "version": "2.7.6"
  }
 },
 "nbformat": 4,
 "nbformat_minor": 5
}
