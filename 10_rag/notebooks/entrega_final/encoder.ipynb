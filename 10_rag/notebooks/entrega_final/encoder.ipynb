{
 "cells": [
  {
   "metadata": {},
   "cell_type": "markdown",
   "source": [
    "# Lets build a rag system\n",
    "\n",
    "Steps:\n",
    "\n",
    "1. Load the necessary data into datasets\n",
    "2. Tokenize the data\n",
    "3. Store it in a vector database (faiss)\n",
    "\n",
    "**We are going to use the llama 3.2 1B tokenizer**"
   ],
   "id": "e25f8ce158c75278"
  },
  {
   "metadata": {},
   "cell_type": "markdown",
   "source": [
    "## Dataset\n",
    "\n",
    "The dataset used as augmentation is a subset of pub med data with 500k documents, where they contains:\n",
    "\n",
    "1. `title`: The title of the document\n",
    "2. `content`: The content of the document\n",
    "3. `contents`: The title + content of the document\n",
    "4. `PMID`: The PubMed ID of the document\n",
    "5. `id`: The unique identifier for the document"
   ],
   "id": "bbac6795cfbf62d4"
  },
  {
   "metadata": {
    "collapsed": true,
    "ExecuteTime": {
     "end_time": "2025-05-26T00:22:17.519058Z",
     "start_time": "2025-05-26T00:22:17.362399Z"
    }
   },
   "cell_type": "code",
   "source": [
    "import json\n",
    "from typing import List\n",
    "\n",
    "from torch.utils.data import Dataset\n",
    "from transformers import AutoTokenizer\n",
    "import faiss\n",
    "import numpy as np"
   ],
   "id": "initial_id",
   "outputs": [],
   "execution_count": 18
  },
  {
   "metadata": {
    "ExecuteTime": {
     "end_time": "2025-05-26T00:16:21.491683Z",
     "start_time": "2025-05-26T00:16:21.484495Z"
    }
   },
   "cell_type": "code",
   "source": [
    "class FromJsonDataset(Dataset):\n",
    "    def __init__(self, json_file):\n",
    "        self.raw_content = \"\"\n",
    "        with open(json_file, \"r\") as f:\n",
    "            self.raw_content = f.read()\n",
    "\n",
    "        self.data = json.loads(self.raw_content)\n",
    "\n",
    "    def __len__(self):\n",
    "        return len(self.data[\"id\"])\n",
    "\n",
    "    def __getitem__(self, idx: int):\n",
    "        return  {\n",
    "            \"title\": self.data[\"title\"][idx],\n",
    "            \"content\": self.data[\"content\"][idx],\n",
    "            \"contents\": self.data[\"contents\"][idx],\n",
    "            \"PMID\": self.data[\"PMID\"][idx],\n",
    "            \"id\": self.data[\"id\"][idx],\n",
    "        }"
   ],
   "id": "f6e6a42a228dae8a",
   "outputs": [],
   "execution_count": 2
  },
  {
   "metadata": {
    "ExecuteTime": {
     "end_time": "2025-05-26T00:16:24.344109Z",
     "start_time": "2025-05-26T00:16:21.615477Z"
    }
   },
   "cell_type": "code",
   "source": "dataset = FromJsonDataset(json_file=\"./data/pubmed_500K.json\")",
   "id": "9be8e64f64927395",
   "outputs": [],
   "execution_count": 3
  },
  {
   "metadata": {
    "ExecuteTime": {
     "end_time": "2025-05-26T00:16:34.050110Z",
     "start_time": "2025-05-26T00:16:34.039092Z"
    }
   },
   "cell_type": "code",
   "source": "dataset[0][\"title\"], dataset[0][\"content\"]",
   "id": "19c9cd875132c587",
   "outputs": [
    {
     "data": {
      "text/plain": [
       "(\"[Biochemical studies on camomile components/III. In vitro studies about the antipeptic activity of (--)-alpha-bisabolol (author's transl)].\",\n",
       " '(--)-alpha-Bisabolol has a primary antipeptic action depending on dosage, which is not caused by an alteration of the pH-value. The proteolytic activity of pepsin is reduced by 50 percent through addition of bisabolol in the ratio of 1/0.5. The antipeptic action of bisabolol only occurs in case of direct contact. In case of a previous contact with the substrate, the inhibiting effect is lost.')"
      ]
     },
     "execution_count": 4,
     "metadata": {},
     "output_type": "execute_result"
    }
   ],
   "execution_count": 4
  },
  {
   "metadata": {},
   "cell_type": "markdown",
   "source": [
    "# Tokenizer and tokenized dataset\n",
    "\n",
    "We are going to tokenize all data, so we can store it in a vector database later.\n",
    "\n",
    "We are not going to add special tokens, so we can use the tokenizer as it is.\n",
    "\n",
    "Also we have a `max_length` of 800 tokens, which is enough for most of the documents in the dataset."
   ],
   "id": "c12ccc4ef9d7c100"
  },
  {
   "metadata": {
    "ExecuteTime": {
     "end_time": "2025-05-26T00:23:00.214468Z",
     "start_time": "2025-05-26T00:22:59.381029Z"
    }
   },
   "cell_type": "code",
   "source": [
    "tokenizer = AutoTokenizer.from_pretrained(\"meta-llama/Llama-3.2-1B\")\n",
    "tokenizer.pad_token = tokenizer.eos_token  # Set pad token to eos token for Llama 3.2\n",
    "\n",
    "MAX_TOKEN_LENGTH = 800  # Maximum token length for our dataset"
   ],
   "id": "27fa41eea65a9a91",
   "outputs": [],
   "execution_count": 21
  },
  {
   "metadata": {
    "ExecuteTime": {
     "end_time": "2025-05-26T00:23:00.229211Z",
     "start_time": "2025-05-26T00:23:00.222617Z"
    }
   },
   "cell_type": "code",
   "source": [
    "class TokenizedDataset(Dataset):\n",
    "    def __init__(self, tokenizer, dataset: Dataset, max_length: int = 800):\n",
    "        self.tokenizer = tokenizer\n",
    "        self.dataset = dataset\n",
    "        self.max_length = max_length\n",
    "\n",
    "    def __len__(self):\n",
    "        return len(self.dataset)\n",
    "\n",
    "    def __getitem__(self, idx: int):\n",
    "        item = self.dataset[idx]\n",
    "        tokenized_item = self.tokenizer(\n",
    "            item[\"contents\"],\n",
    "            truncation=True,\n",
    "            padding=\"max_length\",\n",
    "            max_length=self.max_length,\n",
    "            return_tensors=\"pt\",\n",
    "            add_special_tokens=False,\n",
    "        )\n",
    "        tokenized_item[\"id\"] = item[\"id\"]\n",
    "        tokenized_item[\"PMID\"] = item[\"PMID\"]\n",
    "        return tokenized_item"
   ],
   "id": "b343a862a581ee4c",
   "outputs": [],
   "execution_count": 22
  },
  {
   "metadata": {
    "ExecuteTime": {
     "end_time": "2025-05-26T00:23:00.330807Z",
     "start_time": "2025-05-26T00:23:00.285119Z"
    }
   },
   "cell_type": "code",
   "source": "tokenized_dataset = TokenizedDataset(tokenizer, dataset, max_length=MAX_TOKEN_LENGTH)",
   "id": "59e1f71e3cdfd3b",
   "outputs": [],
   "execution_count": 23
  },
  {
   "metadata": {
    "ExecuteTime": {
     "end_time": "2025-05-26T00:23:00.835983Z",
     "start_time": "2025-05-26T00:23:00.820247Z"
    }
   },
   "cell_type": "code",
   "source": "tokenized_dataset[0]",
   "id": "c6c36a27ebdb266",
   "outputs": [
    {
     "data": {
      "text/plain": [
       "{'input_ids': tensor([[ 33722,    822,  32056,   7978,    389,   6730,    316,    458,   6956,\n",
       "             14,  23440,     13,    763,  55004,   7978,    922,    279,   3276,\n",
       "           3527,  27330,   5820,    315,  58719,   7435,   7288,   1481,    285,\n",
       "          53904,    337,    320,   3170,    596,  12215,  27261,  58719,   7435,\n",
       "           7288,   7826,    285,  53904,    337,    706,    264,   6156,   3276,\n",
       "           3527,  27330,   1957,  11911,    389,  47040,     11,    902,    374,\n",
       "            539,   9057,    555,    459,  73681,    315,    279,  37143,  19625,\n",
       "             13,    578,   5541,   5849,  29150,   5820,    315,    281,   7270,\n",
       "            258,    374,  11293,    555,    220,   1135,   3346,   1555,   5369,\n",
       "            315,  15184,  53904,    337,    304,    279,  11595,    315,    220,\n",
       "             16,     14,     15,     13,     20,     13,    578,   3276,   3527,\n",
       "          27330,   1957,    315,  15184,  53904,    337,   1193,  13980,    304,\n",
       "           1162,    315,   2167,   3729,     13,    763,   1162,    315,    264,\n",
       "           3766,   3729,    449,    279,  54057,     11,    279,  20747,   5977,\n",
       "           2515,    374,   5675,     13, 128001, 128001, 128001, 128001, 128001,\n",
       "         128001, 128001, 128001, 128001, 128001, 128001, 128001, 128001, 128001,\n",
       "         128001, 128001, 128001, 128001, 128001, 128001, 128001, 128001, 128001,\n",
       "         128001, 128001, 128001, 128001, 128001, 128001, 128001, 128001, 128001,\n",
       "         128001, 128001, 128001, 128001, 128001, 128001, 128001, 128001, 128001,\n",
       "         128001, 128001, 128001, 128001, 128001, 128001, 128001, 128001, 128001,\n",
       "         128001, 128001, 128001, 128001, 128001, 128001, 128001, 128001, 128001,\n",
       "         128001, 128001, 128001, 128001, 128001, 128001, 128001, 128001, 128001,\n",
       "         128001, 128001, 128001, 128001, 128001, 128001, 128001, 128001, 128001,\n",
       "         128001, 128001, 128001, 128001, 128001, 128001, 128001, 128001, 128001,\n",
       "         128001, 128001, 128001, 128001, 128001, 128001, 128001, 128001, 128001,\n",
       "         128001, 128001, 128001, 128001, 128001, 128001, 128001, 128001, 128001,\n",
       "         128001, 128001, 128001, 128001, 128001, 128001, 128001, 128001, 128001,\n",
       "         128001, 128001, 128001, 128001, 128001, 128001, 128001, 128001, 128001,\n",
       "         128001, 128001, 128001, 128001, 128001, 128001, 128001, 128001, 128001,\n",
       "         128001, 128001, 128001, 128001, 128001, 128001, 128001, 128001, 128001,\n",
       "         128001, 128001, 128001, 128001, 128001, 128001, 128001, 128001, 128001,\n",
       "         128001, 128001, 128001, 128001, 128001, 128001, 128001, 128001, 128001,\n",
       "         128001, 128001, 128001, 128001, 128001, 128001, 128001, 128001, 128001,\n",
       "         128001, 128001, 128001, 128001, 128001, 128001, 128001, 128001, 128001,\n",
       "         128001, 128001, 128001, 128001, 128001, 128001, 128001, 128001, 128001,\n",
       "         128001, 128001, 128001, 128001, 128001, 128001, 128001, 128001, 128001,\n",
       "         128001, 128001, 128001, 128001, 128001, 128001, 128001, 128001, 128001,\n",
       "         128001, 128001, 128001, 128001, 128001, 128001, 128001, 128001, 128001,\n",
       "         128001, 128001, 128001, 128001, 128001, 128001, 128001, 128001, 128001,\n",
       "         128001, 128001, 128001, 128001, 128001, 128001, 128001, 128001, 128001,\n",
       "         128001, 128001, 128001, 128001, 128001, 128001, 128001, 128001, 128001,\n",
       "         128001, 128001, 128001, 128001, 128001, 128001, 128001, 128001, 128001,\n",
       "         128001, 128001, 128001, 128001, 128001, 128001, 128001, 128001, 128001,\n",
       "         128001, 128001, 128001, 128001, 128001, 128001, 128001, 128001, 128001,\n",
       "         128001, 128001, 128001, 128001, 128001, 128001, 128001, 128001, 128001,\n",
       "         128001, 128001, 128001, 128001, 128001, 128001, 128001, 128001, 128001,\n",
       "         128001, 128001, 128001, 128001, 128001, 128001, 128001, 128001, 128001,\n",
       "         128001, 128001, 128001, 128001, 128001, 128001, 128001, 128001, 128001,\n",
       "         128001, 128001, 128001, 128001, 128001, 128001, 128001, 128001, 128001,\n",
       "         128001, 128001, 128001, 128001, 128001, 128001, 128001, 128001, 128001,\n",
       "         128001, 128001, 128001, 128001, 128001, 128001, 128001, 128001, 128001,\n",
       "         128001, 128001, 128001, 128001, 128001, 128001, 128001, 128001, 128001,\n",
       "         128001, 128001, 128001, 128001, 128001, 128001, 128001, 128001, 128001,\n",
       "         128001, 128001, 128001, 128001, 128001, 128001, 128001, 128001, 128001,\n",
       "         128001, 128001, 128001, 128001, 128001, 128001, 128001, 128001, 128001,\n",
       "         128001, 128001, 128001, 128001, 128001, 128001, 128001, 128001, 128001,\n",
       "         128001, 128001, 128001, 128001, 128001, 128001, 128001, 128001, 128001,\n",
       "         128001, 128001, 128001, 128001, 128001, 128001, 128001, 128001, 128001,\n",
       "         128001, 128001, 128001, 128001, 128001, 128001, 128001, 128001, 128001,\n",
       "         128001, 128001, 128001, 128001, 128001, 128001, 128001, 128001, 128001,\n",
       "         128001, 128001, 128001, 128001, 128001, 128001, 128001, 128001, 128001,\n",
       "         128001, 128001, 128001, 128001, 128001, 128001, 128001, 128001, 128001,\n",
       "         128001, 128001, 128001, 128001, 128001, 128001, 128001, 128001, 128001,\n",
       "         128001, 128001, 128001, 128001, 128001, 128001, 128001, 128001, 128001,\n",
       "         128001, 128001, 128001, 128001, 128001, 128001, 128001, 128001, 128001,\n",
       "         128001, 128001, 128001, 128001, 128001, 128001, 128001, 128001, 128001,\n",
       "         128001, 128001, 128001, 128001, 128001, 128001, 128001, 128001, 128001,\n",
       "         128001, 128001, 128001, 128001, 128001, 128001, 128001, 128001, 128001,\n",
       "         128001, 128001, 128001, 128001, 128001, 128001, 128001, 128001, 128001,\n",
       "         128001, 128001, 128001, 128001, 128001, 128001, 128001, 128001, 128001,\n",
       "         128001, 128001, 128001, 128001, 128001, 128001, 128001, 128001, 128001,\n",
       "         128001, 128001, 128001, 128001, 128001, 128001, 128001, 128001, 128001,\n",
       "         128001, 128001, 128001, 128001, 128001, 128001, 128001, 128001, 128001,\n",
       "         128001, 128001, 128001, 128001, 128001, 128001, 128001, 128001, 128001,\n",
       "         128001, 128001, 128001, 128001, 128001, 128001, 128001, 128001, 128001,\n",
       "         128001, 128001, 128001, 128001, 128001, 128001, 128001, 128001, 128001,\n",
       "         128001, 128001, 128001, 128001, 128001, 128001, 128001, 128001, 128001,\n",
       "         128001, 128001, 128001, 128001, 128001, 128001, 128001, 128001, 128001,\n",
       "         128001, 128001, 128001, 128001, 128001, 128001, 128001, 128001, 128001,\n",
       "         128001, 128001, 128001, 128001, 128001, 128001, 128001, 128001, 128001,\n",
       "         128001, 128001, 128001, 128001, 128001, 128001, 128001, 128001, 128001,\n",
       "         128001, 128001, 128001, 128001, 128001, 128001, 128001, 128001, 128001,\n",
       "         128001, 128001, 128001, 128001, 128001, 128001, 128001, 128001, 128001,\n",
       "         128001, 128001, 128001, 128001, 128001, 128001, 128001, 128001, 128001,\n",
       "         128001, 128001, 128001, 128001, 128001, 128001, 128001, 128001, 128001,\n",
       "         128001, 128001, 128001, 128001, 128001, 128001, 128001, 128001, 128001,\n",
       "         128001, 128001, 128001, 128001, 128001, 128001, 128001, 128001, 128001,\n",
       "         128001, 128001, 128001, 128001, 128001, 128001, 128001, 128001, 128001,\n",
       "         128001, 128001, 128001, 128001, 128001, 128001, 128001, 128001]]), 'attention_mask': tensor([[1, 1, 1, 1, 1, 1, 1, 1, 1, 1, 1, 1, 1, 1, 1, 1, 1, 1, 1, 1, 1, 1, 1, 1,\n",
       "         1, 1, 1, 1, 1, 1, 1, 1, 1, 1, 1, 1, 1, 1, 1, 1, 1, 1, 1, 1, 1, 1, 1, 1,\n",
       "         1, 1, 1, 1, 1, 1, 1, 1, 1, 1, 1, 1, 1, 1, 1, 1, 1, 1, 1, 1, 1, 1, 1, 1,\n",
       "         1, 1, 1, 1, 1, 1, 1, 1, 1, 1, 1, 1, 1, 1, 1, 1, 1, 1, 1, 1, 1, 1, 1, 1,\n",
       "         1, 1, 1, 1, 1, 1, 1, 1, 1, 1, 1, 1, 1, 1, 1, 1, 1, 1, 1, 1, 1, 1, 1, 1,\n",
       "         1, 1, 1, 1, 1, 1, 1, 1, 1, 1, 0, 0, 0, 0, 0, 0, 0, 0, 0, 0, 0, 0, 0, 0,\n",
       "         0, 0, 0, 0, 0, 0, 0, 0, 0, 0, 0, 0, 0, 0, 0, 0, 0, 0, 0, 0, 0, 0, 0, 0,\n",
       "         0, 0, 0, 0, 0, 0, 0, 0, 0, 0, 0, 0, 0, 0, 0, 0, 0, 0, 0, 0, 0, 0, 0, 0,\n",
       "         0, 0, 0, 0, 0, 0, 0, 0, 0, 0, 0, 0, 0, 0, 0, 0, 0, 0, 0, 0, 0, 0, 0, 0,\n",
       "         0, 0, 0, 0, 0, 0, 0, 0, 0, 0, 0, 0, 0, 0, 0, 0, 0, 0, 0, 0, 0, 0, 0, 0,\n",
       "         0, 0, 0, 0, 0, 0, 0, 0, 0, 0, 0, 0, 0, 0, 0, 0, 0, 0, 0, 0, 0, 0, 0, 0,\n",
       "         0, 0, 0, 0, 0, 0, 0, 0, 0, 0, 0, 0, 0, 0, 0, 0, 0, 0, 0, 0, 0, 0, 0, 0,\n",
       "         0, 0, 0, 0, 0, 0, 0, 0, 0, 0, 0, 0, 0, 0, 0, 0, 0, 0, 0, 0, 0, 0, 0, 0,\n",
       "         0, 0, 0, 0, 0, 0, 0, 0, 0, 0, 0, 0, 0, 0, 0, 0, 0, 0, 0, 0, 0, 0, 0, 0,\n",
       "         0, 0, 0, 0, 0, 0, 0, 0, 0, 0, 0, 0, 0, 0, 0, 0, 0, 0, 0, 0, 0, 0, 0, 0,\n",
       "         0, 0, 0, 0, 0, 0, 0, 0, 0, 0, 0, 0, 0, 0, 0, 0, 0, 0, 0, 0, 0, 0, 0, 0,\n",
       "         0, 0, 0, 0, 0, 0, 0, 0, 0, 0, 0, 0, 0, 0, 0, 0, 0, 0, 0, 0, 0, 0, 0, 0,\n",
       "         0, 0, 0, 0, 0, 0, 0, 0, 0, 0, 0, 0, 0, 0, 0, 0, 0, 0, 0, 0, 0, 0, 0, 0,\n",
       "         0, 0, 0, 0, 0, 0, 0, 0, 0, 0, 0, 0, 0, 0, 0, 0, 0, 0, 0, 0, 0, 0, 0, 0,\n",
       "         0, 0, 0, 0, 0, 0, 0, 0, 0, 0, 0, 0, 0, 0, 0, 0, 0, 0, 0, 0, 0, 0, 0, 0,\n",
       "         0, 0, 0, 0, 0, 0, 0, 0, 0, 0, 0, 0, 0, 0, 0, 0, 0, 0, 0, 0, 0, 0, 0, 0,\n",
       "         0, 0, 0, 0, 0, 0, 0, 0, 0, 0, 0, 0, 0, 0, 0, 0, 0, 0, 0, 0, 0, 0, 0, 0,\n",
       "         0, 0, 0, 0, 0, 0, 0, 0, 0, 0, 0, 0, 0, 0, 0, 0, 0, 0, 0, 0, 0, 0, 0, 0,\n",
       "         0, 0, 0, 0, 0, 0, 0, 0, 0, 0, 0, 0, 0, 0, 0, 0, 0, 0, 0, 0, 0, 0, 0, 0,\n",
       "         0, 0, 0, 0, 0, 0, 0, 0, 0, 0, 0, 0, 0, 0, 0, 0, 0, 0, 0, 0, 0, 0, 0, 0,\n",
       "         0, 0, 0, 0, 0, 0, 0, 0, 0, 0, 0, 0, 0, 0, 0, 0, 0, 0, 0, 0, 0, 0, 0, 0,\n",
       "         0, 0, 0, 0, 0, 0, 0, 0, 0, 0, 0, 0, 0, 0, 0, 0, 0, 0, 0, 0, 0, 0, 0, 0,\n",
       "         0, 0, 0, 0, 0, 0, 0, 0, 0, 0, 0, 0, 0, 0, 0, 0, 0, 0, 0, 0, 0, 0, 0, 0,\n",
       "         0, 0, 0, 0, 0, 0, 0, 0, 0, 0, 0, 0, 0, 0, 0, 0, 0, 0, 0, 0, 0, 0, 0, 0,\n",
       "         0, 0, 0, 0, 0, 0, 0, 0, 0, 0, 0, 0, 0, 0, 0, 0, 0, 0, 0, 0, 0, 0, 0, 0,\n",
       "         0, 0, 0, 0, 0, 0, 0, 0, 0, 0, 0, 0, 0, 0, 0, 0, 0, 0, 0, 0, 0, 0, 0, 0,\n",
       "         0, 0, 0, 0, 0, 0, 0, 0, 0, 0, 0, 0, 0, 0, 0, 0, 0, 0, 0, 0, 0, 0, 0, 0,\n",
       "         0, 0, 0, 0, 0, 0, 0, 0, 0, 0, 0, 0, 0, 0, 0, 0, 0, 0, 0, 0, 0, 0, 0, 0,\n",
       "         0, 0, 0, 0, 0, 0, 0, 0]]), 'id': 'pubmed23n0001_0', 'PMID': 21}"
      ]
     },
     "execution_count": 24,
     "metadata": {},
     "output_type": "execute_result"
    }
   ],
   "execution_count": 24
  },
  {
   "metadata": {},
   "cell_type": "markdown",
   "source": [
    "# Faiss storage\n",
    "\n",
    "We are going to use Faiss as vector database, in order to do so we need to create a storage object that will handle the indexing and searching of the data."
   ],
   "id": "4507798f65344805"
  },
  {
   "metadata": {
    "ExecuteTime": {
     "end_time": "2025-05-26T00:24:28.186347Z",
     "start_time": "2025-05-26T00:24:28.167273Z"
    }
   },
   "cell_type": "code",
   "source": [
    "class FaissStorage:\n",
    "    \"\"\"\n",
    "    FaissStorage is a concrete implementation of the Storage abstract base class.\n",
    "    It uses the Faiss library to store and query vectors efficiently.\n",
    "    \"\"\"\n",
    "\n",
    "    def __init__(\n",
    "            self,\n",
    "            dimension: int,\n",
    "            index = None,\n",
    "    ):\n",
    "        \"\"\"\n",
    "        Initializes the FaissStorage with a specified vector dimension.\n",
    "\n",
    "        Args:\n",
    "            dimension: The dimensionality of the vectors to be stored.\n",
    "        \"\"\"\n",
    "        self.dimension = dimension\n",
    "        if index is None:\n",
    "            index = faiss.IndexFlatL2(dimension)\n",
    "        self.index = index\n",
    "\n",
    "    def store(self, key: str, data):\n",
    "        \"\"\"\n",
    "        Stores a vector associated with a given key.\n",
    "\n",
    "        Args:\n",
    "            key: A unique identifier for the vector (e.g., a string).\n",
    "            data: The vector to be stored. Must be a list of floats with length equal to 'dimension'.\n",
    "        \"\"\"\n",
    "        if len(data[0]) != self.dimension:\n",
    "            raise ValueError(f\"Data must have {self.dimension} dimensions.\")\n",
    "\n",
    "        # Convert the data to a numpy array and ensure it's in the correct format\n",
    "        data = np.array(data, dtype='float32')\n",
    "\n",
    "        self.index.add(data)  # Add the vector to the index\n",
    "\n",
    "    def query(self, key: str, k: int) -> (List, List):\n",
    "        \"\"\"\n",
    "        Retrieves the vector associated with a given key.\n",
    "\n",
    "        Args:\n",
    "            key: The identifier of the vector to retrieve.\n",
    "\n",
    "        Returns:\n",
    "            A tuple containing the distances and indices of the nearest vectors.\n",
    "        \"\"\"\n",
    "        # In this simple implementation, we don't actually use the key for retrieval.\n",
    "        # In a real-world scenario, you would need to maintain a mapping from keys to indices.\n",
    "\n",
    "        # For demonstration purposes, we'll return the first vector in the index\n",
    "        if self.index.ntotal == 0:\n",
    "            return None\n",
    "\n",
    "        distances, indices = self.index.search(np.array([[0] * self.dimension], dtype='float32'), k)\n",
    "\n",
    "        return distances[0].tolist(), indices[0].tolist()\n",
    "\n",
    "    def export(self, file_path: str):\n",
    "        \"\"\"\n",
    "        Exports the Faiss index to a file.\n",
    "\n",
    "        Args:\n",
    "            file_path: The path where the index will be saved.\n",
    "        \"\"\"\n",
    "        faiss.write_index(self.index, file_path)\n",
    "\n",
    "    def load(self, file_path: str):\n",
    "        \"\"\"\n",
    "        Loads a Faiss index from a file.\n",
    "\n",
    "        Args:\n",
    "            file_path: The path from where the index will be loaded.\n",
    "        \"\"\"\n",
    "        self.index = faiss.read_index(file_path)\n",
    "\n",
    "def index(\n",
    "        data: Dataset, # The dataset to index, it should be tokenized\n",
    "        storage: FaissStorage,\n",
    "        data_transform: callable = None,\n",
    "):\n",
    "    \"\"\"\n",
    "    Indexes the dataset into the storage system.\n",
    "\n",
    "    Args:\n",
    "        data (Dataset): The dataset to index, it should be tokenized.\n",
    "        storage (Storage): The storage system to use for indexing.\n",
    "    \"\"\"\n",
    "    buffer = []\n",
    "\n",
    "    for i in range(len(data)):\n",
    "        item = data[i]\n",
    "        key = item[\"id\"]\n",
    "        if data_transform:\n",
    "            item = data_transform(item)\n",
    "        buffer.append(item)\n",
    "        if i % 10000 == 0:\n",
    "            print(f\"Indexed {i} items\")\n",
    "            storage.store(key, buffer)\n",
    "            buffer = []\n",
    "\n",
    "\n",
    "    return storage\n",
    "\n",
    "def item_transform(item):\n",
    "    \"\"\"\n",
    "    Transforms the item to be stored in the storage system.\n",
    "    \"\"\"\n",
    "    # convert to numpy array\n",
    "    return item[\"input_ids\"][0].numpy().astype(\"float32\")"
   ],
   "id": "2437bd5dbc71ab44",
   "outputs": [],
   "execution_count": 28
  },
  {
   "metadata": {
    "ExecuteTime": {
     "end_time": "2025-05-26T00:24:30.605467Z",
     "start_time": "2025-05-26T00:24:30.601161Z"
    }
   },
   "cell_type": "code",
   "source": [
    "storage = FaissStorage(\n",
    "    dimension=MAX_TOKEN_LENGTH,\n",
    ")"
   ],
   "id": "478095dfefec8b4f",
   "outputs": [],
   "execution_count": 29
  },
  {
   "metadata": {
    "ExecuteTime": {
     "end_time": "2025-05-26T00:24:55.816707Z",
     "start_time": "2025-05-26T00:24:33.261645Z"
    }
   },
   "cell_type": "code",
   "source": [
    "storage = index(\n",
    "    data=tokenized_dataset,\n",
    "    storage=storage,\n",
    "    data_transform=item_transform,\n",
    ")"
   ],
   "id": "cdfe1d96f39193b3",
   "outputs": [
    {
     "name": "stdout",
     "output_type": "stream",
     "text": [
      "Indexed 0 items\n",
      "Indexed 10000 items\n",
      "Indexed 20000 items\n"
     ]
    },
    {
     "ename": "KeyboardInterrupt",
     "evalue": "",
     "output_type": "error",
     "traceback": [
      "\u001B[0;31m---------------------------------------------------------------------------\u001B[0m",
      "\u001B[0;31mKeyboardInterrupt\u001B[0m                         Traceback (most recent call last)",
      "Cell \u001B[0;32mIn[30], line 1\u001B[0m\n\u001B[0;32m----> 1\u001B[0m storage \u001B[38;5;241m=\u001B[39m \u001B[43mindex\u001B[49m\u001B[43m(\u001B[49m\n\u001B[1;32m      2\u001B[0m \u001B[43m    \u001B[49m\u001B[43mdata\u001B[49m\u001B[38;5;241;43m=\u001B[39;49m\u001B[43mtokenized_dataset\u001B[49m\u001B[43m,\u001B[49m\n\u001B[1;32m      3\u001B[0m \u001B[43m    \u001B[49m\u001B[43mstorage\u001B[49m\u001B[38;5;241;43m=\u001B[39;49m\u001B[43mstorage\u001B[49m\u001B[43m,\u001B[49m\n\u001B[1;32m      4\u001B[0m \u001B[43m    \u001B[49m\u001B[43mdata_transform\u001B[49m\u001B[38;5;241;43m=\u001B[39;49m\u001B[43mitem_transform\u001B[49m\u001B[43m,\u001B[49m\n\u001B[1;32m      5\u001B[0m \u001B[43m)\u001B[49m\n",
      "Cell \u001B[0;32mIn[28], line 93\u001B[0m, in \u001B[0;36mindex\u001B[0;34m(data, storage, data_transform)\u001B[0m\n\u001B[1;32m     90\u001B[0m buffer \u001B[38;5;241m=\u001B[39m []\n\u001B[1;32m     92\u001B[0m \u001B[38;5;28;01mfor\u001B[39;00m i \u001B[38;5;129;01min\u001B[39;00m \u001B[38;5;28mrange\u001B[39m(\u001B[38;5;28mlen\u001B[39m(data)):\n\u001B[0;32m---> 93\u001B[0m     item \u001B[38;5;241m=\u001B[39m \u001B[43mdata\u001B[49m\u001B[43m[\u001B[49m\u001B[43mi\u001B[49m\u001B[43m]\u001B[49m\n\u001B[1;32m     94\u001B[0m     key \u001B[38;5;241m=\u001B[39m item[\u001B[38;5;124m\"\u001B[39m\u001B[38;5;124mid\u001B[39m\u001B[38;5;124m\"\u001B[39m]\n\u001B[1;32m     95\u001B[0m     \u001B[38;5;28;01mif\u001B[39;00m data_transform:\n",
      "Cell \u001B[0;32mIn[22], line 12\u001B[0m, in \u001B[0;36mTokenizedDataset.__getitem__\u001B[0;34m(self, idx)\u001B[0m\n\u001B[1;32m     10\u001B[0m \u001B[38;5;28;01mdef\u001B[39;00m\u001B[38;5;250m \u001B[39m\u001B[38;5;21m__getitem__\u001B[39m(\u001B[38;5;28mself\u001B[39m, idx: \u001B[38;5;28mint\u001B[39m):\n\u001B[1;32m     11\u001B[0m     item \u001B[38;5;241m=\u001B[39m \u001B[38;5;28mself\u001B[39m\u001B[38;5;241m.\u001B[39mdataset[idx]\n\u001B[0;32m---> 12\u001B[0m     tokenized_item \u001B[38;5;241m=\u001B[39m \u001B[38;5;28;43mself\u001B[39;49m\u001B[38;5;241;43m.\u001B[39;49m\u001B[43mtokenizer\u001B[49m\u001B[43m(\u001B[49m\n\u001B[1;32m     13\u001B[0m \u001B[43m        \u001B[49m\u001B[43mitem\u001B[49m\u001B[43m[\u001B[49m\u001B[38;5;124;43m\"\u001B[39;49m\u001B[38;5;124;43mcontents\u001B[39;49m\u001B[38;5;124;43m\"\u001B[39;49m\u001B[43m]\u001B[49m\u001B[43m,\u001B[49m\n\u001B[1;32m     14\u001B[0m \u001B[43m        \u001B[49m\u001B[43mtruncation\u001B[49m\u001B[38;5;241;43m=\u001B[39;49m\u001B[38;5;28;43;01mTrue\u001B[39;49;00m\u001B[43m,\u001B[49m\n\u001B[1;32m     15\u001B[0m \u001B[43m        \u001B[49m\u001B[43mpadding\u001B[49m\u001B[38;5;241;43m=\u001B[39;49m\u001B[38;5;124;43m\"\u001B[39;49m\u001B[38;5;124;43mmax_length\u001B[39;49m\u001B[38;5;124;43m\"\u001B[39;49m\u001B[43m,\u001B[49m\n\u001B[1;32m     16\u001B[0m \u001B[43m        \u001B[49m\u001B[43mmax_length\u001B[49m\u001B[38;5;241;43m=\u001B[39;49m\u001B[38;5;28;43mself\u001B[39;49m\u001B[38;5;241;43m.\u001B[39;49m\u001B[43mmax_length\u001B[49m\u001B[43m,\u001B[49m\n\u001B[1;32m     17\u001B[0m \u001B[43m        \u001B[49m\u001B[43mreturn_tensors\u001B[49m\u001B[38;5;241;43m=\u001B[39;49m\u001B[38;5;124;43m\"\u001B[39;49m\u001B[38;5;124;43mpt\u001B[39;49m\u001B[38;5;124;43m\"\u001B[39;49m\u001B[43m,\u001B[49m\n\u001B[1;32m     18\u001B[0m \u001B[43m        \u001B[49m\u001B[43madd_special_tokens\u001B[49m\u001B[38;5;241;43m=\u001B[39;49m\u001B[38;5;28;43;01mFalse\u001B[39;49;00m\u001B[43m,\u001B[49m\n\u001B[1;32m     19\u001B[0m \u001B[43m    \u001B[49m\u001B[43m)\u001B[49m\n\u001B[1;32m     20\u001B[0m     tokenized_item[\u001B[38;5;124m\"\u001B[39m\u001B[38;5;124mid\u001B[39m\u001B[38;5;124m\"\u001B[39m] \u001B[38;5;241m=\u001B[39m item[\u001B[38;5;124m\"\u001B[39m\u001B[38;5;124mid\u001B[39m\u001B[38;5;124m\"\u001B[39m]\n\u001B[1;32m     21\u001B[0m     tokenized_item[\u001B[38;5;124m\"\u001B[39m\u001B[38;5;124mPMID\u001B[39m\u001B[38;5;124m\"\u001B[39m] \u001B[38;5;241m=\u001B[39m item[\u001B[38;5;124m\"\u001B[39m\u001B[38;5;124mPMID\u001B[39m\u001B[38;5;124m\"\u001B[39m]\n",
      "File \u001B[0;32m~/miniconda3/envs/faiss39/lib/python3.9/site-packages/transformers/tokenization_utils_base.py:2887\u001B[0m, in \u001B[0;36mPreTrainedTokenizerBase.__call__\u001B[0;34m(self, text, text_pair, text_target, text_pair_target, add_special_tokens, padding, truncation, max_length, stride, is_split_into_words, pad_to_multiple_of, padding_side, return_tensors, return_token_type_ids, return_attention_mask, return_overflowing_tokens, return_special_tokens_mask, return_offsets_mapping, return_length, verbose, **kwargs)\u001B[0m\n\u001B[1;32m   2885\u001B[0m     \u001B[38;5;28;01mif\u001B[39;00m \u001B[38;5;129;01mnot\u001B[39;00m \u001B[38;5;28mself\u001B[39m\u001B[38;5;241m.\u001B[39m_in_target_context_manager:\n\u001B[1;32m   2886\u001B[0m         \u001B[38;5;28mself\u001B[39m\u001B[38;5;241m.\u001B[39m_switch_to_input_mode()\n\u001B[0;32m-> 2887\u001B[0m     encodings \u001B[38;5;241m=\u001B[39m \u001B[38;5;28;43mself\u001B[39;49m\u001B[38;5;241;43m.\u001B[39;49m\u001B[43m_call_one\u001B[49m\u001B[43m(\u001B[49m\u001B[43mtext\u001B[49m\u001B[38;5;241;43m=\u001B[39;49m\u001B[43mtext\u001B[49m\u001B[43m,\u001B[49m\u001B[43m \u001B[49m\u001B[43mtext_pair\u001B[49m\u001B[38;5;241;43m=\u001B[39;49m\u001B[43mtext_pair\u001B[49m\u001B[43m,\u001B[49m\u001B[43m \u001B[49m\u001B[38;5;241;43m*\u001B[39;49m\u001B[38;5;241;43m*\u001B[39;49m\u001B[43mall_kwargs\u001B[49m\u001B[43m)\u001B[49m\n\u001B[1;32m   2888\u001B[0m \u001B[38;5;28;01mif\u001B[39;00m text_target \u001B[38;5;129;01mis\u001B[39;00m \u001B[38;5;129;01mnot\u001B[39;00m \u001B[38;5;28;01mNone\u001B[39;00m:\n\u001B[1;32m   2889\u001B[0m     \u001B[38;5;28mself\u001B[39m\u001B[38;5;241m.\u001B[39m_switch_to_target_mode()\n",
      "File \u001B[0;32m~/miniconda3/envs/faiss39/lib/python3.9/site-packages/transformers/tokenization_utils_base.py:2997\u001B[0m, in \u001B[0;36mPreTrainedTokenizerBase._call_one\u001B[0;34m(self, text, text_pair, add_special_tokens, padding, truncation, max_length, stride, is_split_into_words, pad_to_multiple_of, padding_side, return_tensors, return_token_type_ids, return_attention_mask, return_overflowing_tokens, return_special_tokens_mask, return_offsets_mapping, return_length, verbose, split_special_tokens, **kwargs)\u001B[0m\n\u001B[1;32m   2975\u001B[0m     \u001B[38;5;28;01mreturn\u001B[39;00m \u001B[38;5;28mself\u001B[39m\u001B[38;5;241m.\u001B[39mbatch_encode_plus(\n\u001B[1;32m   2976\u001B[0m         batch_text_or_text_pairs\u001B[38;5;241m=\u001B[39mbatch_text_or_text_pairs,\n\u001B[1;32m   2977\u001B[0m         add_special_tokens\u001B[38;5;241m=\u001B[39madd_special_tokens,\n\u001B[0;32m   (...)\u001B[0m\n\u001B[1;32m   2994\u001B[0m         \u001B[38;5;241m*\u001B[39m\u001B[38;5;241m*\u001B[39mkwargs,\n\u001B[1;32m   2995\u001B[0m     )\n\u001B[1;32m   2996\u001B[0m \u001B[38;5;28;01melse\u001B[39;00m:\n\u001B[0;32m-> 2997\u001B[0m     \u001B[38;5;28;01mreturn\u001B[39;00m \u001B[38;5;28;43mself\u001B[39;49m\u001B[38;5;241;43m.\u001B[39;49m\u001B[43mencode_plus\u001B[49m\u001B[43m(\u001B[49m\n\u001B[1;32m   2998\u001B[0m \u001B[43m        \u001B[49m\u001B[43mtext\u001B[49m\u001B[38;5;241;43m=\u001B[39;49m\u001B[43mtext\u001B[49m\u001B[43m,\u001B[49m\n\u001B[1;32m   2999\u001B[0m \u001B[43m        \u001B[49m\u001B[43mtext_pair\u001B[49m\u001B[38;5;241;43m=\u001B[39;49m\u001B[43mtext_pair\u001B[49m\u001B[43m,\u001B[49m\n\u001B[1;32m   3000\u001B[0m \u001B[43m        \u001B[49m\u001B[43madd_special_tokens\u001B[49m\u001B[38;5;241;43m=\u001B[39;49m\u001B[43madd_special_tokens\u001B[49m\u001B[43m,\u001B[49m\n\u001B[1;32m   3001\u001B[0m \u001B[43m        \u001B[49m\u001B[43mpadding\u001B[49m\u001B[38;5;241;43m=\u001B[39;49m\u001B[43mpadding\u001B[49m\u001B[43m,\u001B[49m\n\u001B[1;32m   3002\u001B[0m \u001B[43m        \u001B[49m\u001B[43mtruncation\u001B[49m\u001B[38;5;241;43m=\u001B[39;49m\u001B[43mtruncation\u001B[49m\u001B[43m,\u001B[49m\n\u001B[1;32m   3003\u001B[0m \u001B[43m        \u001B[49m\u001B[43mmax_length\u001B[49m\u001B[38;5;241;43m=\u001B[39;49m\u001B[43mmax_length\u001B[49m\u001B[43m,\u001B[49m\n\u001B[1;32m   3004\u001B[0m \u001B[43m        \u001B[49m\u001B[43mstride\u001B[49m\u001B[38;5;241;43m=\u001B[39;49m\u001B[43mstride\u001B[49m\u001B[43m,\u001B[49m\n\u001B[1;32m   3005\u001B[0m \u001B[43m        \u001B[49m\u001B[43mis_split_into_words\u001B[49m\u001B[38;5;241;43m=\u001B[39;49m\u001B[43mis_split_into_words\u001B[49m\u001B[43m,\u001B[49m\n\u001B[1;32m   3006\u001B[0m \u001B[43m        \u001B[49m\u001B[43mpad_to_multiple_of\u001B[49m\u001B[38;5;241;43m=\u001B[39;49m\u001B[43mpad_to_multiple_of\u001B[49m\u001B[43m,\u001B[49m\n\u001B[1;32m   3007\u001B[0m \u001B[43m        \u001B[49m\u001B[43mpadding_side\u001B[49m\u001B[38;5;241;43m=\u001B[39;49m\u001B[43mpadding_side\u001B[49m\u001B[43m,\u001B[49m\n\u001B[1;32m   3008\u001B[0m \u001B[43m        \u001B[49m\u001B[43mreturn_tensors\u001B[49m\u001B[38;5;241;43m=\u001B[39;49m\u001B[43mreturn_tensors\u001B[49m\u001B[43m,\u001B[49m\n\u001B[1;32m   3009\u001B[0m \u001B[43m        \u001B[49m\u001B[43mreturn_token_type_ids\u001B[49m\u001B[38;5;241;43m=\u001B[39;49m\u001B[43mreturn_token_type_ids\u001B[49m\u001B[43m,\u001B[49m\n\u001B[1;32m   3010\u001B[0m \u001B[43m        \u001B[49m\u001B[43mreturn_attention_mask\u001B[49m\u001B[38;5;241;43m=\u001B[39;49m\u001B[43mreturn_attention_mask\u001B[49m\u001B[43m,\u001B[49m\n\u001B[1;32m   3011\u001B[0m \u001B[43m        \u001B[49m\u001B[43mreturn_overflowing_tokens\u001B[49m\u001B[38;5;241;43m=\u001B[39;49m\u001B[43mreturn_overflowing_tokens\u001B[49m\u001B[43m,\u001B[49m\n\u001B[1;32m   3012\u001B[0m \u001B[43m        \u001B[49m\u001B[43mreturn_special_tokens_mask\u001B[49m\u001B[38;5;241;43m=\u001B[39;49m\u001B[43mreturn_special_tokens_mask\u001B[49m\u001B[43m,\u001B[49m\n\u001B[1;32m   3013\u001B[0m \u001B[43m        \u001B[49m\u001B[43mreturn_offsets_mapping\u001B[49m\u001B[38;5;241;43m=\u001B[39;49m\u001B[43mreturn_offsets_mapping\u001B[49m\u001B[43m,\u001B[49m\n\u001B[1;32m   3014\u001B[0m \u001B[43m        \u001B[49m\u001B[43mreturn_length\u001B[49m\u001B[38;5;241;43m=\u001B[39;49m\u001B[43mreturn_length\u001B[49m\u001B[43m,\u001B[49m\n\u001B[1;32m   3015\u001B[0m \u001B[43m        \u001B[49m\u001B[43mverbose\u001B[49m\u001B[38;5;241;43m=\u001B[39;49m\u001B[43mverbose\u001B[49m\u001B[43m,\u001B[49m\n\u001B[1;32m   3016\u001B[0m \u001B[43m        \u001B[49m\u001B[43msplit_special_tokens\u001B[49m\u001B[38;5;241;43m=\u001B[39;49m\u001B[43msplit_special_tokens\u001B[49m\u001B[43m,\u001B[49m\n\u001B[1;32m   3017\u001B[0m \u001B[43m        \u001B[49m\u001B[38;5;241;43m*\u001B[39;49m\u001B[38;5;241;43m*\u001B[39;49m\u001B[43mkwargs\u001B[49m\u001B[43m,\u001B[49m\n\u001B[1;32m   3018\u001B[0m \u001B[43m    \u001B[49m\u001B[43m)\u001B[49m\n",
      "File \u001B[0;32m~/miniconda3/envs/faiss39/lib/python3.9/site-packages/transformers/tokenization_utils_base.py:3064\u001B[0m, in \u001B[0;36mPreTrainedTokenizerBase.encode_plus\u001B[0;34m(self, text, text_pair, add_special_tokens, padding, truncation, max_length, stride, is_split_into_words, pad_to_multiple_of, padding_side, return_tensors, return_token_type_ids, return_attention_mask, return_overflowing_tokens, return_special_tokens_mask, return_offsets_mapping, return_length, verbose, **kwargs)\u001B[0m\n\u001B[1;32m   3043\u001B[0m \u001B[38;5;250m\u001B[39m\u001B[38;5;124;03m\"\"\"\u001B[39;00m\n\u001B[1;32m   3044\u001B[0m \u001B[38;5;124;03mTokenize and prepare for the model a sequence or a pair of sequences.\u001B[39;00m\n\u001B[1;32m   3045\u001B[0m \n\u001B[0;32m   (...)\u001B[0m\n\u001B[1;32m   3060\u001B[0m \u001B[38;5;124;03m        method).\u001B[39;00m\n\u001B[1;32m   3061\u001B[0m \u001B[38;5;124;03m\"\"\"\u001B[39;00m\n\u001B[1;32m   3063\u001B[0m \u001B[38;5;66;03m# Backward compatibility for 'truncation_strategy', 'pad_to_max_length'\u001B[39;00m\n\u001B[0;32m-> 3064\u001B[0m padding_strategy, truncation_strategy, max_length, kwargs \u001B[38;5;241m=\u001B[39m \u001B[38;5;28;43mself\u001B[39;49m\u001B[38;5;241;43m.\u001B[39;49m\u001B[43m_get_padding_truncation_strategies\u001B[49m\u001B[43m(\u001B[49m\n\u001B[1;32m   3065\u001B[0m \u001B[43m    \u001B[49m\u001B[43mpadding\u001B[49m\u001B[38;5;241;43m=\u001B[39;49m\u001B[43mpadding\u001B[49m\u001B[43m,\u001B[49m\n\u001B[1;32m   3066\u001B[0m \u001B[43m    \u001B[49m\u001B[43mtruncation\u001B[49m\u001B[38;5;241;43m=\u001B[39;49m\u001B[43mtruncation\u001B[49m\u001B[43m,\u001B[49m\n\u001B[1;32m   3067\u001B[0m \u001B[43m    \u001B[49m\u001B[43mmax_length\u001B[49m\u001B[38;5;241;43m=\u001B[39;49m\u001B[43mmax_length\u001B[49m\u001B[43m,\u001B[49m\n\u001B[1;32m   3068\u001B[0m \u001B[43m    \u001B[49m\u001B[43mpad_to_multiple_of\u001B[49m\u001B[38;5;241;43m=\u001B[39;49m\u001B[43mpad_to_multiple_of\u001B[49m\u001B[43m,\u001B[49m\n\u001B[1;32m   3069\u001B[0m \u001B[43m    \u001B[49m\u001B[43mverbose\u001B[49m\u001B[38;5;241;43m=\u001B[39;49m\u001B[43mverbose\u001B[49m\u001B[43m,\u001B[49m\n\u001B[1;32m   3070\u001B[0m \u001B[43m    \u001B[49m\u001B[38;5;241;43m*\u001B[39;49m\u001B[38;5;241;43m*\u001B[39;49m\u001B[43mkwargs\u001B[49m\u001B[43m,\u001B[49m\n\u001B[1;32m   3071\u001B[0m \u001B[43m\u001B[49m\u001B[43m)\u001B[49m\n\u001B[1;32m   3073\u001B[0m \u001B[38;5;28;01mreturn\u001B[39;00m \u001B[38;5;28mself\u001B[39m\u001B[38;5;241m.\u001B[39m_encode_plus(\n\u001B[1;32m   3074\u001B[0m     text\u001B[38;5;241m=\u001B[39mtext,\n\u001B[1;32m   3075\u001B[0m     text_pair\u001B[38;5;241m=\u001B[39mtext_pair,\n\u001B[0;32m   (...)\u001B[0m\n\u001B[1;32m   3093\u001B[0m     \u001B[38;5;241m*\u001B[39m\u001B[38;5;241m*\u001B[39mkwargs,\n\u001B[1;32m   3094\u001B[0m )\n",
      "File \u001B[0;32m~/miniconda3/envs/faiss39/lib/python3.9/site-packages/transformers/tokenization_utils_base.py:2788\u001B[0m, in \u001B[0;36mPreTrainedTokenizerBase._get_padding_truncation_strategies\u001B[0;34m(self, padding, truncation, max_length, pad_to_multiple_of, verbose, **kwargs)\u001B[0m\n\u001B[1;32m   2785\u001B[0m             max_length \u001B[38;5;241m=\u001B[39m \u001B[38;5;28mself\u001B[39m\u001B[38;5;241m.\u001B[39mmodel_max_length\n\u001B[1;32m   2787\u001B[0m \u001B[38;5;66;03m# Test if we have a padding token\u001B[39;00m\n\u001B[0;32m-> 2788\u001B[0m \u001B[38;5;28;01mif\u001B[39;00m padding_strategy \u001B[38;5;241m!=\u001B[39m PaddingStrategy\u001B[38;5;241m.\u001B[39mDO_NOT_PAD \u001B[38;5;129;01mand\u001B[39;00m (\u001B[38;5;28mself\u001B[39m\u001B[38;5;241m.\u001B[39mpad_token \u001B[38;5;129;01mis\u001B[39;00m \u001B[38;5;28;01mNone\u001B[39;00m \u001B[38;5;129;01mor\u001B[39;00m \u001B[38;5;28;43mself\u001B[39;49m\u001B[38;5;241;43m.\u001B[39;49m\u001B[43mpad_token_id\u001B[49m \u001B[38;5;241m<\u001B[39m \u001B[38;5;241m0\u001B[39m):\n\u001B[1;32m   2789\u001B[0m     \u001B[38;5;28;01mraise\u001B[39;00m \u001B[38;5;167;01mValueError\u001B[39;00m(\n\u001B[1;32m   2790\u001B[0m         \u001B[38;5;124m\"\u001B[39m\u001B[38;5;124mAsking to pad but the tokenizer does not have a padding token. \u001B[39m\u001B[38;5;124m\"\u001B[39m\n\u001B[1;32m   2791\u001B[0m         \u001B[38;5;124m\"\u001B[39m\u001B[38;5;124mPlease select a token to use as `pad_token` `(tokenizer.pad_token = tokenizer.eos_token e.g.)` \u001B[39m\u001B[38;5;124m\"\u001B[39m\n\u001B[1;32m   2792\u001B[0m         \u001B[38;5;124m\"\u001B[39m\u001B[38;5;124mor add a new pad token via `tokenizer.add_special_tokens(\u001B[39m\u001B[38;5;124m{\u001B[39m\u001B[38;5;124m'\u001B[39m\u001B[38;5;124mpad_token\u001B[39m\u001B[38;5;124m'\u001B[39m\u001B[38;5;124m: \u001B[39m\u001B[38;5;124m'\u001B[39m\u001B[38;5;124m[PAD]\u001B[39m\u001B[38;5;124m'\u001B[39m\u001B[38;5;124m})`.\u001B[39m\u001B[38;5;124m\"\u001B[39m\n\u001B[1;32m   2793\u001B[0m     )\n\u001B[1;32m   2795\u001B[0m \u001B[38;5;66;03m# Check that we will truncate to a multiple of pad_to_multiple_of if both are provided\u001B[39;00m\n",
      "File \u001B[0;32m~/miniconda3/envs/faiss39/lib/python3.9/site-packages/transformers/tokenization_utils_base.py:1104\u001B[0m, in \u001B[0;36mSpecialTokensMixin.__getattr__\u001B[0;34m(self, key)\u001B[0m\n\u001B[1;32m   1102\u001B[0m         \u001B[38;5;28;01mreturn\u001B[39;00m \u001B[38;5;28mstr\u001B[39m(value) \u001B[38;5;28;01mif\u001B[39;00m key \u001B[38;5;241m!=\u001B[39m \u001B[38;5;124m\"\u001B[39m\u001B[38;5;124madditional_special_tokens\u001B[39m\u001B[38;5;124m\"\u001B[39m \u001B[38;5;28;01melse\u001B[39;00m [\u001B[38;5;28mstr\u001B[39m(tok) \u001B[38;5;28;01mfor\u001B[39;00m tok \u001B[38;5;129;01min\u001B[39;00m value]\n\u001B[1;32m   1103\u001B[0m     \u001B[38;5;28;01melse\u001B[39;00m:\n\u001B[0;32m-> 1104\u001B[0m         attr_as_tokens \u001B[38;5;241m=\u001B[39m \u001B[38;5;28;43mgetattr\u001B[39;49m\u001B[43m(\u001B[49m\u001B[38;5;28;43mself\u001B[39;49m\u001B[43m,\u001B[49m\u001B[43m \u001B[49m\u001B[43mkey_without_id\u001B[49m\u001B[43m)\u001B[49m\n\u001B[1;32m   1105\u001B[0m         \u001B[38;5;28;01mreturn\u001B[39;00m \u001B[38;5;28mself\u001B[39m\u001B[38;5;241m.\u001B[39mconvert_tokens_to_ids(attr_as_tokens) \u001B[38;5;28;01mif\u001B[39;00m attr_as_tokens \u001B[38;5;129;01mis\u001B[39;00m \u001B[38;5;129;01mnot\u001B[39;00m \u001B[38;5;28;01mNone\u001B[39;00m \u001B[38;5;28;01melse\u001B[39;00m \u001B[38;5;28;01mNone\u001B[39;00m\n\u001B[1;32m   1107\u001B[0m \u001B[38;5;28;01mif\u001B[39;00m key \u001B[38;5;129;01mnot\u001B[39;00m \u001B[38;5;129;01min\u001B[39;00m \u001B[38;5;28mself\u001B[39m\u001B[38;5;241m.\u001B[39m\u001B[38;5;18m__dict__\u001B[39m:\n",
      "File \u001B[0;32m~/miniconda3/envs/faiss39/lib/python3.9/site-packages/transformers/tokenization_utils_base.py:1102\u001B[0m, in \u001B[0;36mSpecialTokensMixin.__getattr__\u001B[0;34m(self, key)\u001B[0m\n\u001B[1;32m   1100\u001B[0m         \u001B[38;5;28;01mreturn\u001B[39;00m \u001B[38;5;28;01mNone\u001B[39;00m\n\u001B[1;32m   1101\u001B[0m     value \u001B[38;5;241m=\u001B[39m _special_tokens_map[key]\n\u001B[0;32m-> 1102\u001B[0m     \u001B[38;5;28;01mreturn\u001B[39;00m \u001B[38;5;28mstr\u001B[39m(value) \u001B[38;5;28;01mif\u001B[39;00m \u001B[43mkey\u001B[49m\u001B[43m \u001B[49m\u001B[38;5;241;43m!=\u001B[39;49m\u001B[43m \u001B[49m\u001B[38;5;124;43m\"\u001B[39;49m\u001B[38;5;124;43madditional_special_tokens\u001B[39;49m\u001B[38;5;124;43m\"\u001B[39;49m \u001B[38;5;28;01melse\u001B[39;00m [\u001B[38;5;28mstr\u001B[39m(tok) \u001B[38;5;28;01mfor\u001B[39;00m tok \u001B[38;5;129;01min\u001B[39;00m value]\n\u001B[1;32m   1103\u001B[0m \u001B[38;5;28;01melse\u001B[39;00m:\n\u001B[1;32m   1104\u001B[0m     attr_as_tokens \u001B[38;5;241m=\u001B[39m \u001B[38;5;28mgetattr\u001B[39m(\u001B[38;5;28mself\u001B[39m, key_without_id)\n",
      "\u001B[0;31mKeyboardInterrupt\u001B[0m: "
     ]
    }
   ],
   "execution_count": 30
  },
  {
   "metadata": {
    "ExecuteTime": {
     "end_time": "2025-05-26T00:25:26.281217Z",
     "start_time": "2025-05-26T00:25:26.277371Z"
    }
   },
   "cell_type": "code",
   "source": "query = \"Biochemical studies on camomile components/\"",
   "id": "e76522ec9bad6ba9",
   "outputs": [],
   "execution_count": 31
  },
  {
   "metadata": {},
   "cell_type": "markdown",
   "source": "# Lets query the index",
   "id": "c31a7dfe68c1fb99"
  },
  {
   "metadata": {
    "ExecuteTime": {
     "end_time": "2025-05-26T00:26:29.966601Z",
     "start_time": "2025-05-26T00:26:29.954605Z"
    }
   },
   "cell_type": "code",
   "source": "distances, indexes = storage.query(key=query, k=5)",
   "id": "9ce375e8c3ce2c27",
   "outputs": [],
   "execution_count": 34
  },
  {
   "metadata": {
    "ExecuteTime": {
     "end_time": "2025-05-26T00:26:30.419122Z",
     "start_time": "2025-05-26T00:26:30.387616Z"
    }
   },
   "cell_type": "code",
   "source": [
    "for i in range(len(indexes)):\n",
    "    print(f\"Index: {indexes[i]}, Distance: {distances[i]}\")\n",
    "    print(tokenizer.decode(tokenized_dataset[indexes[i]][\"input_ids\"][0], skip_special_tokens=True))\n",
    "    print(\"\\n\")"
   ],
   "id": "43b73d4606011682",
   "outputs": [
    {
     "name": "stdout",
     "output_type": "stream",
     "text": [
      "Index: 1410, Distance: 236034326528.0\n",
      "Synthesis of angiotensin II antagonists containing N- and O-methylated and other amino acid residues. [1-N-Methylisoasparagine,8-isoleucine]- (I), [1-sarcosine,4-N-methyltyrosine,8-isoleucine]- (II), [1-sarcosine,5-N-methylisoleucine,8-isoleucine]- (III), [1-sarcosine,8-N-methylisoleucine]- (IV), [1-sarcosine8k-N-methylisoleucine,8-N-methylisoleucine]- (V), [1-sarcosine,8-O-methylthreonine]- (VI), [1-sarcosine,8-methionine]- (VII), and [1-sarcosine,8-serine]angiotensin II (VIII), synthesized by Merrifield's solid-phase procedure, possess respectively 0.8, 0.3, 0.5, 1.0, 0.0, 0.5, 3.7, and 0.7% pressor activity of angiotensin II (vagotomized, ganglion-blocked rats). They caused an initial rise in blood pressure (30 min of infusion, 250 ng/kg/min in vagotomized, ganglion-blocked rats) of 16.57, 9.80, 22.80, 32.00, 7.00, 15.06, 32.50, and 11.42 mmHg and showed secretory activity (isolated cat adrenal medulla) of 1.0, 0.1, 0.01, 0.1, less than 0.01, 0.1, less than 0.01, and 0.05% of angiotensin II. On isolated organs pA2 values (rabbit aortic strips) of 8.74, 7.44, 7.64, 7.85, 7.89, 8.76, 8.63, and 8.08, and pA2 values (cat adrenal medulla of 8.16, 9.16, 9.31, 8.00, 8.00, 7.00, 9.16, and 9.33 were obtained. Dose ratios (ratio of ED20 of angiotensin II during infusion of the antagonist and before infusion of the antagonist) in vagotomized, ganglion-blocked rats, infused at 250 ng/kg/min, were 33.43, 2.14, 3.26, 2.99, 0.62, 62.52, incalculable, and 11.15, respectively. The results obtained suggest that (a) analogs I and VI are potent antagonists of the pressor response of angiotensin II in normal rat, VI being the most potent antagonist thus far synthesized; (b) replacement of position 4 (Tyr) with MeTyr or position 5 and/or 8 (Ile) with Melle in [1-sarcosine,8-isoleucine]angiotensin II reduced the antagonist activity of this peptide (rabbit aortic strips and rats), indicating that steric hindrance imposed due to N-methylation in positions 4, 5, or 8 was not favorable in eliminating the initial pressor activity or prolonging the duration of action of [Sar1, Ile8]angiotensin II without reducing its antagonistic properties; (c) except II, none of the analogs showed any enhanced duration of action, suggesting that\n",
      "\n",
      "\n",
      "Index: 9312, Distance: 243192315904.0\n",
      "Surface potential reflected in both gating and permeation mechanisms of sodium and calcium channels of the tunicate egg cell membrane. 1. Threshold changes of Na and Ca currents due to various polyvalent cations (stabilizing cations) or H(+) ions were studied in the egg cell membrane of a tunicate, Halocynthia roretzi, by using the voltage-clamp technique.2. With an increase in [Ca](o) or a decrease in pH in the external solution, the current-voltage (I-V) relations for the peak of the Na and Ca currents shifted along the voltage axis in the positive direction. These voltage shifts in the I-V relations, measured at a potential of V((1/2)) where inward current attains its half-maximum, were shown to be identical to shifts in voltage-dependence of the time courses of Na and Ca currents, and also identical to shifts in the inactivation curves of Na current along the voltage axis.3. The shifts in V((1/2)) produced by various polyvalent cations or H(+) ions were analysed by the Gouy-Chapman equation for the diffuse double layer, by assuming that a change in V((1/2)) directly corresponds to a change in the surface double layer potential.4. The V((1/2))-divalent cation concentration relations of Na current were exactly described by the predictions of the theory with a constant value of the surface charge density of 1e(-)/(9 A)(2). The weak stabilizing effects of Mg(2+), Sr(2+) and Ba(2+) were quite similar to each other and were explained in terms of a ;screening' effect. Other divalent cations, such as Ca(2+), Mn(2+) and Ni(2+), showed various different stabilizing effects which were explained in terms of a ;binding' effect. The binding constants (K(1)'s) for Ca(2+), Mn(2+) and Ni(2+) were 0.21, 0.45 and 0.94 M(-1), respectively.5. H(+) ions showed a powerful stabilizing effect upon the Na current with a K(H) of 6 x 10(4)M(-1). This value indicates that the acidic sites around Na channels have a pK(a) of 4.78. La(3+) ions also acted as a strong stabilizer upon the Na current with a K(La) of 15 M(-1). For both H(+) and La(3+), the V((1/2))-concentration relations were also exactly described by the Gouy-Chapman equation with the same charge density of 1e(-)/(9 A)(2) as estimated by varying divalent cations.6. The stabilizing effect of permeant cations such as Ca(2+), Sr(2+) and Ba(2+) on Ca channel currents was analysed. The effect of lowering pH was also studied. It was found that the surface charge density of 1e(-)/(9 A)(2) estimated by Na current is also applicable to the explanation for the V((1/2))-divalent cation concentration or - pH relationships. The estimated binding constants for H(+), Ca(2+) and Sr(2+) were 1.2x10(5), 0.58 and 0.035 M(-1), respectively. Ba(2+) does not bind to charged sites near to the Ca channels.7. It was noticed that a considerable reduction in the conductances of Na and Ca currents occurred in parallel with a stabilizing effect. This reduction was ascribed to a decrease in the concentration of permeant cations at the external surface of the cell membrane, as predicted by the theory of the diffuse double layer. The Goldman, Hodgkin-Katz\n",
      "\n",
      "\n",
      "Index: 3290, Distance: 266986127360.0\n",
      "Thyroxine-protein interactions. Interaction of thyroxine and triiodothyronine with human thyroxine-binding globulin. The effect of temperature on the binding of thyroxine and triiodothyronine to thyroxine-binding globulin has been studied by equilibrium dialysis. Inclusion of ovalbumin in the dialysis mixture stabilized thyroxine-binding globulin against losses in binding activity which had been found to occur during equilibrium dialysis. Ovalbumin by itself bound the thyroid hormones very weakly and its binding could be neglected when analyzing the experimental results. At pH 7.4 and 37 degrees in 0.06 M potassium phosphate/0.7 mM EDTA buffer, thyroxine was bound to thyroxine-binding globulin at a single binding site with apparent association constants: at 5 degrees, K = 4.73 +/- 0.38 X 10(10) M-1; at 25 degrees, K = 1.55 +/- 0.17 X 10(10) M-1; and at 37 degrees, K = 9.08 +/- 0.62 X 10(9) M-1. Scatchard plots of the binding data for triiodothyronine indicated that the binding of this compound to thyroxine-binding globulin was more complex than that found for thyroxine. The data for triiodothyronine binding could be fitted by asuming the existence of two different classes of binding sites. At 5 degrees and pH 7.4 nonlinear regression analysis of the data yielded the values n1 = 1.04 +/- 0.10, K1 = 3.35 +/- 0.63 X 10(9) M-1 and n2 = 1.40 +/- 0.08, K2 = 0.69 +/- 0.20 X 10(8) M-1. At 25 degrees, the values for the binding constants were n1 = 1.04 +/- 0.38, K1 = 6.5 +/- 2.8 X 10(8) M-1 and n2 = 0.77 +/- 0.22, K2 = 0.43 +/- 0.62 X 10(8) M-1. At 37 degrees where less curvature was observed, the estimated binding constants were n1 = 1.02 +/- 0.06, K1 = 4.32 +/- 0.59 X 10(8) M-1 and n2K2 = 0.056 +/- 0.012 X 10(8) M-1. When n1 was fixed at 1, the resulting values obtained for the other three binding constants were at 25 degrees, K1 = 6.12 +/- 0.35 X 10(8) M-1, n2 = 0.72 +/- 0.18, K2 = 0.73 +/- 0.36 X 10(8) M-1; and at 37 degrees K1 = 3.80 +/- 0.22 X 10(8) M-1, n2 = 0.44 +/- 0.22, and K2 = 0.43 +/- 0.38 X 10(8) M-1. The thermodynamic values for thyroxine binding to thyroxine-binding globulin at 37 degrees and pH 7.4 were deltaG0 = -14.1 kcal/mole, deltaH0 = -8.96 kcal/mole, and deltaS0 = +16.7 cal degree-1 mole-1. For triiodothyronine at 37 degrees, the thermodynamic values for binding at the primary binding site were deltaG0 = -12.3 kcal\n",
      "\n",
      "\n",
      "Index: 6243, Distance: 302198489088.0\n",
      "pH-dependent effects of Cr(NH3)2ATP on kinetics of yeast hexokinase PII. Relationship to the slow transition mechanism. The effect of Cr(NH3)2ATP, a virtually inert, inner sphere metal-ligand complex, on the kinetics of purified yeast hexokinase PII has been studied at pH 6.5 and pH 7.5. At pH 6.5, where the normal assays exhibit a slow burst-type transient, low concentrations of Cr(NH3)2ATP were found to activate both phii, the initial velocity, and phiII, the steady state velocity. At higher concentrations, Cr(NH3)2ATP was found to be a competitive inhibitor versus MgATP for both phii and phiII. The apparent Ki values for both velocities were the same. The inhibition by Cr(NH3)2ATP at pH 6.5 was found to be a slow process with half-times similar to those found for the normal burst-type transient at this pH value. At pH 7.5, where normal assays exhibit linear progress curves, Cr(NH3)2ATP behaved similarly to that observed before at pH 7 (Danenberg, D. D., and Cleland, W. W. (1975) Biochemistry 14, 28-39), i.e. it was a competitive inhibitor versus MgATP and it caused a slowing of the reaction rate over the first several minutes. The apparent Ki for the initial velocity was 8-fold higher than the apparent Ki for the steady state velocity, suggesting tighter binding of Cr(NH3)2ATP with time. Preincubation experiments indicated that the normal pH 6.5 burst-type transient could be eliminated by appropriate preincubation with Cr(NH3)2ATP and a sugar. In agreement with Danenberg and Cleland (1975), similar preincubations have been shown to produce linear assays at pH 7.5 in the presence of Cr(NH3)2ATP. Similar results were seen with MgITP as the nucleotide substrate, where a burst-type transient is not seen at either pH value under normal assay conditions. At pH 7.5, a slow decrease in the reaction rate is seen over the first several minutes in the presence of Cr(NH3)2ATP. The apparent Ki for phii was 7-fold higher than the apparent Ki value for phiII, again suggesting a tighter binding of Cr(NH3)2ATP with time. A similar observation was made at pH 6.5, but the Ki values for phii and phiII were the same, suggesting no tightening of the binding of Cr(NH3)2ATP with time at this pH value. These results suggested that both slow processes reflect the same basic molecular change, but the consequences are different at the two pH values, presumably because of the difference in the charge of the enzyme. The Cr(NH3)2ATP kinetics at pH 6.5 have been interpreted in terms of a modification of the slow transition mechanism for hexokinase (Shill, J. P., and Neet, K. E. (1975) J. Biol. Chem. 250, 2259-2268). It is postulated that glucose and Cr(NH3)2ATP induce the same slow conformational change at pH 6.5 as that induced by glucose and MgATP, which gives rise to the normal burst-type transient. This suggests that Cr(NH3)2ATP may be a useful tool for physical studies to determine the cause of the slow transition of yeast hexokinase. Activation by low concentrations of Cr(NH3)2ATP was interpreted as binding of the nucleotide to an activator site on the enzyme, causing a shift in the distribution of enzyme\n",
      "\n",
      "\n",
      "Index: 7757, Distance: 339574390784.0\n",
      "[Endogenous formation of carcinogenic-N-nitroso compounds in rats after application of drugs and nitrite (author's transl)]. During the last years in vitro investigations have demonstrated the possibility of nitrosation of different amines and amides including a number of drugs. The aim of the presented investigations was to test whether an endogenous nitrosation of piperazine, Obesin (propyhexedrine), and ephedrine is possible in long term experiments with rats. With the exception of group No. 3, the experiments were carried out with hooded rats (table 1). Group No. 1: 15 rats were given 100 mg/kg b.w. piperazine (Merck, Darmstadt) and 80 mg/kg b.w. NaNO2 by gastric tube. After the fourth application because of intoxication a reduction to 80 mg/kg b.w. piperazine and 50 mg/kg b.w. NaNO2 was necessary. Duration of treatment (in two weeks intervals): 7 months. Group No. 2: Pregnant rats received 80 mg/kg b.w. piperazine and 50 mg/kg b.w. NaNO2 by gastric tube once in the last third of pregnancy. In 13 offsprings the carcinogenic action was tested.  Group No. 3: Pregnant Wistar rats were given 100 mg/kg b.w. piperazine and 70 mg/kg b.w. NaN92 by gastric tube once in the last third of pregnancy. Group No. 4: 20 hooded rats received 40 mg/kg b.w. Obesin (propylhexedrine, Fahlberg-List Magdeburg) and 40 mg/kg b.w. NaM92 once in two weekly intervals by gastric tube. Duration of the treatment: 6 months. 5 controls received 40 mg/kg b.w. Obesin or 40 mg/kg b.w. NaNO2 resp. Group No. 5: Hooded rats were given 40 mg/kg b.w. Obesin and 40 mg/kg b.w. NaNO2 by gastric tube once in the last third of pregnancy. 32 offsprings were observed. Group No. 6: 26 animals received 80 mg/kg b.w. ephedrine (D,L-Ephedrin \"Fahlberg\" DAB 7) and 50 mg/kg b.w. NaNO2 once per two weeks by gastric tube. Duration of the experiment: 6 months. 5 controls were applied 80 mg/kg b.w. ephedrine. Group No. 7: 30 hooded rats received a standard diet containing 0.5 per cent ephedrine and 0.2 per cent NaNO2. Duration of the experiment: 50 days. Only ephedrine was added in the same concentration to the diet of 10 control animals. results (tables 2--7): All animals that survived for more than 80 days were included in the analysis. In group No. 1 after a latency of 254--432 days 5 out of 14 rats developed malignant tumours of the nasal cavities (1), esophagus (1), leukoses (2), or soft tissue sarcoma (1). The spectrum of tumours indicates the endogenous formation of N-nitrosopiperazines. In groups 2 and 3 no significant carcinogenic action can be verified. In 56 per cent of hooded rats of group 4 reticulum-cell sarcomas, that were mainly localized in the paracoecal region (7) as well as leukoses (3) were registered. These findings were regarded as a carcinogenic action of the N-nitroso derivative of Obesin. In group No. 5 there is an insignificant carcinogenic effect. \n",
      "\n",
      "\n"
     ]
    }
   ],
   "execution_count": 35
  },
  {
   "metadata": {
    "ExecuteTime": {
     "end_time": "2025-05-26T00:29:42.230106Z",
     "start_time": "2025-05-26T00:29:42.225877Z"
    }
   },
   "cell_type": "code",
   "source": "STORAGE_FILE_PATH = \"./outputs/pubmed_500K.index\"",
   "id": "fcb58d9081c01511",
   "outputs": [],
   "execution_count": 39
  },
  {
   "metadata": {},
   "cell_type": "code",
   "outputs": [],
   "execution_count": null,
   "source": "# storage.export(STORAGE_FILE_PATH) # uncomment to save the index",
   "id": "1fb11f9f2c89d2bd"
  },
  {
   "metadata": {},
   "cell_type": "markdown",
   "source": [
    "# Dataset: pre tokenized dataset\n",
    "\n",
    "We added a faiss storage already tokenized and ready to use"
   ],
   "id": "14e4eb0592df8015"
  },
  {
   "metadata": {
    "ExecuteTime": {
     "end_time": "2025-05-26T00:29:45.062878Z",
     "start_time": "2025-05-26T00:29:43.780871Z"
    }
   },
   "cell_type": "code",
   "source": "storage.load(STORAGE_FILE_PATH)",
   "id": "7fa2683befb40ab6",
   "outputs": [],
   "execution_count": 40
  },
  {
   "metadata": {
    "ExecuteTime": {
     "end_time": "2025-05-26T00:29:55.121025Z",
     "start_time": "2025-05-26T00:29:54.906186Z"
    }
   },
   "cell_type": "code",
   "source": [
    "distances, indexes = storage.query(key=query, k=5)\n",
    "for i in range(len(indexes)):\n",
    "    print(f\"Index: {indexes[i]}, Distance: {distances[i]}\")\n",
    "    print(tokenizer.decode(tokenized_dataset[indexes[i]][\"input_ids\"][0], skip_special_tokens=True))\n",
    "    print(\"\\n\")"
   ],
   "id": "3c949b866deba5ca",
   "outputs": [
    {
     "name": "stdout",
     "output_type": "stream",
     "text": [
      "Index: 281918, Distance: 171539365888.0\n",
      "3,3'-Diiodothyronine production, a major pathway of peripheral iodothyronine metabolism in man. 3,3'-Diiodothyronine (3,3'-T(2)) has been detected in human serum and in thyroglobulin. However, no quantitative assessment of its clearance rate (CR), production rate (PR), or of the importance of extrathyroidal sources of 3,3'-T(2) relative to direct thyroidal secretion is yet available. This study examines these parameters in seven euthyroid subjects, and in eight athyreotic subjects (H) eumetabolic due to thyroxine therapy (HT(4)) (n = 5) or triiodothyronine replacement (HT(3)) (n = 3). A highly specific radioimmunoassay for the measurement of 3,3'-T(2) in whole serum was developed. Serum 3,3'-T(2) concentrations were (mean +/- SD) 6.0+/-1.0 ng/100 ml in 13 normal subjects, 9.0+/-4.6 ng/100 ml in 25 hyperthyroid patients, and 2.7+/-1.1 ng/100 ml in 17 hypothyroid patients. The values in each of the latter two groups were significantly different from normal. 3,3'-T(2) was detected regularly in normal concentrations in 11 hypothyroid patients eumetabolic by treatment with synthetic T(4), in 10 eumetabolic patients suffering from nonthyroidal systemic illness, and in 2 subjects with elevated serum T(4)-binding globulin. The 3,3'-T(2) CR was assessed from data acquired from the (125)I-3,3'-T(2) constant infusion technique. The 3,3'-T(2) PR was calculated from CR and serum concentration of 3,3'-T(2) determined by radio-immunoassay. In the HT(4) subjects the 3,3'-T(2) CR averaged 840+/-377 liters/day and 3,3'-T(2) PR 33.9+/-12.5 mug/day. These results were not significantly different from those in the control group: 3,3'-T(2) CR 628+/-218 liters/day and 3,3'-T(2) PR 39.8+/-19.8 mug/day (all corrected to 70 kg body wt). In addition to 3,3'-T(2) PR, T(3), and reverse triiodothyronine (rT(3)) PR were determined in three of the HT(4) subjects. In each case studied, the 3,3'-T(2) PR was close to the combined triiodothyronine (T(3) + rT(3)) PR. The mean molar ratio of T(2) PR/(T(3) + rT(3)) PR was 1.08+/-0.10. The results obtained in the HT(4) subjects indicate that the production of 3,3'-T(2) is a major route of T(4) metabolism. The combined studies of 3,3'-T(2), T(3) and rT(3) PR in the HT(4) subjects indicate that both T(3) and rT(3) are major precursors of 3,3'-T(2). In the HT(3) subjects, the conversion of T(3) to 3,3'-T(2), determined as the molar ratio of 3,3'-T(2) PR to T(3) PR, ranged from 0.36\n",
      "\n",
      "\n",
      "Index: 110667, Distance: 224323829760.0\n",
      "Physiological and pharmacological influences on thyroxine to 3,5,3'-triiodothyronine conversion and nuclear 3,5,3'-triiodothyronine binding in rat anterior pituitary. Our recent in vivo studies have suggested that intrapituitary l-thyroxine (T(4)) to 3,5,3'-triiodo-l-thyronine (T(3)) conversion with subsequent nuclear binding of T(3) is an important pathway by which circulating T(4) can inhibit thyrotropin release. The present studies were performed to evaluate various physiological and pharmacological influences on these two processes in rat anterior pituitary tissue. Intact pituitary fragments were incubated in buffer-1% bovine serum albumin containing 0.14 ng/ml [(131)I]T(3) and 3.8 ng/ml [(125)I]T(4). Nuclei were isolated after 3 h of incubation and the bound iodothyronines identified by paper chromatography. There was 0.3-1% [(125)I]T(3) contaminating the medium [(125)I]T(4), and this did not change during incubation. Nuclear [(125)I]T(4) was not decreased by 650-fold excesses of medium T(3) or T(4), suggesting that it was nonspecifically bound. The ratio of nuclear to medium [(131)I]- and [(125)I]T(3) were expressed as nuclear counts per minute per milligram wet weight of tissue:counts per minute per microliter medium. Intrapituitary T(4) to T(3) conversion was evidenced by the fact that the nuclear:medium (N:M) ratio for [(131)I]T(3) was 0.45+/-0.21, whereas that for [(125)I]T(3) was 2.23+/-1.28 (mean+/-SD, n = 51). A ratio (R), the N:M [(125)I]T(3) divided by the N:M [(131)I]T(3), was used as an index of intrapituitary T(4) to T(3) conversion. Increasing medium T(3) concentrations up to 50 ng/ml caused a progressive decrease in the N:M ratio for both T(3) isotopes, but no change in the value for R, indicating that both competed for the same limited-capacity nuclear receptors. Increasing concentrations of medium T(4) caused no change in the N:M [(131)I]T(3) but did cause a significant decrease in R in three of four experiments. These results suggest saturation of T(4)-5'-monodeiodination occurred at lower T(4) concentrations than saturation of nuclear T(3) binding sites. In hypothyroid rats, the N:M ratios for both [(131)I]T(3) and [(125)I]T(3) were increased (P &lt; 0.005), but R was three-fold higher than in controls (P &lt; 0.005). Animals given 10 mug T(4)/100 g body wt per d for 5 d had significantly decreased N:M ratios for both [(131)I]T(3) and [(125)I]T(3), as well as a decreased value for R. In fasted rats, neither N:M ratio was depressed, although hepatic T(4) to T(3) conversion in the same animals was 50% of control (P &lt; 0.005). Iopanoic acid (13 muM), but not 6-n-propylthiouracil (29 muM), decreased the N:M\n",
      "\n",
      "\n",
      "Index: 463996, Distance: 226616164352.0\n",
      "Metabolism of resorcinylic compounds by bacteria. Purification and properties of orcinol hydroxylase from Pseudomonas putida 01. Orcinol hydroxylase (EC 1.14.13.6), which catalyzes the first reaction of orcinol catabolism in Pseudomonas putida 01, has been purified to homogeneity, and crystallized. Orcinol hydroxylase catalyzes the hydroxylation of orcinol with equimolar consumption of O2 and NADH (or NADPH) to 2, 3, 5-trihydroxytoluene, which is nonenzymically oxidized to a quinone. The visible absorption spectrum of the enzyme shows maxima at 373 and 454 nm and a shoulder at 480 nm. FAD can be dissociated from the protein. Reconstitution of enzymic activity was achieved with FAD, and to a limited extent by FMN. The enzyme has a molecular weight of 63,000 to 68,000 and contains 1 mol of FAD per mol of protein. K-m values for the three substrates orcinol, NADH, and O2 are 0.03, 0.13, and 0.07mM, RESPECTIVELY. The molecular activity of the crystalline enzyme is 1560 min minus 1. In the absence of orcinol, NADH is only slowly oxidized with formation of H2O2. Several analogs of orcinol also serve as substrates for hydroxylation, namely resorcinol, 4-methylresorcinol, and 4-bromoresorcinol. Other analogs, m-cresol, m-ethylphenol, 4-ethylresorcinol, and phloroglucinol, mimic orcinol as effectors, in that they (a) accelerate electron flow from NADH to the flavin and (b) decrease the apparent K-m for NADH but not to the same extent as the substrates that are hydroxylated. The latter compounds are not hydroxylated. Instead H2O2 accumulates as the only product of O2 reduction. The enzyme therefore behaves either as a hydroxylase or an oxidase. The ratio of hydroxylase to oxidase activities of the enzyme is decreased by an increase in the temperature of incubation; at 60 degrees the reaction with orcinol is almost 50% uncoupled from hydroxylation. The apparent K-m values for the effectors are in good agreement with the D-D values obtained for orcinol, resorcinol, and m-cresol. K-D values were obtained by measurement of the effector-induced perturbations of the visible absorption spectrum of the flavoprotein by difference absorption spectroscopy. The circular dichroism spectrum of orcinol hydroxylase is also altered in the presence of orcinol. The participation of the flavin in the over-all reaction is demonstrated by its rapid reduction under anaerobic conditions by NADH in the presence or orcinol, resorcinol, or m-cresol. Subsequent introduction of oxygen restores the oxidized form and yields H2O2 when m-cresol is the effector, but not when orcinol is the effector. Transfer of reducing equivalents from the reduced flavoprotein to free FAD may also occur. Reduction of orcinol hydroxylase by NADH in the absence of an effector is 10-4-fold slower than in the presence of an effector. The minimal structural requirements for effectors appear to be a 1,3-dihydroxy or 1-alkyl-3-hyd\n",
      "\n",
      "\n",
      "Index: 398450, Distance: 232985919488.0\n",
      "[Production and absorption rate of cerebrospinal fluid in the spinal subarachnoid space of the dog (author's transl)]. Adult mongrel dogs, weighing 10-17 kg. were anesthetized with Nembutal and cervical and lumbosacral laminectomy was performed. The spinal subarachnoid space was blocked by extradural ligation at the level of the C4 to interrupt CSF communication between the cranial and spinal space. Polyethylene catheters were placed in the cervical and lumbosacral subarachnoid space, and artificial Mock CSF buffer, pH 7.35-7.40, containing inulin of 25 mg/dl or 14C-inulin of 1.5-2 muCi/dl as a tracer was perfused in the sacro-cervical direction through the catheter. After a steady state of perfusion was acommplished, the CSF was collected from the outlet catheter. Production and absorption rate of the CSF were calculated after Pappenheimer and Heisey's equation. 1) Effects of CSF pressure on the rate of production (Vf) and absorption (Va) of CSF and on the difference between outflow fluid rate (Vo) and inflow fluid rate (Vi) were studied within the pressure range of -100 to +600 mmH2O. Then, regression lines were calculated by means of the least square method. See Article. Vf was little affected by changes in CSF pressure, while Va increased linearly as CSF pressure elevated. This suggests that the spinal subarachnoid space plays an important role as a site of CSF absorption when the intracranial pressure increases. Vo-Vi, that is difference between absorption and production rate, decreased linearly as the CSF pressure increased. 2) Under a constant CSF pressure of +200 mmH2O, the effects of glucocorticoids (dexamethasone, 0.25 mg/kg and hydrocortisone, 4.15 mg/kg) and a carbonic anhydrase inhibitor (acetazolamide, 10 mg/kg) upon the production and absorption rate of CSF were determined 1/2, 1, 2 and 3 hours after intravenous administration. a) Effect of dexamethasone: The rate of CSF production was reduced to 60.5 +/- 2.4% (p less than 0.001) of the control level. The absorption rate of CSF also decreased to 59.2 +/- 6.09% (p less than 0.001) of the control. b) Effect of hydrocortisone: The production rate of CSF decreased to 67.4 +/- 6.61% (p less than 0.001), and the absorption rate to 76.5 +/- 3.94% (p less than 0.001) of the control level. c) Effect of acetazolamide: The production and absorption rate also decreased to 57.2 +/- 5.61% (p less than 0.001) and to 56.9 +/- 7.02% (p less than 0.001), respectively. 3) Pentration of tritiated dexamethasone and tritiated hydrocortisone from plasma to CSF. The penetration of tritiated dexamethasone and tritiated hydrocortisone from plasma to CSF in the spinal and cranial subarachnoid space was observed after the intravenous administration. The CSF/Plasma ratio of dexamethasone was 30.9% at 15 minutes and gradually increased to 91.5% and 93.5%, respectively, in the cranial\n",
      "\n",
      "\n",
      "Index: 185292, Distance: 234069327872.0\n",
      "The role of sulfhydryl groups on the impaired hepatic 3',3,5-triiodothyronine generation from thyroxine in the hypothyroid, starved, fetal, and neonatal rodent. The role of nonprotein sulfhydryl groups (NPSH) in the decreased in vitro hepatic 3',3,5-triiodothyronine (T(3)) generation from thyroxine (T(4)) in the starved, hypothyroid, fetal and 1- to 4-d-old neonatal rat and dwarf mouse was assessed. NPSH were measured in fresh 25% liver homogenates prepared in 0.1 M PO(4)/10 mM EDTA buffer. As compared with values in adult male rats, NPSH concentration was decreased in the 2-d-starved (1.1+/-0.04 (mean+/-SE) vs. 2.2+/-0.15 mmol/250 g wet liver weight, P &lt; 0.001), fetal (1.0+/-0.04 vs. 3.2+/-0.08, P &lt; 0.001), 1-d-old neonatal (1.1+/-0.03 vs. 2.1+/-0.04, P &lt; 0.001), and hypothyroid (thyroidectomized 60 d) (1.4+/-0.06 vs. 2.2+/-0.15 P &lt; 0.001) rat. NPSH were also decreased in the hypothyroid, hypopituitary dwarf mouse as compared with values in their normal litter mates (1.3+/-0.03 vs. 2.0+/-0.2, P &lt; 0.01). Chronic administration of T(3) (0.5 mug/100 g body wt per d) markedly increased hepatic T(3) generation from T(4) in the thyroidectomized rat and in the dwarf mouse to values similar to those observed in the normal rodent without affecting NPSH concentration. In contrast, T(3) administration to the starved rat did not alter either hepatic T(3) generation from T(4) or NPSH. Reduced glutathione concentration was also markedly decreased in the starved rat (fed; 1.05+/-0.075 mmol/250 g wet tissue vs. starved 0.38+/-0.02, P &lt; 0.001). Dithiothreitol (DTT), a thiol reducing agent, increased hepatic T(3) generation from T(4) in the normal adult male rat by 45+/-5% in six experiments. When compared to DTT-stimulated control homogenates, the addition of DTT completely restored hepatic T(3) generation in starved rats, partially restored T(3) generation in 1- and 4-d-old neonates, but had little or no effect in the fetal and hypothyroid rat and dwarf mouse. Liver homogenates stored for 6 mo at -20 degrees C lost their capacity to generate T(3) from T(4). NPSH concentrations in the frozen homogenates decreased progressively with increasing storage and were absent by 6 mo. 5'-Deiodinase activity correlated with NPSH concentration in the stored homogenates (r = 0.95, P &lt; 0.005). Addition of DTT partially restored hepatic T(3) generation in the frozen homogenate. It is concluded that NPSH are important for the action of the liver 5'-deiodinase. The decreased hepatic T(3) generation\n",
      "\n",
      "\n"
     ]
    }
   ],
   "execution_count": 41
  },
  {
   "metadata": {},
   "cell_type": "code",
   "outputs": [],
   "execution_count": null,
   "source": "",
   "id": "94954cd608740260"
  }
 ],
 "metadata": {
  "kernelspec": {
   "display_name": "Python 3",
   "language": "python",
   "name": "python3"
  },
  "language_info": {
   "codemirror_mode": {
    "name": "ipython",
    "version": 2
   },
   "file_extension": ".py",
   "mimetype": "text/x-python",
   "name": "python",
   "nbconvert_exporter": "python",
   "pygments_lexer": "ipython2",
   "version": "2.7.6"
  }
 },
 "nbformat": 4,
 "nbformat_minor": 5
}
