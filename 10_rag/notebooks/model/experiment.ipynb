{
 "cells": [
  {
   "cell_type": "code",
   "id": "initial_id",
   "metadata": {
    "collapsed": true,
    "ExecuteTime": {
     "end_time": "2025-05-18T01:38:14.933232Z",
     "start_time": "2025-05-18T01:38:09.234756Z"
    }
   },
   "source": [
    "import torch\n",
    "from transformers import AutoTokenizer, AutoModelForCausalLM\n",
    "\n",
    "model_name = \"meta-llama/Llama-3.2-1B\"\n",
    "\n",
    "tokenizer = AutoTokenizer.from_pretrained(model_name, trust_remote_code=True)\n",
    "model = AutoModelForCausalLM.from_pretrained(model_name, trust_remote_code=True)\n",
    "model = model.to(\"cuda\")"
   ],
   "outputs": [],
   "execution_count": 1
  },
  {
   "metadata": {
    "ExecuteTime": {
     "end_time": "2025-05-18T01:38:14.940791Z",
     "start_time": "2025-05-18T01:38:14.937521Z"
    }
   },
   "cell_type": "code",
   "source": [
    "raw_prompt = \"\"\"You are an expert in multiple-choice questions. Your task is to select the best answer from the given options based on the provided context.\n",
    "Question: What did the study reveal about the role of external calcium concentration in the action potential and contraction recovery time of crayfish muscle fibers?\n",
    "\n",
    "Options:\n",
    "A. The study found that increasing external calcium concentration had no effect on the action potential or contraction recovery time in crayfish muscle fibers.\n",
    "B. The research concluded that magnesium ions play a more significant role than calcium in the action potential and contraction recovery of crayfish muscle fibers.\n",
    "C. The investigation revealed that external calcium concentration only affects the resting potential of crayfish muscle fibers, not the action potential or contraction recovery.\n",
    "D. The study investigated how changes in external calcium concentration affect the action potential and contraction recovery time in crayfish muscle fibers, revealing that calcium entry through TTS membranes is crucial for excitation-contraction coupling.\n",
    "\n",
    "Between A, B, C and D the best option is\"\"\""
   ],
   "id": "4422a683451e8589",
   "outputs": [],
   "execution_count": 2
  },
  {
   "metadata": {
    "ExecuteTime": {
     "end_time": "2025-05-18T01:38:15.085963Z",
     "start_time": "2025-05-18T01:38:15.080396Z"
    }
   },
   "cell_type": "code",
   "source": "raw_prompt",
   "id": "3a1250af10901cb1",
   "outputs": [
    {
     "data": {
      "text/plain": [
       "'You are an expert in multiple-choice questions. Your task is to select the best answer from the given options based on the provided context.\\nQuestion: What did the study reveal about the role of external calcium concentration in the action potential and contraction recovery time of crayfish muscle fibers?\\n\\nOptions:\\nA. The study found that increasing external calcium concentration had no effect on the action potential or contraction recovery time in crayfish muscle fibers.\\nB. The research concluded that magnesium ions play a more significant role than calcium in the action potential and contraction recovery of crayfish muscle fibers.\\nC. The investigation revealed that external calcium concentration only affects the resting potential of crayfish muscle fibers, not the action potential or contraction recovery.\\nD. The study investigated how changes in external calcium concentration affect the action potential and contraction recovery time in crayfish muscle fibers, revealing that calcium entry through TTS membranes is crucial for excitation-contraction coupling.\\n\\nBetween A, B, C and D the best option is'"
      ]
     },
     "execution_count": 3,
     "metadata": {},
     "output_type": "execute_result"
    }
   ],
   "execution_count": 3
  },
  {
   "metadata": {
    "ExecuteTime": {
     "end_time": "2025-05-18T01:38:15.138604Z",
     "start_time": "2025-05-18T01:38:15.124836Z"
    }
   },
   "cell_type": "code",
   "source": [
    "tokenizer.pad_token = tokenizer.eos_token\n",
    "tokenized = tokenizer(\n",
    "    raw_prompt,\n",
    "    return_tensors=\"pt\",\n",
    ").to(\"cuda\")\n",
    "\n",
    "tokenized"
   ],
   "id": "96f5f505f24d6e79",
   "outputs": [
    {
     "data": {
      "text/plain": [
       "{'input_ids': tensor([[128000,   2675,    527,    459,   6335,    304,   5361,  63726,   4860,\n",
       "             13,   4718,   3465,    374,    311,   3373,    279,   1888,   4320,\n",
       "            505,    279,   2728,   2671,   3196,    389,    279,   3984,   2317,\n",
       "            627,  14924,     25,   3639,   1550,    279,   4007,  16805,    922,\n",
       "            279,   3560,    315,   9434,  35719,  20545,    304,    279,   1957,\n",
       "           4754,    323,  71895,  13654,    892,    315,  90016,  18668,  16124,\n",
       "          49774,   1980,   3883,    512,     32,     13,    578,   4007,   1766,\n",
       "            430,   7859,   9434,  35719,  20545,   1047,    912,   2515,    389,\n",
       "            279,   1957,   4754,    477,  71895,  13654,    892,    304,  90016,\n",
       "          18668,  16124,  49774,    627,     33,     13,    578,   3495,  20536,\n",
       "            430,  61933,  65125,   1514,    264,    810,   5199,   3560,   1109,\n",
       "          35719,    304,    279,   1957,   4754,    323,  71895,  13654,    315,\n",
       "          90016,  18668,  16124,  49774,    627,     34,     13,    578,   8990,\n",
       "          10675,    430,   9434,  35719,  20545,   1193,  22223,    279,  41219,\n",
       "           4754,    315,  90016,  18668,  16124,  49774,     11,    539,    279,\n",
       "           1957,   4754,    477,  71895,  13654,    627,     35,     13,    578,\n",
       "           4007,  27313,   1268,   4442,    304,   9434,  35719,  20545,   7958,\n",
       "            279,   1957,   4754,    323,  71895,  13654,    892,    304,  90016,\n",
       "          18668,  16124,  49774,     11,  31720,    430,  35719,   4441,   1555,\n",
       "            350,  10155,  79348,    374,  16996,    369,   3521,   7709,     12,\n",
       "           8386,   1335,  59086,    382,  26556,    362,     11,    426,     11,\n",
       "            356,    323,    423,    279,   1888,   3072,    374]],\n",
       "       device='cuda:0'), 'attention_mask': tensor([[1, 1, 1, 1, 1, 1, 1, 1, 1, 1, 1, 1, 1, 1, 1, 1, 1, 1, 1, 1, 1, 1, 1, 1,\n",
       "         1, 1, 1, 1, 1, 1, 1, 1, 1, 1, 1, 1, 1, 1, 1, 1, 1, 1, 1, 1, 1, 1, 1, 1,\n",
       "         1, 1, 1, 1, 1, 1, 1, 1, 1, 1, 1, 1, 1, 1, 1, 1, 1, 1, 1, 1, 1, 1, 1, 1,\n",
       "         1, 1, 1, 1, 1, 1, 1, 1, 1, 1, 1, 1, 1, 1, 1, 1, 1, 1, 1, 1, 1, 1, 1, 1,\n",
       "         1, 1, 1, 1, 1, 1, 1, 1, 1, 1, 1, 1, 1, 1, 1, 1, 1, 1, 1, 1, 1, 1, 1, 1,\n",
       "         1, 1, 1, 1, 1, 1, 1, 1, 1, 1, 1, 1, 1, 1, 1, 1, 1, 1, 1, 1, 1, 1, 1, 1,\n",
       "         1, 1, 1, 1, 1, 1, 1, 1, 1, 1, 1, 1, 1, 1, 1, 1, 1, 1, 1, 1, 1, 1, 1, 1,\n",
       "         1, 1, 1, 1, 1, 1, 1, 1, 1, 1, 1, 1, 1, 1, 1, 1, 1, 1, 1, 1, 1, 1, 1, 1,\n",
       "         1, 1, 1, 1]], device='cuda:0')}"
      ]
     },
     "execution_count": 4,
     "metadata": {},
     "output_type": "execute_result"
    }
   ],
   "execution_count": 4
  },
  {
   "metadata": {
    "ExecuteTime": {
     "end_time": "2025-05-18T01:38:15.173312Z",
     "start_time": "2025-05-18T01:38:15.168606Z"
    }
   },
   "cell_type": "code",
   "source": "tokenizer.decode(tokenized[\"input_ids\"][0])",
   "id": "ff35367a222ea4e3",
   "outputs": [
    {
     "data": {
      "text/plain": [
       "'<|begin_of_text|>You are an expert in multiple-choice questions. Your task is to select the best answer from the given options based on the provided context.\\nQuestion: What did the study reveal about the role of external calcium concentration in the action potential and contraction recovery time of crayfish muscle fibers?\\n\\nOptions:\\nA. The study found that increasing external calcium concentration had no effect on the action potential or contraction recovery time in crayfish muscle fibers.\\nB. The research concluded that magnesium ions play a more significant role than calcium in the action potential and contraction recovery of crayfish muscle fibers.\\nC. The investigation revealed that external calcium concentration only affects the resting potential of crayfish muscle fibers, not the action potential or contraction recovery.\\nD. The study investigated how changes in external calcium concentration affect the action potential and contraction recovery time in crayfish muscle fibers, revealing that calcium entry through TTS membranes is crucial for excitation-contraction coupling.\\n\\nBetween A, B, C and D the best option is'"
      ]
     },
     "execution_count": 5,
     "metadata": {},
     "output_type": "execute_result"
    }
   ],
   "execution_count": 5
  },
  {
   "metadata": {
    "ExecuteTime": {
     "end_time": "2025-05-18T01:38:15.409368Z",
     "start_time": "2025-05-18T01:38:15.215687Z"
    }
   },
   "cell_type": "code",
   "source": [
    "with torch.no_grad():\n",
    "    model.eval()\n",
    "    # Generate the output\n",
    "    out = model(\n",
    "        **tokenized,\n",
    "    )\n"
   ],
   "id": "48db7a0d8d8392f8",
   "outputs": [],
   "execution_count": 6
  },
  {
   "metadata": {
    "ExecuteTime": {
     "end_time": "2025-05-18T01:38:15.487294Z",
     "start_time": "2025-05-18T01:38:15.481216Z"
    }
   },
   "cell_type": "code",
   "source": "out[0][-1]",
   "id": "43df6a2ff822548e",
   "outputs": [
    {
     "data": {
      "text/plain": [
       "tensor([[ 7.0544,  9.0268, 13.3232,  ..., -3.7595, -3.7596, -3.7596],\n",
       "        [12.8574, 11.2714,  9.1116,  ...,  0.0396,  0.0400,  0.0398],\n",
       "        [10.5716,  5.0304,  6.1321,  ..., -0.3093, -0.3089, -0.3093],\n",
       "        ...,\n",
       "        [ 9.2915,  9.5077,  5.4119,  ...,  1.1720,  1.1720,  1.1726],\n",
       "        [12.4992, 11.2127,  8.8542,  ...,  1.7499,  1.7493,  1.7499],\n",
       "        [12.8659, 13.4886,  9.0342,  ...,  1.4060,  1.4054,  1.4061]],\n",
       "       device='cuda:0')"
      ]
     },
     "execution_count": 7,
     "metadata": {},
     "output_type": "execute_result"
    }
   ],
   "execution_count": 7
  },
  {
   "metadata": {
    "ExecuteTime": {
     "end_time": "2025-05-18T01:38:15.558567Z",
     "start_time": "2025-05-18T01:38:15.554060Z"
    }
   },
   "cell_type": "code",
   "source": "id = torch.argmax(out.logits[0][-1])",
   "id": "3cfe66bfac96ee8b",
   "outputs": [],
   "execution_count": 8
  },
  {
   "metadata": {
    "ExecuteTime": {
     "end_time": "2025-05-18T01:38:15.604432Z",
     "start_time": "2025-05-18T01:38:15.600467Z"
    }
   },
   "cell_type": "code",
   "source": "id",
   "id": "6cefbcdd8e7302ad",
   "outputs": [
    {
     "data": {
      "text/plain": [
       "tensor(423, device='cuda:0')"
      ]
     },
     "execution_count": 9,
     "metadata": {},
     "output_type": "execute_result"
    }
   ],
   "execution_count": 9
  },
  {
   "metadata": {
    "ExecuteTime": {
     "end_time": "2025-05-18T01:38:15.675060Z",
     "start_time": "2025-05-18T01:38:15.671516Z"
    }
   },
   "cell_type": "code",
   "source": "tokenizer.decode(id)",
   "id": "d6e924feb547f7ce",
   "outputs": [
    {
     "data": {
      "text/plain": [
       "' D'"
      ]
     },
     "execution_count": 10,
     "metadata": {},
     "output_type": "execute_result"
    }
   ],
   "execution_count": 10
  },
  {
   "metadata": {
    "ExecuteTime": {
     "end_time": "2025-05-18T01:38:56.396016Z",
     "start_time": "2025-05-18T01:38:56.006678Z"
    }
   },
   "cell_type": "code",
   "source": [
    "generate = model.generate(\n",
    "    input_ids=tokenized[\"input_ids\"],\n",
    "    attention_mask=tokenized[\"attention_mask\"],\n",
    "    do_sample=False,\n",
    "    logits_processor=None,\n",
    ")"
   ],
   "id": "3dc013fba9ff24e7",
   "outputs": [
    {
     "name": "stderr",
     "output_type": "stream",
     "text": [
      "/home/ubuntu/miniconda3/envs/faiss39/lib/python3.9/site-packages/transformers/generation/configuration_utils.py:631: UserWarning: `do_sample` is set to `False`. However, `temperature` is set to `0.6` -- this flag is only used in sample-based generation modes. You should set `do_sample=True` or unset `temperature`.\n",
      "  warnings.warn(\n",
      "/home/ubuntu/miniconda3/envs/faiss39/lib/python3.9/site-packages/transformers/generation/configuration_utils.py:636: UserWarning: `do_sample` is set to `False`. However, `top_p` is set to `0.9` -- this flag is only used in sample-based generation modes. You should set `do_sample=True` or unset `top_p`.\n",
      "  warnings.warn(\n",
      "Setting `pad_token_id` to `eos_token_id`:128001 for open-end generation.\n"
     ]
    }
   ],
   "execution_count": 13
  },
  {
   "metadata": {
    "ExecuteTime": {
     "end_time": "2025-05-18T01:52:27.950102Z",
     "start_time": "2025-05-18T01:52:27.942291Z"
    }
   },
   "cell_type": "code",
   "source": "print(generate)",
   "id": "902cfcdeea4c498a",
   "outputs": [
    {
     "name": "stdout",
     "output_type": "stream",
     "text": [
      "tensor([[128000,   2675,    527,    459,   6335,    304,   5361,  63726,   4860,\n",
      "             13,   4718,   3465,    374,    311,   3373,    279,   1888,   4320,\n",
      "            505,    279,   2728,   2671,   3196,    389,    279,   3984,   2317,\n",
      "            627,  14924,     25,   3639,   1550,    279,   4007,  16805,    922,\n",
      "            279,   3560,    315,   9434,  35719,  20545,    304,    279,   1957,\n",
      "           4754,    323,  71895,  13654,    892,    315,  90016,  18668,  16124,\n",
      "          49774,   1980,   3883,    512,     32,     13,    578,   4007,   1766,\n",
      "            430,   7859,   9434,  35719,  20545,   1047,    912,   2515,    389,\n",
      "            279,   1957,   4754,    477,  71895,  13654,    892,    304,  90016,\n",
      "          18668,  16124,  49774,    627,     33,     13,    578,   3495,  20536,\n",
      "            430,  61933,  65125,   1514,    264,    810,   5199,   3560,   1109,\n",
      "          35719,    304,    279,   1957,   4754,    323,  71895,  13654,    315,\n",
      "          90016,  18668,  16124,  49774,    627,     34,     13,    578,   8990,\n",
      "          10675,    430,   9434,  35719,  20545,   1193,  22223,    279,  41219,\n",
      "           4754,    315,  90016,  18668,  16124,  49774,     11,    539,    279,\n",
      "           1957,   4754,    477,  71895,  13654,    627,     35,     13,    578,\n",
      "           4007,  27313,   1268,   4442,    304,   9434,  35719,  20545,   7958,\n",
      "            279,   1957,   4754,    323,  71895,  13654,    892,    304,  90016,\n",
      "          18668,  16124,  49774,     11,  31720,    430,  35719,   4441,   1555,\n",
      "            350,  10155,  79348,    374,  16996,    369,   3521,   7709,     12,\n",
      "           8386,   1335,  59086,    382,  26556,    362,     11,    426,     11,\n",
      "            356,    323,    423,    279,   1888,   3072,    374,    423,     13,\n",
      "            578,   4007,  27313,   1268,   4442,    304,   9434,  35719,  20545,\n",
      "           7958,    279,   1957,   4754,    323,  71895,  13654,    892,    304]],\n",
      "       device='cuda:0')\n"
     ]
    }
   ],
   "execution_count": 15
  },
  {
   "metadata": {
    "ExecuteTime": {
     "end_time": "2025-05-18T01:38:57.129454Z",
     "start_time": "2025-05-18T01:38:57.124940Z"
    }
   },
   "cell_type": "code",
   "source": "tokenizer.decode(generate[0])",
   "id": "975a0a68c28c3806",
   "outputs": [
    {
     "data": {
      "text/plain": [
       "'<|begin_of_text|>You are an expert in multiple-choice questions. Your task is to select the best answer from the given options based on the provided context.\\nQuestion: What did the study reveal about the role of external calcium concentration in the action potential and contraction recovery time of crayfish muscle fibers?\\n\\nOptions:\\nA. The study found that increasing external calcium concentration had no effect on the action potential or contraction recovery time in crayfish muscle fibers.\\nB. The research concluded that magnesium ions play a more significant role than calcium in the action potential and contraction recovery of crayfish muscle fibers.\\nC. The investigation revealed that external calcium concentration only affects the resting potential of crayfish muscle fibers, not the action potential or contraction recovery.\\nD. The study investigated how changes in external calcium concentration affect the action potential and contraction recovery time in crayfish muscle fibers, revealing that calcium entry through TTS membranes is crucial for excitation-contraction coupling.\\n\\nBetween A, B, C and D the best option is D. The study investigated how changes in external calcium concentration affect the action potential and contraction recovery time in'"
      ]
     },
     "execution_count": 14,
     "metadata": {},
     "output_type": "execute_result"
    }
   ],
   "execution_count": 14
  },
  {
   "metadata": {
    "ExecuteTime": {
     "end_time": "2025-05-18T01:38:16.028004Z",
     "start_time": "2025-05-18T01:38:16.025908Z"
    }
   },
   "cell_type": "code",
   "source": "",
   "id": "3ad9184d932efa2c",
   "outputs": [],
   "execution_count": null
  },
  {
   "metadata": {
    "ExecuteTime": {
     "end_time": "2025-05-18T01:38:16.101994Z",
     "start_time": "2025-05-18T01:38:16.099963Z"
    }
   },
   "cell_type": "code",
   "source": "",
   "id": "3fa0f36629100df",
   "outputs": [],
   "execution_count": null
  },
  {
   "metadata": {
    "ExecuteTime": {
     "end_time": "2025-05-18T01:38:16.174702Z",
     "start_time": "2025-05-18T01:38:16.172817Z"
    }
   },
   "cell_type": "code",
   "source": "",
   "id": "8de8e809bc7c0247",
   "outputs": [],
   "execution_count": null
  }
 ],
 "metadata": {
  "kernelspec": {
   "display_name": "Python 3",
   "language": "python",
   "name": "python3"
  },
  "language_info": {
   "codemirror_mode": {
    "name": "ipython",
    "version": 2
   },
   "file_extension": ".py",
   "mimetype": "text/x-python",
   "name": "python",
   "nbconvert_exporter": "python",
   "pygments_lexer": "ipython2",
   "version": "2.7.6"
  }
 },
 "nbformat": 4,
 "nbformat_minor": 5
}
