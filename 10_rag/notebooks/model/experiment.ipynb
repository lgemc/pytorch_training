{
 "cells": [
  {
   "cell_type": "code",
   "id": "initial_id",
   "metadata": {
    "collapsed": true,
    "ExecuteTime": {
     "end_time": "2025-05-18T00:39:37.952841Z",
     "start_time": "2025-05-18T00:39:32.475133Z"
    }
   },
   "source": [
    "import torch\n",
    "from transformers import AutoTokenizer, AutoModelForCausalLM\n",
    "\n",
    "model_name = \"meta-llama/Llama-3.2-1B\"\n",
    "\n",
    "tokenizer = AutoTokenizer.from_pretrained(model_name, trust_remote_code=True)\n",
    "model = AutoModelForCausalLM.from_pretrained(model_name, trust_remote_code=True)\n",
    "model = model.to(\"cuda\")"
   ],
   "outputs": [],
   "execution_count": 1
  },
  {
   "metadata": {
    "ExecuteTime": {
     "end_time": "2025-05-18T00:41:37.400805Z",
     "start_time": "2025-05-18T00:41:37.397522Z"
    }
   },
   "cell_type": "code",
   "source": [
    "raw_prompt = \"\"\"You are an expert in multiple-choice questions. Your task is to select the best answer from the given options based on the provided context.\n",
    "\n",
    "Context:\n",
    "lets to it\n",
    "\n",
    "Question: What were the key findings regarding the relationship between tumor size and hearing loss in patients with acoustic neuromas, as well as the effectiveness of the Metz test in assessing hearing loss?\n",
    "\n",
    "Options:\n",
    "A. There was no correlation between tumor size and hearing loss, and the Metz test was found to be ineffective in assessing hearing loss.\n",
    "B. In a study of 125 patients with surgically confirmed acoustic neuromas, a significant correlation was found between tumor size and the degree of hearing loss, with no patients exhibiting normal hearing and the Metz test demonstrating the highest validity among various audiological assessments.\n",
    "C. All patients exhibited normal hearing regardless of tumor size, and the Metz test was the least valid among audiological assessments.\n",
    "D. A small tumor size was associated with severe hearing loss, and the Metz test was only moderately effective in evaluating hearing loss.\n",
    "\n",
    "between A, B, C and D the best option is\"\"\""
   ],
   "id": "4422a683451e8589",
   "outputs": [],
   "execution_count": 35
  },
  {
   "metadata": {
    "ExecuteTime": {
     "end_time": "2025-05-18T00:41:37.931710Z",
     "start_time": "2025-05-18T00:41:37.927535Z"
    }
   },
   "cell_type": "code",
   "source": "raw_prompt",
   "id": "3a1250af10901cb1",
   "outputs": [
    {
     "data": {
      "text/plain": [
       "'You are an expert in multiple-choice questions. Your task is to select the best answer from the given options based on the provided context.\\n\\nContext:\\nlets to it\\n\\nQuestion: What were the key findings regarding the relationship between tumor size and hearing loss in patients with acoustic neuromas, as well as the effectiveness of the Metz test in assessing hearing loss?\\n\\nOptions:\\nA. There was no correlation between tumor size and hearing loss, and the Metz test was found to be ineffective in assessing hearing loss.\\nB. In a study of 125 patients with surgically confirmed acoustic neuromas, a significant correlation was found between tumor size and the degree of hearing loss, with no patients exhibiting normal hearing and the Metz test demonstrating the highest validity among various audiological assessments.\\nC. All patients exhibited normal hearing regardless of tumor size, and the Metz test was the least valid among audiological assessments.\\nD. A small tumor size was associated with severe hearing loss, and the Metz test was only moderately effective in evaluating hearing loss.\\n\\nbetween A, B, C and D the best option is '"
      ]
     },
     "execution_count": 36,
     "metadata": {},
     "output_type": "execute_result"
    }
   ],
   "execution_count": 36
  },
  {
   "metadata": {
    "ExecuteTime": {
     "end_time": "2025-05-18T00:41:38.379835Z",
     "start_time": "2025-05-18T00:41:38.366894Z"
    }
   },
   "cell_type": "code",
   "source": [
    "tokenizer.pad_token = tokenizer.eos_token\n",
    "tokenized = tokenizer(\n",
    "    raw_prompt,\n",
    "    return_tensors=\"pt\",\n",
    ").to(\"cuda\")\n",
    "\n",
    "tokenized"
   ],
   "id": "96f5f505f24d6e79",
   "outputs": [
    {
     "data": {
      "text/plain": [
       "{'input_ids': tensor([[128000,   2675,    527,    459,   6335,    304,   5361,  63726,   4860,\n",
       "             13,   4718,   3465,    374,    311,   3373,    279,   1888,   4320,\n",
       "            505,    279,   2728,   2671,   3196,    389,    279,   3984,   2317,\n",
       "            382,   2014,    512,  10145,    311,    433,    271,  14924,     25,\n",
       "           3639,   1051,    279,   1401,  14955,   9002,    279,   5133,   1990,\n",
       "          36254,   1404,    323,  11011,   4814,    304,   6978,    449,  45166,\n",
       "          21143,    442,    300,     11,    439,   1664,    439,    279,  27375,\n",
       "            315,    279,   6344,     89,   1296,    304,  47614,  11011,   4814,\n",
       "           1980,   3883,    512,     32,     13,   2684,    574,    912,  26670,\n",
       "           1990,  36254,   1404,    323,  11011,   4814,     11,    323,    279,\n",
       "           6344,     89,   1296,    574,   1766,    311,    387,  55288,    304,\n",
       "          47614,  11011,   4814,    627,     33,     13,    763,    264,   4007,\n",
       "            315,    220,   6549,   6978,    449,  12274,   2740,  11007,  45166,\n",
       "          21143,    442,    300,     11,    264,   5199,  26670,    574,   1766,\n",
       "           1990,  36254,   1404,    323,    279,   8547,    315,  11011,   4814,\n",
       "             11,    449,    912,   6978,  87719,   4725,  11011,    323,    279,\n",
       "           6344,     89,   1296,  45296,    279,   8592,  32939,   4315,   5370,\n",
       "           6264,  41314,  41300,    627,     34,     13,   2052,   6978,  51713,\n",
       "           4725,  11011,  15851,    315,  36254,   1404,     11,    323,    279,\n",
       "           6344,     89,   1296,    574,    279,   3325,   2764,   4315,   6264,\n",
       "          41314,  41300,    627,     35,     13,    362,   2678,  36254,   1404,\n",
       "            574,   5938,    449,  15748,  11011,   4814,     11,    323,    279,\n",
       "           6344,     89,   1296,    574,   1193,  70351,   7524,    304,  38663,\n",
       "          11011,   4814,    382,  42967,    362,     11,    426,     11,    356,\n",
       "            323,    423,    279,   1888,   3072,    374,    220]],\n",
       "       device='cuda:0'), 'attention_mask': tensor([[1, 1, 1, 1, 1, 1, 1, 1, 1, 1, 1, 1, 1, 1, 1, 1, 1, 1, 1, 1, 1, 1, 1, 1,\n",
       "         1, 1, 1, 1, 1, 1, 1, 1, 1, 1, 1, 1, 1, 1, 1, 1, 1, 1, 1, 1, 1, 1, 1, 1,\n",
       "         1, 1, 1, 1, 1, 1, 1, 1, 1, 1, 1, 1, 1, 1, 1, 1, 1, 1, 1, 1, 1, 1, 1, 1,\n",
       "         1, 1, 1, 1, 1, 1, 1, 1, 1, 1, 1, 1, 1, 1, 1, 1, 1, 1, 1, 1, 1, 1, 1, 1,\n",
       "         1, 1, 1, 1, 1, 1, 1, 1, 1, 1, 1, 1, 1, 1, 1, 1, 1, 1, 1, 1, 1, 1, 1, 1,\n",
       "         1, 1, 1, 1, 1, 1, 1, 1, 1, 1, 1, 1, 1, 1, 1, 1, 1, 1, 1, 1, 1, 1, 1, 1,\n",
       "         1, 1, 1, 1, 1, 1, 1, 1, 1, 1, 1, 1, 1, 1, 1, 1, 1, 1, 1, 1, 1, 1, 1, 1,\n",
       "         1, 1, 1, 1, 1, 1, 1, 1, 1, 1, 1, 1, 1, 1, 1, 1, 1, 1, 1, 1, 1, 1, 1, 1,\n",
       "         1, 1, 1, 1, 1, 1, 1, 1, 1, 1, 1, 1, 1, 1, 1, 1, 1, 1, 1, 1, 1, 1, 1, 1,\n",
       "         1, 1, 1, 1, 1, 1, 1]], device='cuda:0')}"
      ]
     },
     "execution_count": 37,
     "metadata": {},
     "output_type": "execute_result"
    }
   ],
   "execution_count": 37
  },
  {
   "metadata": {
    "ExecuteTime": {
     "end_time": "2025-05-18T00:41:38.726579Z",
     "start_time": "2025-05-18T00:41:38.722201Z"
    }
   },
   "cell_type": "code",
   "source": "tokenizer.decode(tokenized[\"input_ids\"][0])",
   "id": "ff35367a222ea4e3",
   "outputs": [
    {
     "data": {
      "text/plain": [
       "'<|begin_of_text|>You are an expert in multiple-choice questions. Your task is to select the best answer from the given options based on the provided context.\\n\\nContext:\\nlets to it\\n\\nQuestion: What were the key findings regarding the relationship between tumor size and hearing loss in patients with acoustic neuromas, as well as the effectiveness of the Metz test in assessing hearing loss?\\n\\nOptions:\\nA. There was no correlation between tumor size and hearing loss, and the Metz test was found to be ineffective in assessing hearing loss.\\nB. In a study of 125 patients with surgically confirmed acoustic neuromas, a significant correlation was found between tumor size and the degree of hearing loss, with no patients exhibiting normal hearing and the Metz test demonstrating the highest validity among various audiological assessments.\\nC. All patients exhibited normal hearing regardless of tumor size, and the Metz test was the least valid among audiological assessments.\\nD. A small tumor size was associated with severe hearing loss, and the Metz test was only moderately effective in evaluating hearing loss.\\n\\nbetween A, B, C and D the best option is '"
      ]
     },
     "execution_count": 38,
     "metadata": {},
     "output_type": "execute_result"
    }
   ],
   "execution_count": 38
  },
  {
   "metadata": {
    "ExecuteTime": {
     "end_time": "2025-05-18T00:41:39.092899Z",
     "start_time": "2025-05-18T00:41:39.072241Z"
    }
   },
   "cell_type": "code",
   "source": [
    "with torch.no_grad():\n",
    "    model.eval()\n",
    "    # Generate the output\n",
    "    out = model(\n",
    "        **tokenized,\n",
    "    )\n"
   ],
   "id": "48db7a0d8d8392f8",
   "outputs": [],
   "execution_count": 39
  },
  {
   "metadata": {
    "ExecuteTime": {
     "end_time": "2025-05-18T00:41:39.443200Z",
     "start_time": "2025-05-18T00:41:39.434835Z"
    }
   },
   "cell_type": "code",
   "source": "out[0][-1]",
   "id": "43df6a2ff822548e",
   "outputs": [
    {
     "data": {
      "text/plain": [
       "tensor([[ 7.0544,  9.0268, 13.3232,  ..., -3.7595, -3.7596, -3.7596],\n",
       "        [12.8574, 11.2714,  9.1116,  ...,  0.0396,  0.0400,  0.0398],\n",
       "        [10.5716,  5.0304,  6.1321,  ..., -0.3093, -0.3089, -0.3093],\n",
       "        ...,\n",
       "        [13.4677, 12.2019, 10.0472,  ...,  1.5700,  1.5696,  1.5700],\n",
       "        [12.9664, 14.3813, 10.0968,  ...,  1.2152,  1.2147,  1.2153],\n",
       "        [ 4.0033,  4.3279,  5.4732,  ...,  2.9455,  2.9452,  2.9455]],\n",
       "       device='cuda:0')"
      ]
     },
     "execution_count": 40,
     "metadata": {},
     "output_type": "execute_result"
    }
   ],
   "execution_count": 40
  },
  {
   "metadata": {
    "ExecuteTime": {
     "end_time": "2025-05-18T00:41:39.812387Z",
     "start_time": "2025-05-18T00:41:39.809428Z"
    }
   },
   "cell_type": "code",
   "source": "id = torch.argmax(out.logits[0][-1])",
   "id": "3cfe66bfac96ee8b",
   "outputs": [],
   "execution_count": 41
  },
  {
   "metadata": {
    "ExecuteTime": {
     "end_time": "2025-05-18T00:41:40.012231Z",
     "start_time": "2025-05-18T00:41:40.007791Z"
    }
   },
   "cell_type": "code",
   "source": "id",
   "id": "6cefbcdd8e7302ad",
   "outputs": [
    {
     "data": {
      "text/plain": [
       "tensor(362, device='cuda:0')"
      ]
     },
     "execution_count": 42,
     "metadata": {},
     "output_type": "execute_result"
    }
   ],
   "execution_count": 42
  },
  {
   "metadata": {
    "ExecuteTime": {
     "end_time": "2025-05-18T00:41:40.374568Z",
     "start_time": "2025-05-18T00:41:40.370027Z"
    }
   },
   "cell_type": "code",
   "source": "tokenizer.decode(id)",
   "id": "d6e924feb547f7ce",
   "outputs": [
    {
     "data": {
      "text/plain": [
       "' A'"
      ]
     },
     "execution_count": 43,
     "metadata": {},
     "output_type": "execute_result"
    }
   ],
   "execution_count": 43
  },
  {
   "metadata": {
    "ExecuteTime": {
     "end_time": "2025-05-18T00:41:40.742547Z",
     "start_time": "2025-05-18T00:41:40.662757Z"
    }
   },
   "cell_type": "code",
   "source": [
    "generate = model.generate(\n",
    "    input_ids=tokenized[\"input_ids\"],\n",
    "    attention_mask=tokenized[\"attention_mask\"],\n",
    "    do_sample=True,\n",
    "    top_k=50,\n",
    "    top_p=0.95,\n",
    "    num_return_sequences=1,\n",
    ")"
   ],
   "id": "3dc013fba9ff24e7",
   "outputs": [
    {
     "name": "stderr",
     "output_type": "stream",
     "text": [
      "Setting `pad_token_id` to `eos_token_id`:128001 for open-end generation.\n"
     ]
    }
   ],
   "execution_count": 44
  },
  {
   "metadata": {
    "ExecuteTime": {
     "end_time": "2025-05-18T00:41:40.959542Z",
     "start_time": "2025-05-18T00:41:40.954814Z"
    }
   },
   "cell_type": "code",
   "source": "tokenizer.decode(generate[0])",
   "id": "975a0a68c28c3806",
   "outputs": [
    {
     "data": {
      "text/plain": [
       "'<|begin_of_text|>You are an expert in multiple-choice questions. Your task is to select the best answer from the given options based on the provided context.\\n\\nContext:\\nlets to it\\n\\nQuestion: What were the key findings regarding the relationship between tumor size and hearing loss in patients with acoustic neuromas, as well as the effectiveness of the Metz test in assessing hearing loss?\\n\\nOptions:\\nA. There was no correlation between tumor size and hearing loss, and the Metz test was found to be ineffective in assessing hearing loss.\\nB. In a study of 125 patients with surgically confirmed acoustic neuromas, a significant correlation was found between tumor size and the degree of hearing loss, with no patients exhibiting normal hearing and the Metz test demonstrating the highest validity among various audiological assessments.\\nC. All patients exhibited normal hearing regardless of tumor size, and the Metz test was the least valid among audiological assessments.\\nD. A small tumor size was associated with severe hearing loss, and the Metz test was only moderately effective in evaluating hearing loss.\\n\\nbetween A, B, C and D the best option is  D.<|end_of_text|>'"
      ]
     },
     "execution_count": 45,
     "metadata": {},
     "output_type": "execute_result"
    }
   ],
   "execution_count": 45
  },
  {
   "metadata": {
    "ExecuteTime": {
     "end_time": "2025-05-18T00:41:41.330033Z",
     "start_time": "2025-05-18T00:41:41.327478Z"
    }
   },
   "cell_type": "code",
   "source": "",
   "id": "3ad9184d932efa2c",
   "outputs": [],
   "execution_count": null
  },
  {
   "metadata": {},
   "cell_type": "code",
   "outputs": [],
   "execution_count": null,
   "source": "",
   "id": "3fa0f36629100df"
  }
 ],
 "metadata": {
  "kernelspec": {
   "display_name": "Python 3",
   "language": "python",
   "name": "python3"
  },
  "language_info": {
   "codemirror_mode": {
    "name": "ipython",
    "version": 2
   },
   "file_extension": ".py",
   "mimetype": "text/x-python",
   "name": "python",
   "nbconvert_exporter": "python",
   "pygments_lexer": "ipython2",
   "version": "2.7.6"
  }
 },
 "nbformat": 4,
 "nbformat_minor": 5
}
