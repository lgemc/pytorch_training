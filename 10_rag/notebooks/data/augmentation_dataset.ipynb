{
 "cells": [
  {
   "metadata": {},
   "cell_type": "markdown",
   "source": [
    "# Dataset exploration\n",
    "\n",
    "We will explore the dataset to understand its structure and content.\n",
    "\n",
    "Also we will check the content length to set the max length for the tokenizer."
   ],
   "id": "eab4047651a3b8a2"
  },
  {
   "metadata": {
    "collapsed": true,
    "ExecuteTime": {
     "end_time": "2025-05-14T04:43:11.518332Z",
     "start_time": "2025-05-14T04:43:10.731996Z"
    }
   },
   "cell_type": "code",
   "source": [
    "from data.pubmed.from_json import FromJsonDataset\n",
    "import pandas as pd"
   ],
   "id": "initial_id",
   "outputs": [],
   "execution_count": 1
  },
  {
   "metadata": {
    "ExecuteTime": {
     "end_time": "2025-05-14T04:43:12.835991Z",
     "start_time": "2025-05-14T04:43:11.522354Z"
    }
   },
   "cell_type": "code",
   "source": [
    "dataset = FromJsonDataset(json_file=\"../data/pubmed_500K.json\")\n",
    "dataset[0]"
   ],
   "id": "9f5cd222117d506",
   "outputs": [
    {
     "data": {
      "text/plain": [
       "{'title': \"[Biochemical studies on camomile components/III. In vitro studies about the antipeptic activity of (--)-alpha-bisabolol (author's transl)].\",\n",
       " 'content': '(--)-alpha-Bisabolol has a primary antipeptic action depending on dosage, which is not caused by an alteration of the pH-value. The proteolytic activity of pepsin is reduced by 50 percent through addition of bisabolol in the ratio of 1/0.5. The antipeptic action of bisabolol only occurs in case of direct contact. In case of a previous contact with the substrate, the inhibiting effect is lost.',\n",
       " 'contents': \"[Biochemical studies on camomile components/III. In vitro studies about the antipeptic activity of (--)-alpha-bisabolol (author's transl)]. (--)-alpha-Bisabolol has a primary antipeptic action depending on dosage, which is not caused by an alteration of the pH-value. The proteolytic activity of pepsin is reduced by 50 percent through addition of bisabolol in the ratio of 1/0.5. The antipeptic action of bisabolol only occurs in case of direct contact. In case of a previous contact with the substrate, the inhibiting effect is lost.\",\n",
       " 'PMID': 21,\n",
       " 'id': 'pubmed23n0001_0'}"
      ]
     },
     "execution_count": 2,
     "metadata": {},
     "output_type": "execute_result"
    }
   ],
   "execution_count": 2
  },
  {
   "metadata": {
    "ExecuteTime": {
     "end_time": "2025-05-14T04:43:12.885195Z",
     "start_time": "2025-05-14T04:43:12.881842Z"
    }
   },
   "cell_type": "code",
   "source": [
    "rows = []\n",
    "for i in range (0, 1000):\n",
    "    rows.append(dataset[i])\n",
    "\n",
    "# create a dataframe\n",
    "frame = pd.DataFrame(rows)"
   ],
   "id": "c3f9c757bc8d5b88",
   "outputs": [],
   "execution_count": 3
  },
  {
   "metadata": {
    "ExecuteTime": {
     "end_time": "2025-05-14T04:43:12.932427Z",
     "start_time": "2025-05-14T04:43:12.926957Z"
    }
   },
   "cell_type": "code",
   "source": "frame.head(10)",
   "id": "9a9e4b1333096022",
   "outputs": [
    {
     "data": {
      "text/plain": [
       "                                               title  \\\n",
       "0  [Biochemical studies on camomile components/II...   \n",
       "1  [Demonstration of tumor inhibiting properties ...   \n",
       "2  Effect of etafenone on total and regional myoc...   \n",
       "3  Influence of a new virostatic compound on the ...   \n",
       "4  Pharmacological properties of new neuroleptic ...   \n",
       "5  [Studies on the action of an anticholinergic a...   \n",
       "6  Lysosomal hydrolases of the epidermis. I. Glyc...   \n",
       "7  Lysosomal hydrolases of the epidermis. 2. Este...   \n",
       "8  A serum haemagglutinating property dependent u...   \n",
       "9  Effect of human erythrocyte stromata on comple...   \n",
       "\n",
       "                                             content  \\\n",
       "0  (--)-alpha-Bisabolol has a primary antipeptic ...   \n",
       "1  A report is given on the recent discovery of o...   \n",
       "2  The distribution of blood flow to the subendoc...   \n",
       "3  The virostatic compound N,N-diethyl-4-[2-(2-ox...   \n",
       "4  RMI 61 140, RMI 61 144 and RMI 61 280 are newl...   \n",
       "5  A double-blind study with intra-individual com...   \n",
       "6  Seven distinct glycosidases (EC 3.2) have been...   \n",
       "7  Five distinct ester hydrolases (EC 3-1) have b...   \n",
       "8  A serum agglutinin reactive with red cells in ...   \n",
       "9  Stroma from either normal or PNH-like red cell...   \n",
       "\n",
       "                                            contents  PMID               id  \n",
       "0  [Biochemical studies on camomile components/II...    21  pubmed23n0001_0  \n",
       "1  [Demonstration of tumor inhibiting properties ...    22  pubmed23n0001_1  \n",
       "2  Effect of etafenone on total and regional myoc...    23  pubmed23n0001_2  \n",
       "3  Influence of a new virostatic compound on the ...    24  pubmed23n0001_3  \n",
       "4  Pharmacological properties of new neuroleptic ...    25  pubmed23n0001_4  \n",
       "5  [Studies on the action of an anticholinergic a...    26  pubmed23n0001_5  \n",
       "6  Lysosomal hydrolases of the epidermis. I. Glyc...    30  pubmed23n0001_6  \n",
       "7  Lysosomal hydrolases of the epidermis. 2. Este...    31  pubmed23n0001_7  \n",
       "8  A serum haemagglutinating property dependent u...    32  pubmed23n0001_8  \n",
       "9  Effect of human erythrocyte stromata on comple...    33  pubmed23n0001_9  "
      ],
      "text/html": [
       "<div>\n",
       "<style scoped>\n",
       "    .dataframe tbody tr th:only-of-type {\n",
       "        vertical-align: middle;\n",
       "    }\n",
       "\n",
       "    .dataframe tbody tr th {\n",
       "        vertical-align: top;\n",
       "    }\n",
       "\n",
       "    .dataframe thead th {\n",
       "        text-align: right;\n",
       "    }\n",
       "</style>\n",
       "<table border=\"1\" class=\"dataframe\">\n",
       "  <thead>\n",
       "    <tr style=\"text-align: right;\">\n",
       "      <th></th>\n",
       "      <th>title</th>\n",
       "      <th>content</th>\n",
       "      <th>contents</th>\n",
       "      <th>PMID</th>\n",
       "      <th>id</th>\n",
       "    </tr>\n",
       "  </thead>\n",
       "  <tbody>\n",
       "    <tr>\n",
       "      <th>0</th>\n",
       "      <td>[Biochemical studies on camomile components/II...</td>\n",
       "      <td>(--)-alpha-Bisabolol has a primary antipeptic ...</td>\n",
       "      <td>[Biochemical studies on camomile components/II...</td>\n",
       "      <td>21</td>\n",
       "      <td>pubmed23n0001_0</td>\n",
       "    </tr>\n",
       "    <tr>\n",
       "      <th>1</th>\n",
       "      <td>[Demonstration of tumor inhibiting properties ...</td>\n",
       "      <td>A report is given on the recent discovery of o...</td>\n",
       "      <td>[Demonstration of tumor inhibiting properties ...</td>\n",
       "      <td>22</td>\n",
       "      <td>pubmed23n0001_1</td>\n",
       "    </tr>\n",
       "    <tr>\n",
       "      <th>2</th>\n",
       "      <td>Effect of etafenone on total and regional myoc...</td>\n",
       "      <td>The distribution of blood flow to the subendoc...</td>\n",
       "      <td>Effect of etafenone on total and regional myoc...</td>\n",
       "      <td>23</td>\n",
       "      <td>pubmed23n0001_2</td>\n",
       "    </tr>\n",
       "    <tr>\n",
       "      <th>3</th>\n",
       "      <td>Influence of a new virostatic compound on the ...</td>\n",
       "      <td>The virostatic compound N,N-diethyl-4-[2-(2-ox...</td>\n",
       "      <td>Influence of a new virostatic compound on the ...</td>\n",
       "      <td>24</td>\n",
       "      <td>pubmed23n0001_3</td>\n",
       "    </tr>\n",
       "    <tr>\n",
       "      <th>4</th>\n",
       "      <td>Pharmacological properties of new neuroleptic ...</td>\n",
       "      <td>RMI 61 140, RMI 61 144 and RMI 61 280 are newl...</td>\n",
       "      <td>Pharmacological properties of new neuroleptic ...</td>\n",
       "      <td>25</td>\n",
       "      <td>pubmed23n0001_4</td>\n",
       "    </tr>\n",
       "    <tr>\n",
       "      <th>5</th>\n",
       "      <td>[Studies on the action of an anticholinergic a...</td>\n",
       "      <td>A double-blind study with intra-individual com...</td>\n",
       "      <td>[Studies on the action of an anticholinergic a...</td>\n",
       "      <td>26</td>\n",
       "      <td>pubmed23n0001_5</td>\n",
       "    </tr>\n",
       "    <tr>\n",
       "      <th>6</th>\n",
       "      <td>Lysosomal hydrolases of the epidermis. I. Glyc...</td>\n",
       "      <td>Seven distinct glycosidases (EC 3.2) have been...</td>\n",
       "      <td>Lysosomal hydrolases of the epidermis. I. Glyc...</td>\n",
       "      <td>30</td>\n",
       "      <td>pubmed23n0001_6</td>\n",
       "    </tr>\n",
       "    <tr>\n",
       "      <th>7</th>\n",
       "      <td>Lysosomal hydrolases of the epidermis. 2. Este...</td>\n",
       "      <td>Five distinct ester hydrolases (EC 3-1) have b...</td>\n",
       "      <td>Lysosomal hydrolases of the epidermis. 2. Este...</td>\n",
       "      <td>31</td>\n",
       "      <td>pubmed23n0001_7</td>\n",
       "    </tr>\n",
       "    <tr>\n",
       "      <th>8</th>\n",
       "      <td>A serum haemagglutinating property dependent u...</td>\n",
       "      <td>A serum agglutinin reactive with red cells in ...</td>\n",
       "      <td>A serum haemagglutinating property dependent u...</td>\n",
       "      <td>32</td>\n",
       "      <td>pubmed23n0001_8</td>\n",
       "    </tr>\n",
       "    <tr>\n",
       "      <th>9</th>\n",
       "      <td>Effect of human erythrocyte stromata on comple...</td>\n",
       "      <td>Stroma from either normal or PNH-like red cell...</td>\n",
       "      <td>Effect of human erythrocyte stromata on comple...</td>\n",
       "      <td>33</td>\n",
       "      <td>pubmed23n0001_9</td>\n",
       "    </tr>\n",
       "  </tbody>\n",
       "</table>\n",
       "</div>"
      ]
     },
     "execution_count": 4,
     "metadata": {},
     "output_type": "execute_result"
    }
   ],
   "execution_count": 4
  },
  {
   "metadata": {
    "ExecuteTime": {
     "end_time": "2025-05-14T04:43:12.999125Z",
     "start_time": "2025-05-14T04:43:12.993047Z"
    }
   },
   "cell_type": "code",
   "source": [
    "# add content length column by words\n",
    "frame[\"contents_length\"] = frame[\"contents\"].apply(lambda x: len(x.split()))"
   ],
   "id": "2c3a4f80f89114e5",
   "outputs": [],
   "execution_count": 5
  },
  {
   "metadata": {
    "ExecuteTime": {
     "end_time": "2025-05-14T04:43:13.335581Z",
     "start_time": "2025-05-14T04:43:13.034883Z"
    }
   },
   "cell_type": "code",
   "source": [
    "# plot the content length\n",
    "import matplotlib.pyplot as plt\n",
    "\n",
    "\n",
    "plt.hist(frame[\"contents_length\"], bins=100)\n",
    "plt.xlabel(\"Contents Length\")\n",
    "plt.ylabel(\"Frequency\")\n",
    "plt.title(\"Histogram of Content Lengths\")\n",
    "plt.show()"
   ],
   "id": "1dfa692fdd7ff601",
   "outputs": [
    {
     "data": {
      "text/plain": [
       "<Figure size 640x480 with 1 Axes>"
      ],
      "image/png": "[encoded data removed]"
     },
     "metadata": {},
     "output_type": "display_data"
    }
   ],
   "execution_count": 6
  },
  {
   "metadata": {
    "ExecuteTime": {
     "end_time": "2025-05-14T04:43:22.885558Z",
     "start_time": "2025-05-14T04:43:22.882916Z"
    }
   },
   "cell_type": "code",
   "source": [
    "# get the longest content\n",
    "longest_content = frame.loc[frame[\"contents_length\"].idxmax()]\n",
    "print(longest_content)"
   ],
   "id": "ca864a0caabdfcbc",
   "outputs": [
    {
     "name": "stdout",
     "output_type": "stream",
     "text": [
      "title              Renal response to acid loading in the developi...\n",
      "content            Response of the fetal kidney to metabolic acid...\n",
      "contents           Renal response to acid loading in the developi...\n",
      "PMID                                                             479\n",
      "id                                                 pubmed23n0001_273\n",
      "contents_length                                                  511\n",
      "Name: 273, dtype: object\n"
     ]
    }
   ],
   "execution_count": 8
  },
  {
   "metadata": {
    "ExecuteTime": {
     "end_time": "2025-05-14T04:43:27.085410Z",
     "start_time": "2025-05-14T04:43:26.681225Z"
    }
   },
   "cell_type": "code",
   "source": [
    "from models_.building.pubmed_tokenizer import load_article_tokenizer\n",
    "\n",
    "tokenizer = load_article_tokenizer()"
   ],
   "id": "87d463b8c351c9d8",
   "outputs": [],
   "execution_count": 9
  },
  {
   "metadata": {
    "ExecuteTime": {
     "end_time": "2025-05-14T04:43:28.409859Z",
     "start_time": "2025-05-14T04:43:28.405664Z"
    }
   },
   "cell_type": "code",
   "source": [
    "longest_content_tokenized = tokenizer(\n",
    "    longest_content[\"contents\"],\n",
    "    max_length=1000,\n",
    "    truncation=True,\n",
    "    padding=\"max_length\",\n",
    ")\n",
    "\n",
    "# get the sum of attention mask\n",
    "sum(longest_content_tokenized[\"attention_mask\"])"
   ],
   "id": "38892bc6a23ffb14",
   "outputs": [
    {
     "data": {
      "text/plain": [
       "655"
      ]
     },
     "execution_count": 10,
     "metadata": {},
     "output_type": "execute_result"
    }
   ],
   "execution_count": 10
  },
  {
   "metadata": {},
   "cell_type": "markdown",
   "source": [
    "## Conclusion\n",
    "The longest content in the dataset is 640 tokens length, so we can set the max length to 800 tokens."
   ],
   "id": "d7609d9742691b54"
  },
  {
   "metadata": {},
   "cell_type": "code",
   "outputs": [],
   "execution_count": null,
   "source": "",
   "id": "d09d879324e5a573"
  }
 ],
 "metadata": {
  "kernelspec": {
   "display_name": "Python 3",
   "language": "python",
   "name": "python3"
  },
  "language_info": {
   "codemirror_mode": {
    "name": "ipython",
    "version": 2
   },
   "file_extension": ".py",
   "mimetype": "text/x-python",
   "name": "python",
   "nbconvert_exporter": "python",
   "pygments_lexer": "ipython2",
   "version": "2.7.6"
  }
 },
 "nbformat": 4,
 "nbformat_minor": 5
}
