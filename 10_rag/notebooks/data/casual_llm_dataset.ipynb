{
 "cells": [
  {
   "cell_type": "code",
   "id": "initial_id",
   "metadata": {
    "collapsed": true,
    "ExecuteTime": {
     "end_time": "2025-05-24T02:59:12.620336Z",
     "start_time": "2025-05-24T02:59:11.465018Z"
    }
   },
   "source": [
    "from data.q_and_a.train_and_eval import TrainAndEval\n",
    "from data.q_and_a.eval_with_answers import EvalWithAnswers\n",
    "from data.q_and_a.prompted import Prompted, to_transformers_dataset\n",
    "from q_and_a.prompts import prompt_with_answer"
   ],
   "outputs": [],
   "execution_count": 1
  },
  {
   "metadata": {
    "ExecuteTime": {
     "end_time": "2025-05-24T02:59:12.647321Z",
     "start_time": "2025-05-24T02:59:12.623504Z"
    }
   },
   "cell_type": "code",
   "source": [
    "train = TrainAndEval(\"../../data/pubmed_QA_train.json\")\n",
    "with_answers = EvalWithAnswers(train)\n",
    "prompted = Prompted(with_answers, prompt_with_answer)"
   ],
   "id": "3a93516a38b86f57",
   "outputs": [],
   "execution_count": 2
  },
  {
   "metadata": {
    "ExecuteTime": {
     "end_time": "2025-05-24T02:59:12.710273Z",
     "start_time": "2025-05-24T02:59:12.704411Z"
    }
   },
   "cell_type": "code",
   "source": "train[0]",
   "id": "227b84dcb35d8234",
   "outputs": [
    {
     "data": {
      "text/plain": [
       "{'id': 'pubmed23n0022_9139',\n",
       " 'excerpt': 'The rate of action of calcium on the electrical and mechanical responses of the crayfish muscle fibers. The effects of sudden changes in external Ca concentration on the time courses of the changes in size of the action potential and of the associated contraction in a single crayfish muscle fiber were investigated. Procaine-HCl was added to the bathing solution to make the muscle fiber excitable. The concentration of the divalent cations (Ca and Mg) was high enough to keep the threshold potential constant. In Ca-free solution, neither action potential nor contraction was observed. When the external Ca concentration was suddenly increased from 0 to 14 mM, the full sized action potentials were generated within several seconds, but the tensions recovered slowly in an exponential time course with the time constants of 15-40 sec depending on the muscle fiber radius. The tension recovery was further delayed by addition of Dextran to the bathing solution, and it was also slowed at temperatures as low as 4-5 degrees C. When the Ca concentration was changed from 14 mM to 0 mM, the decreased in action potential was slow rather than instantaneous. The delay in tension recovery was attributed to the diffusion time of Ca ions into the TTS, and it was suggested that the Ca entry through the TTS membranes was the first step in the excitation-contraction coupling of the crayfish muscle fibers. The diffusion coefficient of Ca ions inside the TTS was calculated from the recovery time of tension development. It was one order smaller than that in free solution.',\n",
       " 'statement': 'The study investigated how changes in external calcium concentration affect the action potential and contraction recovery time in crayfish muscle fibers, revealing that calcium entry through TTS membranes is crucial for excitation-contraction coupling.',\n",
       " 'question': 'What did the study reveal about the role of external calcium concentration in the action potential and contraction recovery time of crayfish muscle fibers?',\n",
       " 'distractors': ['The study found that increasing external calcium concentration had no effect on the action potential or contraction recovery time in crayfish muscle fibers.',\n",
       "  'The research concluded that magnesium ions play a more significant role than calcium in the action potential and contraction recovery of crayfish muscle fibers.',\n",
       "  'The investigation revealed that external calcium concentration only affects the resting potential of crayfish muscle fibers, not the action potential or contraction recovery.']}"
      ]
     },
     "execution_count": 3,
     "metadata": {},
     "output_type": "execute_result"
    }
   ],
   "execution_count": 3
  },
  {
   "metadata": {
    "ExecuteTime": {
     "end_time": "2025-05-24T02:59:12.809924Z",
     "start_time": "2025-05-24T02:59:12.807511Z"
    }
   },
   "cell_type": "code",
   "source": "prompted[0]",
   "id": "e81ac7cde2cc4c51",
   "outputs": [
    {
     "data": {
      "text/plain": [
       "('You are an expert at answering multiple-choice questions. Given the context below, carefully read the question and select the single best answer from the options provided.\\n\\nContext:\\nThe rate of action of calcium on the electrical and mechanical responses of the crayfish muscle fibers. The effects of sudden changes in external Ca concentration on the time courses of the changes in size of the action potential and of the associated contraction in a single crayfish muscle fiber were investigated. Procaine-HCl was added to the bathing solution to make the muscle fiber excitable. The concentration of the divalent cations (Ca and Mg) was high enough to keep the threshold potential constant. In Ca-free solution, neither action potential nor contraction was observed. When the external Ca concentration was suddenly increased from 0 to 14 mM, the full sized action potentials were generated within several seconds, but the tensions recovered slowly in an exponential time course with the time constants of 15-40 sec depending on the muscle fiber radius. The tension recovery was further delayed by addition of Dextran to the bathing solution, and it was also slowed at temperatures as low as 4-5 degrees C. When the Ca concentration was changed from 14 mM to 0 mM, the decreased in action potential was slow rather than instantaneous. The delay in tension recovery was attributed to the diffusion time of Ca ions into the TTS, and it was suggested that the Ca entry through the TTS membranes was the first step in the excitation-contraction coupling of the crayfish muscle fibers. The diffusion coefficient of Ca ions inside the TTS was calculated from the recovery time of tension development. It was one order smaller than that in free solution.\\n\\nQuestion:\\nWhat did the study reveal about the role of external calcium concentration in the action potential and contraction recovery time of crayfish muscle fibers?\\n\\nOptions:\\nA. The study found that increasing external calcium concentration had no effect on the action potential or contraction recovery time in crayfish muscle fibers.\\nB. The research concluded that magnesium ions play a more significant role than calcium in the action potential and contraction recovery of crayfish muscle fibers.\\nC. The study investigated how changes in external calcium concentration affect the action potential and contraction recovery time in crayfish muscle fibers, revealing that calcium entry through TTS membranes is crucial for excitation-contraction coupling.\\nD. The investigation revealed that external calcium concentration only affects the resting potential of crayfish muscle fibers, not the action potential or contraction recovery.\\n\\nPlease respond only with the letter (A, B, C, or D) of the best option.\\n\\nThe correct answer is: C',\n",
       " 2)"
      ]
     },
     "execution_count": 4,
     "metadata": {},
     "output_type": "execute_result"
    }
   ],
   "execution_count": 4
  },
  {
   "metadata": {
    "ExecuteTime": {
     "end_time": "2025-05-24T02:59:13.147698Z",
     "start_time": "2025-05-24T02:59:12.911314Z"
    }
   },
   "cell_type": "code",
   "source": "hf_dataset = to_transformers_dataset(prompted)",
   "id": "9eddcefdd0c1f1ac",
   "outputs": [],
   "execution_count": 5
  },
  {
   "metadata": {
    "ExecuteTime": {
     "end_time": "2025-05-24T02:37:53.756903Z",
     "start_time": "2025-05-24T02:37:53.737395Z"
    }
   },
   "cell_type": "code",
   "source": "hf_dataset[0][\"text\"] == hf_dataset[\"text\"][0]",
   "id": "e799495463be101b",
   "outputs": [
    {
     "data": {
      "text/plain": [
       "True"
      ]
     },
     "execution_count": 12,
     "metadata": {},
     "output_type": "execute_result"
    }
   ],
   "execution_count": 12
  },
  {
   "metadata": {
    "ExecuteTime": {
     "end_time": "2025-05-24T02:36:19.576498Z",
     "start_time": "2025-05-24T02:36:19.574608Z"
    }
   },
   "cell_type": "code",
   "source": "",
   "id": "62c8ce775d31680d",
   "outputs": [],
   "execution_count": null
  }
 ],
 "metadata": {
  "kernelspec": {
   "display_name": "Python 3",
   "language": "python",
   "name": "python3"
  },
  "language_info": {
   "codemirror_mode": {
    "name": "ipython",
    "version": 2
   },
   "file_extension": ".py",
   "mimetype": "text/x-python",
   "name": "python",
   "nbconvert_exporter": "python",
   "pygments_lexer": "ipython2",
   "version": "2.7.6"
  }
 },
 "nbformat": 4,
 "nbformat_minor": 5
}
