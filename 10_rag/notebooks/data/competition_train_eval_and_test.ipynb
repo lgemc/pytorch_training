{
 "cells": [
  {
   "cell_type": "code",
   "id": "initial_id",
   "metadata": {
    "collapsed": true,
    "ExecuteTime": {
     "end_time": "2025-05-17T17:55:50.989270Z",
     "start_time": "2025-05-17T17:55:49.165789Z"
    }
   },
   "source": [
    "from data.q_and_a.test_questions import TestQuestions\n",
    "from data.q_and_a.train_and_eval import TrainAndEval"
   ],
   "outputs": [],
   "execution_count": 1
  },
  {
   "metadata": {
    "ExecuteTime": {
     "end_time": "2025-05-17T17:59:11.086687Z",
     "start_time": "2025-05-17T17:59:10.984528Z"
    }
   },
   "cell_type": "code",
   "source": [
    "train = TrainAndEval(\"../data/pubmed_QA_train.json\")\n",
    "eval = TrainAndEval(\"../data/pubmed_QA_eval.json\")"
   ],
   "id": "3a93516a38b86f57",
   "outputs": [],
   "execution_count": 6
  },
  {
   "metadata": {
    "ExecuteTime": {
     "end_time": "2025-05-17T17:59:14.769198Z",
     "start_time": "2025-05-17T17:59:14.762407Z"
    }
   },
   "cell_type": "code",
   "source": "train[0]",
   "id": "227b84dcb35d8234",
   "outputs": [
    {
     "data": {
      "text/plain": [
       "{'id': 'pubmed23n0022_9139',\n",
       " 'excerpt': 'The rate of action of calcium on the electrical and mechanical responses of the crayfish muscle fibers. The effects of sudden changes in external Ca concentration on the time courses of the changes in size of the action potential and of the associated contraction in a single crayfish muscle fiber were investigated. Procaine-HCl was added to the bathing solution to make the muscle fiber excitable. The concentration of the divalent cations (Ca and Mg) was high enough to keep the threshold potential constant. In Ca-free solution, neither action potential nor contraction was observed. When the external Ca concentration was suddenly increased from 0 to 14 mM, the full sized action potentials were generated within several seconds, but the tensions recovered slowly in an exponential time course with the time constants of 15-40 sec depending on the muscle fiber radius. The tension recovery was further delayed by addition of Dextran to the bathing solution, and it was also slowed at temperatures as low as 4-5 degrees C. When the Ca concentration was changed from 14 mM to 0 mM, the decreased in action potential was slow rather than instantaneous. The delay in tension recovery was attributed to the diffusion time of Ca ions into the TTS, and it was suggested that the Ca entry through the TTS membranes was the first step in the excitation-contraction coupling of the crayfish muscle fibers. The diffusion coefficient of Ca ions inside the TTS was calculated from the recovery time of tension development. It was one order smaller than that in free solution.',\n",
       " 'statement': 'The study investigated how changes in external calcium concentration affect the action potential and contraction recovery time in crayfish muscle fibers, revealing that calcium entry through TTS membranes is crucial for excitation-contraction coupling.',\n",
       " 'question': 'What did the study reveal about the role of external calcium concentration in the action potential and contraction recovery time of crayfish muscle fibers?',\n",
       " 'distractors': ['The study found that increasing external calcium concentration had no effect on the action potential or contraction recovery time in crayfish muscle fibers.',\n",
       "  'The research concluded that magnesium ions play a more significant role than calcium in the action potential and contraction recovery of crayfish muscle fibers.',\n",
       "  'The investigation revealed that external calcium concentration only affects the resting potential of crayfish muscle fibers, not the action potential or contraction recovery.']}"
      ]
     },
     "execution_count": 7,
     "metadata": {},
     "output_type": "execute_result"
    }
   ],
   "execution_count": 7
  },
  {
   "metadata": {
    "ExecuteTime": {
     "end_time": "2025-05-17T17:59:17.944396Z",
     "start_time": "2025-05-17T17:59:17.936954Z"
    }
   },
   "cell_type": "code",
   "source": "eval[0]",
   "id": "e81ac7cde2cc4c51",
   "outputs": [
    {
     "data": {
      "text/plain": [
       "{'id': 'pubmed23n0012_5208',\n",
       " 'excerpt': 'Temporal changes in medial basal hypothalamic LH-RH correlated with plasma LH during the rat estrous cycle and following electrochemical stimulation of the medial preoptic area in pentobarbital-treated proestrous rats. In the present studies we have simultaneously measured changes in medial basal hypothalamic (MBH) leutenizing hormone-releasing hormone (LH-RH) and in plasma LH by radioimmunoassay in female rats at various hours during the 4-day estrous cycle and under experimental conditions known to alter pituitary LH secretion. In groups of rats decapitated at 12.00 h and 15.00 h on estrus and diestrus, plasma LH remained at basal levels (5-8 ng/ml) and MBH-LH-RH concentrations showed average steady state concentrations of 2231 +/- 205 pg/mg. On the day of proestrus hourly measurements of MBH-LH-RH between 12.00 h and 21.00 h suggested rhythmic rises and falls in the decapeptide concomitant with rises and falls in plasma LH. In a second group of pentobarbital-anesthetized proestrous rats a significant decline in MBH-LH-RH occurred (to 573 +/- 137 pg/mg) which then remained at low concentrations between 14.00 h and 18.00 h proestrus. Following bilateral preoptic area (MPOA) electrochemical stimulation of pentobarbital-treated proestrous rats, LH was significantly increased by 30 min, peaked between 90-120 min and returned to basal levels by 210 min poststimulation. In the same animals within 15 min poststimulation, MBH-LH-RH increased from the basal concentrations noted after pentobarbital anesthesia to elevated levels comparable to those observed throughout estrus, diestrus and on proestrous morning. Further, as plasma LH rose to peak concentrations and declined to basal plasma values, rhythmic rises and falls in MBH-LH-RH were observed with intervals between pulses of approximately 60 min. Seemingly, hypothalamic LH-RH is released as pulsatile pulses from a releasable pool; this pool is replenished and again LH-RH is discharged in response to constant stimulation by the preoptic brain.',\n",
       " 'statement': 'Temporal fluctuations in medial basal hypothalamic LH-RH levels correlate with plasma LH changes during the rat estrous cycle and following stimulation of the medial preoptic area.',\n",
       " 'question': 'What relationship exists between medial basal hypothalamic LH-RH levels and plasma LH changes during the rat estrous cycle and after stimulation of the medial preoptic area?',\n",
       " 'distractors': ['Medial basal hypothalamic LH-RH levels remain constant throughout the rat estrous cycle and do not affect plasma LH changes.',\n",
       "  'There is no relationship between medial basal hypothalamic LH-RH levels and plasma LH changes during the rat estrous cycle.',\n",
       "  'Increased medial basal hypothalamic LH-RH levels lead to a decrease in plasma LH during the rat estrous cycle.']}"
      ]
     },
     "execution_count": 8,
     "metadata": {},
     "output_type": "execute_result"
    }
   ],
   "execution_count": 8
  },
  {
   "metadata": {
    "ExecuteTime": {
     "end_time": "2025-05-17T17:59:30.837302Z",
     "start_time": "2025-05-17T17:59:30.830032Z"
    }
   },
   "cell_type": "code",
   "source": "test = TestQuestions(\"../data/pubmed_QA_test_questions.json\")",
   "id": "9cc6d821d04f7690",
   "outputs": [],
   "execution_count": 10
  },
  {
   "metadata": {
    "ExecuteTime": {
     "end_time": "2025-05-17T17:59:37.163934Z",
     "start_time": "2025-05-17T17:59:37.156365Z"
    }
   },
   "cell_type": "code",
   "source": "test[0]",
   "id": "3bb0350f3ba98387",
   "outputs": [
    {
     "data": {
      "text/plain": [
       "{'id': 26,\n",
       " 'question': 'What were the findings regarding alpha-1-antitrypsin deficiency of genotype PiZ in an autopsy series of 238 individuals?',\n",
       " 'option': ['Alpha-1-antitrypsin deficiency of genotype PiZ was found in 30 cases, with no significant association with pulmonary emphysema.',\n",
       "  'In an autopsy series of 238 individuals, alpha-1-antitrypsin deficiency of genotype PiZ was identified in 15 cases, with a higher prevalence of pulmonary emphysema among heterozygous individuals.',\n",
       "  'In the autopsy series, alpha-1-antitrypsin deficiency of genotype PiZ was identified in 5 cases, all of whom were homozygous.',\n",
       "  'The study found that alpha-1-antitrypsin deficiency of genotype PiZ was present in 20 cases, with a higher prevalence of liver disease among heterozygous individuals.']}"
      ]
     },
     "execution_count": 12,
     "metadata": {},
     "output_type": "execute_result"
    }
   ],
   "execution_count": 12
  },
  {
   "metadata": {},
   "cell_type": "code",
   "outputs": [],
   "execution_count": null,
   "source": "",
   "id": "e7d4d6794b38b8ce"
  }
 ],
 "metadata": {
  "kernelspec": {
   "display_name": "Python 3",
   "language": "python",
   "name": "python3"
  },
  "language_info": {
   "codemirror_mode": {
    "name": "ipython",
    "version": 2
   },
   "file_extension": ".py",
   "mimetype": "text/x-python",
   "name": "python",
   "nbconvert_exporter": "python",
   "pygments_lexer": "ipython2",
   "version": "2.7.6"
  }
 },
 "nbformat": 4,
 "nbformat_minor": 5
}
