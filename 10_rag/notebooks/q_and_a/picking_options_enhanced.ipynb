{
 "cells": [
  {
   "metadata": {
    "collapsed": true,
    "ExecuteTime": {
     "end_time": "2025-05-24T17:09:55.192001Z",
     "start_time": "2025-05-24T17:09:53.701982Z"
    }
   },
   "cell_type": "code",
   "source": [
    "import torch\n",
    "\n",
    "from transformers import AutoModelForCausalLM, BitsAndBytesConfig\n",
    "\n",
    "from data.q_and_a.train_and_eval import TrainAndEval\n",
    "from data.q_and_a.eval_with_answers import EvalWithAnswers\n",
    "\n",
    "from models_.building.llama_tokenizer import  load_tokenizer\n",
    "\n",
    "from data.pubmed.from_json import FromJsonDataset\n",
    "from data.pubmed.contents import ContentsDataset\n",
    "\n",
    "from storage.faiss_ import FaissStorage\n",
    "\n",
    "from rag.tokenization.llama import build_tokenizer_function\n",
    "from rag.quering import build_querier\n",
    "\n",
    "from q_and_a.forward import build_enhanced_forwarder\n",
    "from q_and_a.prompts import prompt\n",
    "from q_and_a.picking.from_logits import build_from_logits\n",
    "from q_and_a.eval import evaluate"
   ],
   "id": "initial_id",
   "outputs": [],
   "execution_count": 1
  },
  {
   "metadata": {
    "ExecuteTime": {
     "end_time": "2025-05-24T17:09:55.236305Z",
     "start_time": "2025-05-24T17:09:55.196258Z"
    }
   },
   "cell_type": "code",
   "source": [
    "device = \"cuda\" if torch.cuda.is_available() else \"cpu\"\n",
    "device"
   ],
   "id": "e0666cbe58586ddf",
   "outputs": [
    {
     "data": {
      "text/plain": [
       "'cuda'"
      ]
     },
     "execution_count": 2,
     "metadata": {},
     "output_type": "execute_result"
    }
   ],
   "execution_count": 2
  },
  {
   "metadata": {},
   "cell_type": "markdown",
   "source": "# Loading data: augmentation and question and answer",
   "id": "655073c16ef21725"
  },
  {
   "metadata": {
    "ExecuteTime": {
     "end_time": "2025-05-24T17:09:56.539955Z",
     "start_time": "2025-05-24T17:09:55.283459Z"
    }
   },
   "cell_type": "code",
   "source": [
    "train = TrainAndEval(\"../../data/pubmed_QA_train.json\")\n",
    "evaluationData = TrainAndEval(\"../../data/pubmed_QA_eval.json\")\n",
    "evaluateWithAnswers = EvalWithAnswers(evaluationData)\n",
    "\n",
    "augmented_data = FromJsonDataset(json_file=\"../../data/pubmed_500K.json\")\n",
    "augmented_data = ContentsDataset(augmented_data)"
   ],
   "id": "77a379766b65d5af",
   "outputs": [],
   "execution_count": 3
  },
  {
   "metadata": {
    "ExecuteTime": {
     "end_time": "2025-05-24T17:09:56.545516Z",
     "start_time": "2025-05-24T17:09:56.543809Z"
    }
   },
   "cell_type": "code",
   "source": "print(evaluateWithAnswers[0])",
   "id": "36a02355f4f6679f",
   "outputs": [
    {
     "name": "stdout",
     "output_type": "stream",
     "text": [
      "{'id': 'pubmed23n0012_5208', 'excerpt': 'Temporal changes in medial basal hypothalamic LH-RH correlated with plasma LH during the rat estrous cycle and following electrochemical stimulation of the medial preoptic area in pentobarbital-treated proestrous rats. In the present studies we have simultaneously measured changes in medial basal hypothalamic (MBH) leutenizing hormone-releasing hormone (LH-RH) and in plasma LH by radioimmunoassay in female rats at various hours during the 4-day estrous cycle and under experimental conditions known to alter pituitary LH secretion. In groups of rats decapitated at 12.00 h and 15.00 h on estrus and diestrus, plasma LH remained at basal levels (5-8 ng/ml) and MBH-LH-RH concentrations showed average steady state concentrations of 2231 +/- 205 pg/mg. On the day of proestrus hourly measurements of MBH-LH-RH between 12.00 h and 21.00 h suggested rhythmic rises and falls in the decapeptide concomitant with rises and falls in plasma LH. In a second group of pentobarbital-anesthetized proestrous rats a significant decline in MBH-LH-RH occurred (to 573 +/- 137 pg/mg) which then remained at low concentrations between 14.00 h and 18.00 h proestrus. Following bilateral preoptic area (MPOA) electrochemical stimulation of pentobarbital-treated proestrous rats, LH was significantly increased by 30 min, peaked between 90-120 min and returned to basal levels by 210 min poststimulation. In the same animals within 15 min poststimulation, MBH-LH-RH increased from the basal concentrations noted after pentobarbital anesthesia to elevated levels comparable to those observed throughout estrus, diestrus and on proestrous morning. Further, as plasma LH rose to peak concentrations and declined to basal plasma values, rhythmic rises and falls in MBH-LH-RH were observed with intervals between pulses of approximately 60 min. Seemingly, hypothalamic LH-RH is released as pulsatile pulses from a releasable pool; this pool is replenished and again LH-RH is discharged in response to constant stimulation by the preoptic brain.', 'statement': 'Temporal fluctuations in medial basal hypothalamic LH-RH levels correlate with plasma LH changes during the rat estrous cycle and following stimulation of the medial preoptic area.', 'question': 'What relationship exists between medial basal hypothalamic LH-RH levels and plasma LH changes during the rat estrous cycle and after stimulation of the medial preoptic area?', 'distractors': ['Temporal fluctuations in medial basal hypothalamic LH-RH levels correlate with plasma LH changes during the rat estrous cycle and following stimulation of the medial preoptic area.', 'Medial basal hypothalamic LH-RH levels remain constant throughout the rat estrous cycle and do not affect plasma LH changes.', 'There is no relationship between medial basal hypothalamic LH-RH levels and plasma LH changes during the rat estrous cycle.', 'Increased medial basal hypothalamic LH-RH levels lead to a decrease in plasma LH during the rat estrous cycle.'], 'options': ['Temporal fluctuations in medial basal hypothalamic LH-RH levels correlate with plasma LH changes during the rat estrous cycle and following stimulation of the medial preoptic area.', 'Medial basal hypothalamic LH-RH levels remain constant throughout the rat estrous cycle and do not affect plasma LH changes.', 'There is no relationship between medial basal hypothalamic LH-RH levels and plasma LH changes during the rat estrous cycle.', 'Increased medial basal hypothalamic LH-RH levels lead to a decrease in plasma LH during the rat estrous cycle.'], 'answer_idx': 0}\n"
     ]
    }
   ],
   "execution_count": 4
  },
  {
   "metadata": {},
   "cell_type": "markdown",
   "source": "# Building the RAG system",
   "id": "4d765b5efcca19a3"
  },
  {
   "metadata": {
    "ExecuteTime": {
     "end_time": "2025-05-24T17:10:07.175479Z",
     "start_time": "2025-05-24T17:09:56.597384Z"
    }
   },
   "cell_type": "code",
   "source": [
    "storage = FaissStorage(\n",
    "    dimension=800,\n",
    ")\n",
    "\n",
    "storage.load(\"../../outputs/store/pubmed_500K.index\")\n",
    "\n",
    "tokenizer = load_tokenizer()\n",
    "tokenizer_fn = build_tokenizer_function(tokenizer)\n",
    "\n",
    "querier = build_querier(storage, augmented_data, tokenizer_fn)"
   ],
   "id": "147eaaa63c7ef980",
   "outputs": [],
   "execution_count": 5
  },
  {
   "metadata": {},
   "cell_type": "markdown",
   "source": "# Building question and answer system",
   "id": "6f97c28a829420fc"
  },
  {
   "metadata": {
    "ExecuteTime": {
     "end_time": "2025-05-24T17:10:11.321615Z",
     "start_time": "2025-05-24T17:10:07.190725Z"
    }
   },
   "cell_type": "code",
   "source": [
    "from transformers import AutoTokenizer, AutoModelForCausalLM\n",
    "from peft import PeftModel, PeftConfig\n",
    "\n",
    "# Load the PEFT config to find the base model\n",
    "peft_model_path = \"../train/trainer-combined-logits-3000/trainer\"\n",
    "peft_config = PeftConfig.from_pretrained(peft_model_path)\n",
    "\n",
    "# Load the base model (this must match the model used during fine-tuning)\n",
    "base_model = AutoModelForCausalLM.from_pretrained(\n",
    "    peft_config.base_model_name_or_path,\n",
    "    load_in_8bit=True,\n",
    ")\n",
    "\n",
    "# Load the PEFT model\n",
    "model = PeftModel.from_pretrained(base_model, \"../train/trainer-combined-logits-3000/trainer\")\n",
    "\n",
    "# Load tokenizer\n",
    "tokenizer = AutoTokenizer.from_pretrained(\"../train/trainer-combined-logits-3000/tokenizer\")"
   ],
   "id": "f0c010ff3d2fca2c",
   "outputs": [
    {
     "name": "stderr",
     "output_type": "stream",
     "text": [
      "The `load_in_4bit` and `load_in_8bit` arguments are deprecated and will be removed in the future versions. Please, pass a `BitsAndBytesConfig` object in `quantization_config` argument instead.\n"
     ]
    }
   ],
   "execution_count": 6
  },
  {
   "metadata": {
    "ExecuteTime": {
     "end_time": "2025-05-24T17:10:11.340688Z",
     "start_time": "2025-05-24T17:10:11.338641Z"
    }
   },
   "cell_type": "code",
   "source": [
    "question = train[0][\"question\"]\n",
    "question"
   ],
   "id": "3f67d270e97241c2",
   "outputs": [
    {
     "data": {
      "text/plain": [
       "'What did the study reveal about the role of external calcium concentration in the action potential and contraction recovery time of crayfish muscle fibers?'"
      ]
     },
     "execution_count": 7,
     "metadata": {},
     "output_type": "execute_result"
    }
   ],
   "execution_count": 7
  },
  {
   "metadata": {
    "ExecuteTime": {
     "end_time": "2025-05-24T17:10:11.385838Z",
     "start_time": "2025-05-24T17:10:11.383640Z"
    }
   },
   "cell_type": "code",
   "source": [
    "answer = train[0][\"statement\"]\n",
    "answer"
   ],
   "id": "982905dc87d0f4c4",
   "outputs": [
    {
     "data": {
      "text/plain": [
       "'The study investigated how changes in external calcium concentration affect the action potential and contraction recovery time in crayfish muscle fibers, revealing that calcium entry through TTS membranes is crucial for excitation-contraction coupling.'"
      ]
     },
     "execution_count": 8,
     "metadata": {},
     "output_type": "execute_result"
    }
   ],
   "execution_count": 8
  },
  {
   "metadata": {
    "ExecuteTime": {
     "end_time": "2025-05-24T17:10:11.449016Z",
     "start_time": "2025-05-24T17:10:11.446810Z"
    }
   },
   "cell_type": "code",
   "source": [
    "options = train[0][\"distractors\"]\n",
    "# append the answer to the options\n",
    "options.append(answer)\n",
    "options"
   ],
   "id": "5330e63da28421ba",
   "outputs": [
    {
     "data": {
      "text/plain": [
       "['The study found that increasing external calcium concentration had no effect on the action potential or contraction recovery time in crayfish muscle fibers.',\n",
       " 'The research concluded that magnesium ions play a more significant role than calcium in the action potential and contraction recovery of crayfish muscle fibers.',\n",
       " 'The investigation revealed that external calcium concentration only affects the resting potential of crayfish muscle fibers, not the action potential or contraction recovery.',\n",
       " 'The study investigated how changes in external calcium concentration affect the action potential and contraction recovery time in crayfish muscle fibers, revealing that calcium entry through TTS membranes is crucial for excitation-contraction coupling.']"
      ]
     },
     "execution_count": 9,
     "metadata": {},
     "output_type": "execute_result"
    }
   ],
   "execution_count": 9
  },
  {
   "metadata": {
    "ExecuteTime": {
     "end_time": "2025-05-24T17:10:11.558179Z",
     "start_time": "2025-05-24T17:10:11.490630Z"
    }
   },
   "cell_type": "code",
   "source": [
    "augmented_data = querier(question, 5)\n",
    "augmented_data"
   ],
   "id": "d713c963695a4145",
   "outputs": [
    {
     "data": {
      "text/plain": [
       "([171539365888.0,\n",
       "  224323829760.0,\n",
       "  226616164352.0,\n",
       "  232985919488.0,\n",
       "  234069327872.0],\n",
       " [\"3,3'-Diiodothyronine production, a major pathway of peripheral iodothyronine metabolism in man. 3,3'-Diiodothyronine (3,3'-T(2)) has been detected in human serum and in thyroglobulin. However, no quantitative assessment of its clearance rate (CR), production rate (PR), or of the importance of extrathyroidal sources of 3,3'-T(2) relative to direct thyroidal secretion is yet available. This study examines these parameters in seven euthyroid subjects, and in eight athyreotic subjects (H) eumetabolic due to thyroxine therapy (HT(4)) (n = 5) or triiodothyronine replacement (HT(3)) (n = 3). A highly specific radioimmunoassay for the measurement of 3,3'-T(2) in whole serum was developed. Serum 3,3'-T(2) concentrations were (mean +/- SD) 6.0+/-1.0 ng/100 ml in 13 normal subjects, 9.0+/-4.6 ng/100 ml in 25 hyperthyroid patients, and 2.7+/-1.1 ng/100 ml in 17 hypothyroid patients. The values in each of the latter two groups were significantly different from normal. 3,3'-T(2) was detected regularly in normal concentrations in 11 hypothyroid patients eumetabolic by treatment with synthetic T(4), in 10 eumetabolic patients suffering from nonthyroidal systemic illness, and in 2 subjects with elevated serum T(4)-binding globulin. The 3,3'-T(2) CR was assessed from data acquired from the (125)I-3,3'-T(2) constant infusion technique. The 3,3'-T(2) PR was calculated from CR and serum concentration of 3,3'-T(2) determined by radio-immunoassay. In the HT(4) subjects the 3,3'-T(2) CR averaged 840+/-377 liters/day and 3,3'-T(2) PR 33.9+/-12.5 mug/day. These results were not significantly different from those in the control group: 3,3'-T(2) CR 628+/-218 liters/day and 3,3'-T(2) PR 39.8+/-19.8 mug/day (all corrected to 70 kg body wt). In addition to 3,3'-T(2) PR, T(3), and reverse triiodothyronine (rT(3)) PR were determined in three of the HT(4) subjects. In each case studied, the 3,3'-T(2) PR was close to the combined triiodothyronine (T(3) + rT(3)) PR. The mean molar ratio of T(2) PR/(T(3) + rT(3)) PR was 1.08+/-0.10. The results obtained in the HT(4) subjects indicate that the production of 3,3'-T(2) is a major route of T(4) metabolism. The combined studies of 3,3'-T(2), T(3) and rT(3) PR in the HT(4) subjects indicate that both T(3) and rT(3) are major precursors of 3,3'-T(2). In the HT(3) subjects, the conversion of T(3) to 3,3'-T(2), determined as the molar ratio of 3,3'-T(2) PR to T(3) PR, ranged from 0.36 to 0.92, providing further evidence that T(3) is a precursor of 3,3'-T(2). From the close agreement between the mean values for 3,3'-T(2) PR in the euthyroid and HT(4) group it is concluded that most, if not all of the 3,3'-T(2) produced in normal humans is derived by extrathyroidal conversion from T(3) and rT(3).\",\n",
       "  \"Physiological and pharmacological influences on thyroxine to 3,5,3'-triiodothyronine conversion and nuclear 3,5,3'-triiodothyronine binding in rat anterior pituitary. Our recent in vivo studies have suggested that intrapituitary l-thyroxine (T(4)) to 3,5,3'-triiodo-l-thyronine (T(3)) conversion with subsequent nuclear binding of T(3) is an important pathway by which circulating T(4) can inhibit thyrotropin release. The present studies were performed to evaluate various physiological and pharmacological influences on these two processes in rat anterior pituitary tissue. Intact pituitary fragments were incubated in buffer-1% bovine serum albumin containing 0.14 ng/ml [(131)I]T(3) and 3.8 ng/ml [(125)I]T(4). Nuclei were isolated after 3 h of incubation and the bound iodothyronines identified by paper chromatography. There was 0.3-1% [(125)I]T(3) contaminating the medium [(125)I]T(4), and this did not change during incubation. Nuclear [(125)I]T(4) was not decreased by 650-fold excesses of medium T(3) or T(4), suggesting that it was nonspecifically bound. The ratio of nuclear to medium [(131)I]- and [(125)I]T(3) were expressed as nuclear counts per minute per milligram wet weight of tissue:counts per minute per microliter medium. Intrapituitary T(4) to T(3) conversion was evidenced by the fact that the nuclear:medium (N:M) ratio for [(131)I]T(3) was 0.45+/-0.21, whereas that for [(125)I]T(3) was 2.23+/-1.28 (mean+/-SD, n = 51). A ratio (R), the N:M [(125)I]T(3) divided by the N:M [(131)I]T(3), was used as an index of intrapituitary T(4) to T(3) conversion. Increasing medium T(3) concentrations up to 50 ng/ml caused a progressive decrease in the N:M ratio for both T(3) isotopes, but no change in the value for R, indicating that both competed for the same limited-capacity nuclear receptors. Increasing concentrations of medium T(4) caused no change in the N:M [(131)I]T(3) but did cause a significant decrease in R in three of four experiments. These results suggest saturation of T(4)-5'-monodeiodination occurred at lower T(4) concentrations than saturation of nuclear T(3) binding sites. In hypothyroid rats, the N:M ratios for both [(131)I]T(3) and [(125)I]T(3) were increased (P &lt; 0.005), but R was three-fold higher than in controls (P &lt; 0.005). Animals given 10 mug T(4)/100 g body wt per d for 5 d had significantly decreased N:M ratios for both [(131)I]T(3) and [(125)I]T(3), as well as a decreased value for R. In fasted rats, neither N:M ratio was depressed, although hepatic T(4) to T(3) conversion in the same animals was 50% of control (P &lt; 0.005). Iopanoic acid (13 muM), but not 6-n-propylthiouracil (29 muM), decreased the N:M [(125)I]T(3) with a significant decrease in the value for R (P &lt; 0.025 or less). Neither sodium iodide (6 muM) nor thyrotropin-releasing hormone (7-700 nM) affected the T(3) N:M ratios. These results indicate that intrapituitary T(4) to T(3) conversion is stimulated in hypothyroidism and depressed in T(4)-treated animals, whereas opposite changes occur in hepatic T(4)-5'-monodeiodination. Unlike liver, anterior pituitary T(4)-5'-monodeiodination is not affected by fasting or incubation with 6-n-propyl-2-thiouracil, but T(4) to T(3) conversion is inhibited in both by iopanoic acid. These results indicate that there are important differences between anterior pituitary and other tissues in the regulation of T(4)-5'-monodeiodination.\",\n",
       "  'Metabolism of resorcinylic compounds by bacteria. Purification and properties of orcinol hydroxylase from Pseudomonas putida 01. Orcinol hydroxylase (EC 1.14.13.6), which catalyzes the first reaction of orcinol catabolism in Pseudomonas putida 01, has been purified to homogeneity, and crystallized. Orcinol hydroxylase catalyzes the hydroxylation of orcinol with equimolar consumption of O2 and NADH (or NADPH) to 2, 3, 5-trihydroxytoluene, which is nonenzymically oxidized to a quinone. The visible absorption spectrum of the enzyme shows maxima at 373 and 454 nm and a shoulder at 480 nm. FAD can be dissociated from the protein. Reconstitution of enzymic activity was achieved with FAD, and to a limited extent by FMN. The enzyme has a molecular weight of 63,000 to 68,000 and contains 1 mol of FAD per mol of protein. K-m values for the three substrates orcinol, NADH, and O2 are 0.03, 0.13, and 0.07mM, RESPECTIVELY. The molecular activity of the crystalline enzyme is 1560 min minus 1. In the absence of orcinol, NADH is only slowly oxidized with formation of H2O2. Several analogs of orcinol also serve as substrates for hydroxylation, namely resorcinol, 4-methylresorcinol, and 4-bromoresorcinol. Other analogs, m-cresol, m-ethylphenol, 4-ethylresorcinol, and phloroglucinol, mimic orcinol as effectors, in that they (a) accelerate electron flow from NADH to the flavin and (b) decrease the apparent K-m for NADH but not to the same extent as the substrates that are hydroxylated. The latter compounds are not hydroxylated. Instead H2O2 accumulates as the only product of O2 reduction. The enzyme therefore behaves either as a hydroxylase or an oxidase. The ratio of hydroxylase to oxidase activities of the enzyme is decreased by an increase in the temperature of incubation; at 60 degrees the reaction with orcinol is almost 50% uncoupled from hydroxylation. The apparent K-m values for the effectors are in good agreement with the D-D values obtained for orcinol, resorcinol, and m-cresol. K-D values were obtained by measurement of the effector-induced perturbations of the visible absorption spectrum of the flavoprotein by difference absorption spectroscopy. The circular dichroism spectrum of orcinol hydroxylase is also altered in the presence of orcinol. The participation of the flavin in the over-all reaction is demonstrated by its rapid reduction under anaerobic conditions by NADH in the presence or orcinol, resorcinol, or m-cresol. Subsequent introduction of oxygen restores the oxidized form and yields H2O2 when m-cresol is the effector, but not when orcinol is the effector. Transfer of reducing equivalents from the reduced flavoprotein to free FAD may also occur. Reduction of orcinol hydroxylase by NADH in the absence of an effector is 10-4-fold slower than in the presence of an effector. The minimal structural requirements for effectors appear to be a 1,3-dihydroxy or 1-alkyl-3-hydorxybenzene, but only the former are substrates for hydroxylation.',\n",
       "  \"[Production and absorption rate of cerebrospinal fluid in the spinal subarachnoid space of the dog (author's transl)]. Adult mongrel dogs, weighing 10-17 kg. were anesthetized with Nembutal and cervical and lumbosacral laminectomy was performed. The spinal subarachnoid space was blocked by extradural ligation at the level of the C4 to interrupt CSF communication between the cranial and spinal space. Polyethylene catheters were placed in the cervical and lumbosacral subarachnoid space, and artificial Mock CSF buffer, pH 7.35-7.40, containing inulin of 25 mg/dl or 14C-inulin of 1.5-2 muCi/dl as a tracer was perfused in the sacro-cervical direction through the catheter. After a steady state of perfusion was acommplished, the CSF was collected from the outlet catheter. Production and absorption rate of the CSF were calculated after Pappenheimer and Heisey's equation. 1) Effects of CSF pressure on the rate of production (Vf) and absorption (Va) of CSF and on the difference between outflow fluid rate (Vo) and inflow fluid rate (Vi) were studied within the pressure range of -100 to +600 mmH2O. Then, regression lines were calculated by means of the least square method. See Article. Vf was little affected by changes in CSF pressure, while Va increased linearly as CSF pressure elevated. This suggests that the spinal subarachnoid space plays an important role as a site of CSF absorption when the intracranial pressure increases. Vo-Vi, that is difference between absorption and production rate, decreased linearly as the CSF pressure increased. 2) Under a constant CSF pressure of +200 mmH2O, the effects of glucocorticoids (dexamethasone, 0.25 mg/kg and hydrocortisone, 4.15 mg/kg) and a carbonic anhydrase inhibitor (acetazolamide, 10 mg/kg) upon the production and absorption rate of CSF were determined 1/2, 1, 2 and 3 hours after intravenous administration. a) Effect of dexamethasone: The rate of CSF production was reduced to 60.5 +/- 2.4% (p less than 0.001) of the control level. The absorption rate of CSF also decreased to 59.2 +/- 6.09% (p less than 0.001) of the control. b) Effect of hydrocortisone: The production rate of CSF decreased to 67.4 +/- 6.61% (p less than 0.001), and the absorption rate to 76.5 +/- 3.94% (p less than 0.001) of the control level. c) Effect of acetazolamide: The production and absorption rate also decreased to 57.2 +/- 5.61% (p less than 0.001) and to 56.9 +/- 7.02% (p less than 0.001), respectively. 3) Pentration of tritiated dexamethasone and tritiated hydrocortisone from plasma to CSF. The penetration of tritiated dexamethasone and tritiated hydrocortisone from plasma to CSF in the spinal and cranial subarachnoid space was observed after the intravenous administration. The CSF/Plasma ratio of dexamethasone was 30.9% at 15 minutes and gradually increased to 91.5% and 93.5%, respectively, in the cranial and spinal CSF at 3 hours after the injection.\",\n",
       "  \"The role of sulfhydryl groups on the impaired hepatic 3',3,5-triiodothyronine generation from thyroxine in the hypothyroid, starved, fetal, and neonatal rodent. The role of nonprotein sulfhydryl groups (NPSH) in the decreased in vitro hepatic 3',3,5-triiodothyronine (T(3)) generation from thyroxine (T(4)) in the starved, hypothyroid, fetal and 1- to 4-d-old neonatal rat and dwarf mouse was assessed. NPSH were measured in fresh 25% liver homogenates prepared in 0.1 M PO(4)/10 mM EDTA buffer. As compared with values in adult male rats, NPSH concentration was decreased in the 2-d-starved (1.1+/-0.04 (mean+/-SE) vs. 2.2+/-0.15 mmol/250 g wet liver weight, P &lt; 0.001), fetal (1.0+/-0.04 vs. 3.2+/-0.08, P &lt; 0.001), 1-d-old neonatal (1.1+/-0.03 vs. 2.1+/-0.04, P &lt; 0.001), and hypothyroid (thyroidectomized 60 d) (1.4+/-0.06 vs. 2.2+/-0.15 P &lt; 0.001) rat. NPSH were also decreased in the hypothyroid, hypopituitary dwarf mouse as compared with values in their normal litter mates (1.3+/-0.03 vs. 2.0+/-0.2, P &lt; 0.01). Chronic administration of T(3) (0.5 mug/100 g body wt per d) markedly increased hepatic T(3) generation from T(4) in the thyroidectomized rat and in the dwarf mouse to values similar to those observed in the normal rodent without affecting NPSH concentration. In contrast, T(3) administration to the starved rat did not alter either hepatic T(3) generation from T(4) or NPSH. Reduced glutathione concentration was also markedly decreased in the starved rat (fed; 1.05+/-0.075 mmol/250 g wet tissue vs. starved 0.38+/-0.02, P &lt; 0.001). Dithiothreitol (DTT), a thiol reducing agent, increased hepatic T(3) generation from T(4) in the normal adult male rat by 45+/-5% in six experiments. When compared to DTT-stimulated control homogenates, the addition of DTT completely restored hepatic T(3) generation in starved rats, partially restored T(3) generation in 1- and 4-d-old neonates, but had little or no effect in the fetal and hypothyroid rat and dwarf mouse. Liver homogenates stored for 6 mo at -20 degrees C lost their capacity to generate T(3) from T(4). NPSH concentrations in the frozen homogenates decreased progressively with increasing storage and were absent by 6 mo. 5'-Deiodinase activity correlated with NPSH concentration in the stored homogenates (r = 0.95, P &lt; 0.005). Addition of DTT partially restored hepatic T(3) generation in the frozen homogenate. It is concluded that NPSH are important for the action of the liver 5'-deiodinase. The decreased hepatic T(3) generation in the starved rat is associated with decreased NPSH but not with a decrease in the absolute quantity of 5'-deiodinase because provision of sulfhydryl groups restored hepatic T(3) generation to normal. In contrast, the decreased hepatic T(3) generation in the adult hypothyroid rodent and in the fetal rat is probably due to a decrease in the enzyme concentration per se. In the 1- and 4-d neonatal rat, the decrease in hepatic T(3) generation is secondary to a decrease in NPSH and the deiodinating enzyme.\"])"
      ]
     },
     "execution_count": 10,
     "metadata": {},
     "output_type": "execute_result"
    }
   ],
   "execution_count": 10
  },
  {
   "metadata": {
    "ExecuteTime": {
     "end_time": "2025-05-24T17:10:11.580818Z",
     "start_time": "2025-05-24T17:10:11.575431Z"
    }
   },
   "cell_type": "code",
   "source": [
    "from typing import Any\n",
    "\n",
    "import torch\n",
    "\n",
    "from typing import Callable, List, Tuple\n",
    "import torch\n",
    "import torch.nn.functional as F\n",
    "ForwardType = Callable[[str, List[str]], Any]\n",
    "\n",
    "def enhanced_forward(\n",
    "        llm,\n",
    "        tokenizer,\n",
    "        augmenter: Callable[[str, int], Tuple[List[int], List[str]]],\n",
    "        k_augmentations: int,\n",
    "        prompt_builder: Callable[[str, List[str], List[str]], str],\n",
    "        question: str,\n",
    "        options: List[str],\n",
    "        device: str,\n",
    "        num_iterations: int = 1,\n",
    "):\n",
    "    \"\"\"\n",
    "    Performs multiple forward passes, appending the most probable token each time,\n",
    "    and returns average probabilities across all tokens.\n",
    "\n",
    "    Args:\n",
    "        llm: The language model to use for generating the response.\n",
    "        tokenizer: The tokenizer associated with the language model.\n",
    "        augmenter (Callable): A function that takes a query string and returns the first k_augmentations in a tuple of\n",
    "            distances and items.\n",
    "        k_augmentations (int): The number of augmentations to generate.\n",
    "        prompt_builder (Callable): A function that builds the prompt for the language model.\n",
    "            It takes the augmented information, question and options, and returns a formatted string.\n",
    "        question (str): The question to ask.\n",
    "        options (List[str]): The list of options to choose from.\n",
    "        device (str): The device to run the model on ('cpu' or 'cuda').\n",
    "        num_iterations (int): Number of forward passes to perform (default: 3).\n",
    "\n",
    "    Returns:\n",
    "        Tuple containing:\n",
    "            - List of generated tokens\n",
    "            - Average probabilities tensor across all tokens\n",
    "    \"\"\"\n",
    "    llm.eval()\n",
    "    # Get augmented items\n",
    "    _, items = augmenter(question, k_augmentations)\n",
    "\n",
    "    # Generate the initial prompt\n",
    "    prompt = prompt_builder(question, options, items)\n",
    "    input_ids = tokenizer.encode(prompt, return_tensors=\"pt\", truncation=True).to(device)\n",
    "\n",
    "    generated_token_ids =  input_ids.clone()\n",
    "    probss = []\n",
    "    generated_tokens = []\n",
    "\n",
    "    with torch.no_grad():\n",
    "        for i in range(num_iterations):\n",
    "            # Prepare model inputs\n",
    "            # For most autoregressive models, only input_ids are strictly necessary for the forward pass\n",
    "            # if attention_mask is not explicitly handled or modified in the loop.\n",
    "            # However, it's good practice to pass it if the model uses it.\n",
    "            # As we append tokens, the attention_mask also needs to be extended.\n",
    "            #attention_mask = torch.ones_like(generated_token_ids).to(device)\n",
    "\n",
    "            # Get model outputs\n",
    "            with torch.no_grad():\n",
    "                outputs = llm(generated_token_ids)\n",
    "\n",
    "            # Get the logits for the last token in the sequence\n",
    "            # outputs.logits is typically of shape (batch_size, sequence_length, vocab_size)\n",
    "            next_token_logits = outputs.logits[:, -1, :] # Get logits for the very last token\n",
    "\n",
    "            # Apply softmax to get probabilities (optional, as argmax works on logits directly)\n",
    "            probs = torch.softmax(next_token_logits, dim=-1)\n",
    "            probss.append(probs)\n",
    "            # Get the predicted token ID (greedy decoding)\n",
    "            next_token_id = torch.argmax(probs, dim=-1).unsqueeze(-1)\n",
    "\n",
    "            # Append the predicted token ID to the generated sequence\n",
    "            generated_token_ids = torch.cat([generated_token_ids, next_token_id], dim=1)\n",
    "\n",
    "            # Check if the generated token is an end-of-sequence (EOS) token\n",
    "            if tokenizer.eos_token_id is not None and next_token_id.item() == tokenizer.eos_token_id:\n",
    "                break\n",
    "\n",
    "            # Append the generated token ID to the list\n",
    "            generated_tokens.append(next_token_id.item())\n",
    "\n",
    "    # Concatenate all probabilities\n",
    "    probs = torch.cat(probss, dim=0)\n",
    "    # Average the probabilities across all iterations\n",
    "    avg_probs = torch.mean(probs, dim=0)\n",
    "\n",
    "    return generated_tokens, avg_probs\n",
    "\n",
    "def build_enhanced_forwarder(\n",
    "    llm,\n",
    "    tokenizer,\n",
    "    augmenter: Callable[[str, int], Tuple[List[int], List[str]]],\n",
    "    k_augmentations: int,\n",
    "    prompt_builder: Callable[[str, List[str], List[str]], str],\n",
    "    num_iterations: int,\n",
    "    device: str,\n",
    ") -> Callable[[str, List[str]], Tuple[List[int], torch.Tensor]]:\n",
    "    \"\"\"\n",
    "    Builds an enhanced forward function that can be used to generate responses from the language model.\n",
    "\n",
    "    Returns:\n",
    "        Callable: A function that takes a question and a list of options and returns the generated response.\n",
    "    \"\"\"\n",
    "    def forward_fn(question: str, options: List[str]) -> Tuple[List[int], torch.Tensor]:\n",
    "        return enhanced_forward(\n",
    "            llm=llm,\n",
    "            tokenizer=tokenizer,\n",
    "            augmenter=augmenter,\n",
    "            k_augmentations=k_augmentations,\n",
    "            prompt_builder=prompt_builder,\n",
    "            question=question,\n",
    "            options=options,\n",
    "            num_iterations=num_iterations,\n",
    "            device=device,\n",
    "        )\n",
    "\n",
    "    return forward_fn"
   ],
   "id": "aef014196c8df6f4",
   "outputs": [],
   "execution_count": 11
  },
  {
   "metadata": {
    "ExecuteTime": {
     "end_time": "2025-05-24T17:10:11.620465Z",
     "start_time": "2025-05-24T17:10:11.617926Z"
    }
   },
   "cell_type": "code",
   "source": [
    "def prompt(\n",
    "    question: str,\n",
    "    options: List[str],\n",
    "    augmented_items: List[str],\n",
    ") -> str:\n",
    "    context = \"\\n\".join(augmented_items)\n",
    "\n",
    "    options_str = \"\\n\".join(\n",
    "        [f\"{chr(65 + i)}. {option}\" for i, option in enumerate(options)]\n",
    "    )\n",
    "\n",
    "    \"\"\"\n",
    "    Generates a prompt for the language model based on the question, options, and augmented items.\n",
    "\n",
    "    Args:\n",
    "        question (str): The question to ask.\n",
    "        options (List[str]): The list of options to choose from.\n",
    "        augmented_items (List[str]): The augmented items to include in the prompt.\n",
    "\n",
    "    Returns:\n",
    "        str: The formatted prompt string.\n",
    "    \"\"\"\n",
    "    prompt = f\"\"\"You are an expert in multiple-choice questions. Your task is to select the best answer from the given options based on the provided context.\n",
    "Context: {context}\n",
    "\n",
    "Question: {question}\n",
    "\n",
    "Options:\n",
    "{options_str}\n",
    "\n",
    "Between A, B, C and D the best option is the letter\"\"\"\n",
    "    return prompt"
   ],
   "id": "193b2a6da63886ec",
   "outputs": [],
   "execution_count": 12
  },
  {
   "metadata": {
    "ExecuteTime": {
     "end_time": "2025-05-24T17:10:12.064213Z",
     "start_time": "2025-05-24T17:10:11.663636Z"
    }
   },
   "cell_type": "code",
   "source": [
    "forward = build_enhanced_forwarder(\n",
    "    base_model,\n",
    "    tokenizer,\n",
    "    querier,\n",
    "    k_augmentations=1,\n",
    "    prompt_builder=prompt,\n",
    "    num_iterations=1,\n",
    "    device=device,\n",
    ")\n",
    "\n",
    "def forward_and_get_last_logit(\n",
    "    question,\n",
    "    options,\n",
    "):\n",
    "    tokens, logits =  forward(\n",
    "        question,\n",
    "        options=options,\n",
    "    )\n",
    "\n",
    "    return logits\n",
    "\n",
    "result = forward_and_get_last_logit(\n",
    "    question,\n",
    "    options=options,\n",
    ")"
   ],
   "id": "6eda71576945843",
   "outputs": [],
   "execution_count": 13
  },
  {
   "metadata": {
    "ExecuteTime": {
     "end_time": "2025-05-24T17:10:12.095688Z",
     "start_time": "2025-05-24T17:10:12.093234Z"
    }
   },
   "cell_type": "code",
   "source": "result",
   "id": "a3dac6ce96dff89a",
   "outputs": [
    {
     "data": {
      "text/plain": [
       "tensor([0., 0., 0.,  ..., 0., 0., 0.], device='cuda:0', dtype=torch.float16)"
      ]
     },
     "execution_count": 14,
     "metadata": {},
     "output_type": "execute_result"
    }
   ],
   "execution_count": 14
  },
  {
   "metadata": {
    "ExecuteTime": {
     "end_time": "2025-05-24T17:10:12.137086Z",
     "start_time": "2025-05-24T17:10:12.135093Z"
    }
   },
   "cell_type": "code",
   "source": "possible_answers = [\" A\", \" B\", \" C\", \" D\"]",
   "id": "c808e5e62e917869",
   "outputs": [],
   "execution_count": 15
  },
  {
   "metadata": {
    "ExecuteTime": {
     "end_time": "2025-05-24T17:10:12.184557Z",
     "start_time": "2025-05-24T17:10:12.179948Z"
    }
   },
   "cell_type": "code",
   "source": [
    "picker = build_from_logits(\n",
    "    tokenizer,\n",
    "    options=possible_answers,\n",
    ")\n",
    "\n",
    "selected_option = picker(result)"
   ],
   "id": "4aa6e4444a98b39c",
   "outputs": [
    {
     "name": "stdout",
     "output_type": "stream",
     "text": [
      "Options: [362, 426, 356, 423]\n"
     ]
    }
   ],
   "execution_count": 16
  },
  {
   "metadata": {
    "ExecuteTime": {
     "end_time": "2025-05-24T17:10:12.228110Z",
     "start_time": "2025-05-24T17:10:12.225673Z"
    }
   },
   "cell_type": "code",
   "source": "selected_option",
   "id": "e59921bab48e1e24",
   "outputs": [
    {
     "data": {
      "text/plain": [
       "3"
      ]
     },
     "execution_count": 17,
     "metadata": {},
     "output_type": "execute_result"
    }
   ],
   "execution_count": 17
  },
  {
   "metadata": {},
   "cell_type": "markdown",
   "source": "# Lets evaluate the model 🔥",
   "id": "2a4db915fcf2598"
  },
  {
   "metadata": {
    "ExecuteTime": {
     "end_time": "2025-05-24T17:13:09.306049Z",
     "start_time": "2025-05-24T17:10:12.272039Z"
    }
   },
   "cell_type": "code",
   "source": [
    "accuracy = evaluate(\n",
    "    forward_fn=forward_and_get_last_logit,\n",
    "    picker_fn=picker,\n",
    "    eval_dataset=evaluateWithAnswers,\n",
    ")\n",
    "\n",
    "print(f\"Accuracy: {accuracy:.2f}\")"
   ],
   "id": "a30eb71e7d3e46b4",
   "outputs": [
    {
     "name": "stdout",
     "output_type": "stream",
     "text": [
      "Right answer: 1, picked: 1\n",
      "Accuracy at 0: 1.00\n",
      "Right answer: 3, picked: 3\n",
      "Right answer: 2, picked: 2\n",
      "Right answer: 1, picked: 1\n",
      "Right answer: 3, picked: 3\n",
      "Right answer: 0, picked: 0\n",
      "Right answer: 1, picked: 3\n",
      "Right answer: 2, picked: 2\n",
      "Right answer: 3, picked: 3\n",
      "Right answer: 3, picked: 3\n",
      "Right answer: 2, picked: 2\n",
      "Accuracy at 100: 0.86\n",
      "Right answer: 2, picked: 2\n",
      "Right answer: 2, picked: 2\n",
      "Right answer: 3, picked: 3\n",
      "Right answer: 0, picked: 0\n",
      "Right answer: 0, picked: 0\n",
      "Right answer: 2, picked: 2\n",
      "Right answer: 2, picked: 2\n",
      "Right answer: 0, picked: 3\n",
      "Right answer: 0, picked: 0\n",
      "Right answer: 0, picked: 0\n",
      "Accuracy at 200: 0.86\n",
      "Right answer: 0, picked: 0\n",
      "Right answer: 1, picked: 3\n",
      "Right answer: 2, picked: 3\n",
      "Right answer: 2, picked: 2\n",
      "Right answer: 3, picked: 3\n",
      "Right answer: 2, picked: 2\n",
      "Right answer: 3, picked: 3\n",
      "Right answer: 2, picked: 2\n",
      "Right answer: 1, picked: 3\n",
      "Right answer: 0, picked: 0\n",
      "Accuracy at 300: 0.85\n",
      "Right answer: 3, picked: 3\n",
      "Right answer: 1, picked: 1\n",
      "Right answer: 0, picked: 0\n",
      "Right answer: 1, picked: 1\n",
      "Right answer: 0, picked: 0\n",
      "Right answer: 0, picked: 0\n",
      "Right answer: 0, picked: 0\n",
      "Right answer: 1, picked: 3\n",
      "Right answer: 0, picked: 0\n",
      "Right answer: 1, picked: 3\n",
      "Accuracy at 400: 0.85\n",
      "Right answer: 2, picked: 2\n",
      "Right answer: 2, picked: 2\n",
      "Right answer: 0, picked: 0\n",
      "Right answer: 0, picked: 0\n",
      "Right answer: 1, picked: 1\n",
      "Right answer: 0, picked: 0\n",
      "Right answer: 0, picked: 0\n",
      "Right answer: 2, picked: 2\n",
      "Right answer: 3, picked: 3\n",
      "Right answer: 3, picked: 3\n",
      "Accuracy at 500: 0.86\n",
      "Right answer: 1, picked: 0\n",
      "Right answer: 3, picked: 3\n",
      "Right answer: 2, picked: 2\n",
      "Right answer: 2, picked: 2\n",
      "Right answer: 0, picked: 0\n",
      "Right answer: 1, picked: 3\n",
      "Right answer: 0, picked: 0\n",
      "Right answer: 3, picked: 3\n",
      "Right answer: 1, picked: 1\n",
      "Right answer: 3, picked: 3\n",
      "Accuracy at 600: 0.86\n",
      "Right answer: 3, picked: 3\n",
      "Right answer: 3, picked: 3\n",
      "Right answer: 3, picked: 3\n",
      "Right answer: 2, picked: 2\n",
      "Right answer: 2, picked: 2\n",
      "Right answer: 3, picked: 3\n",
      "Right answer: 2, picked: 2\n",
      "Right answer: 3, picked: 3\n",
      "Right answer: 1, picked: 0\n",
      "Right answer: 1, picked: 1\n",
      "Accuracy at 700: 0.86\n",
      "Right answer: 1, picked: 1\n",
      "Right answer: 2, picked: 2\n",
      "Right answer: 1, picked: 1\n",
      "Right answer: 1, picked: 1\n",
      "Right answer: 1, picked: 1\n",
      "Right answer: 0, picked: 0\n",
      "Right answer: 3, picked: 3\n",
      "Right answer: 0, picked: 0\n",
      "Right answer: 0, picked: 0\n",
      "Right answer: 2, picked: 3\n",
      "Accuracy at 800: 0.86\n",
      "Right answer: 0, picked: 0\n",
      "Right answer: 1, picked: 1\n",
      "Right answer: 0, picked: 0\n",
      "Right answer: 3, picked: 3\n"
     ]
    },
    {
     "ename": "KeyboardInterrupt",
     "evalue": "",
     "output_type": "error",
     "traceback": [
      "\u001B[0;31m---------------------------------------------------------------------------\u001B[0m",
      "\u001B[0;31mKeyboardInterrupt\u001B[0m                         Traceback (most recent call last)",
      "Cell \u001B[0;32mIn[18], line 1\u001B[0m\n\u001B[0;32m----> 1\u001B[0m accuracy \u001B[38;5;241m=\u001B[39m \u001B[43mevaluate\u001B[49m\u001B[43m(\u001B[49m\n\u001B[1;32m      2\u001B[0m \u001B[43m    \u001B[49m\u001B[43mforward_fn\u001B[49m\u001B[38;5;241;43m=\u001B[39;49m\u001B[43mforward_and_get_last_logit\u001B[49m\u001B[43m,\u001B[49m\n\u001B[1;32m      3\u001B[0m \u001B[43m    \u001B[49m\u001B[43mpicker_fn\u001B[49m\u001B[38;5;241;43m=\u001B[39;49m\u001B[43mpicker\u001B[49m\u001B[43m,\u001B[49m\n\u001B[1;32m      4\u001B[0m \u001B[43m    \u001B[49m\u001B[43meval_dataset\u001B[49m\u001B[38;5;241;43m=\u001B[39;49m\u001B[43mevaluateWithAnswers\u001B[49m\u001B[43m,\u001B[49m\n\u001B[1;32m      5\u001B[0m \u001B[43m)\u001B[49m\n\u001B[1;32m      7\u001B[0m \u001B[38;5;28mprint\u001B[39m(\u001B[38;5;124mf\u001B[39m\u001B[38;5;124m\"\u001B[39m\u001B[38;5;124mAccuracy: \u001B[39m\u001B[38;5;132;01m{\u001B[39;00maccuracy\u001B[38;5;132;01m:\u001B[39;00m\u001B[38;5;124m.2f\u001B[39m\u001B[38;5;132;01m}\u001B[39;00m\u001B[38;5;124m\"\u001B[39m)\n",
      "File \u001B[0;32m~/Try/pytorch_training/10_rag/src/q_and_a/eval.py:35\u001B[0m, in \u001B[0;36mevaluate\u001B[0;34m(forward_fn, picker_fn, eval_dataset, log_each)\u001B[0m\n\u001B[1;32m     32\u001B[0m answer_idx \u001B[38;5;241m=\u001B[39m item[\u001B[38;5;124m\"\u001B[39m\u001B[38;5;124manswer_idx\u001B[39m\u001B[38;5;124m\"\u001B[39m]\n\u001B[1;32m     34\u001B[0m \u001B[38;5;66;03m# Get the model's response\u001B[39;00m\n\u001B[0;32m---> 35\u001B[0m response \u001B[38;5;241m=\u001B[39m \u001B[43mforward_fn\u001B[49m\u001B[43m(\u001B[49m\u001B[43mquestion\u001B[49m\u001B[43m,\u001B[49m\u001B[43m \u001B[49m\u001B[43moptions\u001B[49m\u001B[43m)\u001B[49m\n\u001B[1;32m     37\u001B[0m \u001B[38;5;66;03m# Pick the best option\u001B[39;00m\n\u001B[1;32m     38\u001B[0m picked_idx \u001B[38;5;241m=\u001B[39m picker_fn(response)\n",
      "Cell \u001B[0;32mIn[13], line 15\u001B[0m, in \u001B[0;36mforward_and_get_last_logit\u001B[0;34m(question, options)\u001B[0m\n\u001B[1;32m     11\u001B[0m \u001B[38;5;28;01mdef\u001B[39;00m\u001B[38;5;250m \u001B[39m\u001B[38;5;21mforward_and_get_last_logit\u001B[39m(\n\u001B[1;32m     12\u001B[0m     question,\n\u001B[1;32m     13\u001B[0m     options,\n\u001B[1;32m     14\u001B[0m ):\n\u001B[0;32m---> 15\u001B[0m     tokens, logits \u001B[38;5;241m=\u001B[39m  \u001B[43mforward\u001B[49m\u001B[43m(\u001B[49m\n\u001B[1;32m     16\u001B[0m \u001B[43m        \u001B[49m\u001B[43mquestion\u001B[49m\u001B[43m,\u001B[49m\n\u001B[1;32m     17\u001B[0m \u001B[43m        \u001B[49m\u001B[43moptions\u001B[49m\u001B[38;5;241;43m=\u001B[39;49m\u001B[43moptions\u001B[49m\u001B[43m,\u001B[49m\n\u001B[1;32m     18\u001B[0m \u001B[43m    \u001B[49m\u001B[43m)\u001B[49m\n\u001B[1;32m     20\u001B[0m     \u001B[38;5;28;01mreturn\u001B[39;00m logits\n",
      "Cell \u001B[0;32mIn[11], line 111\u001B[0m, in \u001B[0;36mbuild_enhanced_forwarder.<locals>.forward_fn\u001B[0;34m(question, options)\u001B[0m\n\u001B[1;32m    110\u001B[0m \u001B[38;5;28;01mdef\u001B[39;00m\u001B[38;5;250m \u001B[39m\u001B[38;5;21mforward_fn\u001B[39m(question: \u001B[38;5;28mstr\u001B[39m, options: List[\u001B[38;5;28mstr\u001B[39m]) \u001B[38;5;241m-\u001B[39m\u001B[38;5;241m>\u001B[39m Tuple[List[\u001B[38;5;28mint\u001B[39m], torch\u001B[38;5;241m.\u001B[39mTensor]:\n\u001B[0;32m--> 111\u001B[0m     \u001B[38;5;28;01mreturn\u001B[39;00m \u001B[43menhanced_forward\u001B[49m\u001B[43m(\u001B[49m\n\u001B[1;32m    112\u001B[0m \u001B[43m        \u001B[49m\u001B[43mllm\u001B[49m\u001B[38;5;241;43m=\u001B[39;49m\u001B[43mllm\u001B[49m\u001B[43m,\u001B[49m\n\u001B[1;32m    113\u001B[0m \u001B[43m        \u001B[49m\u001B[43mtokenizer\u001B[49m\u001B[38;5;241;43m=\u001B[39;49m\u001B[43mtokenizer\u001B[49m\u001B[43m,\u001B[49m\n\u001B[1;32m    114\u001B[0m \u001B[43m        \u001B[49m\u001B[43maugmenter\u001B[49m\u001B[38;5;241;43m=\u001B[39;49m\u001B[43maugmenter\u001B[49m\u001B[43m,\u001B[49m\n\u001B[1;32m    115\u001B[0m \u001B[43m        \u001B[49m\u001B[43mk_augmentations\u001B[49m\u001B[38;5;241;43m=\u001B[39;49m\u001B[43mk_augmentations\u001B[49m\u001B[43m,\u001B[49m\n\u001B[1;32m    116\u001B[0m \u001B[43m        \u001B[49m\u001B[43mprompt_builder\u001B[49m\u001B[38;5;241;43m=\u001B[39;49m\u001B[43mprompt_builder\u001B[49m\u001B[43m,\u001B[49m\n\u001B[1;32m    117\u001B[0m \u001B[43m        \u001B[49m\u001B[43mquestion\u001B[49m\u001B[38;5;241;43m=\u001B[39;49m\u001B[43mquestion\u001B[49m\u001B[43m,\u001B[49m\n\u001B[1;32m    118\u001B[0m \u001B[43m        \u001B[49m\u001B[43moptions\u001B[49m\u001B[38;5;241;43m=\u001B[39;49m\u001B[43moptions\u001B[49m\u001B[43m,\u001B[49m\n\u001B[1;32m    119\u001B[0m \u001B[43m        \u001B[49m\u001B[43mnum_iterations\u001B[49m\u001B[38;5;241;43m=\u001B[39;49m\u001B[43mnum_iterations\u001B[49m\u001B[43m,\u001B[49m\n\u001B[1;32m    120\u001B[0m \u001B[43m        \u001B[49m\u001B[43mdevice\u001B[49m\u001B[38;5;241;43m=\u001B[39;49m\u001B[43mdevice\u001B[49m\u001B[43m,\u001B[49m\n\u001B[1;32m    121\u001B[0m \u001B[43m    \u001B[49m\u001B[43m)\u001B[49m\n",
      "Cell \u001B[0;32mIn[11], line 82\u001B[0m, in \u001B[0;36menhanced_forward\u001B[0;34m(llm, tokenizer, augmenter, k_augmentations, prompt_builder, question, options, device, num_iterations)\u001B[0m\n\u001B[1;32m     79\u001B[0m generated_token_ids \u001B[38;5;241m=\u001B[39m torch\u001B[38;5;241m.\u001B[39mcat([generated_token_ids, next_token_id], dim\u001B[38;5;241m=\u001B[39m\u001B[38;5;241m1\u001B[39m)\n\u001B[1;32m     81\u001B[0m \u001B[38;5;66;03m# Check if the generated token is an end-of-sequence (EOS) token\u001B[39;00m\n\u001B[0;32m---> 82\u001B[0m \u001B[38;5;28;01mif\u001B[39;00m tokenizer\u001B[38;5;241m.\u001B[39meos_token_id \u001B[38;5;129;01mis\u001B[39;00m \u001B[38;5;129;01mnot\u001B[39;00m \u001B[38;5;28;01mNone\u001B[39;00m \u001B[38;5;129;01mand\u001B[39;00m \u001B[43mnext_token_id\u001B[49m\u001B[38;5;241;43m.\u001B[39;49m\u001B[43mitem\u001B[49m\u001B[43m(\u001B[49m\u001B[43m)\u001B[49m \u001B[38;5;241m==\u001B[39m tokenizer\u001B[38;5;241m.\u001B[39meos_token_id:\n\u001B[1;32m     83\u001B[0m     \u001B[38;5;28;01mbreak\u001B[39;00m\n\u001B[1;32m     85\u001B[0m \u001B[38;5;66;03m# Append the generated token ID to the list\u001B[39;00m\n",
      "\u001B[0;31mKeyboardInterrupt\u001B[0m: "
     ]
    }
   ],
   "execution_count": 18
  },
  {
   "metadata": {
    "ExecuteTime": {
     "end_time": "2025-05-24T17:13:10.576988Z",
     "start_time": "2025-05-24T17:13:10.574308Z"
    }
   },
   "cell_type": "code",
   "source": [
    "from q_and_a.predict import predict\n",
    "from data.q_and_a.test_questions import TestQuestions"
   ],
   "id": "79530456d332b0a2",
   "outputs": [],
   "execution_count": 19
  },
  {
   "metadata": {
    "ExecuteTime": {
     "end_time": "2025-05-24T17:13:10.977672Z",
     "start_time": "2025-05-24T17:13:10.974925Z"
    }
   },
   "cell_type": "code",
   "source": "test_data = TestQuestions(\"../../data/pubmed_QA_test_questions.json\")",
   "id": "c6d3d1188d5b88c",
   "outputs": [],
   "execution_count": 20
  },
  {
   "metadata": {
    "jupyter": {
     "is_executing": true
    },
    "ExecuteTime": {
     "start_time": "2025-05-24T17:13:11.270731Z"
    }
   },
   "cell_type": "code",
   "source": [
    "responses = predict(\n",
    "    forward_fn=forward_and_get_last_logit,\n",
    "    picker_fn=picker,\n",
    "    eval_dataset=test_data,\n",
    ")\n",
    "\n",
    "responses"
   ],
   "id": "89a95d5b71902270",
   "outputs": [
    {
     "name": "stdout",
     "output_type": "stream",
     "text": [
      "Processed 0.1%\n",
      "Processed 0.2%\n"
     ]
    }
   ],
   "execution_count": null
  },
  {
   "metadata": {},
   "cell_type": "code",
   "outputs": [],
   "execution_count": null,
   "source": [
    "import pandas as pd\n",
    "responses_with_ids = []\n",
    "\n",
    "for i in range(len(responses)):\n",
    "    responses_with_ids.append((test_data[i][\"id\"], responses[i][1].item()))"
   ],
   "id": "e28f1c1215ec7170"
  },
  {
   "metadata": {},
   "cell_type": "code",
   "outputs": [],
   "execution_count": null,
   "source": [
    "dataset = pd.DataFrame(responses_with_ids, columns=[\"ID\", \"answer\"])\n",
    "dataset.head()"
   ],
   "id": "4913454cdb8987aa"
  },
  {
   "metadata": {},
   "cell_type": "code",
   "outputs": [],
   "execution_count": null,
   "source": "dataset.to_csv(\"predictions.csv\", index=False)",
   "id": "91a41799a4d6f0f8"
  }
 ],
 "metadata": {
  "kernelspec": {
   "display_name": "Python 3",
   "language": "python",
   "name": "python3"
  },
  "language_info": {
   "codemirror_mode": {
    "name": "ipython",
    "version": 2
   },
   "file_extension": ".py",
   "mimetype": "text/x-python",
   "name": "python",
   "nbconvert_exporter": "python",
   "pygments_lexer": "ipython2",
   "version": "2.7.6"
  }
 },
 "nbformat": 4,
 "nbformat_minor": 5
}
