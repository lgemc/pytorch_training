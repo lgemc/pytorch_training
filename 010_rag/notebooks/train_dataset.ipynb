{
 "cells": [
  {
   "metadata": {},
   "cell_type": "markdown",
   "source": [
    "# Dataset exploration\n",
    "\n",
    "We will explore the dataset to understand its structure and content.\n",
    "\n",
    "Also we will check the content length to set the max length for the tokenizer."
   ],
   "id": "eab4047651a3b8a2"
  },
  {
   "metadata": {
    "collapsed": true,
    "ExecuteTime": {
     "end_time": "2025-05-14T02:49:05.420762Z",
     "start_time": "2025-05-14T02:49:05.418475Z"
    }
   },
   "cell_type": "code",
   "outputs": [],
   "execution_count": 5,
   "source": [
    "from data.pubmed.from_json import FromJsonDataset\n",
    "import pandas as pd"
   ],
   "id": "initial_id"
  },
  {
   "metadata": {
    "ExecuteTime": {
     "end_time": "2025-05-14T02:49:06.974934Z",
     "start_time": "2025-05-14T02:49:05.429751Z"
    }
   },
   "cell_type": "code",
   "source": [
    "dataset = FromJsonDataset(json_file=\"../data/pubmed_500K.json\")\n",
    "dataset[0]"
   ],
   "id": "9f5cd222117d506",
   "outputs": [
    {
     "data": {
      "text/plain": [
       "{'title': \"[Biochemical studies on camomile components/III. In vitro studies about the antipeptic activity of (--)-alpha-bisabolol (author's transl)].\",\n",
       " 'content': '(--)-alpha-Bisabolol has a primary antipeptic action depending on dosage, which is not caused by an alteration of the pH-value. The proteolytic activity of pepsin is reduced by 50 percent through addition of bisabolol in the ratio of 1/0.5. The antipeptic action of bisabolol only occurs in case of direct contact. In case of a previous contact with the substrate, the inhibiting effect is lost.',\n",
       " 'contents': \"[Biochemical studies on camomile components/III. In vitro studies about the antipeptic activity of (--)-alpha-bisabolol (author's transl)]. (--)-alpha-Bisabolol has a primary antipeptic action depending on dosage, which is not caused by an alteration of the pH-value. The proteolytic activity of pepsin is reduced by 50 percent through addition of bisabolol in the ratio of 1/0.5. The antipeptic action of bisabolol only occurs in case of direct contact. In case of a previous contact with the substrate, the inhibiting effect is lost.\",\n",
       " 'PMID': 21,\n",
       " 'id': 'pubmed23n0001_0'}"
      ]
     },
     "execution_count": 6,
     "metadata": {},
     "output_type": "execute_result"
    }
   ],
   "execution_count": 6
  },
  {
   "metadata": {
    "ExecuteTime": {
     "end_time": "2025-05-14T02:49:07.010796Z",
     "start_time": "2025-05-14T02:49:06.984975Z"
    }
   },
   "cell_type": "code",
   "source": [
    "rows = []\n",
    "for i in range (0, 1000):\n",
    "    rows.append(dataset[i])\n",
    "\n",
    "# create a dataframe\n",
    "frame = pd.DataFrame(rows)"
   ],
   "id": "c3f9c757bc8d5b88",
   "outputs": [],
   "execution_count": 7
  },
  {
   "metadata": {
    "ExecuteTime": {
     "end_time": "2025-05-14T02:49:07.083539Z",
     "start_time": "2025-05-14T02:49:07.078298Z"
    }
   },
   "cell_type": "code",
   "source": "frame.head(10)",
   "id": "9a9e4b1333096022",
   "outputs": [
    {
     "data": {
      "text/plain": [
       "                                               title  \\\n",
       "0  [Biochemical studies on camomile components/II...   \n",
       "1  [Demonstration of tumor inhibiting properties ...   \n",
       "2  Effect of etafenone on total and regional myoc...   \n",
       "3  Influence of a new virostatic compound on the ...   \n",
       "4  Pharmacological properties of new neuroleptic ...   \n",
       "5  [Studies on the action of an anticholinergic a...   \n",
       "6  Lysosomal hydrolases of the epidermis. I. Glyc...   \n",
       "7  Lysosomal hydrolases of the epidermis. 2. Este...   \n",
       "8  A serum haemagglutinating property dependent u...   \n",
       "9  Effect of human erythrocyte stromata on comple...   \n",
       "\n",
       "                                             content  \\\n",
       "0  (--)-alpha-Bisabolol has a primary antipeptic ...   \n",
       "1  A report is given on the recent discovery of o...   \n",
       "2  The distribution of blood flow to the subendoc...   \n",
       "3  The virostatic compound N,N-diethyl-4-[2-(2-ox...   \n",
       "4  RMI 61 140, RMI 61 144 and RMI 61 280 are newl...   \n",
       "5  A double-blind study with intra-individual com...   \n",
       "6  Seven distinct glycosidases (EC 3.2) have been...   \n",
       "7  Five distinct ester hydrolases (EC 3-1) have b...   \n",
       "8  A serum agglutinin reactive with red cells in ...   \n",
       "9  Stroma from either normal or PNH-like red cell...   \n",
       "\n",
       "                                            contents  PMID               id  \n",
       "0  [Biochemical studies on camomile components/II...    21  pubmed23n0001_0  \n",
       "1  [Demonstration of tumor inhibiting properties ...    22  pubmed23n0001_1  \n",
       "2  Effect of etafenone on total and regional myoc...    23  pubmed23n0001_2  \n",
       "3  Influence of a new virostatic compound on the ...    24  pubmed23n0001_3  \n",
       "4  Pharmacological properties of new neuroleptic ...    25  pubmed23n0001_4  \n",
       "5  [Studies on the action of an anticholinergic a...    26  pubmed23n0001_5  \n",
       "6  Lysosomal hydrolases of the epidermis. I. Glyc...    30  pubmed23n0001_6  \n",
       "7  Lysosomal hydrolases of the epidermis. 2. Este...    31  pubmed23n0001_7  \n",
       "8  A serum haemagglutinating property dependent u...    32  pubmed23n0001_8  \n",
       "9  Effect of human erythrocyte stromata on comple...    33  pubmed23n0001_9  "
      ],
      "text/html": [
       "<div>\n",
       "<style scoped>\n",
       "    .dataframe tbody tr th:only-of-type {\n",
       "        vertical-align: middle;\n",
       "    }\n",
       "\n",
       "    .dataframe tbody tr th {\n",
       "        vertical-align: top;\n",
       "    }\n",
       "\n",
       "    .dataframe thead th {\n",
       "        text-align: right;\n",
       "    }\n",
       "</style>\n",
       "<table border=\"1\" class=\"dataframe\">\n",
       "  <thead>\n",
       "    <tr style=\"text-align: right;\">\n",
       "      <th></th>\n",
       "      <th>title</th>\n",
       "      <th>content</th>\n",
       "      <th>contents</th>\n",
       "      <th>PMID</th>\n",
       "      <th>id</th>\n",
       "    </tr>\n",
       "  </thead>\n",
       "  <tbody>\n",
       "    <tr>\n",
       "      <th>0</th>\n",
       "      <td>[Biochemical studies on camomile components/II...</td>\n",
       "      <td>(--)-alpha-Bisabolol has a primary antipeptic ...</td>\n",
       "      <td>[Biochemical studies on camomile components/II...</td>\n",
       "      <td>21</td>\n",
       "      <td>pubmed23n0001_0</td>\n",
       "    </tr>\n",
       "    <tr>\n",
       "      <th>1</th>\n",
       "      <td>[Demonstration of tumor inhibiting properties ...</td>\n",
       "      <td>A report is given on the recent discovery of o...</td>\n",
       "      <td>[Demonstration of tumor inhibiting properties ...</td>\n",
       "      <td>22</td>\n",
       "      <td>pubmed23n0001_1</td>\n",
       "    </tr>\n",
       "    <tr>\n",
       "      <th>2</th>\n",
       "      <td>Effect of etafenone on total and regional myoc...</td>\n",
       "      <td>The distribution of blood flow to the subendoc...</td>\n",
       "      <td>Effect of etafenone on total and regional myoc...</td>\n",
       "      <td>23</td>\n",
       "      <td>pubmed23n0001_2</td>\n",
       "    </tr>\n",
       "    <tr>\n",
       "      <th>3</th>\n",
       "      <td>Influence of a new virostatic compound on the ...</td>\n",
       "      <td>The virostatic compound N,N-diethyl-4-[2-(2-ox...</td>\n",
       "      <td>Influence of a new virostatic compound on the ...</td>\n",
       "      <td>24</td>\n",
       "      <td>pubmed23n0001_3</td>\n",
       "    </tr>\n",
       "    <tr>\n",
       "      <th>4</th>\n",
       "      <td>Pharmacological properties of new neuroleptic ...</td>\n",
       "      <td>RMI 61 140, RMI 61 144 and RMI 61 280 are newl...</td>\n",
       "      <td>Pharmacological properties of new neuroleptic ...</td>\n",
       "      <td>25</td>\n",
       "      <td>pubmed23n0001_4</td>\n",
       "    </tr>\n",
       "    <tr>\n",
       "      <th>5</th>\n",
       "      <td>[Studies on the action of an anticholinergic a...</td>\n",
       "      <td>A double-blind study with intra-individual com...</td>\n",
       "      <td>[Studies on the action of an anticholinergic a...</td>\n",
       "      <td>26</td>\n",
       "      <td>pubmed23n0001_5</td>\n",
       "    </tr>\n",
       "    <tr>\n",
       "      <th>6</th>\n",
       "      <td>Lysosomal hydrolases of the epidermis. I. Glyc...</td>\n",
       "      <td>Seven distinct glycosidases (EC 3.2) have been...</td>\n",
       "      <td>Lysosomal hydrolases of the epidermis. I. Glyc...</td>\n",
       "      <td>30</td>\n",
       "      <td>pubmed23n0001_6</td>\n",
       "    </tr>\n",
       "    <tr>\n",
       "      <th>7</th>\n",
       "      <td>Lysosomal hydrolases of the epidermis. 2. Este...</td>\n",
       "      <td>Five distinct ester hydrolases (EC 3-1) have b...</td>\n",
       "      <td>Lysosomal hydrolases of the epidermis. 2. Este...</td>\n",
       "      <td>31</td>\n",
       "      <td>pubmed23n0001_7</td>\n",
       "    </tr>\n",
       "    <tr>\n",
       "      <th>8</th>\n",
       "      <td>A serum haemagglutinating property dependent u...</td>\n",
       "      <td>A serum agglutinin reactive with red cells in ...</td>\n",
       "      <td>A serum haemagglutinating property dependent u...</td>\n",
       "      <td>32</td>\n",
       "      <td>pubmed23n0001_8</td>\n",
       "    </tr>\n",
       "    <tr>\n",
       "      <th>9</th>\n",
       "      <td>Effect of human erythrocyte stromata on comple...</td>\n",
       "      <td>Stroma from either normal or PNH-like red cell...</td>\n",
       "      <td>Effect of human erythrocyte stromata on comple...</td>\n",
       "      <td>33</td>\n",
       "      <td>pubmed23n0001_9</td>\n",
       "    </tr>\n",
       "  </tbody>\n",
       "</table>\n",
       "</div>"
      ]
     },
     "execution_count": 8,
     "metadata": {},
     "output_type": "execute_result"
    }
   ],
   "execution_count": 8
  },
  {
   "metadata": {
    "ExecuteTime": {
     "end_time": "2025-05-14T02:50:25.653034Z",
     "start_time": "2025-05-14T02:50:25.646629Z"
    }
   },
   "cell_type": "code",
   "source": [
    "# add content length column by words\n",
    "frame[\"content_length\"] = frame[\"content\"].apply(lambda x: len(x.split()))"
   ],
   "id": "2c3a4f80f89114e5",
   "outputs": [],
   "execution_count": 11
  },
  {
   "metadata": {
    "ExecuteTime": {
     "end_time": "2025-05-14T02:50:26.366475Z",
     "start_time": "2025-05-14T02:50:26.273596Z"
    }
   },
   "cell_type": "code",
   "source": [
    "# plot the content length\n",
    "import matplotlib.pyplot as plt\n",
    "\n",
    "\n",
    "plt.hist(frame[\"content_length\"], bins=100)\n",
    "plt.xlabel(\"Content Length\")\n",
    "plt.ylabel(\"Frequency\")\n",
    "plt.title(\"Histogram of Content Lengths\")\n",
    "plt.show()"
   ],
   "id": "1dfa692fdd7ff601",
   "outputs": [
    {
     "data": {
      "text/plain": [
       "<Figure size 640x480 with 1 Axes>"
      ],
      "image/png": "[encoded data removed]"
     },
     "metadata": {},
     "output_type": "display_data"
    }
   ],
   "execution_count": 12
  },
  {
   "metadata": {
    "ExecuteTime": {
     "end_time": "2025-05-14T02:51:59.239142Z",
     "start_time": "2025-05-14T02:51:59.236554Z"
    }
   },
   "cell_type": "code",
   "source": [
    "# get the longest content\n",
    "longest_content = frame.loc[frame[\"content_length\"].idxmax()]\n",
    "print(longest_content)"
   ],
   "id": "ca864a0caabdfcbc",
   "outputs": [
    {
     "name": "stdout",
     "output_type": "stream",
     "text": [
      "title             Renal response to acid loading in the developi...\n",
      "content           Response of the fetal kidney to metabolic acid...\n",
      "contents          Renal response to acid loading in the developi...\n",
      "PMID                                                            479\n",
      "id                                                pubmed23n0001_273\n",
      "content_length                                                  498\n",
      "Name: 273, dtype: object\n"
     ]
    }
   ],
   "execution_count": 16
  },
  {
   "metadata": {
    "ExecuteTime": {
     "end_time": "2025-05-14T02:52:17.383838Z",
     "start_time": "2025-05-14T02:52:16.440663Z"
    }
   },
   "cell_type": "code",
   "source": [
    "from models_.building.pubmed_tokenizer import load\n",
    "\n",
    "tokenizer = load()"
   ],
   "id": "87d463b8c351c9d8",
   "outputs": [
    {
     "data": {
      "text/plain": [
       "{'input_ids': [2, 2644, 1927, 1920, 5944, 5245, 1942, 4487, 19051, 1982, 3942, 1922, 3628, 5944, 25007, 16, 10709, 17, 7151, 3000, 10879, 16, 1922, 3238, 1942, 4323, 1920, 4604, 5100, 1942, 9570, 1927, 6201, 4755, 2409, 5153, 17, 10885, 2740, 18, 3144, 1985, 3609, 1990, 4097, 26844, 11682, 20536, 1914, 6756, 16110, 16, 6718, 1922, 19738, 16, 1956, 18376, 10978, 2019, 13892, 9753, 2460, 43, 5944, 9550, 5511, 1930, 7920, 1930, 2460, 1920, 7821, 3454, 1920, 3674, 18756, 16, 3006, 2014, 2253, 3000, 3432, 1942, 1920, 2161, 18, 43, 4487, 19051, 1982, 2719, 2007, 7386, 1927, 29378, 16562, 2687, 16, 2461, 55, 22372, 19, 3621, 16, 15132, 2338, 43, 3047, 1927, 3865, 4814, 18, 9285, 6624, 2785, 1985, 4208, 1930, 6960, 3651, 1922, 6872, 3119, 16, 2409, 1930, 1958, 2559, 3967, 2894, 1920, 7386, 16, 1958, 4146, 1927, 2087, 16, 16106, 16, 9456, 1930, 25308, 1966, 2486, 1966, 6960, 6647, 18, 2409, 1920, 7386, 16, 6960, 2087, 9650, 2037, 26, 18, 4459, 1942, 26, 18, 2637, 1930, 1982, 26, 18, 3540, 2559, 3967, 3690, 12, 7765, 18, 21, 1942, 24, 16, 8514, 1036, 18, 4337, 1942, 4370, 13, 18, 16562, 2687, 7386, 4189, 43, 14393, 2760, 1922, 6960, 6647, 2037, 43, 2667, 2769, 1927, 20, 18, 2369, 1942, 43, 4419, 1927, 20, 18, 3158, 2646, 19, 3621, 19, 2360, 2019, 1920, 2482, 1927, 1920, 7386, 16, 19746, 1942, 2285, 3389, 2559, 3967, 3690, 18, 9456, 11093, 2502, 2037, 20, 18, 2914, 1942, 43, 4419, 1927, 24, 18, 26, 27078, 1021, 19, 3621, 19, 2360, 2019, 1920, 2482, 1927, 7386, 31, 11038, 16118, 2687, 2502, 2037, 20, 18, 2950, 1942, 43, 4419, 1927, 24, 8975, 18187, 19, 3621, 19, 2360, 31, 1920, 3389, 1927, 11093, 1927, 9456, 1930, 11038, 16118, 2687, 1985, 3974, 2580, 2254, 2285, 2019, 1920, 2482, 1927, 2559, 3967, 18, 14880, 11093, 2502, 2037, 20, 18, 2900, 1942, 43, 4419, 1927, 20, 18, 4489, 8975, 18187, 19, 3621, 19, 2360, 2559, 3967, 2256, 1920, 2482, 1927, 7386, 18, 1920, 2687, 7386, 4189, 43, 2858, 2308, 2228, 6462, 1922, 11093, 1927, 16106, 18, 2409, 1920, 3865, 4814, 1927, 7386, 1930, 2338, 1920, 2894, 2559, 3967, 16, 3001, 9658, 27078, 1021, 9456, 1982, 22182, 2679, 3254, 2687, 11093, 2338, 1920, 2841, 3047, 1982, 2239, 2253, 2254, 4768, 1988, 4351, 18, 1920, 2137, 27718, 1982, 2222, 7936, 2007, 43, 3254, 3257, 1927, 5227, 1930, 9140, 16, 1920, 11093, 1927, 2144, 6982, 3605, 2253, 2254, 23109, 2894, 2687, 7386, 31, 11093, 1927, 9057, 3261, 1942, 2340, 17, 4563, 2496, 2769, 3432, 1942, 1920, 7386, 18, 2409, 1920, 3865, 4814, 1927, 7386, 16, 2877, 2087, 9650, 2037, 27, 18, 3480, 1942, 27, 18, 2590, 16, 5170, 10506, 13679, 2037, 23, 18, 28, 1942, 2641, 18, 24, 25509, 19, 54, 1930, 9456, 13679, 2037, 22, 18, 22, 1942, 2607, 18, 28, 2489, 19, 54, 31, 2276, 1982, 2222, 43, 2858, 2308, 2228, 7164, 1922, 2321, 2877, 27124, 1930, 24139, 12, 7765, 18, 21, 1942, 22, 16, 8514, 1036, 18, 51, 1942, 2890, 13, 18, 2409, 1920, 2894, 2559, 3967, 1927, 5241, 16, 2087, 13679, 9690, 1942, 27, 18, 3230, 16, 5170, 10506, 1930, 9456, 9650, 1942, 27, 18, 24, 25509, 19, 54, 1930, 28, 18, 27, 2489, 19, 54, 2763, 18, 3328, 4604, 11093, 1927, 3254, 2687, 1930, 9456, 1982, 2858, 16, 1920, 3714, 1922, 2877, 5170, 10506, 1930, 9456, 2428, 2409, 1920, 5241, 4902, 2955, 1998, 4994, 2810, 1942, 22531, 1922, 3425, 5944, 10436, 1966, 2486, 1966, 12266, 3856, 18, 2144, 3144, 3579, 1988, 16, 1922, 1920, 14552, 15722, 16, 6718, 1922, 19738, 16, 1920, 5245, 2876, 3892, 2007, 4960, 24171, 1927, 2980, 3531, 16, 1977, 7131, 1927, 10884, 1942, 1925, 2687, 4019, 1930, 2842, 2112, 5144, 43, 2858, 5100, 1942, 5944, 7622, 18, 1920, 2760, 1922, 11093, 1927, 3254, 2687, 1977, 7936, 2007, 3257, 1927, 5227, 1930, 9140, 1922, 1920, 6960, 18, 3, 0, 0, 0, 0, 0, 0, 0, 0, 0, 0, 0, 0, 0, 0, 0, 0, 0, 0, 0, 0, 0, 0, 0, 0, 0, 0, 0, 0, 0, 0, 0, 0, 0, 0, 0, 0, 0, 0, 0, 0, 0, 0, 0, 0, 0, 0, 0, 0, 0, 0, 0, 0, 0, 0, 0, 0, 0, 0, 0, 0, 0, 0, 0, 0, 0, 0, 0, 0, 0, 0, 0, 0, 0, 0, 0, 0, 0, 0, 0, 0, 0, 0, 0, 0, 0, 0, 0, 0, 0, 0, 0, 0, 0, 0, 0, 0, 0, 0, 0, 0, 0, 0, 0, 0, 0, 0, 0, 0, 0, 0, 0, 0, 0, 0, 0, 0, 0, 0, 0, 0, 0, 0, 0, 0, 0, 0, 0, 0, 0, 0, 0, 0, 0, 0, 0, 0, 0, 0, 0, 0, 0, 0, 0, 0, 0, 0, 0, 0, 0, 0, 0, 0, 0, 0, 0, 0, 0, 0, 0, 0, 0, 0, 0, 0, 0, 0, 0, 0, 0, 0, 0, 0, 0, 0, 0, 0, 0, 0, 0, 0, 0, 0, 0, 0, 0, 0, 0, 0, 0, 0, 0, 0, 0, 0, 0, 0, 0, 0, 0, 0, 0, 0, 0, 0, 0, 0, 0, 0, 0, 0, 0, 0, 0, 0, 0, 0, 0, 0, 0, 0, 0, 0, 0, 0, 0, 0, 0, 0, 0, 0, 0, 0, 0, 0, 0, 0, 0, 0, 0, 0, 0, 0, 0, 0, 0, 0, 0, 0, 0, 0, 0, 0, 0, 0, 0, 0, 0, 0, 0, 0, 0, 0, 0, 0, 0, 0, 0, 0, 0, 0, 0, 0, 0, 0, 0, 0, 0, 0, 0, 0, 0, 0, 0, 0, 0, 0, 0, 0, 0, 0, 0, 0, 0, 0, 0, 0, 0, 0, 0, 0, 0, 0, 0, 0, 0, 0, 0, 0, 0, 0, 0, 0, 0, 0, 0, 0, 0, 0, 0, 0, 0, 0, 0, 0, 0, 0, 0, 0, 0, 0, 0, 0, 0, 0, 0, 0, 0, 0, 0, 0, 0, 0, 0, 0, 0, 0, 0, 0, 0, 0, 0, 0, 0, 0, 0, 0, 0, 0, 0, 0], 'token_type_ids': [0, 0, 0, 0, 0, 0, 0, 0, 0, 0, 0, 0, 0, 0, 0, 0, 0, 0, 0, 0, 0, 0, 0, 0, 0, 0, 0, 0, 0, 0, 0, 0, 0, 0, 0, 0, 0, 0, 0, 0, 0, 0, 0, 0, 0, 0, 0, 0, 0, 0, 0, 0, 0, 0, 0, 0, 0, 0, 0, 0, 0, 0, 0, 0, 0, 0, 0, 0, 0, 0, 0, 0, 0, 0, 0, 0, 0, 0, 0, 0, 0, 0, 0, 0, 0, 0, 0, 0, 0, 0, 0, 0, 0, 0, 0, 0, 0, 0, 0, 0, 0, 0, 0, 0, 0, 0, 0, 0, 0, 0, 0, 0, 0, 0, 0, 0, 0, 0, 0, 0, 0, 0, 0, 0, 0, 0, 0, 0, 0, 0, 0, 0, 0, 0, 0, 0, 0, 0, 0, 0, 0, 0, 0, 0, 0, 0, 0, 0, 0, 0, 0, 0, 0, 0, 0, 0, 0, 0, 0, 0, 0, 0, 0, 0, 0, 0, 0, 0, 0, 0, 0, 0, 0, 0, 0, 0, 0, 0, 0, 0, 0, 0, 0, 0, 0, 0, 0, 0, 0, 0, 0, 0, 0, 0, 0, 0, 0, 0, 0, 0, 0, 0, 0, 0, 0, 0, 0, 0, 0, 0, 0, 0, 0, 0, 0, 0, 0, 0, 0, 0, 0, 0, 0, 0, 0, 0, 0, 0, 0, 0, 0, 0, 0, 0, 0, 0, 0, 0, 0, 0, 0, 0, 0, 0, 0, 0, 0, 0, 0, 0, 0, 0, 0, 0, 0, 0, 0, 0, 0, 0, 0, 0, 0, 0, 0, 0, 0, 0, 0, 0, 0, 0, 0, 0, 0, 0, 0, 0, 0, 0, 0, 0, 0, 0, 0, 0, 0, 0, 0, 0, 0, 0, 0, 0, 0, 0, 0, 0, 0, 0, 0, 0, 0, 0, 0, 0, 0, 0, 0, 0, 0, 0, 0, 0, 0, 0, 0, 0, 0, 0, 0, 0, 0, 0, 0, 0, 0, 0, 0, 0, 0, 0, 0, 0, 0, 0, 0, 0, 0, 0, 0, 0, 0, 0, 0, 0, 0, 0, 0, 0, 0, 0, 0, 0, 0, 0, 0, 0, 0, 0, 0, 0, 0, 0, 0, 0, 0, 0, 0, 0, 0, 0, 0, 0, 0, 0, 0, 0, 0, 0, 0, 0, 0, 0, 0, 0, 0, 0, 0, 0, 0, 0, 0, 0, 0, 0, 0, 0, 0, 0, 0, 0, 0, 0, 0, 0, 0, 0, 0, 0, 0, 0, 0, 0, 0, 0, 0, 0, 0, 0, 0, 0, 0, 0, 0, 0, 0, 0, 0, 0, 0, 0, 0, 0, 0, 0, 0, 0, 0, 0, 0, 0, 0, 0, 0, 0, 0, 0, 0, 0, 0, 0, 0, 0, 0, 0, 0, 0, 0, 0, 0, 0, 0, 0, 0, 0, 0, 0, 0, 0, 0, 0, 0, 0, 0, 0, 0, 0, 0, 0, 0, 0, 0, 0, 0, 0, 0, 0, 0, 0, 0, 0, 0, 0, 0, 0, 0, 0, 0, 0, 0, 0, 0, 0, 0, 0, 0, 0, 0, 0, 0, 0, 0, 0, 0, 0, 0, 0, 0, 0, 0, 0, 0, 0, 0, 0, 0, 0, 0, 0, 0, 0, 0, 0, 0, 0, 0, 0, 0, 0, 0, 0, 0, 0, 0, 0, 0, 0, 0, 0, 0, 0, 0, 0, 0, 0, 0, 0, 0, 0, 0, 0, 0, 0, 0, 0, 0, 0, 0, 0, 0, 0, 0, 0, 0, 0, 0, 0, 0, 0, 0, 0, 0, 0, 0, 0, 0, 0, 0, 0, 0, 0, 0, 0, 0, 0, 0, 0, 0, 0, 0, 0, 0, 0, 0, 0, 0, 0, 0, 0, 0, 0, 0, 0, 0, 0, 0, 0, 0, 0, 0, 0, 0, 0, 0, 0, 0, 0, 0, 0, 0, 0, 0, 0, 0, 0, 0, 0, 0, 0, 0, 0, 0, 0, 0, 0, 0, 0, 0, 0, 0, 0, 0, 0, 0, 0, 0, 0, 0, 0, 0, 0, 0, 0, 0, 0, 0, 0, 0, 0, 0, 0, 0, 0, 0, 0, 0, 0, 0, 0, 0, 0, 0, 0, 0, 0, 0, 0, 0, 0, 0, 0, 0, 0, 0, 0, 0, 0, 0, 0, 0, 0, 0, 0, 0, 0, 0, 0, 0, 0, 0, 0, 0, 0, 0, 0, 0, 0, 0, 0, 0, 0, 0, 0, 0, 0, 0, 0, 0, 0, 0, 0, 0, 0, 0, 0, 0, 0, 0, 0, 0, 0, 0, 0, 0, 0, 0, 0, 0, 0, 0, 0, 0, 0, 0, 0, 0, 0, 0, 0, 0, 0, 0, 0, 0, 0, 0, 0, 0, 0, 0, 0, 0, 0, 0, 0, 0, 0, 0, 0, 0, 0, 0, 0, 0, 0, 0, 0, 0, 0, 0, 0, 0, 0, 0, 0, 0, 0, 0, 0, 0, 0, 0, 0, 0, 0, 0, 0, 0, 0, 0, 0, 0, 0, 0, 0, 0, 0, 0, 0, 0, 0, 0, 0, 0, 0, 0, 0, 0, 0, 0, 0, 0, 0, 0, 0, 0, 0, 0, 0, 0, 0, 0, 0, 0, 0, 0, 0, 0, 0, 0, 0, 0, 0, 0, 0, 0, 0, 0, 0, 0, 0, 0, 0, 0, 0, 0, 0, 0, 0, 0, 0, 0, 0, 0, 0, 0, 0, 0, 0, 0, 0, 0, 0, 0, 0, 0, 0, 0, 0, 0, 0, 0, 0, 0, 0, 0, 0, 0, 0, 0, 0, 0, 0, 0, 0, 0, 0, 0, 0, 0, 0, 0, 0, 0, 0, 0, 0, 0, 0, 0, 0, 0, 0, 0, 0, 0, 0, 0, 0, 0, 0, 0, 0, 0, 0, 0, 0, 0, 0, 0, 0, 0, 0, 0, 0, 0, 0, 0, 0, 0, 0, 0, 0, 0, 0, 0, 0, 0, 0, 0, 0, 0, 0, 0, 0, 0, 0, 0, 0, 0, 0, 0, 0, 0, 0, 0, 0, 0, 0, 0, 0, 0, 0, 0, 0, 0, 0, 0, 0, 0, 0, 0, 0, 0, 0, 0, 0, 0, 0], 'attention_mask': [1, 1, 1, 1, 1, 1, 1, 1, 1, 1, 1, 1, 1, 1, 1, 1, 1, 1, 1, 1, 1, 1, 1, 1, 1, 1, 1, 1, 1, 1, 1, 1, 1, 1, 1, 1, 1, 1, 1, 1, 1, 1, 1, 1, 1, 1, 1, 1, 1, 1, 1, 1, 1, 1, 1, 1, 1, 1, 1, 1, 1, 1, 1, 1, 1, 1, 1, 1, 1, 1, 1, 1, 1, 1, 1, 1, 1, 1, 1, 1, 1, 1, 1, 1, 1, 1, 1, 1, 1, 1, 1, 1, 1, 1, 1, 1, 1, 1, 1, 1, 1, 1, 1, 1, 1, 1, 1, 1, 1, 1, 1, 1, 1, 1, 1, 1, 1, 1, 1, 1, 1, 1, 1, 1, 1, 1, 1, 1, 1, 1, 1, 1, 1, 1, 1, 1, 1, 1, 1, 1, 1, 1, 1, 1, 1, 1, 1, 1, 1, 1, 1, 1, 1, 1, 1, 1, 1, 1, 1, 1, 1, 1, 1, 1, 1, 1, 1, 1, 1, 1, 1, 1, 1, 1, 1, 1, 1, 1, 1, 1, 1, 1, 1, 1, 1, 1, 1, 1, 1, 1, 1, 1, 1, 1, 1, 1, 1, 1, 1, 1, 1, 1, 1, 1, 1, 1, 1, 1, 1, 1, 1, 1, 1, 1, 1, 1, 1, 1, 1, 1, 1, 1, 1, 1, 1, 1, 1, 1, 1, 1, 1, 1, 1, 1, 1, 1, 1, 1, 1, 1, 1, 1, 1, 1, 1, 1, 1, 1, 1, 1, 1, 1, 1, 1, 1, 1, 1, 1, 1, 1, 1, 1, 1, 1, 1, 1, 1, 1, 1, 1, 1, 1, 1, 1, 1, 1, 1, 1, 1, 1, 1, 1, 1, 1, 1, 1, 1, 1, 1, 1, 1, 1, 1, 1, 1, 1, 1, 1, 1, 1, 1, 1, 1, 1, 1, 1, 1, 1, 1, 1, 1, 1, 1, 1, 1, 1, 1, 1, 1, 1, 1, 1, 1, 1, 1, 1, 1, 1, 1, 1, 1, 1, 1, 1, 1, 1, 1, 1, 1, 1, 1, 1, 1, 1, 1, 1, 1, 1, 1, 1, 1, 1, 1, 1, 1, 1, 1, 1, 1, 1, 1, 1, 1, 1, 1, 1, 1, 1, 1, 1, 1, 1, 1, 1, 1, 1, 1, 1, 1, 1, 1, 1, 1, 1, 1, 1, 1, 1, 1, 1, 1, 1, 1, 1, 1, 1, 1, 1, 1, 1, 1, 1, 1, 1, 1, 1, 1, 1, 1, 1, 1, 1, 1, 1, 1, 1, 1, 1, 1, 1, 1, 1, 1, 1, 1, 1, 1, 1, 1, 1, 1, 1, 1, 1, 1, 1, 1, 1, 1, 1, 1, 1, 1, 1, 1, 1, 1, 1, 1, 1, 1, 1, 1, 1, 1, 1, 1, 1, 1, 1, 1, 1, 1, 1, 1, 1, 1, 1, 1, 1, 1, 1, 1, 1, 1, 1, 1, 1, 1, 1, 1, 1, 1, 1, 1, 1, 1, 1, 1, 1, 1, 1, 1, 1, 1, 1, 1, 1, 1, 1, 1, 1, 1, 1, 1, 1, 1, 1, 1, 1, 1, 1, 1, 1, 1, 1, 1, 1, 1, 1, 1, 1, 1, 1, 1, 1, 1, 1, 1, 1, 1, 1, 1, 1, 1, 1, 1, 1, 1, 1, 1, 1, 1, 1, 1, 1, 1, 1, 1, 1, 1, 1, 1, 1, 1, 1, 1, 1, 1, 1, 1, 1, 1, 1, 1, 1, 1, 1, 1, 1, 1, 1, 1, 1, 1, 1, 1, 1, 1, 1, 1, 1, 1, 1, 1, 1, 1, 1, 1, 1, 1, 1, 1, 1, 1, 1, 1, 1, 1, 1, 1, 1, 1, 1, 1, 1, 1, 1, 1, 1, 1, 1, 1, 1, 1, 1, 1, 1, 1, 1, 1, 1, 1, 1, 1, 1, 1, 1, 1, 1, 1, 1, 1, 1, 1, 1, 1, 1, 1, 1, 0, 0, 0, 0, 0, 0, 0, 0, 0, 0, 0, 0, 0, 0, 0, 0, 0, 0, 0, 0, 0, 0, 0, 0, 0, 0, 0, 0, 0, 0, 0, 0, 0, 0, 0, 0, 0, 0, 0, 0, 0, 0, 0, 0, 0, 0, 0, 0, 0, 0, 0, 0, 0, 0, 0, 0, 0, 0, 0, 0, 0, 0, 0, 0, 0, 0, 0, 0, 0, 0, 0, 0, 0, 0, 0, 0, 0, 0, 0, 0, 0, 0, 0, 0, 0, 0, 0, 0, 0, 0, 0, 0, 0, 0, 0, 0, 0, 0, 0, 0, 0, 0, 0, 0, 0, 0, 0, 0, 0, 0, 0, 0, 0, 0, 0, 0, 0, 0, 0, 0, 0, 0, 0, 0, 0, 0, 0, 0, 0, 0, 0, 0, 0, 0, 0, 0, 0, 0, 0, 0, 0, 0, 0, 0, 0, 0, 0, 0, 0, 0, 0, 0, 0, 0, 0, 0, 0, 0, 0, 0, 0, 0, 0, 0, 0, 0, 0, 0, 0, 0, 0, 0, 0, 0, 0, 0, 0, 0, 0, 0, 0, 0, 0, 0, 0, 0, 0, 0, 0, 0, 0, 0, 0, 0, 0, 0, 0, 0, 0, 0, 0, 0, 0, 0, 0, 0, 0, 0, 0, 0, 0, 0, 0, 0, 0, 0, 0, 0, 0, 0, 0, 0, 0, 0, 0, 0, 0, 0, 0, 0, 0, 0, 0, 0, 0, 0, 0, 0, 0, 0, 0, 0, 0, 0, 0, 0, 0, 0, 0, 0, 0, 0, 0, 0, 0, 0, 0, 0, 0, 0, 0, 0, 0, 0, 0, 0, 0, 0, 0, 0, 0, 0, 0, 0, 0, 0, 0, 0, 0, 0, 0, 0, 0, 0, 0, 0, 0, 0, 0, 0, 0, 0, 0, 0, 0, 0, 0, 0, 0, 0, 0, 0, 0, 0, 0, 0, 0, 0, 0, 0, 0, 0, 0, 0, 0, 0, 0, 0, 0, 0, 0, 0, 0, 0, 0, 0, 0, 0, 0, 0, 0, 0, 0, 0, 0, 0, 0, 0, 0, 0, 0, 0, 0, 0, 0, 0, 0, 0, 0, 0, 0, 0, 0, 0, 0, 0, 0, 0, 0, 0]}"
      ]
     },
     "execution_count": 18,
     "metadata": {},
     "output_type": "execute_result"
    }
   ],
   "execution_count": 18
  },
  {
   "metadata": {
    "ExecuteTime": {
     "end_time": "2025-05-14T02:53:36.288230Z",
     "start_time": "2025-05-14T02:53:36.284508Z"
    }
   },
   "cell_type": "code",
   "source": [
    "longest_content_tokenized = tokenizer(\n",
    "    longest_content[\"content\"],\n",
    "    max_length=1000,\n",
    "    truncation=True,\n",
    "    padding=\"max_length\",\n",
    ")\n",
    "\n",
    "# get the sum of attention mask\n",
    "sum(longest_content_tokenized[\"attention_mask\"])"
   ],
   "id": "38892bc6a23ffb14",
   "outputs": [
    {
     "data": {
      "text/plain": [
       "640"
      ]
     },
     "execution_count": 20,
     "metadata": {},
     "output_type": "execute_result"
    }
   ],
   "execution_count": 20
  },
  {
   "metadata": {},
   "cell_type": "markdown",
   "source": [
    "## Conclusion\n",
    "The longest content in the dataset is 640 tokens length, so we can set the max length to 800 tokens."
   ],
   "id": "d7609d9742691b54"
  }
 ],
 "metadata": {
  "kernelspec": {
   "display_name": "Python 3",
   "language": "python",
   "name": "python3"
  },
  "language_info": {
   "codemirror_mode": {
    "name": "ipython",
    "version": 2
   },
   "file_extension": ".py",
   "mimetype": "text/x-python",
   "name": "python",
   "nbconvert_exporter": "python",
   "pygments_lexer": "ipython2",
   "version": "2.7.6"
  }
 },
 "nbformat": 4,
 "nbformat_minor": 5
}
