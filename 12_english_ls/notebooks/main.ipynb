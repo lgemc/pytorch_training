{
 "cells": [
  {
   "cell_type": "code",
   "id": "initial_id",
   "metadata": {
    "collapsed": true,
    "ExecuteTime": {
     "end_time": "2025-06-03T04:50:01.059984Z",
     "start_time": "2025-06-03T04:49:59.648668Z"
    }
   },
   "source": [
    "from dotenv import load_dotenv\n",
    "load_dotenv()\n",
    "from chains import start_chain"
   ],
   "outputs": [
    {
     "name": "stderr",
     "output_type": "stream",
     "text": [
      "/home/lmanrique/miniconda3/envs/pln/lib/python3.12/site-packages/requests/__init__.py:86: RequestsDependencyWarning: Unable to find acceptable character detection dependency (chardet or charset_normalizer).\n",
      "  warnings.warn(\n",
      "/home/lmanrique/Try/pytorch_training/12_english_ls/chains.py:8: LangChainDeprecationWarning: The class `OpenAI` was deprecated in LangChain 0.0.10 and will be removed in 1.0. An updated version of the class exists in the :class:`~langchain-openai package and should be used instead. To use it run `pip install -U :class:`~langchain-openai` and import as `from :class:`~langchain_openai import OpenAI``.\n",
      "  llm = OpenAI(temperature=0.7)  # you can adjust temperature\n",
      "/home/lmanrique/Try/pytorch_training/12_english_ls/chains.py:11: LangChainDeprecationWarning: The class `LLMChain` was deprecated in LangChain 0.1.17 and will be removed in 1.0. Use :meth:`~RunnableSequence, e.g., `prompt | llm`` instead.\n",
      "  start_chain = LLMChain(\n",
      "/home/lmanrique/Try/pytorch_training/12_english_ls/chains.py:22: LangChainDeprecationWarning: Please see the migration guide at: https://python.langchain.com/docs/versions/migrating_memory/\n",
      "  memory=ConversationBufferMemory()\n"
     ]
    }
   ],
   "execution_count": 1
  },
  {
   "metadata": {
    "ExecuteTime": {
     "end_time": "2025-06-03T04:50:51.861697Z",
     "start_time": "2025-06-03T04:50:48.320333Z"
    }
   },
   "cell_type": "code",
   "source": [
    "response = start_chain.invoke({\n",
    "    \"tense\": \"past\",\n",
    "    \"modifier\": \"perfect\",\n",
    "    \"topic\": \"\"\n",
    "})"
   ],
   "id": "9fccadb4f15c04c9",
   "outputs": [],
   "execution_count": 6
  },
  {
   "metadata": {
    "ExecuteTime": {
     "end_time": "2025-06-03T04:50:52.734025Z",
     "start_time": "2025-06-03T04:50:52.728438Z"
    }
   },
   "cell_type": "code",
   "source": "response",
   "id": "873a28261477a0a",
   "outputs": [
    {
     "data": {
      "text/plain": [
       "{'tense': 'past',\n",
       " 'modifier': 'perfect',\n",
       " 'topic': '',\n",
       " 'start_output': '{\\n\\n\"explanation\": \"In this session, we will be focusing on the past tense and specifically the perfect modifier. The past tense refers to actions or events that have already happened in the past. The perfect modifier is used to indicate that an action was completed before another action in the past or to emphasize the result of a past action. It is formed by using the auxiliary verb \\'have\\' followed by the past participle of the main verb. For example, \\'I had finished my homework before dinner\\' or \\'She has already left for work.\\'\",\\n\\n\"examples\": [\"I had studied for the test before I went to bed last night.\", \"He had already eaten breakfast by the time I woke up.\", \"They have finished their project and are now celebrating.\"]\\n\\n}'}"
      ]
     },
     "execution_count": 7,
     "metadata": {},
     "output_type": "execute_result"
    }
   ],
   "execution_count": 7
  },
  {
   "metadata": {},
   "cell_type": "code",
   "outputs": [],
   "execution_count": null,
   "source": "",
   "id": "75278bce2ed1fb6d"
  }
 ],
 "metadata": {
  "kernelspec": {
   "display_name": "Python 3",
   "language": "python",
   "name": "python3"
  },
  "language_info": {
   "codemirror_mode": {
    "name": "ipython",
    "version": 2
   },
   "file_extension": ".py",
   "mimetype": "text/x-python",
   "name": "python",
   "nbconvert_exporter": "python",
   "pygments_lexer": "ipython2",
   "version": "2.7.6"
  }
 },
 "nbformat": 4,
 "nbformat_minor": 5
}
