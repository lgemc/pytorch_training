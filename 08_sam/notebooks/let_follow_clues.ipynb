{
 "cells": [
  {
   "cell_type": "code",
   "id": "initial_id",
   "metadata": {
    "collapsed": true,
    "ExecuteTime": {
     "end_time": "2025-05-06T00:02:07.845071Z",
     "start_time": "2025-05-06T00:02:07.621511Z"
    }
   },
   "source": [
    "import cv2\n",
    "from typing import List, Tuple\n",
    "import numpy as np"
   ],
   "outputs": [],
   "execution_count": 1
  },
  {
   "metadata": {
    "ExecuteTime": {
     "end_time": "2025-05-06T00:02:27.828099Z",
     "start_time": "2025-05-06T00:02:27.823819Z"
    }
   },
   "cell_type": "code",
   "source": [
    "def load_image(path: str):\n",
    "    image = cv2.imread(path)\n",
    "    hsv_image = cv2.cvtColor(image, cv2.COLOR_BGR2HSV)\n",
    "\n",
    "    return hsv_image"
   ],
   "id": "cdf467515875a51",
   "outputs": [],
   "execution_count": 3
  },
  {
   "metadata": {
    "ExecuteTime": {
     "end_time": "2025-05-06T00:02:28.322199Z",
     "start_time": "2025-05-06T00:02:28.318572Z"
    }
   },
   "cell_type": "code",
   "source": "img_path = \"../static/videos/video_000/00000.jpg\"",
   "id": "b0282cad3800af4f",
   "outputs": [],
   "execution_count": 4
  },
  {
   "metadata": {
    "ExecuteTime": {
     "end_time": "2025-05-06T00:02:37.948683Z",
     "start_time": "2025-05-06T00:02:37.879500Z"
    }
   },
   "cell_type": "code",
   "source": [
    "img = load_image(img_path)\n",
    "img.shape"
   ],
   "id": "d734e0ba160dbdc2",
   "outputs": [
    {
     "data": {
      "text/plain": [
       "(1920, 1080, 3)"
      ]
     },
     "execution_count": 5,
     "metadata": {},
     "output_type": "execute_result"
    }
   ],
   "execution_count": 5
  },
  {
   "metadata": {},
   "cell_type": "code",
   "outputs": [],
   "execution_count": null,
   "source": "",
   "id": "bb41d0eeaf82ebcd"
  }
 ],
 "metadata": {
  "kernelspec": {
   "display_name": "Python 3",
   "language": "python",
   "name": "python3"
  },
  "language_info": {
   "codemirror_mode": {
    "name": "ipython",
    "version": 2
   },
   "file_extension": ".py",
   "mimetype": "text/x-python",
   "name": "python",
   "nbconvert_exporter": "python",
   "pygments_lexer": "ipython2",
   "version": "2.7.6"
  }
 },
 "nbformat": 4,
 "nbformat_minor": 5
}
