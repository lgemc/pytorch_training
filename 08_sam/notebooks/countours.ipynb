{
 "cells": [
  {
   "cell_type": "code",
   "id": "initial_id",
   "metadata": {
    "collapsed": true,
    "ExecuteTime": {
     "end_time": "2025-05-04T20:43:59.363355Z",
     "start_time": "2025-05-04T20:43:53.606057Z"
    }
   },
   "source": [
    "import cv2\n",
    "import numpy as np\n",
    "\n",
    "# Load image in grayscale\n",
    "image = cv2.imread(\"../static/videos/video_000/00000.jpg\", cv2.IMREAD_GRAYSCALE)\n",
    "\n",
    "# Apply Sobel operator to compute gradients\n",
    "grad_x = cv2.Sobel(image, cv2.CV_64F, 1, 0, ksize=3)  # x-derivative\n",
    "grad_y = cv2.Sobel(image, cv2.CV_64F, 0, 1, ksize=3)  # y-derivative\n",
    "\n",
    "# Compute magnitude of gradient\n",
    "magnitude = cv2.magnitude(grad_x, grad_y)\n",
    "magnitude = cv2.convertScaleAbs(magnitude)\n",
    "\n",
    "# Optional: Threshold or apply Canny\n",
    "_, thresh = cv2.threshold(magnitude, 50, 255, cv2.THRESH_BINARY)\n",
    "\n",
    "# Find contours\n",
    "contours, _ = cv2.findContours(thresh, cv2.RETR_EXTERNAL, cv2.CHAIN_APPROX_SIMPLE)\n",
    "\n",
    "# Draw contours on original image (convert to color first)\n",
    "output = cv2.cvtColor(image, cv2.COLOR_GRAY2BGR)\n",
    "cv2.drawContours(output, contours, -1, (0, 255, 0), 2)\n",
    "\n",
    "# Show results\n",
    "cv2.imshow('Contours', output)\n",
    "cv2.waitKey(0)\n",
    "cv2.destroyAllWindows()"
   ],
   "outputs": [
    {
     "name": "stderr",
     "output_type": "stream",
     "text": [
      "Warning: Ignoring XDG_SESSION_TYPE=wayland on Gnome. Use QT_QPA_PLATFORM=wayland to run on Wayland anyway.\n"
     ]
    }
   ],
   "execution_count": 1
  },
  {
   "metadata": {},
   "cell_type": "code",
   "outputs": [],
   "execution_count": null,
   "source": "",
   "id": "58dff8e5dbeb09bc"
  }
 ],
 "metadata": {
  "kernelspec": {
   "display_name": "Python 3",
   "language": "python",
   "name": "python3"
  },
  "language_info": {
   "codemirror_mode": {
    "name": "ipython",
    "version": 2
   },
   "file_extension": ".py",
   "mimetype": "text/x-python",
   "name": "python",
   "nbconvert_exporter": "python",
   "pygments_lexer": "ipython2",
   "version": "2.7.6"
  }
 },
 "nbformat": 4,
 "nbformat_minor": 5
}
